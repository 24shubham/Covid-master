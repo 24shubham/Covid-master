{
  "nbformat": 4,
  "nbformat_minor": 0,
  "metadata": {
    "colab": {
      "name": "Existing-1.ipynb",
      "provenance": []
    },
    "kernelspec": {
      "name": "python3",
      "display_name": "Python 3"
    },
    "language_info": {
      "name": "python"
    }
  },
  "cells": [
    {
      "cell_type": "code",
      "metadata": {
        "id": "wpMHmOjJPj1k"
      },
      "source": [
        "import numpy as  np\n",
        "from keras.models import Sequential\n",
        "from keras.layers import LSTM, Dense, Dropout, Activation\n",
        "import pandas as pd\n",
        "from matplotlib import pyplot as plt\n",
        "from sklearn.preprocessing import StandardScaler\n",
        "import seaborn as sns\n",
        "from tensorflow.keras.layers import Dropout\n",
        "from tensorflow.keras.models import Sequential\n",
        "from tensorflow.keras.models import Model\n",
        "from tensorflow.keras import optimizers\n"
      ],
      "execution_count": 1,
      "outputs": []
    },
    {
      "cell_type": "code",
      "metadata": {
        "colab": {
          "base_uri": "https://localhost:8080/",
          "height": 419
        },
        "id": "w7HwCcm5Pv3x",
        "outputId": "276acc39-98d3-403e-b1e0-ce80718a9ee5"
      },
      "source": [
        "df=pd.read_csv('https://api.covid19india.org/csv/latest/case_time_series.csv')\n",
        "df"
      ],
      "execution_count": 2,
      "outputs": [
        {
          "output_type": "execute_result",
          "data": {
            "text/html": [
              "<div>\n",
              "<style scoped>\n",
              "    .dataframe tbody tr th:only-of-type {\n",
              "        vertical-align: middle;\n",
              "    }\n",
              "\n",
              "    .dataframe tbody tr th {\n",
              "        vertical-align: top;\n",
              "    }\n",
              "\n",
              "    .dataframe thead th {\n",
              "        text-align: right;\n",
              "    }\n",
              "</style>\n",
              "<table border=\"1\" class=\"dataframe\">\n",
              "  <thead>\n",
              "    <tr style=\"text-align: right;\">\n",
              "      <th></th>\n",
              "      <th>Date</th>\n",
              "      <th>Date_YMD</th>\n",
              "      <th>Daily Confirmed</th>\n",
              "      <th>Total Confirmed</th>\n",
              "      <th>Daily Recovered</th>\n",
              "      <th>Total Recovered</th>\n",
              "      <th>Daily Deceased</th>\n",
              "      <th>Total Deceased</th>\n",
              "    </tr>\n",
              "  </thead>\n",
              "  <tbody>\n",
              "    <tr>\n",
              "      <th>0</th>\n",
              "      <td>30 January 2020</td>\n",
              "      <td>2020-01-30</td>\n",
              "      <td>1</td>\n",
              "      <td>1</td>\n",
              "      <td>0</td>\n",
              "      <td>0</td>\n",
              "      <td>0</td>\n",
              "      <td>0</td>\n",
              "    </tr>\n",
              "    <tr>\n",
              "      <th>1</th>\n",
              "      <td>31 January 2020</td>\n",
              "      <td>2020-01-31</td>\n",
              "      <td>0</td>\n",
              "      <td>1</td>\n",
              "      <td>0</td>\n",
              "      <td>0</td>\n",
              "      <td>0</td>\n",
              "      <td>0</td>\n",
              "    </tr>\n",
              "    <tr>\n",
              "      <th>2</th>\n",
              "      <td>1 February 2020</td>\n",
              "      <td>2020-02-01</td>\n",
              "      <td>0</td>\n",
              "      <td>1</td>\n",
              "      <td>0</td>\n",
              "      <td>0</td>\n",
              "      <td>0</td>\n",
              "      <td>0</td>\n",
              "    </tr>\n",
              "    <tr>\n",
              "      <th>3</th>\n",
              "      <td>2 February 2020</td>\n",
              "      <td>2020-02-02</td>\n",
              "      <td>1</td>\n",
              "      <td>2</td>\n",
              "      <td>0</td>\n",
              "      <td>0</td>\n",
              "      <td>0</td>\n",
              "      <td>0</td>\n",
              "    </tr>\n",
              "    <tr>\n",
              "      <th>4</th>\n",
              "      <td>3 February 2020</td>\n",
              "      <td>2020-02-03</td>\n",
              "      <td>1</td>\n",
              "      <td>3</td>\n",
              "      <td>0</td>\n",
              "      <td>0</td>\n",
              "      <td>0</td>\n",
              "      <td>0</td>\n",
              "    </tr>\n",
              "    <tr>\n",
              "      <th>...</th>\n",
              "      <td>...</td>\n",
              "      <td>...</td>\n",
              "      <td>...</td>\n",
              "      <td>...</td>\n",
              "      <td>...</td>\n",
              "      <td>...</td>\n",
              "      <td>...</td>\n",
              "      <td>...</td>\n",
              "    </tr>\n",
              "    <tr>\n",
              "      <th>458</th>\n",
              "      <td>2 May 2021</td>\n",
              "      <td>2021-05-02</td>\n",
              "      <td>370090</td>\n",
              "      <td>19919645</td>\n",
              "      <td>300004</td>\n",
              "      <td>16281710</td>\n",
              "      <td>3423</td>\n",
              "      <td>218356</td>\n",
              "    </tr>\n",
              "    <tr>\n",
              "      <th>459</th>\n",
              "      <td>3 May 2021</td>\n",
              "      <td>2021-05-03</td>\n",
              "      <td>355769</td>\n",
              "      <td>20275414</td>\n",
              "      <td>318910</td>\n",
              "      <td>16600620</td>\n",
              "      <td>3439</td>\n",
              "      <td>221795</td>\n",
              "    </tr>\n",
              "    <tr>\n",
              "      <th>460</th>\n",
              "      <td>4 May 2021</td>\n",
              "      <td>2021-05-04</td>\n",
              "      <td>382847</td>\n",
              "      <td>20658261</td>\n",
              "      <td>337699</td>\n",
              "      <td>16938319</td>\n",
              "      <td>3786</td>\n",
              "      <td>225581</td>\n",
              "    </tr>\n",
              "    <tr>\n",
              "      <th>461</th>\n",
              "      <td>5 May 2021</td>\n",
              "      <td>2021-05-05</td>\n",
              "      <td>412624</td>\n",
              "      <td>21070885</td>\n",
              "      <td>330718</td>\n",
              "      <td>17269037</td>\n",
              "      <td>3979</td>\n",
              "      <td>229560</td>\n",
              "    </tr>\n",
              "    <tr>\n",
              "      <th>462</th>\n",
              "      <td>6 May 2021</td>\n",
              "      <td>2021-05-06</td>\n",
              "      <td>414280</td>\n",
              "      <td>21485165</td>\n",
              "      <td>328347</td>\n",
              "      <td>17597384</td>\n",
              "      <td>3923</td>\n",
              "      <td>233483</td>\n",
              "    </tr>\n",
              "  </tbody>\n",
              "</table>\n",
              "<p>463 rows × 8 columns</p>\n",
              "</div>"
            ],
            "text/plain": [
              "                Date    Date_YMD  ...  Daily Deceased  Total Deceased\n",
              "0    30 January 2020  2020-01-30  ...               0               0\n",
              "1    31 January 2020  2020-01-31  ...               0               0\n",
              "2    1 February 2020  2020-02-01  ...               0               0\n",
              "3    2 February 2020  2020-02-02  ...               0               0\n",
              "4    3 February 2020  2020-02-03  ...               0               0\n",
              "..               ...         ...  ...             ...             ...\n",
              "458       2 May 2021  2021-05-02  ...            3423          218356\n",
              "459       3 May 2021  2021-05-03  ...            3439          221795\n",
              "460       4 May 2021  2021-05-04  ...            3786          225581\n",
              "461       5 May 2021  2021-05-05  ...            3979          229560\n",
              "462       6 May 2021  2021-05-06  ...            3923          233483\n",
              "\n",
              "[463 rows x 8 columns]"
            ]
          },
          "metadata": {
            "tags": []
          },
          "execution_count": 2
        }
      ]
    },
    {
      "cell_type": "code",
      "metadata": {
        "id": "3p0F_g7QrYAD",
        "outputId": "c72a8308-acba-445d-da99-018a5040a474",
        "colab": {
          "base_uri": "https://localhost:8080/"
        }
      },
      "source": [
        "df.shape"
      ],
      "execution_count": 3,
      "outputs": [
        {
          "output_type": "execute_result",
          "data": {
            "text/plain": [
              "(463, 8)"
            ]
          },
          "metadata": {
            "tags": []
          },
          "execution_count": 3
        }
      ]
    },
    {
      "cell_type": "code",
      "metadata": {
        "id": "cRa-b7B0R_ME"
      },
      "source": [
        "df1=df"
      ],
      "execution_count": 4,
      "outputs": []
    },
    {
      "cell_type": "code",
      "metadata": {
        "id": "VXCSQpGKP__q"
      },
      "source": [
        "def Recovery_Rate(RC,CC):\n",
        "  return (RC/CC)*100"
      ],
      "execution_count": 5,
      "outputs": []
    },
    {
      "cell_type": "code",
      "metadata": {
        "id": "iYFkE3rSRvzB"
      },
      "source": [
        "RR=[]\n",
        "for i in df.index:\n",
        "  RR.append(Recovery_Rate(df['Total Recovered'][i], df['Total Confirmed'][i]))"
      ],
      "execution_count": 6,
      "outputs": []
    },
    {
      "cell_type": "code",
      "metadata": {
        "id": "xqQx-95aR3nO"
      },
      "source": [
        "df1['Recovery Rate']=RR"
      ],
      "execution_count": 7,
      "outputs": []
    },
    {
      "cell_type": "code",
      "metadata": {
        "id": "Herun-2pQWYL"
      },
      "source": [
        "def Case_Load_Rate(CC,RC,D):\n",
        "  CaseLoad=CC-RC-D\n",
        "  return (CaseLoad/CC)*100\n",
        "  # return CaseLoad"
      ],
      "execution_count": 8,
      "outputs": []
    },
    {
      "cell_type": "code",
      "metadata": {
        "colab": {
          "base_uri": "https://localhost:8080/"
        },
        "id": "mNfl31NcTgbO",
        "outputId": "d8e2bc7c-14d0-45a1-b2c7-baf8fd2496b8"
      },
      "source": [
        "CLR=[]\n",
        "for i in df.index:\n",
        "  CLR.append(Case_Load_Rate(df['Daily Confirmed'][i],df['Daily Recovered'][i],  df['Daily Deceased'][i]))"
      ],
      "execution_count": 9,
      "outputs": [
        {
          "output_type": "stream",
          "text": [
            "/usr/local/lib/python3.7/dist-packages/ipykernel_launcher.py:3: RuntimeWarning: invalid value encountered in long_scalars\n",
            "  This is separate from the ipykernel package so we can avoid doing imports until\n",
            "/usr/local/lib/python3.7/dist-packages/ipykernel_launcher.py:3: RuntimeWarning: divide by zero encountered in long_scalars\n",
            "  This is separate from the ipykernel package so we can avoid doing imports until\n"
          ],
          "name": "stderr"
        }
      ]
    },
    {
      "cell_type": "code",
      "metadata": {
        "id": "rPVDxFeWT6Xt"
      },
      "source": [
        "df1['Case Load Rate']=CLR"
      ],
      "execution_count": 10,
      "outputs": []
    },
    {
      "cell_type": "code",
      "metadata": {
        "id": "cseopLrrQ5RB"
      },
      "source": [
        "def Delta(CLR,RR):\n",
        "  return CLR-RR"
      ],
      "execution_count": 11,
      "outputs": []
    },
    {
      "cell_type": "code",
      "metadata": {
        "id": "PRsgWcIxRNm3"
      },
      "source": [
        "Del=[]\n",
        "for i in df.index:\n",
        "  Del.append(Delta(df1['Case Load Rate'][i],df1['Recovery Rate'][i]))"
      ],
      "execution_count": 12,
      "outputs": []
    },
    {
      "cell_type": "code",
      "metadata": {
        "id": "hIK0dMI4Wm1v"
      },
      "source": [
        "df1['Delta']=Del"
      ],
      "execution_count": 13,
      "outputs": []
    },
    {
      "cell_type": "code",
      "metadata": {
        "colab": {
          "base_uri": "https://localhost:8080/",
          "height": 606
        },
        "id": "1FcJvREXWrjU",
        "outputId": "5871a58c-5a49-4050-bc9a-616249da026a"
      },
      "source": [
        "df1"
      ],
      "execution_count": 14,
      "outputs": [
        {
          "output_type": "execute_result",
          "data": {
            "text/html": [
              "<div>\n",
              "<style scoped>\n",
              "    .dataframe tbody tr th:only-of-type {\n",
              "        vertical-align: middle;\n",
              "    }\n",
              "\n",
              "    .dataframe tbody tr th {\n",
              "        vertical-align: top;\n",
              "    }\n",
              "\n",
              "    .dataframe thead th {\n",
              "        text-align: right;\n",
              "    }\n",
              "</style>\n",
              "<table border=\"1\" class=\"dataframe\">\n",
              "  <thead>\n",
              "    <tr style=\"text-align: right;\">\n",
              "      <th></th>\n",
              "      <th>Date</th>\n",
              "      <th>Date_YMD</th>\n",
              "      <th>Daily Confirmed</th>\n",
              "      <th>Total Confirmed</th>\n",
              "      <th>Daily Recovered</th>\n",
              "      <th>Total Recovered</th>\n",
              "      <th>Daily Deceased</th>\n",
              "      <th>Total Deceased</th>\n",
              "      <th>Recovery Rate</th>\n",
              "      <th>Case Load Rate</th>\n",
              "      <th>Delta</th>\n",
              "    </tr>\n",
              "  </thead>\n",
              "  <tbody>\n",
              "    <tr>\n",
              "      <th>0</th>\n",
              "      <td>30 January 2020</td>\n",
              "      <td>2020-01-30</td>\n",
              "      <td>1</td>\n",
              "      <td>1</td>\n",
              "      <td>0</td>\n",
              "      <td>0</td>\n",
              "      <td>0</td>\n",
              "      <td>0</td>\n",
              "      <td>0.000000</td>\n",
              "      <td>100.000000</td>\n",
              "      <td>100.000000</td>\n",
              "    </tr>\n",
              "    <tr>\n",
              "      <th>1</th>\n",
              "      <td>31 January 2020</td>\n",
              "      <td>2020-01-31</td>\n",
              "      <td>0</td>\n",
              "      <td>1</td>\n",
              "      <td>0</td>\n",
              "      <td>0</td>\n",
              "      <td>0</td>\n",
              "      <td>0</td>\n",
              "      <td>0.000000</td>\n",
              "      <td>NaN</td>\n",
              "      <td>NaN</td>\n",
              "    </tr>\n",
              "    <tr>\n",
              "      <th>2</th>\n",
              "      <td>1 February 2020</td>\n",
              "      <td>2020-02-01</td>\n",
              "      <td>0</td>\n",
              "      <td>1</td>\n",
              "      <td>0</td>\n",
              "      <td>0</td>\n",
              "      <td>0</td>\n",
              "      <td>0</td>\n",
              "      <td>0.000000</td>\n",
              "      <td>NaN</td>\n",
              "      <td>NaN</td>\n",
              "    </tr>\n",
              "    <tr>\n",
              "      <th>3</th>\n",
              "      <td>2 February 2020</td>\n",
              "      <td>2020-02-02</td>\n",
              "      <td>1</td>\n",
              "      <td>2</td>\n",
              "      <td>0</td>\n",
              "      <td>0</td>\n",
              "      <td>0</td>\n",
              "      <td>0</td>\n",
              "      <td>0.000000</td>\n",
              "      <td>100.000000</td>\n",
              "      <td>100.000000</td>\n",
              "    </tr>\n",
              "    <tr>\n",
              "      <th>4</th>\n",
              "      <td>3 February 2020</td>\n",
              "      <td>2020-02-03</td>\n",
              "      <td>1</td>\n",
              "      <td>3</td>\n",
              "      <td>0</td>\n",
              "      <td>0</td>\n",
              "      <td>0</td>\n",
              "      <td>0</td>\n",
              "      <td>0.000000</td>\n",
              "      <td>100.000000</td>\n",
              "      <td>100.000000</td>\n",
              "    </tr>\n",
              "    <tr>\n",
              "      <th>...</th>\n",
              "      <td>...</td>\n",
              "      <td>...</td>\n",
              "      <td>...</td>\n",
              "      <td>...</td>\n",
              "      <td>...</td>\n",
              "      <td>...</td>\n",
              "      <td>...</td>\n",
              "      <td>...</td>\n",
              "      <td>...</td>\n",
              "      <td>...</td>\n",
              "      <td>...</td>\n",
              "    </tr>\n",
              "    <tr>\n",
              "      <th>458</th>\n",
              "      <td>2 May 2021</td>\n",
              "      <td>2021-05-02</td>\n",
              "      <td>370090</td>\n",
              "      <td>19919645</td>\n",
              "      <td>300004</td>\n",
              "      <td>16281710</td>\n",
              "      <td>3423</td>\n",
              "      <td>218356</td>\n",
              "      <td>81.736949</td>\n",
              "      <td>18.012646</td>\n",
              "      <td>-63.724303</td>\n",
              "    </tr>\n",
              "    <tr>\n",
              "      <th>459</th>\n",
              "      <td>3 May 2021</td>\n",
              "      <td>2021-05-03</td>\n",
              "      <td>355769</td>\n",
              "      <td>20275414</td>\n",
              "      <td>318910</td>\n",
              "      <td>16600620</td>\n",
              "      <td>3439</td>\n",
              "      <td>221795</td>\n",
              "      <td>81.875615</td>\n",
              "      <td>9.393736</td>\n",
              "      <td>-72.481880</td>\n",
              "    </tr>\n",
              "    <tr>\n",
              "      <th>460</th>\n",
              "      <td>4 May 2021</td>\n",
              "      <td>2021-05-04</td>\n",
              "      <td>382847</td>\n",
              "      <td>20658261</td>\n",
              "      <td>337699</td>\n",
              "      <td>16938319</td>\n",
              "      <td>3786</td>\n",
              "      <td>225581</td>\n",
              "      <td>81.992957</td>\n",
              "      <td>10.803794</td>\n",
              "      <td>-71.189163</td>\n",
              "    </tr>\n",
              "    <tr>\n",
              "      <th>461</th>\n",
              "      <td>5 May 2021</td>\n",
              "      <td>2021-05-05</td>\n",
              "      <td>412624</td>\n",
              "      <td>21070885</td>\n",
              "      <td>330718</td>\n",
              "      <td>17269037</td>\n",
              "      <td>3979</td>\n",
              "      <td>229560</td>\n",
              "      <td>81.956866</td>\n",
              "      <td>18.885717</td>\n",
              "      <td>-63.071149</td>\n",
              "    </tr>\n",
              "    <tr>\n",
              "      <th>462</th>\n",
              "      <td>6 May 2021</td>\n",
              "      <td>2021-05-06</td>\n",
              "      <td>414280</td>\n",
              "      <td>21485165</td>\n",
              "      <td>328347</td>\n",
              "      <td>17597384</td>\n",
              "      <td>3923</td>\n",
              "      <td>233483</td>\n",
              "      <td>81.904812</td>\n",
              "      <td>19.795790</td>\n",
              "      <td>-62.109022</td>\n",
              "    </tr>\n",
              "  </tbody>\n",
              "</table>\n",
              "<p>463 rows × 11 columns</p>\n",
              "</div>"
            ],
            "text/plain": [
              "                Date    Date_YMD  ...  Case Load Rate       Delta\n",
              "0    30 January 2020  2020-01-30  ...      100.000000  100.000000\n",
              "1    31 January 2020  2020-01-31  ...             NaN         NaN\n",
              "2    1 February 2020  2020-02-01  ...             NaN         NaN\n",
              "3    2 February 2020  2020-02-02  ...      100.000000  100.000000\n",
              "4    3 February 2020  2020-02-03  ...      100.000000  100.000000\n",
              "..               ...         ...  ...             ...         ...\n",
              "458       2 May 2021  2021-05-02  ...       18.012646  -63.724303\n",
              "459       3 May 2021  2021-05-03  ...        9.393736  -72.481880\n",
              "460       4 May 2021  2021-05-04  ...       10.803794  -71.189163\n",
              "461       5 May 2021  2021-05-05  ...       18.885717  -63.071149\n",
              "462       6 May 2021  2021-05-06  ...       19.795790  -62.109022\n",
              "\n",
              "[463 rows x 11 columns]"
            ]
          },
          "metadata": {
            "tags": []
          },
          "execution_count": 14
        }
      ]
    },
    {
      "cell_type": "code",
      "metadata": {
        "id": "re3UKhh0P4Tu"
      },
      "source": [
        "train_dates=pd.to_datetime(df['Date_YMD'])"
      ],
      "execution_count": 15,
      "outputs": []
    },
    {
      "cell_type": "code",
      "metadata": {
        "colab": {
          "base_uri": "https://localhost:8080/",
          "height": 265
        },
        "id": "a-E43eDEYpcP",
        "outputId": "efca315d-d43c-444a-cc88-b3f21efc0aa5"
      },
      "source": [
        "# plt.title(\"Red - Recovery Rate Blue - Case Load Rate Black-Delta\")\n",
        "plt.plot(train_dates,CLR,color=\"Blue\", Label='Case Load Rate')\n",
        "plt.plot(train_dates,RR,color=\"red\", Label='Recovery Rate')\n",
        "plt.plot(train_dates,Del,color=\"Black\", Label='Delta')\n",
        "plt.grid()"
      ],
      "execution_count": 16,
      "outputs": [
        {
          "output_type": "display_data",
          "data": {
            "image/png": "[encoded data removed]",
            "text/plain": [
              "<Figure size 432x288 with 1 Axes>"
            ]
          },
          "metadata": {
            "tags": [],
            "needs_background": "light"
          }
        }
      ]
    },
    {
      "cell_type": "code",
      "metadata": {
        "colab": {
          "base_uri": "https://localhost:8080/"
        },
        "id": "2VyOThkNbXig",
        "outputId": "9bb81b9e-016f-4464-a1f3-00430f6f542c"
      },
      "source": [
        "cols=list(df1)[9:10]\n",
        "cols"
      ],
      "execution_count": 17,
      "outputs": [
        {
          "output_type": "execute_result",
          "data": {
            "text/plain": [
              "['Case Load Rate']"
            ]
          },
          "metadata": {
            "tags": []
          },
          "execution_count": 17
        }
      ]
    },
    {
      "cell_type": "code",
      "metadata": {
        "id": "Zl9m08dNbrNi"
      },
      "source": [
        "df1.replace([np.inf, -np.inf], np.nan, inplace=True)\n",
        "df1.dropna(inplace=True)"
      ],
      "execution_count": 18,
      "outputs": []
    },
    {
      "cell_type": "code",
      "metadata": {
        "id": "Y6UvvNZIbuxz"
      },
      "source": [
        "df_for_training=df1[cols].astype(float)"
      ],
      "execution_count": 19,
      "outputs": []
    },
    {
      "cell_type": "code",
      "metadata": {
        "id": "qvth9j6kb5zD"
      },
      "source": [
        "scaler=StandardScaler()\n",
        "scaler=scaler.fit(df_for_training)\n",
        "df_for_training_scaled=scaler.transform(df_for_training)"
      ],
      "execution_count": 20,
      "outputs": []
    },
    {
      "cell_type": "code",
      "metadata": {
        "id": "L-v68YnXqwaD",
        "outputId": "7cc3a318-304b-4a37-b065-2dd2be01c5f8",
        "colab": {
          "base_uri": "https://localhost:8080/"
        }
      },
      "source": [
        "df_for_training_scaled"
      ],
      "execution_count": 22,
      "outputs": [
        {
          "output_type": "execute_result",
          "data": {
            "text/plain": [
              "array([[ 2.06886527e+00],\n",
              "       [ 2.06886527e+00],\n",
              "       [ 2.06886527e+00],\n",
              "       [ 2.06886527e+00],\n",
              "       [ 2.06886527e+00],\n",
              "       [ 2.06886527e+00],\n",
              "       [ 2.06886527e+00],\n",
              "       [ 2.06886527e+00],\n",
              "       [ 2.06886527e+00],\n",
              "       [ 2.06886527e+00],\n",
              "       [ 2.06886527e+00],\n",
              "       [ 1.89530672e+00],\n",
              "       [ 2.06886527e+00],\n",
              "       [ 1.80852745e+00],\n",
              "       [ 5.06838358e-01],\n",
              "       [ 1.83219452e+00],\n",
              "       [ 1.28785181e+00],\n",
              "       [ 1.88290968e+00],\n",
              "       [ 1.80852745e+00],\n",
              "       [ 2.06886527e+00],\n",
              "       [ 1.49033678e+00],\n",
              "       [ 1.93420778e+00],\n",
              "       [ 2.06886527e+00],\n",
              "       [ 1.95567491e+00],\n",
              "       [ 1.95808322e+00],\n",
              "       [ 1.50597269e+00],\n",
              "       [ 1.94777791e+00],\n",
              "       [ 1.64091269e+00],\n",
              "       [ 1.59243004e+00],\n",
              "       [ 1.78172797e+00],\n",
              "       [ 1.63496890e+00],\n",
              "       [ 1.38669665e+00],\n",
              "       [ 1.90878700e+00],\n",
              "       [ 1.91536420e+00],\n",
              "       [ 1.86530895e+00],\n",
              "       [ 1.82247412e+00],\n",
              "       [ 1.75861813e+00],\n",
              "       [ 1.79100060e+00],\n",
              "       [ 1.63317594e+00],\n",
              "       [ 1.60543669e+00],\n",
              "       [ 1.53436638e+00],\n",
              "       [ 1.69741155e+00],\n",
              "       [ 1.55177637e+00],\n",
              "       [ 1.37686662e+00],\n",
              "       [ 1.53307767e+00],\n",
              "       [ 1.77773931e+00],\n",
              "       [ 1.55374485e+00],\n",
              "       [ 1.56640740e+00],\n",
              "       [ 1.37201380e+00],\n",
              "       [ 1.19071926e+00],\n",
              "       [ 1.19347698e+00],\n",
              "       [ 1.36694178e+00],\n",
              "       [ 1.11912601e+00],\n",
              "       [ 7.88348738e-01],\n",
              "       [ 1.20241587e+00],\n",
              "       [ 1.00377593e+00],\n",
              "       [ 1.06486360e+00],\n",
              "       [ 1.37936020e+00],\n",
              "       [ 1.03043004e+00],\n",
              "       [ 1.00958256e+00],\n",
              "       [ 1.10389070e+00],\n",
              "       [ 9.06888260e-01],\n",
              "       [ 1.04977497e+00],\n",
              "       [ 9.39937917e-01],\n",
              "       [ 1.13168974e+00],\n",
              "       [ 1.14198503e+00],\n",
              "       [ 1.22504603e+00],\n",
              "       [ 8.21942631e-01],\n",
              "       [ 1.16397091e+00],\n",
              "       [ 8.39578739e-01],\n",
              "       [ 1.12700218e+00],\n",
              "       [ 8.15143932e-01],\n",
              "       [ 9.93333710e-01],\n",
              "       [ 8.65745060e-01],\n",
              "       [ 5.88842578e-01],\n",
              "       [ 6.01582878e-01],\n",
              "       [ 9.65805256e-01],\n",
              "       [ 4.70467633e-01],\n",
              "       [-1.75014301e-01],\n",
              "       [ 6.81840646e-01],\n",
              "       [ 5.98980395e-01],\n",
              "       [ 7.24449300e-01],\n",
              "       [ 5.91038526e-01],\n",
              "       [ 6.51552124e-01],\n",
              "       [ 7.05835870e-01],\n",
              "       [ 1.00752105e+00],\n",
              "       [ 8.09095288e-01],\n",
              "       [ 7.85441224e-01],\n",
              "       [ 4.12610788e-01],\n",
              "       [ 7.67535461e-01],\n",
              "       [ 8.67664995e-01],\n",
              "       [-1.77126151e+00],\n",
              "       [ 6.65705434e-01],\n",
              "       [ 5.43390510e-01],\n",
              "       [ 6.92509820e-01],\n",
              "       [ 6.64660036e-01],\n",
              "       [ 9.81191113e-01],\n",
              "       [ 8.35783532e-01],\n",
              "       [ 6.79224210e-01],\n",
              "       [ 6.35606525e-01],\n",
              "       [ 7.64544568e-01],\n",
              "       [ 4.09120180e-01],\n",
              "       [ 5.28383197e-01],\n",
              "       [ 5.20980050e-01],\n",
              "       [ 5.63652089e-01],\n",
              "       [ 3.07106336e-01],\n",
              "       [ 2.52187793e-01],\n",
              "       [ 3.15322856e-01],\n",
              "       [-7.94798832e-01],\n",
              "       [-9.86595952e-02],\n",
              "       [ 6.32717294e-01],\n",
              "       [-1.77529824e-02],\n",
              "       [ 4.09874001e-01],\n",
              "       [-2.66946217e-01],\n",
              "       [ 4.36319817e-01],\n",
              "       [-7.96896915e-02],\n",
              "       [ 2.51356099e-01],\n",
              "       [-1.67079708e-02],\n",
              "       [ 1.19033460e-02],\n",
              "       [ 5.53329801e-01],\n",
              "       [ 1.76239573e-01],\n",
              "       [ 4.73781694e-01],\n",
              "       [ 9.36537491e-02],\n",
              "       [ 2.04888699e-01],\n",
              "       [ 3.93666645e-01],\n",
              "       [-3.48277724e-01],\n",
              "       [ 3.65863103e-01],\n",
              "       [ 4.04277094e-01],\n",
              "       [ 3.01891102e-01],\n",
              "       [ 2.42103723e-01],\n",
              "       [ 1.21420966e-01],\n",
              "       [ 3.18728315e-02],\n",
              "       [ 6.13669378e-02],\n",
              "       [ 1.17503816e-01],\n",
              "       [ 1.43882963e-01],\n",
              "       [ 3.96427789e-01],\n",
              "       [ 3.85141653e-01],\n",
              "       [ 1.92365380e-01],\n",
              "       [ 3.71443850e-01],\n",
              "       [ 3.40497554e-01],\n",
              "       [ 7.11699249e-01],\n",
              "       [ 3.89971305e-01],\n",
              "       [ 5.54460735e-01],\n",
              "       [ 3.07698247e-01],\n",
              "       [ 1.90604674e-01],\n",
              "       [ 1.84597446e-01],\n",
              "       [ 2.37316192e-01],\n",
              "       [ 2.96802271e-01],\n",
              "       [ 1.02085632e-01],\n",
              "       [ 3.54845167e-01],\n",
              "       [ 1.08882846e-01],\n",
              "       [ 1.56525028e-01],\n",
              "       [ 3.99010411e-01],\n",
              "       [ 2.59221893e-01],\n",
              "       [ 3.78838704e-01],\n",
              "       [-3.97771441e-01],\n",
              "       [ 3.67059801e-02],\n",
              "       [-1.93569789e-01],\n",
              "       [-5.74465699e-01],\n",
              "       [-6.90624028e-02],\n",
              "       [-6.84424766e-02],\n",
              "       [-1.05297591e-01],\n",
              "       [-4.92063985e-02],\n",
              "       [-2.56643776e-01],\n",
              "       [-3.00426907e-01],\n",
              "       [-3.66372053e-01],\n",
              "       [-2.10109619e-01],\n",
              "       [-1.95234790e-01],\n",
              "       [-2.28940360e-01],\n",
              "       [-1.30982380e-01],\n",
              "       [-5.46163947e-01],\n",
              "       [-7.62448749e-01],\n",
              "       [-3.95583869e-01],\n",
              "       [-2.01471935e-01],\n",
              "       [-3.19306196e-01],\n",
              "       [-3.37719867e-01],\n",
              "       [-1.61173911e-01],\n",
              "       [-3.65575177e-01],\n",
              "       [-8.59978799e-01],\n",
              "       [-4.70044531e-01],\n",
              "       [ 1.09077662e-01],\n",
              "       [ 1.24448892e-02],\n",
              "       [-1.55401932e-01],\n",
              "       [-1.18059983e-01],\n",
              "       [ 5.78087792e-02],\n",
              "       [-4.01440259e-01],\n",
              "       [-3.05763264e-02],\n",
              "       [-9.23533550e-02],\n",
              "       [-4.92642084e-02],\n",
              "       [-4.02251905e-02],\n",
              "       [-5.97268478e-02],\n",
              "       [ 6.40724853e-02],\n",
              "       [-5.42495012e-01],\n",
              "       [-1.24833237e-01],\n",
              "       [ 4.60805318e-02],\n",
              "       [ 1.28559937e-01],\n",
              "       [-1.34708885e-01],\n",
              "       [-1.08741711e-01],\n",
              "       [-1.34259578e-01],\n",
              "       [-4.82199357e-01],\n",
              "       [-3.35382976e-01],\n",
              "       [-1.67496715e-01],\n",
              "       [-3.24062846e-01],\n",
              "       [-6.39882346e-01],\n",
              "       [-6.17866912e-01],\n",
              "       [-7.33083989e-01],\n",
              "       [-1.53517778e+00],\n",
              "       [-7.64988803e-01],\n",
              "       [-5.90932504e-01],\n",
              "       [-4.24373605e-01],\n",
              "       [-7.98960036e-01],\n",
              "       [-6.73247903e-01],\n",
              "       [-3.13114111e-01],\n",
              "       [-1.14375774e+00],\n",
              "       [-7.55331129e-01],\n",
              "       [-5.25659725e-01],\n",
              "       [-4.72312473e-01],\n",
              "       [-4.53820348e-01],\n",
              "       [-7.79850413e-01],\n",
              "       [-6.33606326e-01],\n",
              "       [-1.25369993e+00],\n",
              "       [-9.35367011e-01],\n",
              "       [-7.11674371e-01],\n",
              "       [-8.62339186e-01],\n",
              "       [-8.98605858e-01],\n",
              "       [-1.07769673e+00],\n",
              "       [-7.10749509e-01],\n",
              "       [-1.72498918e+00],\n",
              "       [-9.87592324e-01],\n",
              "       [-1.08969499e+00],\n",
              "       [-8.72364030e-01],\n",
              "       [-9.14924365e-01],\n",
              "       [-1.02757027e+00],\n",
              "       [-1.01728874e+00],\n",
              "       [-1.95805837e+00],\n",
              "       [-9.27021947e-01],\n",
              "       [-1.64491867e+00],\n",
              "       [-1.53447521e+00],\n",
              "       [-1.19671354e+00],\n",
              "       [-1.17969749e+00],\n",
              "       [-1.32053788e+00],\n",
              "       [-2.57275009e+00],\n",
              "       [-1.49659412e+00],\n",
              "       [-8.93522647e-01],\n",
              "       [-1.05043718e+00],\n",
              "       [-1.15336778e+00],\n",
              "       [-1.19175180e+00],\n",
              "       [-9.80898632e-01],\n",
              "       [-2.01861577e+00],\n",
              "       [-9.76318529e-01],\n",
              "       [-8.49972295e-01],\n",
              "       [-9.26812513e-01],\n",
              "       [-7.69049615e-01],\n",
              "       [-7.02945894e-01],\n",
              "       [-6.59868805e-01],\n",
              "       [-8.69762995e-01],\n",
              "       [-1.14140901e+00],\n",
              "       [-8.02426060e-01],\n",
              "       [-8.44746139e-01],\n",
              "       [-7.39714194e-01],\n",
              "       [-6.01639260e-01],\n",
              "       [-1.71091639e+00],\n",
              "       [-1.64778946e+00],\n",
              "       [-9.85450866e-01],\n",
              "       [-7.58031807e-01],\n",
              "       [-5.14389368e-01],\n",
              "       [-7.17266318e-01],\n",
              "       [-4.91583984e-01],\n",
              "       [-3.88584434e-01],\n",
              "       [-8.98517210e-01],\n",
              "       [-1.82002153e-01],\n",
              "       [-9.19287230e-02],\n",
              "       [-3.56025876e-01],\n",
              "       [-5.54028966e-01],\n",
              "       [-5.93970674e-01],\n",
              "       [-9.72010632e-01],\n",
              "       [-1.50183503e+00],\n",
              "       [-1.05092025e+00],\n",
              "       [-9.69166942e-01],\n",
              "       [-1.02979113e+00],\n",
              "       [-9.71281356e-01],\n",
              "       [-9.94098450e-01],\n",
              "       [-1.02807036e+00],\n",
              "       [-1.86980263e+00],\n",
              "       [-9.32286186e-01],\n",
              "       [-1.06684068e+00],\n",
              "       [-1.30523182e+00],\n",
              "       [-8.79735756e-01],\n",
              "       [-8.02449709e-01],\n",
              "       [-8.81363345e-01],\n",
              "       [-2.05731295e+00],\n",
              "       [-1.32650477e+00],\n",
              "       [-2.76139551e+00],\n",
              "       [-9.70355439e-01],\n",
              "       [-8.46057931e-01],\n",
              "       [-8.51373359e-01],\n",
              "       [-6.87192555e-01],\n",
              "       [-2.08522729e+00],\n",
              "       [-9.14008705e-01],\n",
              "       [-1.11857717e+00],\n",
              "       [-6.95308497e-01],\n",
              "       [-5.44530837e-01],\n",
              "       [-9.78944259e-01],\n",
              "       [-6.68311676e-01],\n",
              "       [-1.99235286e+00],\n",
              "       [-1.33699518e+00],\n",
              "       [-1.09931964e+00],\n",
              "       [-9.70598602e-01],\n",
              "       [-1.04023388e+00],\n",
              "       [-9.61378551e-01],\n",
              "       [-1.03324138e+00],\n",
              "       [-2.63458411e+00],\n",
              "       [-1.04576877e+00],\n",
              "       [-4.63171807e-01],\n",
              "       [-9.09871697e-01],\n",
              "       [-6.78133952e-01],\n",
              "       [-6.52508749e-01],\n",
              "       [-6.64147748e-01],\n",
              "       [-1.84089522e+00],\n",
              "       [-8.71578606e-01],\n",
              "       [-6.84916721e-01],\n",
              "       [-6.10071828e-01],\n",
              "       [-8.48876629e-01],\n",
              "       [-9.38079779e-01],\n",
              "       [-6.64290255e-01],\n",
              "       [-2.43145725e+00],\n",
              "       [-1.21505074e+00],\n",
              "       [-1.37691764e+00],\n",
              "       [-1.14517079e+00],\n",
              "       [-1.07907209e+00],\n",
              "       [-7.60490895e-01],\n",
              "       [-5.43760102e-01],\n",
              "       [-2.56902807e+00],\n",
              "       [-6.68433650e-01],\n",
              "       [-1.17161516e+00],\n",
              "       [-7.49946865e-01],\n",
              "       [-9.27193446e-01],\n",
              "       [-7.59941210e-01],\n",
              "       [-6.40888479e-01],\n",
              "       [-2.03906461e+00],\n",
              "       [-1.33012763e+00],\n",
              "       [-1.54061535e+00],\n",
              "       [-1.27074768e+00],\n",
              "       [-1.17829937e+00],\n",
              "       [-4.84252984e-01],\n",
              "       [-5.46882606e-01],\n",
              "       [-2.01707929e+00],\n",
              "       [-1.09031754e+00],\n",
              "       [-4.03087890e-01],\n",
              "       [-2.33096355e+00],\n",
              "       [-3.89725878e-01],\n",
              "       [-3.20659420e-01],\n",
              "       [-6.41434589e-02],\n",
              "       [-1.33363483e+00],\n",
              "       [-6.11545241e-01],\n",
              "       [-3.85945073e-01],\n",
              "       [-9.73058669e-02],\n",
              "       [ 1.39342231e-01],\n",
              "       [-8.24427186e-02],\n",
              "       [ 2.82347587e-01],\n",
              "       [-1.23286527e+00],\n",
              "       [-6.08721181e-01],\n",
              "       [ 1.86529040e-01],\n",
              "       [ 1.33309502e-01],\n",
              "       [ 4.04875310e-02],\n",
              "       [ 2.37747736e-01],\n",
              "       [ 1.68269142e-01],\n",
              "       [-5.96892148e-01],\n",
              "       [-2.24322436e-01],\n",
              "       [-4.64075194e-02],\n",
              "       [-8.22022622e-02],\n",
              "       [ 3.79063544e-02],\n",
              "       [ 5.57103482e-02],\n",
              "       [ 5.87502094e-02],\n",
              "       [-7.59868846e-01],\n",
              "       [-9.57363408e-01],\n",
              "       [-1.36322076e-02],\n",
              "       [ 3.69149174e-01],\n",
              "       [-3.85664899e-02],\n",
              "       [ 3.43871065e-01],\n",
              "       [ 3.29875805e-01],\n",
              "       [-9.54851504e-02],\n",
              "       [ 4.51684868e-01],\n",
              "       [ 7.63907243e-01],\n",
              "       [ 7.23324076e-01],\n",
              "       [ 5.53463177e-01],\n",
              "       [ 6.92339823e-01],\n",
              "       [ 8.82727423e-01],\n",
              "       [ 1.48428600e-01],\n",
              "       [ 7.35735476e-01],\n",
              "       [ 7.61596012e-01],\n",
              "       [ 6.07117085e-01],\n",
              "       [ 7.88287133e-01],\n",
              "       [ 8.61822557e-01],\n",
              "       [ 8.25918794e-01],\n",
              "       [ 3.41609708e-01],\n",
              "       [ 3.47025185e-02],\n",
              "       [ 5.93005111e-01],\n",
              "       [ 4.42449540e-01],\n",
              "       [ 7.56048879e-01],\n",
              "       [ 3.73116868e-01],\n",
              "       [ 7.31559502e-01],\n",
              "       [ 7.06124325e-01],\n",
              "       [ 7.06489686e-01],\n",
              "       [ 8.35561344e-01],\n",
              "       [ 8.32478767e-01],\n",
              "       [ 6.67249345e-01],\n",
              "       [ 5.13203252e-01],\n",
              "       [ 9.00061630e-01],\n",
              "       [ 4.88657863e-01],\n",
              "       [ 8.98562497e-01],\n",
              "       [ 8.36687772e-01],\n",
              "       [ 6.39101227e-01],\n",
              "       [ 6.86817031e-01],\n",
              "       [ 6.74778927e-01],\n",
              "       [ 6.92145072e-01],\n",
              "       [ 4.87468235e-01],\n",
              "       [ 5.77077787e-01],\n",
              "       [ 5.72107501e-01],\n",
              "       [ 5.45549527e-01],\n",
              "       [ 3.86300476e-01],\n",
              "       [ 4.38415722e-01],\n",
              "       [ 4.43422039e-01],\n",
              "       [ 1.71762927e-02],\n",
              "       [ 1.63316655e-01],\n",
              "       [ 1.62552428e-01],\n",
              "       [ 8.16719072e-02],\n",
              "       [ 1.08479675e-01],\n",
              "       [-2.64458818e-03],\n",
              "       [-6.55756303e-02],\n",
              "       [-2.89958446e-01],\n",
              "       [-2.53249308e-01],\n",
              "       [-4.28462850e-02],\n",
              "       [-1.91536299e-02]])"
            ]
          },
          "metadata": {
            "tags": []
          },
          "execution_count": 22
        }
      ]
    },
    {
      "cell_type": "code",
      "metadata": {
        "id": "17fGhuprqwQE"
      },
      "source": [
        ""
      ],
      "execution_count": 22,
      "outputs": []
    },
    {
      "cell_type": "code",
      "metadata": {
        "id": "ACO2QWSNb-ZI"
      },
      "source": [
        "trainX=[]\n",
        "trainY=[]"
      ],
      "execution_count": 23,
      "outputs": []
    },
    {
      "cell_type": "code",
      "metadata": {
        "id": "Wf7GPXZ0cAyZ"
      },
      "source": [
        "n_future=1\n",
        "n_past=14"
      ],
      "execution_count": 24,
      "outputs": []
    },
    {
      "cell_type": "code",
      "metadata": {
        "id": "s3jg1YK3cDxl"
      },
      "source": [
        "for i in range(n_past, len(df_for_training_scaled)-n_future +1):\n",
        "  trainX.append(df_for_training_scaled[i-n_past:i, 0:df_for_training.shape[1]])\n",
        "  trainY.append(df_for_training_scaled[i+n_future-1:i+n_future,0])\n",
        "trainX,trainY=np.array(trainX),np.array(trainY)"
      ],
      "execution_count": 25,
      "outputs": []
    },
    {
      "cell_type": "code",
      "metadata": {
        "id": "dg2ugswJr54S",
        "outputId": "406c2559-2db2-4132-f5aa-3f67df8e03b4",
        "colab": {
          "base_uri": "https://localhost:8080/"
        }
      },
      "source": [
        "trainX"
      ],
      "execution_count": 26,
      "outputs": [
        {
          "output_type": "execute_result",
          "data": {
            "text/plain": [
              "array([[[ 2.06886527],\n",
              "        [ 2.06886527],\n",
              "        [ 2.06886527],\n",
              "        ...,\n",
              "        [ 1.80852745],\n",
              "        [ 2.06886527],\n",
              "        [ 1.49033678]],\n",
              "\n",
              "       [[ 2.06886527],\n",
              "        [ 2.06886527],\n",
              "        [ 2.06886527],\n",
              "        ...,\n",
              "        [ 2.06886527],\n",
              "        [ 1.49033678],\n",
              "        [ 1.93420778]],\n",
              "\n",
              "       [[ 2.06886527],\n",
              "        [ 2.06886527],\n",
              "        [ 2.06886527],\n",
              "        ...,\n",
              "        [ 1.49033678],\n",
              "        [ 1.93420778],\n",
              "        [ 2.06886527]],\n",
              "\n",
              "       ...,\n",
              "\n",
              "       [[ 0.8985625 ],\n",
              "        [ 0.83668777],\n",
              "        [ 0.63910123],\n",
              "        ...,\n",
              "        [-0.00264459],\n",
              "        [-0.06557563],\n",
              "        [-0.28995845]],\n",
              "\n",
              "       [[ 0.83668777],\n",
              "        [ 0.63910123],\n",
              "        [ 0.68681703],\n",
              "        ...,\n",
              "        [-0.06557563],\n",
              "        [-0.28995845],\n",
              "        [-0.25324931]],\n",
              "\n",
              "       [[ 0.63910123],\n",
              "        [ 0.68681703],\n",
              "        [ 0.67477893],\n",
              "        ...,\n",
              "        [-0.28995845],\n",
              "        [-0.25324931],\n",
              "        [-0.04284629]]])"
            ]
          },
          "metadata": {
            "tags": []
          },
          "execution_count": 26
        }
      ]
    },
    {
      "cell_type": "code",
      "metadata": {
        "id": "Gs3szCvKHgtB",
        "outputId": "0572a2be-8826-41db-d8bb-0bd1afca8019",
        "colab": {
          "base_uri": "https://localhost:8080/"
        }
      },
      "source": [
        "\n",
        "model=Sequential()\n",
        "model.add(LSTM(units=64,return_sequences=True, input_shape=(trainX.shape[1], trainX.shape[2])))\n",
        "model.add(Dropout(0.2))\n",
        "model.add(LSTM(units=128, return_sequences=True))\n",
        "model.add(Dropout(0.2))\n",
        "model.add(LSTM(units=128,return_sequences=True))\n",
        "model.add(Dropout(0.2))\n",
        "model.add(LSTM(units=128,return_sequences=True))\n",
        "model.add(Dropout(0.5))\n",
        "model.add(LSTM(units=1))\n",
        "model.compile(optimizer = 'Adam', loss='mean_squared_error', metrics=['mean_squared_error','mean_absolute_error'])\n",
        "model.summary()\n"
      ],
      "execution_count": 28,
      "outputs": [
        {
          "output_type": "stream",
          "text": [
            "Model: \"sequential\"\n",
            "_________________________________________________________________\n",
            "Layer (type)                 Output Shape              Param #   \n",
            "=================================================================\n",
            "lstm (LSTM)                  (None, 21, 64)            16896     \n",
            "_________________________________________________________________\n",
            "dropout (Dropout)            (None, 21, 64)            0         \n",
            "_________________________________________________________________\n",
            "lstm_1 (LSTM)                (None, 21, 128)           98816     \n",
            "_________________________________________________________________\n",
            "dropout_1 (Dropout)          (None, 21, 128)           0         \n",
            "_________________________________________________________________\n",
            "lstm_2 (LSTM)                (None, 21, 128)           131584    \n",
            "_________________________________________________________________\n",
            "dropout_2 (Dropout)          (None, 21, 128)           0         \n",
            "_________________________________________________________________\n",
            "lstm_3 (LSTM)                (None, 21, 128)           131584    \n",
            "_________________________________________________________________\n",
            "dropout_3 (Dropout)          (None, 21, 128)           0         \n",
            "_________________________________________________________________\n",
            "lstm_4 (LSTM)                (None, 1)                 520       \n",
            "=================================================================\n",
            "Total params: 379,400\n",
            "Trainable params: 379,400\n",
            "Non-trainable params: 0\n",
            "_________________________________________________________________\n"
          ],
          "name": "stdout"
        }
      ]
    },
    {
      "cell_type": "code",
      "metadata": {
        "colab": {
          "base_uri": "https://localhost:8080/"
        },
        "id": "2OngdagTcUGT",
        "outputId": "aa17e216-74b7-46c7-b648-af67b6912b13"
      },
      "source": [
        "history=model.fit(trainX,trainY,epochs=90,batch_size=1,validation_split=0.2,verbose=1)"
      ],
      "execution_count": 30,
      "outputs": [
        {
          "output_type": "stream",
          "text": [
            "Epoch 1/90\n",
            "330/330 [==============================] - 21s 42ms/step - loss: 0.3670 - mean_squared_error: 0.3670 - mean_absolute_error: 0.4368 - val_loss: 0.2901 - val_mean_squared_error: 0.2901 - val_mean_absolute_error: 0.4394\n",
            "Epoch 2/90\n",
            "330/330 [==============================] - 11s 35ms/step - loss: 0.3574 - mean_squared_error: 0.3574 - mean_absolute_error: 0.4421 - val_loss: 0.3067 - val_mean_squared_error: 0.3067 - val_mean_absolute_error: 0.4757\n",
            "Epoch 3/90\n",
            "330/330 [==============================] - 11s 34ms/step - loss: 0.3254 - mean_squared_error: 0.3254 - mean_absolute_error: 0.4120 - val_loss: 0.3223 - val_mean_squared_error: 0.3223 - val_mean_absolute_error: 0.4714\n",
            "Epoch 4/90\n",
            "330/330 [==============================] - 12s 36ms/step - loss: 0.1991 - mean_squared_error: 0.1991 - mean_absolute_error: 0.3227 - val_loss: 0.4187 - val_mean_squared_error: 0.4187 - val_mean_absolute_error: 0.5492\n",
            "Epoch 5/90\n",
            "330/330 [==============================] - 12s 36ms/step - loss: 0.2746 - mean_squared_error: 0.2746 - mean_absolute_error: 0.3597 - val_loss: 0.3196 - val_mean_squared_error: 0.3196 - val_mean_absolute_error: 0.4591\n",
            "Epoch 6/90\n",
            "330/330 [==============================] - 12s 35ms/step - loss: 0.2339 - mean_squared_error: 0.2339 - mean_absolute_error: 0.3500 - val_loss: 0.2639 - val_mean_squared_error: 0.2639 - val_mean_absolute_error: 0.3994\n",
            "Epoch 7/90\n",
            "330/330 [==============================] - 11s 35ms/step - loss: 0.2487 - mean_squared_error: 0.2487 - mean_absolute_error: 0.3535 - val_loss: 0.2714 - val_mean_squared_error: 0.2714 - val_mean_absolute_error: 0.4174\n",
            "Epoch 8/90\n",
            "330/330 [==============================] - 11s 34ms/step - loss: 0.2196 - mean_squared_error: 0.2196 - mean_absolute_error: 0.3336 - val_loss: 0.4185 - val_mean_squared_error: 0.4185 - val_mean_absolute_error: 0.5302\n",
            "Epoch 9/90\n",
            "330/330 [==============================] - 11s 35ms/step - loss: 0.2235 - mean_squared_error: 0.2235 - mean_absolute_error: 0.3429 - val_loss: 0.2861 - val_mean_squared_error: 0.2861 - val_mean_absolute_error: 0.4408\n",
            "Epoch 10/90\n",
            "330/330 [==============================] - 11s 34ms/step - loss: 0.2070 - mean_squared_error: 0.2070 - mean_absolute_error: 0.3213 - val_loss: 0.2631 - val_mean_squared_error: 0.2631 - val_mean_absolute_error: 0.3977\n",
            "Epoch 11/90\n",
            "330/330 [==============================] - 11s 34ms/step - loss: 0.1755 - mean_squared_error: 0.1755 - mean_absolute_error: 0.2974 - val_loss: 0.3058 - val_mean_squared_error: 0.3058 - val_mean_absolute_error: 0.4520\n",
            "Epoch 12/90\n",
            "330/330 [==============================] - 11s 34ms/step - loss: 0.2549 - mean_squared_error: 0.2549 - mean_absolute_error: 0.3436 - val_loss: 0.2652 - val_mean_squared_error: 0.2652 - val_mean_absolute_error: 0.4079\n",
            "Epoch 13/90\n",
            "330/330 [==============================] - 11s 34ms/step - loss: 0.2099 - mean_squared_error: 0.2099 - mean_absolute_error: 0.3220 - val_loss: 0.2758 - val_mean_squared_error: 0.2758 - val_mean_absolute_error: 0.4208\n",
            "Epoch 14/90\n",
            "330/330 [==============================] - 11s 34ms/step - loss: 0.2353 - mean_squared_error: 0.2353 - mean_absolute_error: 0.3331 - val_loss: 0.2494 - val_mean_squared_error: 0.2494 - val_mean_absolute_error: 0.3718\n",
            "Epoch 15/90\n",
            "330/330 [==============================] - 11s 34ms/step - loss: 0.2488 - mean_squared_error: 0.2488 - mean_absolute_error: 0.3493 - val_loss: 0.2630 - val_mean_squared_error: 0.2630 - val_mean_absolute_error: 0.4003\n",
            "Epoch 16/90\n",
            "330/330 [==============================] - 11s 34ms/step - loss: 0.2272 - mean_squared_error: 0.2272 - mean_absolute_error: 0.3474 - val_loss: 0.2852 - val_mean_squared_error: 0.2852 - val_mean_absolute_error: 0.4189\n",
            "Epoch 17/90\n",
            "330/330 [==============================] - 11s 33ms/step - loss: 0.2225 - mean_squared_error: 0.2225 - mean_absolute_error: 0.3316 - val_loss: 0.2859 - val_mean_squared_error: 0.2859 - val_mean_absolute_error: 0.4293\n",
            "Epoch 18/90\n",
            "330/330 [==============================] - 11s 33ms/step - loss: 0.2180 - mean_squared_error: 0.2180 - mean_absolute_error: 0.3224 - val_loss: 0.2611 - val_mean_squared_error: 0.2611 - val_mean_absolute_error: 0.3948\n",
            "Epoch 19/90\n",
            "330/330 [==============================] - 11s 34ms/step - loss: 0.1689 - mean_squared_error: 0.1689 - mean_absolute_error: 0.2926 - val_loss: 0.3393 - val_mean_squared_error: 0.3393 - val_mean_absolute_error: 0.4959\n",
            "Epoch 20/90\n",
            "330/330 [==============================] - 11s 34ms/step - loss: 0.3059 - mean_squared_error: 0.3059 - mean_absolute_error: 0.3874 - val_loss: 0.2606 - val_mean_squared_error: 0.2606 - val_mean_absolute_error: 0.4069\n",
            "Epoch 21/90\n",
            "330/330 [==============================] - 11s 34ms/step - loss: 0.2514 - mean_squared_error: 0.2514 - mean_absolute_error: 0.3397 - val_loss: 0.2669 - val_mean_squared_error: 0.2669 - val_mean_absolute_error: 0.4169\n",
            "Epoch 22/90\n",
            "330/330 [==============================] - 11s 34ms/step - loss: 0.2066 - mean_squared_error: 0.2066 - mean_absolute_error: 0.3233 - val_loss: 0.2705 - val_mean_squared_error: 0.2705 - val_mean_absolute_error: 0.4159\n",
            "Epoch 23/90\n",
            "330/330 [==============================] - 11s 33ms/step - loss: 0.2083 - mean_squared_error: 0.2083 - mean_absolute_error: 0.3294 - val_loss: 0.3481 - val_mean_squared_error: 0.3481 - val_mean_absolute_error: 0.4855\n",
            "Epoch 24/90\n",
            "330/330 [==============================] - 11s 34ms/step - loss: 0.1917 - mean_squared_error: 0.1917 - mean_absolute_error: 0.3088 - val_loss: 0.2495 - val_mean_squared_error: 0.2495 - val_mean_absolute_error: 0.3770\n",
            "Epoch 25/90\n",
            "330/330 [==============================] - 11s 34ms/step - loss: 0.2127 - mean_squared_error: 0.2127 - mean_absolute_error: 0.3197 - val_loss: 0.2870 - val_mean_squared_error: 0.2870 - val_mean_absolute_error: 0.4322\n",
            "Epoch 26/90\n",
            "330/330 [==============================] - 11s 33ms/step - loss: 0.1857 - mean_squared_error: 0.1857 - mean_absolute_error: 0.3135 - val_loss: 0.2714 - val_mean_squared_error: 0.2714 - val_mean_absolute_error: 0.4135\n",
            "Epoch 27/90\n",
            "330/330 [==============================] - 11s 33ms/step - loss: 0.1962 - mean_squared_error: 0.1962 - mean_absolute_error: 0.3045 - val_loss: 0.3163 - val_mean_squared_error: 0.3163 - val_mean_absolute_error: 0.4635\n",
            "Epoch 28/90\n",
            "330/330 [==============================] - 11s 33ms/step - loss: 0.2289 - mean_squared_error: 0.2289 - mean_absolute_error: 0.3350 - val_loss: 0.2516 - val_mean_squared_error: 0.2516 - val_mean_absolute_error: 0.3843\n",
            "Epoch 29/90\n",
            "330/330 [==============================] - 11s 33ms/step - loss: 0.1922 - mean_squared_error: 0.1922 - mean_absolute_error: 0.3112 - val_loss: 0.3007 - val_mean_squared_error: 0.3007 - val_mean_absolute_error: 0.4499\n",
            "Epoch 30/90\n",
            "330/330 [==============================] - 11s 33ms/step - loss: 0.2350 - mean_squared_error: 0.2350 - mean_absolute_error: 0.3358 - val_loss: 0.2531 - val_mean_squared_error: 0.2531 - val_mean_absolute_error: 0.3861\n",
            "Epoch 31/90\n",
            "330/330 [==============================] - 11s 34ms/step - loss: 0.2038 - mean_squared_error: 0.2038 - mean_absolute_error: 0.3199 - val_loss: 0.3250 - val_mean_squared_error: 0.3250 - val_mean_absolute_error: 0.4523\n",
            "Epoch 32/90\n",
            "330/330 [==============================] - 11s 34ms/step - loss: 0.1995 - mean_squared_error: 0.1995 - mean_absolute_error: 0.3195 - val_loss: 0.2398 - val_mean_squared_error: 0.2398 - val_mean_absolute_error: 0.3696\n",
            "Epoch 33/90\n",
            "330/330 [==============================] - 11s 34ms/step - loss: 0.2103 - mean_squared_error: 0.2103 - mean_absolute_error: 0.3211 - val_loss: 0.2702 - val_mean_squared_error: 0.2702 - val_mean_absolute_error: 0.3907\n",
            "Epoch 34/90\n",
            "330/330 [==============================] - 11s 34ms/step - loss: 0.2304 - mean_squared_error: 0.2304 - mean_absolute_error: 0.3458 - val_loss: 0.2338 - val_mean_squared_error: 0.2338 - val_mean_absolute_error: 0.3536\n",
            "Epoch 35/90\n",
            "330/330 [==============================] - 11s 34ms/step - loss: 0.1959 - mean_squared_error: 0.1959 - mean_absolute_error: 0.3152 - val_loss: 0.2469 - val_mean_squared_error: 0.2469 - val_mean_absolute_error: 0.3808\n",
            "Epoch 36/90\n",
            "330/330 [==============================] - 11s 34ms/step - loss: 0.1879 - mean_squared_error: 0.1879 - mean_absolute_error: 0.2914 - val_loss: 0.1429 - val_mean_squared_error: 0.1429 - val_mean_absolute_error: 0.3057\n",
            "Epoch 37/90\n",
            "330/330 [==============================] - 11s 35ms/step - loss: 0.2788 - mean_squared_error: 0.2788 - mean_absolute_error: 0.3590 - val_loss: 0.3400 - val_mean_squared_error: 0.3400 - val_mean_absolute_error: 0.4910\n",
            "Epoch 38/90\n",
            "330/330 [==============================] - 11s 33ms/step - loss: 0.2147 - mean_squared_error: 0.2147 - mean_absolute_error: 0.3316 - val_loss: 0.2598 - val_mean_squared_error: 0.2598 - val_mean_absolute_error: 0.3802\n",
            "Epoch 39/90\n",
            "330/330 [==============================] - 11s 33ms/step - loss: 0.1952 - mean_squared_error: 0.1952 - mean_absolute_error: 0.3105 - val_loss: 0.2684 - val_mean_squared_error: 0.2684 - val_mean_absolute_error: 0.4116\n",
            "Epoch 40/90\n",
            "330/330 [==============================] - 11s 34ms/step - loss: 0.2172 - mean_squared_error: 0.2172 - mean_absolute_error: 0.3300 - val_loss: 0.2680 - val_mean_squared_error: 0.2680 - val_mean_absolute_error: 0.3940\n",
            "Epoch 41/90\n",
            "330/330 [==============================] - 11s 34ms/step - loss: 0.1865 - mean_squared_error: 0.1865 - mean_absolute_error: 0.2933 - val_loss: 0.2836 - val_mean_squared_error: 0.2836 - val_mean_absolute_error: 0.4254\n",
            "Epoch 42/90\n",
            "330/330 [==============================] - 11s 33ms/step - loss: 0.2044 - mean_squared_error: 0.2044 - mean_absolute_error: 0.3218 - val_loss: 0.2919 - val_mean_squared_error: 0.2919 - val_mean_absolute_error: 0.4342\n",
            "Epoch 43/90\n",
            "330/330 [==============================] - 11s 34ms/step - loss: 0.1866 - mean_squared_error: 0.1866 - mean_absolute_error: 0.3172 - val_loss: 0.3018 - val_mean_squared_error: 0.3018 - val_mean_absolute_error: 0.4442\n",
            "Epoch 44/90\n",
            "330/330 [==============================] - 11s 33ms/step - loss: 0.2276 - mean_squared_error: 0.2276 - mean_absolute_error: 0.3272 - val_loss: 0.2709 - val_mean_squared_error: 0.2709 - val_mean_absolute_error: 0.4175\n",
            "Epoch 45/90\n",
            "330/330 [==============================] - 11s 34ms/step - loss: 0.1615 - mean_squared_error: 0.1615 - mean_absolute_error: 0.2860 - val_loss: 0.2461 - val_mean_squared_error: 0.2461 - val_mean_absolute_error: 0.3742\n",
            "Epoch 46/90\n",
            "330/330 [==============================] - 11s 34ms/step - loss: 0.2680 - mean_squared_error: 0.2680 - mean_absolute_error: 0.3514 - val_loss: 0.2937 - val_mean_squared_error: 0.2937 - val_mean_absolute_error: 0.4373\n",
            "Epoch 47/90\n",
            "330/330 [==============================] - 11s 34ms/step - loss: 0.2085 - mean_squared_error: 0.2085 - mean_absolute_error: 0.3156 - val_loss: 0.3003 - val_mean_squared_error: 0.3003 - val_mean_absolute_error: 0.4484\n",
            "Epoch 48/90\n",
            "330/330 [==============================] - 11s 34ms/step - loss: 0.1583 - mean_squared_error: 0.1583 - mean_absolute_error: 0.2647 - val_loss: 0.2928 - val_mean_squared_error: 0.2928 - val_mean_absolute_error: 0.4350\n",
            "Epoch 49/90\n",
            "330/330 [==============================] - 11s 34ms/step - loss: 0.2872 - mean_squared_error: 0.2872 - mean_absolute_error: 0.3731 - val_loss: 0.2901 - val_mean_squared_error: 0.2901 - val_mean_absolute_error: 0.4347\n",
            "Epoch 50/90\n",
            "330/330 [==============================] - 11s 34ms/step - loss: 0.2074 - mean_squared_error: 0.2074 - mean_absolute_error: 0.3055 - val_loss: 0.2859 - val_mean_squared_error: 0.2859 - val_mean_absolute_error: 0.4260\n",
            "Epoch 51/90\n",
            "330/330 [==============================] - 11s 34ms/step - loss: 0.2335 - mean_squared_error: 0.2335 - mean_absolute_error: 0.3239 - val_loss: 0.2714 - val_mean_squared_error: 0.2714 - val_mean_absolute_error: 0.4064\n",
            "Epoch 52/90\n",
            "330/330 [==============================] - 12s 35ms/step - loss: 0.1890 - mean_squared_error: 0.1890 - mean_absolute_error: 0.3031 - val_loss: 0.2979 - val_mean_squared_error: 0.2979 - val_mean_absolute_error: 0.4436\n",
            "Epoch 53/90\n",
            "330/330 [==============================] - 11s 34ms/step - loss: 0.2206 - mean_squared_error: 0.2206 - mean_absolute_error: 0.3331 - val_loss: 0.2661 - val_mean_squared_error: 0.2661 - val_mean_absolute_error: 0.3996\n",
            "Epoch 54/90\n",
            "330/330 [==============================] - 11s 35ms/step - loss: 0.1950 - mean_squared_error: 0.1950 - mean_absolute_error: 0.3098 - val_loss: 0.3074 - val_mean_squared_error: 0.3074 - val_mean_absolute_error: 0.4636\n",
            "Epoch 55/90\n",
            "330/330 [==============================] - 11s 34ms/step - loss: 0.2262 - mean_squared_error: 0.2262 - mean_absolute_error: 0.3357 - val_loss: 0.2591 - val_mean_squared_error: 0.2591 - val_mean_absolute_error: 0.3886\n",
            "Epoch 56/90\n",
            "330/330 [==============================] - 12s 35ms/step - loss: 0.1779 - mean_squared_error: 0.1779 - mean_absolute_error: 0.2967 - val_loss: 0.2754 - val_mean_squared_error: 0.2754 - val_mean_absolute_error: 0.4117\n",
            "Epoch 57/90\n",
            "330/330 [==============================] - 12s 36ms/step - loss: 0.1992 - mean_squared_error: 0.1992 - mean_absolute_error: 0.3051 - val_loss: 0.2506 - val_mean_squared_error: 0.2506 - val_mean_absolute_error: 0.3890\n",
            "Epoch 58/90\n",
            "330/330 [==============================] - 12s 36ms/step - loss: 0.1971 - mean_squared_error: 0.1971 - mean_absolute_error: 0.3137 - val_loss: 0.3033 - val_mean_squared_error: 0.3033 - val_mean_absolute_error: 0.4525\n",
            "Epoch 59/90\n",
            "330/330 [==============================] - 12s 35ms/step - loss: 0.2006 - mean_squared_error: 0.2006 - mean_absolute_error: 0.2961 - val_loss: 0.3065 - val_mean_squared_error: 0.3065 - val_mean_absolute_error: 0.4426\n",
            "Epoch 60/90\n",
            "330/330 [==============================] - 12s 35ms/step - loss: 0.2230 - mean_squared_error: 0.2230 - mean_absolute_error: 0.3224 - val_loss: 0.2837 - val_mean_squared_error: 0.2837 - val_mean_absolute_error: 0.3983\n",
            "Epoch 61/90\n",
            "330/330 [==============================] - 12s 36ms/step - loss: 0.1911 - mean_squared_error: 0.1911 - mean_absolute_error: 0.3065 - val_loss: 0.2822 - val_mean_squared_error: 0.2822 - val_mean_absolute_error: 0.4189\n",
            "Epoch 62/90\n",
            "330/330 [==============================] - 11s 34ms/step - loss: 0.2120 - mean_squared_error: 0.2120 - mean_absolute_error: 0.3058 - val_loss: 0.2898 - val_mean_squared_error: 0.2898 - val_mean_absolute_error: 0.4271\n",
            "Epoch 63/90\n",
            "330/330 [==============================] - 11s 35ms/step - loss: 0.1934 - mean_squared_error: 0.1934 - mean_absolute_error: 0.2963 - val_loss: 0.3095 - val_mean_squared_error: 0.3095 - val_mean_absolute_error: 0.4557\n",
            "Epoch 64/90\n",
            "330/330 [==============================] - 11s 35ms/step - loss: 0.1960 - mean_squared_error: 0.1960 - mean_absolute_error: 0.3134 - val_loss: 0.3234 - val_mean_squared_error: 0.3234 - val_mean_absolute_error: 0.4691\n",
            "Epoch 65/90\n",
            "330/330 [==============================] - 12s 36ms/step - loss: 0.1914 - mean_squared_error: 0.1914 - mean_absolute_error: 0.3051 - val_loss: 0.3177 - val_mean_squared_error: 0.3177 - val_mean_absolute_error: 0.4667\n",
            "Epoch 66/90\n",
            "330/330 [==============================] - 12s 35ms/step - loss: 0.2296 - mean_squared_error: 0.2296 - mean_absolute_error: 0.3242 - val_loss: 0.2985 - val_mean_squared_error: 0.2985 - val_mean_absolute_error: 0.4262\n",
            "Epoch 67/90\n",
            "330/330 [==============================] - 11s 34ms/step - loss: 0.1814 - mean_squared_error: 0.1814 - mean_absolute_error: 0.3082 - val_loss: 0.3097 - val_mean_squared_error: 0.3097 - val_mean_absolute_error: 0.4510\n",
            "Epoch 68/90\n",
            "330/330 [==============================] - 11s 34ms/step - loss: 0.1829 - mean_squared_error: 0.1829 - mean_absolute_error: 0.3013 - val_loss: 0.2472 - val_mean_squared_error: 0.2472 - val_mean_absolute_error: 0.3741\n",
            "Epoch 69/90\n",
            "330/330 [==============================] - 11s 34ms/step - loss: 0.1916 - mean_squared_error: 0.1916 - mean_absolute_error: 0.3016 - val_loss: 0.2407 - val_mean_squared_error: 0.2407 - val_mean_absolute_error: 0.3703\n",
            "Epoch 70/90\n",
            "330/330 [==============================] - 11s 34ms/step - loss: 0.1873 - mean_squared_error: 0.1873 - mean_absolute_error: 0.3023 - val_loss: 0.2680 - val_mean_squared_error: 0.2680 - val_mean_absolute_error: 0.3959\n",
            "Epoch 71/90\n",
            "330/330 [==============================] - 11s 34ms/step - loss: 0.1586 - mean_squared_error: 0.1586 - mean_absolute_error: 0.2634 - val_loss: 0.3194 - val_mean_squared_error: 0.3194 - val_mean_absolute_error: 0.4619\n",
            "Epoch 72/90\n",
            "330/330 [==============================] - 11s 35ms/step - loss: 0.2181 - mean_squared_error: 0.2181 - mean_absolute_error: 0.3000 - val_loss: 0.2645 - val_mean_squared_error: 0.2645 - val_mean_absolute_error: 0.3868\n",
            "Epoch 73/90\n",
            "330/330 [==============================] - 11s 35ms/step - loss: 0.1593 - mean_squared_error: 0.1593 - mean_absolute_error: 0.2783 - val_loss: 0.2757 - val_mean_squared_error: 0.2757 - val_mean_absolute_error: 0.4136\n",
            "Epoch 74/90\n",
            "330/330 [==============================] - 11s 35ms/step - loss: 0.1909 - mean_squared_error: 0.1909 - mean_absolute_error: 0.2971 - val_loss: 0.2732 - val_mean_squared_error: 0.2732 - val_mean_absolute_error: 0.4027\n",
            "Epoch 75/90\n",
            "330/330 [==============================] - 11s 35ms/step - loss: 0.1733 - mean_squared_error: 0.1733 - mean_absolute_error: 0.2733 - val_loss: 0.2997 - val_mean_squared_error: 0.2997 - val_mean_absolute_error: 0.4260\n",
            "Epoch 76/90\n",
            "330/330 [==============================] - 11s 35ms/step - loss: 0.2244 - mean_squared_error: 0.2244 - mean_absolute_error: 0.3234 - val_loss: 0.3199 - val_mean_squared_error: 0.3199 - val_mean_absolute_error: 0.4650\n",
            "Epoch 77/90\n",
            "330/330 [==============================] - 11s 34ms/step - loss: 0.1764 - mean_squared_error: 0.1764 - mean_absolute_error: 0.2889 - val_loss: 0.3131 - val_mean_squared_error: 0.3131 - val_mean_absolute_error: 0.4442\n",
            "Epoch 78/90\n",
            "330/330 [==============================] - 11s 34ms/step - loss: 0.1558 - mean_squared_error: 0.1558 - mean_absolute_error: 0.2803 - val_loss: 0.3036 - val_mean_squared_error: 0.3036 - val_mean_absolute_error: 0.4342\n",
            "Epoch 79/90\n",
            "330/330 [==============================] - 11s 35ms/step - loss: 0.2798 - mean_squared_error: 0.2798 - mean_absolute_error: 0.3623 - val_loss: 0.3095 - val_mean_squared_error: 0.3095 - val_mean_absolute_error: 0.4551\n",
            "Epoch 80/90\n",
            "330/330 [==============================] - 11s 35ms/step - loss: 0.2041 - mean_squared_error: 0.2041 - mean_absolute_error: 0.3125 - val_loss: 0.2669 - val_mean_squared_error: 0.2669 - val_mean_absolute_error: 0.4049\n",
            "Epoch 81/90\n",
            "330/330 [==============================] - 12s 35ms/step - loss: 0.1715 - mean_squared_error: 0.1715 - mean_absolute_error: 0.2825 - val_loss: 0.2873 - val_mean_squared_error: 0.2873 - val_mean_absolute_error: 0.4311\n",
            "Epoch 82/90\n",
            "330/330 [==============================] - 12s 36ms/step - loss: 0.1730 - mean_squared_error: 0.1730 - mean_absolute_error: 0.2909 - val_loss: 0.3121 - val_mean_squared_error: 0.3121 - val_mean_absolute_error: 0.4505\n",
            "Epoch 83/90\n",
            "330/330 [==============================] - 12s 36ms/step - loss: 0.1656 - mean_squared_error: 0.1656 - mean_absolute_error: 0.2767 - val_loss: 0.3137 - val_mean_squared_error: 0.3137 - val_mean_absolute_error: 0.4541\n",
            "Epoch 84/90\n",
            "330/330 [==============================] - 12s 36ms/step - loss: 0.2070 - mean_squared_error: 0.2070 - mean_absolute_error: 0.3084 - val_loss: 0.2990 - val_mean_squared_error: 0.2990 - val_mean_absolute_error: 0.4293\n",
            "Epoch 85/90\n",
            "330/330 [==============================] - 12s 36ms/step - loss: 0.1978 - mean_squared_error: 0.1978 - mean_absolute_error: 0.3097 - val_loss: 0.2963 - val_mean_squared_error: 0.2963 - val_mean_absolute_error: 0.4410\n",
            "Epoch 86/90\n",
            "330/330 [==============================] - 12s 36ms/step - loss: 0.1789 - mean_squared_error: 0.1789 - mean_absolute_error: 0.2785 - val_loss: 0.3180 - val_mean_squared_error: 0.3180 - val_mean_absolute_error: 0.4480\n",
            "Epoch 87/90\n",
            "330/330 [==============================] - 12s 36ms/step - loss: 0.1724 - mean_squared_error: 0.1724 - mean_absolute_error: 0.2907 - val_loss: 0.2864 - val_mean_squared_error: 0.2864 - val_mean_absolute_error: 0.4266\n",
            "Epoch 88/90\n",
            "330/330 [==============================] - 12s 35ms/step - loss: 0.1899 - mean_squared_error: 0.1899 - mean_absolute_error: 0.3155 - val_loss: 0.2955 - val_mean_squared_error: 0.2955 - val_mean_absolute_error: 0.4241\n",
            "Epoch 89/90\n",
            "330/330 [==============================] - 12s 36ms/step - loss: 0.2056 - mean_squared_error: 0.2056 - mean_absolute_error: 0.2965 - val_loss: 0.2685 - val_mean_squared_error: 0.2685 - val_mean_absolute_error: 0.3871\n",
            "Epoch 90/90\n",
            "330/330 [==============================] - 12s 36ms/step - loss: 0.1689 - mean_squared_error: 0.1689 - mean_absolute_error: 0.2808 - val_loss: 0.2914 - val_mean_squared_error: 0.2914 - val_mean_absolute_error: 0.4189\n"
          ],
          "name": "stdout"
        }
      ]
    },
    {
      "cell_type": "code",
      "metadata": {
        "colab": {
          "base_uri": "https://localhost:8080/",
          "height": 282
        },
        "id": "lqCFogZPME1r",
        "outputId": "f77b29e2-558b-4ba3-b95a-ca54d780602b"
      },
      "source": [
        "plt.plot(history.history['mean_squared_error'], Label='Mean Squared Error')\n",
        "plt.plot(history.history['mean_absolute_error'], Label='Mean Absolute Error')\n",
        "plt.grid()\n",
        "plt.legend()"
      ],
      "execution_count": 31,
      "outputs": [
        {
          "output_type": "execute_result",
          "data": {
            "text/plain": [
              "<matplotlib.legend.Legend at 0x7fbf3b6521d0>"
            ]
          },
          "metadata": {
            "tags": []
          },
          "execution_count": 31
        },
        {
          "output_type": "display_data",
          "data": {
            "image/png": "[encoded data removed]",
            "text/plain": [
              "<Figure size 432x288 with 1 Axes>"
            ]
          },
          "metadata": {
            "tags": [],
            "needs_background": "light"
          }
        }
      ]
    },
    {
      "cell_type": "code",
      "metadata": {
        "colab": {
          "base_uri": "https://localhost:8080/",
          "height": 282
        },
        "id": "lKlzXPcHcXko",
        "outputId": "c1f6a288-9da9-453f-f0e7-b00467cae25f"
      },
      "source": [
        "plt.plot(history.history['loss'], Label='Training Loss')\n",
        "plt.plot(history.history['val_loss'], Label='Validation Loss')\n",
        "plt.grid()\n",
        "plt.legend()"
      ],
      "execution_count": 32,
      "outputs": [
        {
          "output_type": "execute_result",
          "data": {
            "text/plain": [
              "<matplotlib.legend.Legend at 0x7fbf3c634610>"
            ]
          },
          "metadata": {
            "tags": []
          },
          "execution_count": 32
        },
        {
          "output_type": "display_data",
          "data": {
            "image/png": "[encoded data removed]",
            "text/plain": [
              "<Figure size 432x288 with 1 Axes>"
            ]
          },
          "metadata": {
            "tags": [],
            "needs_background": "light"
          }
        }
      ]
    },
    {
      "cell_type": "code",
      "metadata": {
        "id": "E-VpwZf8cdRY"
      },
      "source": [
        "n_f=60\n",
        "forecast_period_dates = pd.date_range(list(train_dates)[-1], periods=n_f, freq='1d').tolist()\n",
        "forecast = model.predict(trainX[-n_f:])\n",
        "forecast_copies = np.repeat(forecast, df_for_training.shape[1], axis=-1)\n",
        "y_pred_future = scaler.inverse_transform(forecast_copies)[:,0]\n",
        "\n",
        "\n",
        "forecast_dates = []\n",
        "for time_i in forecast_period_dates:\n",
        "    forecast_dates.append(time_i.date())"
      ],
      "execution_count": 38,
      "outputs": []
    },
    {
      "cell_type": "code",
      "metadata": {
        "colab": {
          "base_uri": "https://localhost:8080/"
        },
        "id": "1QO1WgIu96S2",
        "outputId": "6dffe3bb-0b9a-40f7-8607-1268b0ae7be9"
      },
      "source": [
        "forecast_dates"
      ],
      "execution_count": 34,
      "outputs": [
        {
          "output_type": "execute_result",
          "data": {
            "text/plain": [
              "[datetime.date(2021, 5, 6),\n",
              " datetime.date(2021, 5, 7),\n",
              " datetime.date(2021, 5, 8),\n",
              " datetime.date(2021, 5, 9),\n",
              " datetime.date(2021, 5, 10),\n",
              " datetime.date(2021, 5, 11),\n",
              " datetime.date(2021, 5, 12),\n",
              " datetime.date(2021, 5, 13),\n",
              " datetime.date(2021, 5, 14),\n",
              " datetime.date(2021, 5, 15),\n",
              " datetime.date(2021, 5, 16),\n",
              " datetime.date(2021, 5, 17),\n",
              " datetime.date(2021, 5, 18),\n",
              " datetime.date(2021, 5, 19),\n",
              " datetime.date(2021, 5, 20)]"
            ]
          },
          "metadata": {
            "tags": []
          },
          "execution_count": 34
        }
      ]
    },
    {
      "cell_type": "code",
      "metadata": {
        "id": "snKv5cYKct29"
      },
      "source": [
        "df_forecast = pd.DataFrame({'Date_YMD':np.array(forecast_dates), 'Case Load Rate':y_pred_future})\n",
        "df_forecast['Date_YMD']=pd.to_datetime(df_forecast['Date_YMD'])"
      ],
      "execution_count": 39,
      "outputs": []
    },
    {
      "cell_type": "code",
      "metadata": {
        "colab": {
          "base_uri": "https://localhost:8080/"
        },
        "id": "xmz5vUJfcyO5",
        "outputId": "14cbfe05-11b9-4a82-8106-335ca318b147"
      },
      "source": [
        "original=df1[['Date_YMD','Case Load Rate']]\n",
        "original['Date_YMD']=pd.to_datetime(original['Date_YMD'])\n",
        "original = original.loc[original['Date_YMD'] >= '2020-01-30']"
      ],
      "execution_count": 40,
      "outputs": [
        {
          "output_type": "stream",
          "text": [
            "/usr/local/lib/python3.7/dist-packages/ipykernel_launcher.py:2: SettingWithCopyWarning: \n",
            "A value is trying to be set on a copy of a slice from a DataFrame.\n",
            "Try using .loc[row_indexer,col_indexer] = value instead\n",
            "\n",
            "See the caveats in the documentation: https://pandas.pydata.org/pandas-docs/stable/user_guide/indexing.html#returning-a-view-versus-a-copy\n",
            "  \n"
          ],
          "name": "stderr"
        }
      ]
    },
    {
      "cell_type": "code",
      "metadata": {
        "colab": {
          "base_uri": "https://localhost:8080/",
          "height": 385
        },
        "id": "ViyGwWqUc1pT",
        "outputId": "6a455cfd-9a10-4fa7-eb17-47c28c576c8e"
      },
      "source": [
        "sns.lineplot(original['Date_YMD'], original['Case Load Rate'])\n",
        "sns.lineplot(df_forecast['Date_YMD'], df_forecast['Case Load Rate'])"
      ],
      "execution_count": 41,
      "outputs": [
        {
          "output_type": "stream",
          "text": [
            "/usr/local/lib/python3.7/dist-packages/seaborn/_decorators.py:43: FutureWarning: Pass the following variables as keyword args: x, y. From version 0.12, the only valid positional argument will be `data`, and passing other arguments without an explicit keyword will result in an error or misinterpretation.\n",
            "  FutureWarning\n",
            "/usr/local/lib/python3.7/dist-packages/seaborn/_decorators.py:43: FutureWarning: Pass the following variables as keyword args: x, y. From version 0.12, the only valid positional argument will be `data`, and passing other arguments without an explicit keyword will result in an error or misinterpretation.\n",
            "  FutureWarning\n"
          ],
          "name": "stderr"
        },
        {
          "output_type": "execute_result",
          "data": {
            "text/plain": [
              "<matplotlib.axes._subplots.AxesSubplot at 0x7fbf3c020990>"
            ]
          },
          "metadata": {
            "tags": []
          },
          "execution_count": 41
        },
        {
          "output_type": "display_data",
          "data": {
            "image/png": "[encoded data removed]",
            "text/plain": [
              "<Figure size 432x288 with 1 Axes>"
            ]
          },
          "metadata": {
            "tags": [],
            "needs_background": "light"
          }
        }
      ]
    }
  ]
}