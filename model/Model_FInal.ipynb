{
  "nbformat": 4,
  "nbformat_minor": 0,
  "metadata": {
    "colab": {
      "name": "Model_FInal.ipynb",
      "provenance": []
    },
    "kernelspec": {
      "name": "python3",
      "display_name": "Python 3"
    },
    "language_info": {
      "name": "python"
    }
  },
  "cells": [
    {
      "cell_type": "code",
      "metadata": {
        "id": "g0YuFVLn1Hbm"
      },
      "source": [
        ""
      ],
      "execution_count": 1,
      "outputs": []
    },
    {
      "cell_type": "code",
      "metadata": {
        "id": "C8aNAFNYiNJV"
      },
      "source": [
        "import numpy as  np\n",
        "from keras.models import Sequential\n",
        "from keras.layers import LSTM, Dense, Dropout, Activation\n",
        "import pandas as pd\n",
        "from matplotlib import pyplot as plt\n",
        "from sklearn.preprocessing import StandardScaler\n",
        "import seaborn as sns\n",
        "from keras.layers import Bidirectional"
      ],
      "execution_count": 2,
      "outputs": []
    },
    {
      "cell_type": "code",
      "metadata": {
        "id": "z-HjgltniWCX",
        "colab": {
          "base_uri": "https://localhost:8080/",
          "height": 419
        },
        "outputId": "19234abb-1d86-40c5-977a-dfbd87e8b6c3"
      },
      "source": [
        "df=pd.read_csv('https://api.covid19india.org/csv/latest/case_time_series.csv')\n",
        "df"
      ],
      "execution_count": 3,
      "outputs": [
        {
          "output_type": "execute_result",
          "data": {
            "text/html": [
              "<div>\n",
              "<style scoped>\n",
              "    .dataframe tbody tr th:only-of-type {\n",
              "        vertical-align: middle;\n",
              "    }\n",
              "\n",
              "    .dataframe tbody tr th {\n",
              "        vertical-align: top;\n",
              "    }\n",
              "\n",
              "    .dataframe thead th {\n",
              "        text-align: right;\n",
              "    }\n",
              "</style>\n",
              "<table border=\"1\" class=\"dataframe\">\n",
              "  <thead>\n",
              "    <tr style=\"text-align: right;\">\n",
              "      <th></th>\n",
              "      <th>Date</th>\n",
              "      <th>Date_YMD</th>\n",
              "      <th>Daily Confirmed</th>\n",
              "      <th>Total Confirmed</th>\n",
              "      <th>Daily Recovered</th>\n",
              "      <th>Total Recovered</th>\n",
              "      <th>Daily Deceased</th>\n",
              "      <th>Total Deceased</th>\n",
              "    </tr>\n",
              "  </thead>\n",
              "  <tbody>\n",
              "    <tr>\n",
              "      <th>0</th>\n",
              "      <td>30 January 2020</td>\n",
              "      <td>2020-01-30</td>\n",
              "      <td>1</td>\n",
              "      <td>1</td>\n",
              "      <td>0</td>\n",
              "      <td>0</td>\n",
              "      <td>0</td>\n",
              "      <td>0</td>\n",
              "    </tr>\n",
              "    <tr>\n",
              "      <th>1</th>\n",
              "      <td>31 January 2020</td>\n",
              "      <td>2020-01-31</td>\n",
              "      <td>0</td>\n",
              "      <td>1</td>\n",
              "      <td>0</td>\n",
              "      <td>0</td>\n",
              "      <td>0</td>\n",
              "      <td>0</td>\n",
              "    </tr>\n",
              "    <tr>\n",
              "      <th>2</th>\n",
              "      <td>1 February 2020</td>\n",
              "      <td>2020-02-01</td>\n",
              "      <td>0</td>\n",
              "      <td>1</td>\n",
              "      <td>0</td>\n",
              "      <td>0</td>\n",
              "      <td>0</td>\n",
              "      <td>0</td>\n",
              "    </tr>\n",
              "    <tr>\n",
              "      <th>3</th>\n",
              "      <td>2 February 2020</td>\n",
              "      <td>2020-02-02</td>\n",
              "      <td>1</td>\n",
              "      <td>2</td>\n",
              "      <td>0</td>\n",
              "      <td>0</td>\n",
              "      <td>0</td>\n",
              "      <td>0</td>\n",
              "    </tr>\n",
              "    <tr>\n",
              "      <th>4</th>\n",
              "      <td>3 February 2020</td>\n",
              "      <td>2020-02-03</td>\n",
              "      <td>1</td>\n",
              "      <td>3</td>\n",
              "      <td>0</td>\n",
              "      <td>0</td>\n",
              "      <td>0</td>\n",
              "      <td>0</td>\n",
              "    </tr>\n",
              "    <tr>\n",
              "      <th>...</th>\n",
              "      <td>...</td>\n",
              "      <td>...</td>\n",
              "      <td>...</td>\n",
              "      <td>...</td>\n",
              "      <td>...</td>\n",
              "      <td>...</td>\n",
              "      <td>...</td>\n",
              "      <td>...</td>\n",
              "    </tr>\n",
              "    <tr>\n",
              "      <th>459</th>\n",
              "      <td>3 May 2021</td>\n",
              "      <td>2021-05-03</td>\n",
              "      <td>355769</td>\n",
              "      <td>20275414</td>\n",
              "      <td>318910</td>\n",
              "      <td>16600620</td>\n",
              "      <td>3439</td>\n",
              "      <td>221795</td>\n",
              "    </tr>\n",
              "    <tr>\n",
              "      <th>460</th>\n",
              "      <td>4 May 2021</td>\n",
              "      <td>2021-05-04</td>\n",
              "      <td>382847</td>\n",
              "      <td>20658261</td>\n",
              "      <td>337699</td>\n",
              "      <td>16938319</td>\n",
              "      <td>3786</td>\n",
              "      <td>225581</td>\n",
              "    </tr>\n",
              "    <tr>\n",
              "      <th>461</th>\n",
              "      <td>5 May 2021</td>\n",
              "      <td>2021-05-05</td>\n",
              "      <td>412624</td>\n",
              "      <td>21070885</td>\n",
              "      <td>330718</td>\n",
              "      <td>17269037</td>\n",
              "      <td>3979</td>\n",
              "      <td>229560</td>\n",
              "    </tr>\n",
              "    <tr>\n",
              "      <th>462</th>\n",
              "      <td>6 May 2021</td>\n",
              "      <td>2021-05-06</td>\n",
              "      <td>414280</td>\n",
              "      <td>21485165</td>\n",
              "      <td>328347</td>\n",
              "      <td>17597384</td>\n",
              "      <td>3923</td>\n",
              "      <td>233483</td>\n",
              "    </tr>\n",
              "    <tr>\n",
              "      <th>463</th>\n",
              "      <td>7 May 2021</td>\n",
              "      <td>2021-05-07</td>\n",
              "      <td>401342</td>\n",
              "      <td>21886507</td>\n",
              "      <td>319469</td>\n",
              "      <td>17916853</td>\n",
              "      <td>4192</td>\n",
              "      <td>237675</td>\n",
              "    </tr>\n",
              "  </tbody>\n",
              "</table>\n",
              "<p>464 rows × 8 columns</p>\n",
              "</div>"
            ],
            "text/plain": [
              "                Date    Date_YMD  ...  Daily Deceased  Total Deceased\n",
              "0    30 January 2020  2020-01-30  ...               0               0\n",
              "1    31 January 2020  2020-01-31  ...               0               0\n",
              "2    1 February 2020  2020-02-01  ...               0               0\n",
              "3    2 February 2020  2020-02-02  ...               0               0\n",
              "4    3 February 2020  2020-02-03  ...               0               0\n",
              "..               ...         ...  ...             ...             ...\n",
              "459       3 May 2021  2021-05-03  ...            3439          221795\n",
              "460       4 May 2021  2021-05-04  ...            3786          225581\n",
              "461       5 May 2021  2021-05-05  ...            3979          229560\n",
              "462       6 May 2021  2021-05-06  ...            3923          233483\n",
              "463       7 May 2021  2021-05-07  ...            4192          237675\n",
              "\n",
              "[464 rows x 8 columns]"
            ]
          },
          "metadata": {
            "tags": []
          },
          "execution_count": 3
        }
      ]
    },
    {
      "cell_type": "code",
      "metadata": {
        "id": "ReIV1flWiYbo"
      },
      "source": [
        "df1=df"
      ],
      "execution_count": 4,
      "outputs": []
    },
    {
      "cell_type": "code",
      "metadata": {
        "id": "VXCSQpGKP__q"
      },
      "source": [
        "def Recovery_Rate(RC,CC):\n",
        "  return (RC/CC)*100"
      ],
      "execution_count": 5,
      "outputs": []
    },
    {
      "cell_type": "code",
      "metadata": {
        "id": "iYFkE3rSRvzB"
      },
      "source": [
        "RR=[]\n",
        "for i in df.index:\n",
        "  RR.append(Recovery_Rate(df['Total Recovered'][i], df['Total Confirmed'][i]))"
      ],
      "execution_count": 6,
      "outputs": []
    },
    {
      "cell_type": "code",
      "metadata": {
        "id": "xqQx-95aR3nO"
      },
      "source": [
        "df1['Recovery Rate']=RR"
      ],
      "execution_count": 7,
      "outputs": []
    },
    {
      "cell_type": "code",
      "metadata": {
        "id": "Herun-2pQWYL"
      },
      "source": [
        "def Case_Load_Rate(CC,RC,D):\n",
        "  CaseLoad=CC-RC-D\n",
        "  return (CaseLoad/CC)*100\n",
        "  # return CaseLoad"
      ],
      "execution_count": 8,
      "outputs": []
    },
    {
      "cell_type": "code",
      "metadata": {
        "id": "mNfl31NcTgbO",
        "colab": {
          "base_uri": "https://localhost:8080/"
        },
        "outputId": "ecd82648-ad3d-4ba0-c9df-85ae31c807e5"
      },
      "source": [
        "CLR=[]\n",
        "for i in df.index:\n",
        "  CLR.append(Case_Load_Rate(df['Daily Confirmed'][i],df['Daily Recovered'][i],  df['Daily Deceased'][i]))"
      ],
      "execution_count": 9,
      "outputs": [
        {
          "output_type": "stream",
          "text": [
            "/usr/local/lib/python3.7/dist-packages/ipykernel_launcher.py:3: RuntimeWarning: invalid value encountered in long_scalars\n",
            "  This is separate from the ipykernel package so we can avoid doing imports until\n",
            "/usr/local/lib/python3.7/dist-packages/ipykernel_launcher.py:3: RuntimeWarning: divide by zero encountered in long_scalars\n",
            "  This is separate from the ipykernel package so we can avoid doing imports until\n"
          ],
          "name": "stderr"
        }
      ]
    },
    {
      "cell_type": "code",
      "metadata": {
        "id": "rPVDxFeWT6Xt"
      },
      "source": [
        "df1['Case Load Rate']=CLR"
      ],
      "execution_count": 10,
      "outputs": []
    },
    {
      "cell_type": "code",
      "metadata": {
        "colab": {
          "base_uri": "https://localhost:8080/",
          "height": 606
        },
        "id": "GX-Wo3zShdV_",
        "outputId": "9e294ae6-c0d7-46c8-fdf9-0cf6d85469fd"
      },
      "source": [
        "df1"
      ],
      "execution_count": 37,
      "outputs": [
        {
          "output_type": "execute_result",
          "data": {
            "text/html": [
              "<div>\n",
              "<style scoped>\n",
              "    .dataframe tbody tr th:only-of-type {\n",
              "        vertical-align: middle;\n",
              "    }\n",
              "\n",
              "    .dataframe tbody tr th {\n",
              "        vertical-align: top;\n",
              "    }\n",
              "\n",
              "    .dataframe thead th {\n",
              "        text-align: right;\n",
              "    }\n",
              "</style>\n",
              "<table border=\"1\" class=\"dataframe\">\n",
              "  <thead>\n",
              "    <tr style=\"text-align: right;\">\n",
              "      <th></th>\n",
              "      <th>Date</th>\n",
              "      <th>Date_YMD</th>\n",
              "      <th>Daily Confirmed</th>\n",
              "      <th>Total Confirmed</th>\n",
              "      <th>Daily Recovered</th>\n",
              "      <th>Total Recovered</th>\n",
              "      <th>Daily Deceased</th>\n",
              "      <th>Total Deceased</th>\n",
              "      <th>Recovery Rate</th>\n",
              "      <th>Case Load Rate</th>\n",
              "      <th>Delta</th>\n",
              "    </tr>\n",
              "  </thead>\n",
              "  <tbody>\n",
              "    <tr>\n",
              "      <th>0</th>\n",
              "      <td>30 January 2020</td>\n",
              "      <td>2020-01-30</td>\n",
              "      <td>1</td>\n",
              "      <td>1</td>\n",
              "      <td>0</td>\n",
              "      <td>0</td>\n",
              "      <td>0</td>\n",
              "      <td>0</td>\n",
              "      <td>0.000000</td>\n",
              "      <td>100.000000</td>\n",
              "      <td>100.000000</td>\n",
              "    </tr>\n",
              "    <tr>\n",
              "      <th>3</th>\n",
              "      <td>2 February 2020</td>\n",
              "      <td>2020-02-02</td>\n",
              "      <td>1</td>\n",
              "      <td>2</td>\n",
              "      <td>0</td>\n",
              "      <td>0</td>\n",
              "      <td>0</td>\n",
              "      <td>0</td>\n",
              "      <td>0.000000</td>\n",
              "      <td>100.000000</td>\n",
              "      <td>100.000000</td>\n",
              "    </tr>\n",
              "    <tr>\n",
              "      <th>4</th>\n",
              "      <td>3 February 2020</td>\n",
              "      <td>2020-02-03</td>\n",
              "      <td>1</td>\n",
              "      <td>3</td>\n",
              "      <td>0</td>\n",
              "      <td>0</td>\n",
              "      <td>0</td>\n",
              "      <td>0</td>\n",
              "      <td>0.000000</td>\n",
              "      <td>100.000000</td>\n",
              "      <td>100.000000</td>\n",
              "    </tr>\n",
              "    <tr>\n",
              "      <th>32</th>\n",
              "      <td>2 March 2020</td>\n",
              "      <td>2020-03-02</td>\n",
              "      <td>2</td>\n",
              "      <td>5</td>\n",
              "      <td>0</td>\n",
              "      <td>3</td>\n",
              "      <td>0</td>\n",
              "      <td>0</td>\n",
              "      <td>60.000000</td>\n",
              "      <td>100.000000</td>\n",
              "      <td>40.000000</td>\n",
              "    </tr>\n",
              "    <tr>\n",
              "      <th>33</th>\n",
              "      <td>3 March 2020</td>\n",
              "      <td>2020-03-03</td>\n",
              "      <td>1</td>\n",
              "      <td>6</td>\n",
              "      <td>0</td>\n",
              "      <td>3</td>\n",
              "      <td>0</td>\n",
              "      <td>0</td>\n",
              "      <td>50.000000</td>\n",
              "      <td>100.000000</td>\n",
              "      <td>50.000000</td>\n",
              "    </tr>\n",
              "    <tr>\n",
              "      <th>...</th>\n",
              "      <td>...</td>\n",
              "      <td>...</td>\n",
              "      <td>...</td>\n",
              "      <td>...</td>\n",
              "      <td>...</td>\n",
              "      <td>...</td>\n",
              "      <td>...</td>\n",
              "      <td>...</td>\n",
              "      <td>...</td>\n",
              "      <td>...</td>\n",
              "      <td>...</td>\n",
              "    </tr>\n",
              "    <tr>\n",
              "      <th>459</th>\n",
              "      <td>3 May 2021</td>\n",
              "      <td>2021-05-03</td>\n",
              "      <td>355769</td>\n",
              "      <td>20275414</td>\n",
              "      <td>318910</td>\n",
              "      <td>16600620</td>\n",
              "      <td>3439</td>\n",
              "      <td>221795</td>\n",
              "      <td>81.875615</td>\n",
              "      <td>9.393736</td>\n",
              "      <td>-72.481880</td>\n",
              "    </tr>\n",
              "    <tr>\n",
              "      <th>460</th>\n",
              "      <td>4 May 2021</td>\n",
              "      <td>2021-05-04</td>\n",
              "      <td>382847</td>\n",
              "      <td>20658261</td>\n",
              "      <td>337699</td>\n",
              "      <td>16938319</td>\n",
              "      <td>3786</td>\n",
              "      <td>225581</td>\n",
              "      <td>81.992957</td>\n",
              "      <td>10.803794</td>\n",
              "      <td>-71.189163</td>\n",
              "    </tr>\n",
              "    <tr>\n",
              "      <th>461</th>\n",
              "      <td>5 May 2021</td>\n",
              "      <td>2021-05-05</td>\n",
              "      <td>412624</td>\n",
              "      <td>21070885</td>\n",
              "      <td>330718</td>\n",
              "      <td>17269037</td>\n",
              "      <td>3979</td>\n",
              "      <td>229560</td>\n",
              "      <td>81.956866</td>\n",
              "      <td>18.885717</td>\n",
              "      <td>-63.071149</td>\n",
              "    </tr>\n",
              "    <tr>\n",
              "      <th>462</th>\n",
              "      <td>6 May 2021</td>\n",
              "      <td>2021-05-06</td>\n",
              "      <td>414280</td>\n",
              "      <td>21485165</td>\n",
              "      <td>328347</td>\n",
              "      <td>17597384</td>\n",
              "      <td>3923</td>\n",
              "      <td>233483</td>\n",
              "      <td>81.904812</td>\n",
              "      <td>19.795790</td>\n",
              "      <td>-62.109022</td>\n",
              "    </tr>\n",
              "    <tr>\n",
              "      <th>463</th>\n",
              "      <td>7 May 2021</td>\n",
              "      <td>2021-05-07</td>\n",
              "      <td>401342</td>\n",
              "      <td>21886507</td>\n",
              "      <td>319469</td>\n",
              "      <td>17916853</td>\n",
              "      <td>4192</td>\n",
              "      <td>237675</td>\n",
              "      <td>81.862551</td>\n",
              "      <td>19.355313</td>\n",
              "      <td>-62.507238</td>\n",
              "    </tr>\n",
              "  </tbody>\n",
              "</table>\n",
              "<p>435 rows × 11 columns</p>\n",
              "</div>"
            ],
            "text/plain": [
              "                Date    Date_YMD  ...  Case Load Rate       Delta\n",
              "0    30 January 2020  2020-01-30  ...      100.000000  100.000000\n",
              "3    2 February 2020  2020-02-02  ...      100.000000  100.000000\n",
              "4    3 February 2020  2020-02-03  ...      100.000000  100.000000\n",
              "32      2 March 2020  2020-03-02  ...      100.000000   40.000000\n",
              "33      3 March 2020  2020-03-03  ...      100.000000   50.000000\n",
              "..               ...         ...  ...             ...         ...\n",
              "459       3 May 2021  2021-05-03  ...        9.393736  -72.481880\n",
              "460       4 May 2021  2021-05-04  ...       10.803794  -71.189163\n",
              "461       5 May 2021  2021-05-05  ...       18.885717  -63.071149\n",
              "462       6 May 2021  2021-05-06  ...       19.795790  -62.109022\n",
              "463       7 May 2021  2021-05-07  ...       19.355313  -62.507238\n",
              "\n",
              "[435 rows x 11 columns]"
            ]
          },
          "metadata": {
            "tags": []
          },
          "execution_count": 37
        }
      ]
    },
    {
      "cell_type": "code",
      "metadata": {
        "id": "cseopLrrQ5RB"
      },
      "source": [
        "def Delta(CLR,RR):\n",
        "  return CLR-RR"
      ],
      "execution_count": 11,
      "outputs": []
    },
    {
      "cell_type": "code",
      "metadata": {
        "id": "PRsgWcIxRNm3"
      },
      "source": [
        "Del=[]\n",
        "for i in df.index:\n",
        "  Del.append(Delta(df1['Case Load Rate'][i],df1['Recovery Rate'][i]))"
      ],
      "execution_count": 12,
      "outputs": []
    },
    {
      "cell_type": "code",
      "metadata": {
        "id": "hIK0dMI4Wm1v"
      },
      "source": [
        "df1['Delta']=Del"
      ],
      "execution_count": 13,
      "outputs": []
    },
    {
      "cell_type": "code",
      "metadata": {
        "id": "re3UKhh0P4Tu"
      },
      "source": [
        "train_dates=pd.to_datetime(df['Date_YMD'])"
      ],
      "execution_count": 14,
      "outputs": []
    },
    {
      "cell_type": "code",
      "metadata": {
        "id": "a-E43eDEYpcP",
        "colab": {
          "base_uri": "https://localhost:8080/",
          "height": 265
        },
        "outputId": "8ead344f-de2f-44b9-e567-3464a95995f4"
      },
      "source": [
        "# plt.title(\"Red - Recovery Rate Blue - Case Load Rate Black-Delta\")\n",
        "plt.plot(train_dates,CLR,color=\"Blue\", Label='Case Load Rate')\n",
        "plt.plot(train_dates,RR,color=\"red\", Label='Recovery Rate')\n",
        "plt.plot(train_dates,Del,color=\"Black\", Label='Delta')\n",
        "plt.grid()"
      ],
      "execution_count": 15,
      "outputs": [
        {
          "output_type": "display_data",
          "data": {
            "image/png": "[encoded data removed]",
            "text/plain": [
              "<Figure size 432x288 with 1 Axes>"
            ]
          },
          "metadata": {
            "tags": [],
            "needs_background": "light"
          }
        }
      ]
    },
    {
      "cell_type": "code",
      "metadata": {
        "id": "2VyOThkNbXig",
        "colab": {
          "base_uri": "https://localhost:8080/"
        },
        "outputId": "cce5f341-f4a6-43d0-b80c-c46f6d169766"
      },
      "source": [
        "cols=list(df1)[9:10]\n",
        "cols"
      ],
      "execution_count": 16,
      "outputs": [
        {
          "output_type": "execute_result",
          "data": {
            "text/plain": [
              "['Case Load Rate']"
            ]
          },
          "metadata": {
            "tags": []
          },
          "execution_count": 16
        }
      ]
    },
    {
      "cell_type": "code",
      "metadata": {
        "id": "Zl9m08dNbrNi"
      },
      "source": [
        "df1.replace([np.inf, -np.inf], np.nan, inplace=True)\n",
        "df1.dropna(inplace=True)"
      ],
      "execution_count": 17,
      "outputs": []
    },
    {
      "cell_type": "code",
      "metadata": {
        "id": "Y6UvvNZIbuxz"
      },
      "source": [
        "df_for_training=df1[cols].astype(float)"
      ],
      "execution_count": 18,
      "outputs": []
    },
    {
      "cell_type": "code",
      "metadata": {
        "id": "qvth9j6kb5zD"
      },
      "source": [
        "scaler=StandardScaler()\n",
        "scaler=scaler.fit(df_for_training)\n",
        "df_for_training_scaled=scaler.transform(df_for_training)"
      ],
      "execution_count": 19,
      "outputs": []
    },
    {
      "cell_type": "code",
      "metadata": {
        "id": "ACO2QWSNb-ZI"
      },
      "source": [
        "trainX=[]\n",
        "trainY=[]"
      ],
      "execution_count": 20,
      "outputs": []
    },
    {
      "cell_type": "code",
      "metadata": {
        "id": "Wf7GPXZ0cAyZ"
      },
      "source": [
        "n_future=1\n",
        "n_past=14"
      ],
      "execution_count": 21,
      "outputs": []
    },
    {
      "cell_type": "code",
      "metadata": {
        "id": "s3jg1YK3cDxl"
      },
      "source": [
        "for i in range(n_past, len(df_for_training_scaled)-n_future +1):\n",
        "  trainX.append(df_for_training_scaled[i-n_past:i, 0:df_for_training.shape[1]])\n",
        "  trainY.append(df_for_training_scaled[i+n_future-1:i+n_future,0])\n",
        "trainX,trainY=np.array(trainX),np.array(trainY)"
      ],
      "execution_count": 22,
      "outputs": []
    },
    {
      "cell_type": "code",
      "metadata": {
        "id": "iGkjGIb-jhaC",
        "colab": {
          "base_uri": "https://localhost:8080/"
        },
        "outputId": "a2b20a1c-9e2d-4f7e-f307-6ccf5a97d1cb"
      },
      "source": [
        "from tensorflow.keras.optimizers import Adam\n",
        "model=Sequential()\n",
        "model.add(LSTM(64,return_sequences=True,input_shape=(trainX.shape[1], trainX.shape[2])))\n",
        "model.add(LSTM(32,return_sequences=False))\n",
        "model.add(Dense(units=1, activation='linear'))\n",
        "model.compile(optimizer = 'Adam', loss='mean_squared_error', metrics=['mean_squared_error','mean_absolute_error'])\n",
        "model.summary()"
      ],
      "execution_count": 23,
      "outputs": [
        {
          "output_type": "stream",
          "text": [
            "Model: \"sequential\"\n",
            "_________________________________________________________________\n",
            "Layer (type)                 Output Shape              Param #   \n",
            "=================================================================\n",
            "lstm (LSTM)                  (None, 14, 64)            16896     \n",
            "_________________________________________________________________\n",
            "lstm_1 (LSTM)                (None, 32)                12416     \n",
            "_________________________________________________________________\n",
            "dense (Dense)                (None, 1)                 33        \n",
            "=================================================================\n",
            "Total params: 29,345\n",
            "Trainable params: 29,345\n",
            "Non-trainable params: 0\n",
            "_________________________________________________________________\n"
          ],
          "name": "stdout"
        }
      ]
    },
    {
      "cell_type": "code",
      "metadata": {
        "id": "2OngdagTcUGT",
        "colab": {
          "base_uri": "https://localhost:8080/"
        },
        "outputId": "919d60bd-bc74-4b45-98c2-d8c2cb6e1b91"
      },
      "source": [
        "history=model.fit(trainX,trainY,epochs=90,batch_size=1,validation_split=0.2,verbose=1)"
      ],
      "execution_count": 24,
      "outputs": [
        {
          "output_type": "stream",
          "text": [
            "Epoch 1/90\n",
            "336/336 [==============================] - 6s 10ms/step - loss: 0.2938 - mean_squared_error: 0.2938 - mean_absolute_error: 0.3714 - val_loss: 0.2644 - val_mean_squared_error: 0.2644 - val_mean_absolute_error: 0.4109\n",
            "Epoch 2/90\n",
            "336/336 [==============================] - 3s 7ms/step - loss: 0.1898 - mean_squared_error: 0.1898 - mean_absolute_error: 0.3050 - val_loss: 0.2693 - val_mean_squared_error: 0.2693 - val_mean_absolute_error: 0.4110\n",
            "Epoch 3/90\n",
            "336/336 [==============================] - 2s 7ms/step - loss: 0.1642 - mean_squared_error: 0.1642 - mean_absolute_error: 0.2955 - val_loss: 0.2315 - val_mean_squared_error: 0.2315 - val_mean_absolute_error: 0.3841\n",
            "Epoch 4/90\n",
            "336/336 [==============================] - 2s 7ms/step - loss: 0.1917 - mean_squared_error: 0.1917 - mean_absolute_error: 0.3182 - val_loss: 0.1870 - val_mean_squared_error: 0.1870 - val_mean_absolute_error: 0.3422\n",
            "Epoch 5/90\n",
            "336/336 [==============================] - 2s 7ms/step - loss: 0.2427 - mean_squared_error: 0.2427 - mean_absolute_error: 0.3343 - val_loss: 0.1332 - val_mean_squared_error: 0.1332 - val_mean_absolute_error: 0.2940\n",
            "Epoch 6/90\n",
            "336/336 [==============================] - 2s 7ms/step - loss: 0.1683 - mean_squared_error: 0.1683 - mean_absolute_error: 0.2918 - val_loss: 0.1765 - val_mean_squared_error: 0.1765 - val_mean_absolute_error: 0.3341\n",
            "Epoch 7/90\n",
            "336/336 [==============================] - 2s 7ms/step - loss: 0.1297 - mean_squared_error: 0.1297 - mean_absolute_error: 0.2447 - val_loss: 0.1523 - val_mean_squared_error: 0.1523 - val_mean_absolute_error: 0.3140\n",
            "Epoch 8/90\n",
            "336/336 [==============================] - 2s 7ms/step - loss: 0.2168 - mean_squared_error: 0.2168 - mean_absolute_error: 0.3144 - val_loss: 0.1774 - val_mean_squared_error: 0.1774 - val_mean_absolute_error: 0.3401\n",
            "Epoch 9/90\n",
            "336/336 [==============================] - 3s 8ms/step - loss: 0.1621 - mean_squared_error: 0.1621 - mean_absolute_error: 0.2769 - val_loss: 0.1759 - val_mean_squared_error: 0.1759 - val_mean_absolute_error: 0.3476\n",
            "Epoch 10/90\n",
            "336/336 [==============================] - 2s 7ms/step - loss: 0.1677 - mean_squared_error: 0.1677 - mean_absolute_error: 0.2932 - val_loss: 0.1541 - val_mean_squared_error: 0.1541 - val_mean_absolute_error: 0.3138\n",
            "Epoch 11/90\n",
            "336/336 [==============================] - 2s 7ms/step - loss: 0.1665 - mean_squared_error: 0.1665 - mean_absolute_error: 0.2926 - val_loss: 0.1643 - val_mean_squared_error: 0.1643 - val_mean_absolute_error: 0.3191\n",
            "Epoch 12/90\n",
            "336/336 [==============================] - 2s 7ms/step - loss: 0.1942 - mean_squared_error: 0.1942 - mean_absolute_error: 0.2969 - val_loss: 0.1650 - val_mean_squared_error: 0.1650 - val_mean_absolute_error: 0.3201\n",
            "Epoch 13/90\n",
            "336/336 [==============================] - 2s 7ms/step - loss: 0.1887 - mean_squared_error: 0.1887 - mean_absolute_error: 0.3041 - val_loss: 0.1613 - val_mean_squared_error: 0.1613 - val_mean_absolute_error: 0.3160\n",
            "Epoch 14/90\n",
            "336/336 [==============================] - 2s 7ms/step - loss: 0.1742 - mean_squared_error: 0.1742 - mean_absolute_error: 0.2858 - val_loss: 0.1625 - val_mean_squared_error: 0.1625 - val_mean_absolute_error: 0.3138\n",
            "Epoch 15/90\n",
            "336/336 [==============================] - 2s 7ms/step - loss: 0.1389 - mean_squared_error: 0.1389 - mean_absolute_error: 0.2538 - val_loss: 0.1563 - val_mean_squared_error: 0.1563 - val_mean_absolute_error: 0.3051\n",
            "Epoch 16/90\n",
            "336/336 [==============================] - 2s 7ms/step - loss: 0.1419 - mean_squared_error: 0.1419 - mean_absolute_error: 0.2661 - val_loss: 0.1395 - val_mean_squared_error: 0.1395 - val_mean_absolute_error: 0.2897\n",
            "Epoch 17/90\n",
            "336/336 [==============================] - 2s 7ms/step - loss: 0.1433 - mean_squared_error: 0.1433 - mean_absolute_error: 0.2663 - val_loss: 0.1305 - val_mean_squared_error: 0.1305 - val_mean_absolute_error: 0.2890\n",
            "Epoch 18/90\n",
            "336/336 [==============================] - 3s 7ms/step - loss: 0.1857 - mean_squared_error: 0.1857 - mean_absolute_error: 0.3014 - val_loss: 0.1366 - val_mean_squared_error: 0.1366 - val_mean_absolute_error: 0.2870\n",
            "Epoch 19/90\n",
            "336/336 [==============================] - 2s 7ms/step - loss: 0.2064 - mean_squared_error: 0.2064 - mean_absolute_error: 0.2972 - val_loss: 0.1739 - val_mean_squared_error: 0.1739 - val_mean_absolute_error: 0.3158\n",
            "Epoch 20/90\n",
            "336/336 [==============================] - 2s 7ms/step - loss: 0.1302 - mean_squared_error: 0.1302 - mean_absolute_error: 0.2573 - val_loss: 0.1759 - val_mean_squared_error: 0.1759 - val_mean_absolute_error: 0.3162\n",
            "Epoch 21/90\n",
            "336/336 [==============================] - 2s 7ms/step - loss: 0.1499 - mean_squared_error: 0.1499 - mean_absolute_error: 0.2647 - val_loss: 0.1735 - val_mean_squared_error: 0.1735 - val_mean_absolute_error: 0.3180\n",
            "Epoch 22/90\n",
            "336/336 [==============================] - 2s 7ms/step - loss: 0.1433 - mean_squared_error: 0.1433 - mean_absolute_error: 0.2697 - val_loss: 0.1134 - val_mean_squared_error: 0.1134 - val_mean_absolute_error: 0.2576\n",
            "Epoch 23/90\n",
            "336/336 [==============================] - 2s 7ms/step - loss: 0.1421 - mean_squared_error: 0.1421 - mean_absolute_error: 0.2572 - val_loss: 0.1280 - val_mean_squared_error: 0.1280 - val_mean_absolute_error: 0.2686\n",
            "Epoch 24/90\n",
            "336/336 [==============================] - 2s 7ms/step - loss: 0.1946 - mean_squared_error: 0.1946 - mean_absolute_error: 0.2920 - val_loss: 0.1218 - val_mean_squared_error: 0.1218 - val_mean_absolute_error: 0.2614\n",
            "Epoch 25/90\n",
            "336/336 [==============================] - 3s 7ms/step - loss: 0.1408 - mean_squared_error: 0.1408 - mean_absolute_error: 0.2632 - val_loss: 0.1037 - val_mean_squared_error: 0.1037 - val_mean_absolute_error: 0.2416\n",
            "Epoch 26/90\n",
            "336/336 [==============================] - 2s 7ms/step - loss: 0.2053 - mean_squared_error: 0.2053 - mean_absolute_error: 0.2990 - val_loss: 0.1145 - val_mean_squared_error: 0.1145 - val_mean_absolute_error: 0.2526\n",
            "Epoch 27/90\n",
            "336/336 [==============================] - 3s 7ms/step - loss: 0.1240 - mean_squared_error: 0.1240 - mean_absolute_error: 0.2452 - val_loss: 0.1470 - val_mean_squared_error: 0.1470 - val_mean_absolute_error: 0.2792\n",
            "Epoch 28/90\n",
            "336/336 [==============================] - 2s 7ms/step - loss: 0.1833 - mean_squared_error: 0.1833 - mean_absolute_error: 0.2791 - val_loss: 0.0868 - val_mean_squared_error: 0.0868 - val_mean_absolute_error: 0.2251\n",
            "Epoch 29/90\n",
            "336/336 [==============================] - 3s 8ms/step - loss: 0.1901 - mean_squared_error: 0.1901 - mean_absolute_error: 0.2788 - val_loss: 0.1372 - val_mean_squared_error: 0.1372 - val_mean_absolute_error: 0.2758\n",
            "Epoch 30/90\n",
            "336/336 [==============================] - 2s 7ms/step - loss: 0.1849 - mean_squared_error: 0.1849 - mean_absolute_error: 0.2928 - val_loss: 0.1516 - val_mean_squared_error: 0.1516 - val_mean_absolute_error: 0.2991\n",
            "Epoch 31/90\n",
            "336/336 [==============================] - 2s 7ms/step - loss: 0.1800 - mean_squared_error: 0.1800 - mean_absolute_error: 0.3021 - val_loss: 0.1475 - val_mean_squared_error: 0.1475 - val_mean_absolute_error: 0.2978\n",
            "Epoch 32/90\n",
            "336/336 [==============================] - 2s 7ms/step - loss: 0.1876 - mean_squared_error: 0.1876 - mean_absolute_error: 0.2961 - val_loss: 0.1235 - val_mean_squared_error: 0.1235 - val_mean_absolute_error: 0.2518\n",
            "Epoch 33/90\n",
            "336/336 [==============================] - 2s 7ms/step - loss: 0.1731 - mean_squared_error: 0.1731 - mean_absolute_error: 0.2849 - val_loss: 0.1248 - val_mean_squared_error: 0.1248 - val_mean_absolute_error: 0.2534\n",
            "Epoch 34/90\n",
            "336/336 [==============================] - 2s 7ms/step - loss: 0.1317 - mean_squared_error: 0.1317 - mean_absolute_error: 0.2430 - val_loss: 0.1225 - val_mean_squared_error: 0.1225 - val_mean_absolute_error: 0.2609\n",
            "Epoch 35/90\n",
            "336/336 [==============================] - 3s 8ms/step - loss: 0.1047 - mean_squared_error: 0.1047 - mean_absolute_error: 0.2345 - val_loss: 0.1496 - val_mean_squared_error: 0.1496 - val_mean_absolute_error: 0.3247\n",
            "Epoch 36/90\n",
            "336/336 [==============================] - 3s 7ms/step - loss: 0.1421 - mean_squared_error: 0.1421 - mean_absolute_error: 0.2529 - val_loss: 0.0880 - val_mean_squared_error: 0.0880 - val_mean_absolute_error: 0.2245\n",
            "Epoch 37/90\n",
            "336/336 [==============================] - 3s 7ms/step - loss: 0.1153 - mean_squared_error: 0.1153 - mean_absolute_error: 0.2155 - val_loss: 0.1127 - val_mean_squared_error: 0.1127 - val_mean_absolute_error: 0.2443\n",
            "Epoch 38/90\n",
            "336/336 [==============================] - 3s 7ms/step - loss: 0.1405 - mean_squared_error: 0.1405 - mean_absolute_error: 0.2460 - val_loss: 0.1011 - val_mean_squared_error: 0.1011 - val_mean_absolute_error: 0.2404\n",
            "Epoch 39/90\n",
            "336/336 [==============================] - 3s 8ms/step - loss: 0.0948 - mean_squared_error: 0.0948 - mean_absolute_error: 0.2151 - val_loss: 0.1142 - val_mean_squared_error: 0.1142 - val_mean_absolute_error: 0.2493\n",
            "Epoch 40/90\n",
            "336/336 [==============================] - 3s 8ms/step - loss: 0.0940 - mean_squared_error: 0.0940 - mean_absolute_error: 0.2104 - val_loss: 0.1179 - val_mean_squared_error: 0.1179 - val_mean_absolute_error: 0.2619\n",
            "Epoch 41/90\n",
            "336/336 [==============================] - 3s 8ms/step - loss: 0.1151 - mean_squared_error: 0.1151 - mean_absolute_error: 0.2310 - val_loss: 0.0991 - val_mean_squared_error: 0.0991 - val_mean_absolute_error: 0.2471\n",
            "Epoch 42/90\n",
            "336/336 [==============================] - 3s 8ms/step - loss: 0.0758 - mean_squared_error: 0.0758 - mean_absolute_error: 0.1922 - val_loss: 0.0962 - val_mean_squared_error: 0.0962 - val_mean_absolute_error: 0.2302\n",
            "Epoch 43/90\n",
            "336/336 [==============================] - 3s 8ms/step - loss: 0.1473 - mean_squared_error: 0.1473 - mean_absolute_error: 0.2326 - val_loss: 0.1186 - val_mean_squared_error: 0.1186 - val_mean_absolute_error: 0.2454\n",
            "Epoch 44/90\n",
            "336/336 [==============================] - 3s 8ms/step - loss: 0.1053 - mean_squared_error: 0.1053 - mean_absolute_error: 0.2186 - val_loss: 0.0982 - val_mean_squared_error: 0.0982 - val_mean_absolute_error: 0.2404\n",
            "Epoch 45/90\n",
            "336/336 [==============================] - 3s 7ms/step - loss: 0.1048 - mean_squared_error: 0.1048 - mean_absolute_error: 0.2157 - val_loss: 0.0948 - val_mean_squared_error: 0.0948 - val_mean_absolute_error: 0.2278\n",
            "Epoch 46/90\n",
            "336/336 [==============================] - 3s 8ms/step - loss: 0.0849 - mean_squared_error: 0.0849 - mean_absolute_error: 0.2117 - val_loss: 0.1200 - val_mean_squared_error: 0.1200 - val_mean_absolute_error: 0.2797\n",
            "Epoch 47/90\n",
            "336/336 [==============================] - 3s 8ms/step - loss: 0.0823 - mean_squared_error: 0.0823 - mean_absolute_error: 0.2052 - val_loss: 0.1207 - val_mean_squared_error: 0.1207 - val_mean_absolute_error: 0.2718\n",
            "Epoch 48/90\n",
            "336/336 [==============================] - 3s 7ms/step - loss: 0.1214 - mean_squared_error: 0.1214 - mean_absolute_error: 0.2312 - val_loss: 0.0845 - val_mean_squared_error: 0.0845 - val_mean_absolute_error: 0.2343\n",
            "Epoch 49/90\n",
            "336/336 [==============================] - 3s 7ms/step - loss: 0.1555 - mean_squared_error: 0.1555 - mean_absolute_error: 0.2549 - val_loss: 0.1070 - val_mean_squared_error: 0.1070 - val_mean_absolute_error: 0.2360\n",
            "Epoch 50/90\n",
            "336/336 [==============================] - 3s 7ms/step - loss: 0.0835 - mean_squared_error: 0.0835 - mean_absolute_error: 0.1950 - val_loss: 0.1031 - val_mean_squared_error: 0.1031 - val_mean_absolute_error: 0.2315\n",
            "Epoch 51/90\n",
            "336/336 [==============================] - 3s 8ms/step - loss: 0.0738 - mean_squared_error: 0.0738 - mean_absolute_error: 0.1899 - val_loss: 0.0885 - val_mean_squared_error: 0.0885 - val_mean_absolute_error: 0.2230\n",
            "Epoch 52/90\n",
            "336/336 [==============================] - 3s 8ms/step - loss: 0.0755 - mean_squared_error: 0.0755 - mean_absolute_error: 0.1965 - val_loss: 0.1269 - val_mean_squared_error: 0.1269 - val_mean_absolute_error: 0.2856\n",
            "Epoch 53/90\n",
            "336/336 [==============================] - 3s 7ms/step - loss: 0.1019 - mean_squared_error: 0.1019 - mean_absolute_error: 0.2088 - val_loss: 0.1141 - val_mean_squared_error: 0.1141 - val_mean_absolute_error: 0.2414\n",
            "Epoch 54/90\n",
            "336/336 [==============================] - 3s 8ms/step - loss: 0.0626 - mean_squared_error: 0.0626 - mean_absolute_error: 0.1847 - val_loss: 0.1251 - val_mean_squared_error: 0.1251 - val_mean_absolute_error: 0.2693\n",
            "Epoch 55/90\n",
            "336/336 [==============================] - 3s 8ms/step - loss: 0.0759 - mean_squared_error: 0.0759 - mean_absolute_error: 0.1925 - val_loss: 0.1239 - val_mean_squared_error: 0.1239 - val_mean_absolute_error: 0.2774\n",
            "Epoch 56/90\n",
            "336/336 [==============================] - 3s 8ms/step - loss: 0.1231 - mean_squared_error: 0.1231 - mean_absolute_error: 0.2305 - val_loss: 0.1027 - val_mean_squared_error: 0.1027 - val_mean_absolute_error: 0.2293\n",
            "Epoch 57/90\n",
            "336/336 [==============================] - 3s 8ms/step - loss: 0.0697 - mean_squared_error: 0.0697 - mean_absolute_error: 0.1910 - val_loss: 0.1109 - val_mean_squared_error: 0.1109 - val_mean_absolute_error: 0.2375\n",
            "Epoch 58/90\n",
            "336/336 [==============================] - 3s 8ms/step - loss: 0.0923 - mean_squared_error: 0.0923 - mean_absolute_error: 0.2114 - val_loss: 0.1162 - val_mean_squared_error: 0.1162 - val_mean_absolute_error: 0.2509\n",
            "Epoch 59/90\n",
            "336/336 [==============================] - 3s 8ms/step - loss: 0.1036 - mean_squared_error: 0.1036 - mean_absolute_error: 0.2124 - val_loss: 0.1242 - val_mean_squared_error: 0.1242 - val_mean_absolute_error: 0.2643\n",
            "Epoch 60/90\n",
            "336/336 [==============================] - 3s 8ms/step - loss: 0.1040 - mean_squared_error: 0.1040 - mean_absolute_error: 0.2090 - val_loss: 0.1016 - val_mean_squared_error: 0.1016 - val_mean_absolute_error: 0.2392\n",
            "Epoch 61/90\n",
            "336/336 [==============================] - 3s 8ms/step - loss: 0.0998 - mean_squared_error: 0.0998 - mean_absolute_error: 0.1945 - val_loss: 0.1165 - val_mean_squared_error: 0.1165 - val_mean_absolute_error: 0.2362\n",
            "Epoch 62/90\n",
            "336/336 [==============================] - 3s 8ms/step - loss: 0.1103 - mean_squared_error: 0.1103 - mean_absolute_error: 0.2201 - val_loss: 0.1100 - val_mean_squared_error: 0.1100 - val_mean_absolute_error: 0.2437\n",
            "Epoch 63/90\n",
            "336/336 [==============================] - 3s 8ms/step - loss: 0.1233 - mean_squared_error: 0.1233 - mean_absolute_error: 0.2147 - val_loss: 0.1072 - val_mean_squared_error: 0.1072 - val_mean_absolute_error: 0.2373\n",
            "Epoch 64/90\n",
            "336/336 [==============================] - 3s 8ms/step - loss: 0.0529 - mean_squared_error: 0.0529 - mean_absolute_error: 0.1621 - val_loss: 0.1379 - val_mean_squared_error: 0.1379 - val_mean_absolute_error: 0.2648\n",
            "Epoch 65/90\n",
            "336/336 [==============================] - 3s 8ms/step - loss: 0.0650 - mean_squared_error: 0.0650 - mean_absolute_error: 0.1876 - val_loss: 0.1359 - val_mean_squared_error: 0.1359 - val_mean_absolute_error: 0.2763\n",
            "Epoch 66/90\n",
            "336/336 [==============================] - 3s 8ms/step - loss: 0.0907 - mean_squared_error: 0.0907 - mean_absolute_error: 0.2019 - val_loss: 0.1309 - val_mean_squared_error: 0.1309 - val_mean_absolute_error: 0.2556\n",
            "Epoch 67/90\n",
            "336/336 [==============================] - 3s 8ms/step - loss: 0.0846 - mean_squared_error: 0.0846 - mean_absolute_error: 0.2082 - val_loss: 0.1445 - val_mean_squared_error: 0.1445 - val_mean_absolute_error: 0.2614\n",
            "Epoch 68/90\n",
            "336/336 [==============================] - 3s 8ms/step - loss: 0.0730 - mean_squared_error: 0.0730 - mean_absolute_error: 0.1978 - val_loss: 0.1317 - val_mean_squared_error: 0.1317 - val_mean_absolute_error: 0.2748\n",
            "Epoch 69/90\n",
            "336/336 [==============================] - 3s 8ms/step - loss: 0.0811 - mean_squared_error: 0.0811 - mean_absolute_error: 0.1923 - val_loss: 0.1118 - val_mean_squared_error: 0.1118 - val_mean_absolute_error: 0.2332\n",
            "Epoch 70/90\n",
            "336/336 [==============================] - 3s 8ms/step - loss: 0.0581 - mean_squared_error: 0.0581 - mean_absolute_error: 0.1741 - val_loss: 0.1816 - val_mean_squared_error: 0.1816 - val_mean_absolute_error: 0.3186\n",
            "Epoch 71/90\n",
            "336/336 [==============================] - 3s 8ms/step - loss: 0.0597 - mean_squared_error: 0.0597 - mean_absolute_error: 0.1847 - val_loss: 0.1444 - val_mean_squared_error: 0.1444 - val_mean_absolute_error: 0.2638\n",
            "Epoch 72/90\n",
            "336/336 [==============================] - 3s 8ms/step - loss: 0.0541 - mean_squared_error: 0.0541 - mean_absolute_error: 0.1731 - val_loss: 0.1464 - val_mean_squared_error: 0.1464 - val_mean_absolute_error: 0.2837\n",
            "Epoch 73/90\n",
            "336/336 [==============================] - 3s 8ms/step - loss: 0.0539 - mean_squared_error: 0.0539 - mean_absolute_error: 0.1710 - val_loss: 0.1753 - val_mean_squared_error: 0.1753 - val_mean_absolute_error: 0.3016\n",
            "Epoch 74/90\n",
            "336/336 [==============================] - 3s 8ms/step - loss: 0.0724 - mean_squared_error: 0.0724 - mean_absolute_error: 0.1868 - val_loss: 0.1666 - val_mean_squared_error: 0.1666 - val_mean_absolute_error: 0.2781\n",
            "Epoch 75/90\n",
            "336/336 [==============================] - 3s 7ms/step - loss: 0.0725 - mean_squared_error: 0.0725 - mean_absolute_error: 0.1917 - val_loss: 0.1218 - val_mean_squared_error: 0.1218 - val_mean_absolute_error: 0.2475\n",
            "Epoch 76/90\n",
            "336/336 [==============================] - 3s 8ms/step - loss: 0.0512 - mean_squared_error: 0.0512 - mean_absolute_error: 0.1668 - val_loss: 0.1657 - val_mean_squared_error: 0.1657 - val_mean_absolute_error: 0.2999\n",
            "Epoch 77/90\n",
            "336/336 [==============================] - 3s 8ms/step - loss: 0.0632 - mean_squared_error: 0.0632 - mean_absolute_error: 0.1861 - val_loss: 0.1503 - val_mean_squared_error: 0.1503 - val_mean_absolute_error: 0.2671\n",
            "Epoch 78/90\n",
            "336/336 [==============================] - 3s 8ms/step - loss: 0.0492 - mean_squared_error: 0.0492 - mean_absolute_error: 0.1669 - val_loss: 0.1669 - val_mean_squared_error: 0.1669 - val_mean_absolute_error: 0.2901\n",
            "Epoch 79/90\n",
            "336/336 [==============================] - 3s 8ms/step - loss: 0.0526 - mean_squared_error: 0.0526 - mean_absolute_error: 0.1696 - val_loss: 0.1721 - val_mean_squared_error: 0.1721 - val_mean_absolute_error: 0.3048\n",
            "Epoch 80/90\n",
            "336/336 [==============================] - 2s 7ms/step - loss: 0.0493 - mean_squared_error: 0.0493 - mean_absolute_error: 0.1586 - val_loss: 0.1744 - val_mean_squared_error: 0.1744 - val_mean_absolute_error: 0.2918\n",
            "Epoch 81/90\n",
            "336/336 [==============================] - 3s 8ms/step - loss: 0.0489 - mean_squared_error: 0.0489 - mean_absolute_error: 0.1610 - val_loss: 0.1384 - val_mean_squared_error: 0.1384 - val_mean_absolute_error: 0.2819\n",
            "Epoch 82/90\n",
            "336/336 [==============================] - 3s 7ms/step - loss: 0.0515 - mean_squared_error: 0.0515 - mean_absolute_error: 0.1629 - val_loss: 0.1780 - val_mean_squared_error: 0.1780 - val_mean_absolute_error: 0.2928\n",
            "Epoch 83/90\n",
            "336/336 [==============================] - 3s 8ms/step - loss: 0.0509 - mean_squared_error: 0.0509 - mean_absolute_error: 0.1690 - val_loss: 0.1498 - val_mean_squared_error: 0.1498 - val_mean_absolute_error: 0.2973\n",
            "Epoch 84/90\n",
            "336/336 [==============================] - 3s 8ms/step - loss: 0.0564 - mean_squared_error: 0.0564 - mean_absolute_error: 0.1739 - val_loss: 0.2200 - val_mean_squared_error: 0.2200 - val_mean_absolute_error: 0.3202\n",
            "Epoch 85/90\n",
            "336/336 [==============================] - 3s 8ms/step - loss: 0.0477 - mean_squared_error: 0.0477 - mean_absolute_error: 0.1576 - val_loss: 0.1266 - val_mean_squared_error: 0.1266 - val_mean_absolute_error: 0.2558\n",
            "Epoch 86/90\n",
            "336/336 [==============================] - 3s 8ms/step - loss: 0.0863 - mean_squared_error: 0.0863 - mean_absolute_error: 0.2026 - val_loss: 0.1195 - val_mean_squared_error: 0.1195 - val_mean_absolute_error: 0.2442\n",
            "Epoch 87/90\n",
            "336/336 [==============================] - 3s 8ms/step - loss: 0.0714 - mean_squared_error: 0.0714 - mean_absolute_error: 0.1663 - val_loss: 0.1157 - val_mean_squared_error: 0.1157 - val_mean_absolute_error: 0.2354\n",
            "Epoch 88/90\n",
            "336/336 [==============================] - 3s 8ms/step - loss: 0.0447 - mean_squared_error: 0.0447 - mean_absolute_error: 0.1541 - val_loss: 0.1397 - val_mean_squared_error: 0.1397 - val_mean_absolute_error: 0.2609\n",
            "Epoch 89/90\n",
            "336/336 [==============================] - 3s 8ms/step - loss: 0.0424 - mean_squared_error: 0.0424 - mean_absolute_error: 0.1458 - val_loss: 0.1718 - val_mean_squared_error: 0.1718 - val_mean_absolute_error: 0.3033\n",
            "Epoch 90/90\n",
            "336/336 [==============================] - 3s 8ms/step - loss: 0.0581 - mean_squared_error: 0.0581 - mean_absolute_error: 0.1759 - val_loss: 0.1429 - val_mean_squared_error: 0.1429 - val_mean_absolute_error: 0.2789\n"
          ],
          "name": "stdout"
        }
      ]
    },
    {
      "cell_type": "code",
      "metadata": {
        "id": "lqCFogZPME1r",
        "colab": {
          "base_uri": "https://localhost:8080/",
          "height": 282
        },
        "outputId": "6c2def9c-1639-4fe8-e39c-883c2d43bdac"
      },
      "source": [
        "plt.plot(history.history['mean_squared_error'], Label='Mean Squared Error')\n",
        "plt.plot(history.history['mean_absolute_error'], Label='Mean Absolute Error')\n",
        "plt.grid()\n",
        "plt.legend()"
      ],
      "execution_count": 25,
      "outputs": [
        {
          "output_type": "execute_result",
          "data": {
            "text/plain": [
              "<matplotlib.legend.Legend at 0x7fcc1837ff50>"
            ]
          },
          "metadata": {
            "tags": []
          },
          "execution_count": 25
        },
        {
          "output_type": "display_data",
          "data": {
            "image/png": "[encoded data removed]",
            "text/plain": [
              "<Figure size 432x288 with 1 Axes>"
            ]
          },
          "metadata": {
            "tags": [],
            "needs_background": "light"
          }
        }
      ]
    },
    {
      "cell_type": "code",
      "metadata": {
        "id": "lKlzXPcHcXko",
        "colab": {
          "base_uri": "https://localhost:8080/",
          "height": 282
        },
        "outputId": "70f62dbb-f0c2-4117-f9cb-503feca9c008"
      },
      "source": [
        "plt.plot(history.history['loss'], Label='Training Loss')\n",
        "plt.plot(history.history['val_loss'], Label='Validation Loss')\n",
        "plt.grid()\n",
        "plt.legend()"
      ],
      "execution_count": 26,
      "outputs": [
        {
          "output_type": "execute_result",
          "data": {
            "text/plain": [
              "<matplotlib.legend.Legend at 0x7fcc172b23d0>"
            ]
          },
          "metadata": {
            "tags": []
          },
          "execution_count": 26
        },
        {
          "output_type": "display_data",
          "data": {
            "image/png": "[encoded data removed]",
            "text/plain": [
              "<Figure size 432x288 with 1 Axes>"
            ]
          },
          "metadata": {
            "tags": [],
            "needs_background": "light"
          }
        }
      ]
    },
    {
      "cell_type": "code",
      "metadata": {
        "id": "E-VpwZf8cdRY"
      },
      "source": [
        "n_f=60\n",
        "forecast_period_dates = pd.date_range(list(train_dates)[-1], periods=n_f, freq='1d').tolist()\n",
        "forecast = model.predict(trainX[-n_f:])\n",
        "forecast_copies = np.repeat(forecast, df_for_training.shape[1], axis=-1)\n",
        "y_pred_future = scaler.inverse_transform(forecast_copies)[:,0]\n",
        "\n",
        "\n",
        "forecast_dates = []\n",
        "for time_i in forecast_period_dates:\n",
        "    forecast_dates.append(time_i.date())"
      ],
      "execution_count": 27,
      "outputs": []
    },
    {
      "cell_type": "code",
      "metadata": {
        "id": "1QO1WgIu96S2",
        "colab": {
          "base_uri": "https://localhost:8080/"
        },
        "outputId": "87c83121-1e29-4349-8cfc-d2a923365c1d"
      },
      "source": [
        "forecast_dates"
      ],
      "execution_count": 28,
      "outputs": [
        {
          "output_type": "execute_result",
          "data": {
            "text/plain": [
              "[datetime.date(2021, 5, 7),\n",
              " datetime.date(2021, 5, 8),\n",
              " datetime.date(2021, 5, 9),\n",
              " datetime.date(2021, 5, 10),\n",
              " datetime.date(2021, 5, 11),\n",
              " datetime.date(2021, 5, 12),\n",
              " datetime.date(2021, 5, 13),\n",
              " datetime.date(2021, 5, 14),\n",
              " datetime.date(2021, 5, 15),\n",
              " datetime.date(2021, 5, 16),\n",
              " datetime.date(2021, 5, 17),\n",
              " datetime.date(2021, 5, 18),\n",
              " datetime.date(2021, 5, 19),\n",
              " datetime.date(2021, 5, 20),\n",
              " datetime.date(2021, 5, 21),\n",
              " datetime.date(2021, 5, 22),\n",
              " datetime.date(2021, 5, 23),\n",
              " datetime.date(2021, 5, 24),\n",
              " datetime.date(2021, 5, 25),\n",
              " datetime.date(2021, 5, 26),\n",
              " datetime.date(2021, 5, 27),\n",
              " datetime.date(2021, 5, 28),\n",
              " datetime.date(2021, 5, 29),\n",
              " datetime.date(2021, 5, 30),\n",
              " datetime.date(2021, 5, 31),\n",
              " datetime.date(2021, 6, 1),\n",
              " datetime.date(2021, 6, 2),\n",
              " datetime.date(2021, 6, 3),\n",
              " datetime.date(2021, 6, 4),\n",
              " datetime.date(2021, 6, 5),\n",
              " datetime.date(2021, 6, 6),\n",
              " datetime.date(2021, 6, 7),\n",
              " datetime.date(2021, 6, 8),\n",
              " datetime.date(2021, 6, 9),\n",
              " datetime.date(2021, 6, 10),\n",
              " datetime.date(2021, 6, 11),\n",
              " datetime.date(2021, 6, 12),\n",
              " datetime.date(2021, 6, 13),\n",
              " datetime.date(2021, 6, 14),\n",
              " datetime.date(2021, 6, 15),\n",
              " datetime.date(2021, 6, 16),\n",
              " datetime.date(2021, 6, 17),\n",
              " datetime.date(2021, 6, 18),\n",
              " datetime.date(2021, 6, 19),\n",
              " datetime.date(2021, 6, 20),\n",
              " datetime.date(2021, 6, 21),\n",
              " datetime.date(2021, 6, 22),\n",
              " datetime.date(2021, 6, 23),\n",
              " datetime.date(2021, 6, 24),\n",
              " datetime.date(2021, 6, 25),\n",
              " datetime.date(2021, 6, 26),\n",
              " datetime.date(2021, 6, 27),\n",
              " datetime.date(2021, 6, 28),\n",
              " datetime.date(2021, 6, 29),\n",
              " datetime.date(2021, 6, 30),\n",
              " datetime.date(2021, 7, 1),\n",
              " datetime.date(2021, 7, 2),\n",
              " datetime.date(2021, 7, 3),\n",
              " datetime.date(2021, 7, 4),\n",
              " datetime.date(2021, 7, 5)]"
            ]
          },
          "metadata": {
            "tags": []
          },
          "execution_count": 28
        }
      ]
    },
    {
      "cell_type": "code",
      "metadata": {
        "id": "snKv5cYKct29"
      },
      "source": [
        "df_forecast = pd.DataFrame({'Date_YMD':np.array(forecast_dates), 'Case Load Rate':y_pred_future})\n",
        "df_forecast['Date_YMD']=pd.to_datetime(df_forecast['Date_YMD'])"
      ],
      "execution_count": 29,
      "outputs": []
    },
    {
      "cell_type": "code",
      "metadata": {
        "id": "ivlXa_g2Mu7q"
      },
      "source": [
        "df_final=df1.loc[:,['Date_YMD','Case Load Rate']]"
      ],
      "execution_count": 30,
      "outputs": []
    },
    {
      "cell_type": "code",
      "metadata": {
        "colab": {
          "base_uri": "https://localhost:8080/",
          "height": 419
        },
        "id": "5h2qYdLwM1qg",
        "outputId": "293bbb23-2c23-4498-c4b7-b39d086772d0"
      },
      "source": [
        "df_final"
      ],
      "execution_count": 31,
      "outputs": [
        {
          "output_type": "execute_result",
          "data": {
            "text/html": [
              "<div>\n",
              "<style scoped>\n",
              "    .dataframe tbody tr th:only-of-type {\n",
              "        vertical-align: middle;\n",
              "    }\n",
              "\n",
              "    .dataframe tbody tr th {\n",
              "        vertical-align: top;\n",
              "    }\n",
              "\n",
              "    .dataframe thead th {\n",
              "        text-align: right;\n",
              "    }\n",
              "</style>\n",
              "<table border=\"1\" class=\"dataframe\">\n",
              "  <thead>\n",
              "    <tr style=\"text-align: right;\">\n",
              "      <th></th>\n",
              "      <th>Date_YMD</th>\n",
              "      <th>Case Load Rate</th>\n",
              "    </tr>\n",
              "  </thead>\n",
              "  <tbody>\n",
              "    <tr>\n",
              "      <th>0</th>\n",
              "      <td>2020-01-30</td>\n",
              "      <td>100.000000</td>\n",
              "    </tr>\n",
              "    <tr>\n",
              "      <th>3</th>\n",
              "      <td>2020-02-02</td>\n",
              "      <td>100.000000</td>\n",
              "    </tr>\n",
              "    <tr>\n",
              "      <th>4</th>\n",
              "      <td>2020-02-03</td>\n",
              "      <td>100.000000</td>\n",
              "    </tr>\n",
              "    <tr>\n",
              "      <th>32</th>\n",
              "      <td>2020-03-02</td>\n",
              "      <td>100.000000</td>\n",
              "    </tr>\n",
              "    <tr>\n",
              "      <th>33</th>\n",
              "      <td>2020-03-03</td>\n",
              "      <td>100.000000</td>\n",
              "    </tr>\n",
              "    <tr>\n",
              "      <th>...</th>\n",
              "      <td>...</td>\n",
              "      <td>...</td>\n",
              "    </tr>\n",
              "    <tr>\n",
              "      <th>459</th>\n",
              "      <td>2021-05-03</td>\n",
              "      <td>9.393736</td>\n",
              "    </tr>\n",
              "    <tr>\n",
              "      <th>460</th>\n",
              "      <td>2021-05-04</td>\n",
              "      <td>10.803794</td>\n",
              "    </tr>\n",
              "    <tr>\n",
              "      <th>461</th>\n",
              "      <td>2021-05-05</td>\n",
              "      <td>18.885717</td>\n",
              "    </tr>\n",
              "    <tr>\n",
              "      <th>462</th>\n",
              "      <td>2021-05-06</td>\n",
              "      <td>19.795790</td>\n",
              "    </tr>\n",
              "    <tr>\n",
              "      <th>463</th>\n",
              "      <td>2021-05-07</td>\n",
              "      <td>19.355313</td>\n",
              "    </tr>\n",
              "  </tbody>\n",
              "</table>\n",
              "<p>435 rows × 2 columns</p>\n",
              "</div>"
            ],
            "text/plain": [
              "       Date_YMD  Case Load Rate\n",
              "0    2020-01-30      100.000000\n",
              "3    2020-02-02      100.000000\n",
              "4    2020-02-03      100.000000\n",
              "32   2020-03-02      100.000000\n",
              "33   2020-03-03      100.000000\n",
              "..          ...             ...\n",
              "459  2021-05-03        9.393736\n",
              "460  2021-05-04       10.803794\n",
              "461  2021-05-05       18.885717\n",
              "462  2021-05-06       19.795790\n",
              "463  2021-05-07       19.355313\n",
              "\n",
              "[435 rows x 2 columns]"
            ]
          },
          "metadata": {
            "tags": []
          },
          "execution_count": 31
        }
      ]
    },
    {
      "cell_type": "code",
      "metadata": {
        "id": "K5x1p9QJM7xD"
      },
      "source": [
        "res=pd.concat([df_final,df_forecast])"
      ],
      "execution_count": 32,
      "outputs": []
    },
    {
      "cell_type": "code",
      "metadata": {
        "id": "8Vb56CXoNBeb"
      },
      "source": [
        "res.to_json('forecast.json', orient = 'records')"
      ],
      "execution_count": 33,
      "outputs": []
    },
    {
      "cell_type": "code",
      "metadata": {
        "colab": {
          "base_uri": "https://localhost:8080/",
          "height": 419
        },
        "id": "XBRAqBN6NH3q",
        "outputId": "936395bb-46a0-49ec-e445-921bc99234f0"
      },
      "source": [
        "res"
      ],
      "execution_count": 34,
      "outputs": [
        {
          "output_type": "execute_result",
          "data": {
            "text/html": [
              "<div>\n",
              "<style scoped>\n",
              "    .dataframe tbody tr th:only-of-type {\n",
              "        vertical-align: middle;\n",
              "    }\n",
              "\n",
              "    .dataframe tbody tr th {\n",
              "        vertical-align: top;\n",
              "    }\n",
              "\n",
              "    .dataframe thead th {\n",
              "        text-align: right;\n",
              "    }\n",
              "</style>\n",
              "<table border=\"1\" class=\"dataframe\">\n",
              "  <thead>\n",
              "    <tr style=\"text-align: right;\">\n",
              "      <th></th>\n",
              "      <th>Date_YMD</th>\n",
              "      <th>Case Load Rate</th>\n",
              "    </tr>\n",
              "  </thead>\n",
              "  <tbody>\n",
              "    <tr>\n",
              "      <th>0</th>\n",
              "      <td>2020-01-30</td>\n",
              "      <td>100.000000</td>\n",
              "    </tr>\n",
              "    <tr>\n",
              "      <th>3</th>\n",
              "      <td>2020-02-02</td>\n",
              "      <td>100.000000</td>\n",
              "    </tr>\n",
              "    <tr>\n",
              "      <th>4</th>\n",
              "      <td>2020-02-03</td>\n",
              "      <td>100.000000</td>\n",
              "    </tr>\n",
              "    <tr>\n",
              "      <th>32</th>\n",
              "      <td>2020-03-02</td>\n",
              "      <td>100.000000</td>\n",
              "    </tr>\n",
              "    <tr>\n",
              "      <th>33</th>\n",
              "      <td>2020-03-03</td>\n",
              "      <td>100.000000</td>\n",
              "    </tr>\n",
              "    <tr>\n",
              "      <th>...</th>\n",
              "      <td>...</td>\n",
              "      <td>...</td>\n",
              "    </tr>\n",
              "    <tr>\n",
              "      <th>55</th>\n",
              "      <td>2021-07-01 00:00:00</td>\n",
              "      <td>15.346574</td>\n",
              "    </tr>\n",
              "    <tr>\n",
              "      <th>56</th>\n",
              "      <td>2021-07-02 00:00:00</td>\n",
              "      <td>12.970994</td>\n",
              "    </tr>\n",
              "    <tr>\n",
              "      <th>57</th>\n",
              "      <td>2021-07-03 00:00:00</td>\n",
              "      <td>10.587599</td>\n",
              "    </tr>\n",
              "    <tr>\n",
              "      <th>58</th>\n",
              "      <td>2021-07-04 00:00:00</td>\n",
              "      <td>11.305656</td>\n",
              "    </tr>\n",
              "    <tr>\n",
              "      <th>59</th>\n",
              "      <td>2021-07-05 00:00:00</td>\n",
              "      <td>12.148525</td>\n",
              "    </tr>\n",
              "  </tbody>\n",
              "</table>\n",
              "<p>495 rows × 2 columns</p>\n",
              "</div>"
            ],
            "text/plain": [
              "               Date_YMD  Case Load Rate\n",
              "0            2020-01-30      100.000000\n",
              "3            2020-02-02      100.000000\n",
              "4            2020-02-03      100.000000\n",
              "32           2020-03-02      100.000000\n",
              "33           2020-03-03      100.000000\n",
              "..                  ...             ...\n",
              "55  2021-07-01 00:00:00       15.346574\n",
              "56  2021-07-02 00:00:00       12.970994\n",
              "57  2021-07-03 00:00:00       10.587599\n",
              "58  2021-07-04 00:00:00       11.305656\n",
              "59  2021-07-05 00:00:00       12.148525\n",
              "\n",
              "[495 rows x 2 columns]"
            ]
          },
          "metadata": {
            "tags": []
          },
          "execution_count": 34
        }
      ]
    },
    {
      "cell_type": "code",
      "metadata": {
        "id": "xmz5vUJfcyO5",
        "colab": {
          "base_uri": "https://localhost:8080/"
        },
        "outputId": "6b201900-a7f9-43f4-a5b0-4bd6629d6bd8"
      },
      "source": [
        "original=df1[['Date_YMD','Case Load Rate']]\n",
        "original['Date_YMD']=pd.to_datetime(original['Date_YMD'])\n",
        "original = original.loc[original['Date_YMD'] >= '2020-01-30']"
      ],
      "execution_count": 35,
      "outputs": [
        {
          "output_type": "stream",
          "text": [
            "/usr/local/lib/python3.7/dist-packages/ipykernel_launcher.py:2: SettingWithCopyWarning: \n",
            "A value is trying to be set on a copy of a slice from a DataFrame.\n",
            "Try using .loc[row_indexer,col_indexer] = value instead\n",
            "\n",
            "See the caveats in the documentation: https://pandas.pydata.org/pandas-docs/stable/user_guide/indexing.html#returning-a-view-versus-a-copy\n",
            "  \n"
          ],
          "name": "stderr"
        }
      ]
    },
    {
      "cell_type": "code",
      "metadata": {
        "id": "ViyGwWqUc1pT",
        "colab": {
          "base_uri": "https://localhost:8080/",
          "height": 385
        },
        "outputId": "6a44c153-6785-44f8-894f-ee6535917ff8"
      },
      "source": [
        "sns.lineplot(original['Date_YMD'], original['Case Load Rate'])\n",
        "sns.lineplot(df_forecast['Date_YMD'], df_forecast['Case Load Rate'])"
      ],
      "execution_count": 36,
      "outputs": [
        {
          "output_type": "stream",
          "text": [
            "/usr/local/lib/python3.7/dist-packages/seaborn/_decorators.py:43: FutureWarning: Pass the following variables as keyword args: x, y. From version 0.12, the only valid positional argument will be `data`, and passing other arguments without an explicit keyword will result in an error or misinterpretation.\n",
            "  FutureWarning\n",
            "/usr/local/lib/python3.7/dist-packages/seaborn/_decorators.py:43: FutureWarning: Pass the following variables as keyword args: x, y. From version 0.12, the only valid positional argument will be `data`, and passing other arguments without an explicit keyword will result in an error or misinterpretation.\n",
            "  FutureWarning\n"
          ],
          "name": "stderr"
        },
        {
          "output_type": "execute_result",
          "data": {
            "text/plain": [
              "<matplotlib.axes._subplots.AxesSubplot at 0x7fcc1703b510>"
            ]
          },
          "metadata": {
            "tags": []
          },
          "execution_count": 36
        },
        {
          "output_type": "display_data",
          "data": {
            "image/png": "[encoded data removed]",
            "text/plain": [
              "<Figure size 432x288 with 1 Axes>"
            ]
          },
          "metadata": {
            "tags": [],
            "needs_background": "light"
          }
        }
      ]
    }
  ]
}