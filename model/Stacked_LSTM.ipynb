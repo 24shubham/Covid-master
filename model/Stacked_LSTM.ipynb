{
  "nbformat": 4,
  "nbformat_minor": 0,
  "metadata": {
    "colab": {
      "name": "Stacked LSTM.ipynb",
      "provenance": []
    },
    "kernelspec": {
      "name": "python3",
      "display_name": "Python 3"
    },
    "language_info": {
      "name": "python"
    }
  },
  "cells": [
    {
      "cell_type": "code",
      "metadata": {
        "id": "7rNiKHBwj5w4"
      },
      "source": [
        ""
      ],
      "execution_count": null,
      "outputs": []
    },
    {
      "cell_type": "code",
      "metadata": {
        "id": "C8aNAFNYiNJV"
      },
      "source": [
        "import numpy as  np\n",
        "from keras.models import Sequential\n",
        "from keras.layers import LSTM, Dense, Dropout, Activation\n",
        "import pandas as pd\n",
        "from matplotlib import pyplot as plt\n",
        "from sklearn.preprocessing import StandardScaler\n",
        "import seaborn as sns"
      ],
      "execution_count": 1,
      "outputs": []
    },
    {
      "cell_type": "code",
      "metadata": {
        "colab": {
          "base_uri": "https://localhost:8080/",
          "height": 419
        },
        "id": "z-HjgltniWCX",
        "outputId": "a6d62553-2d81-4d01-c704-2e1f61dcda8d"
      },
      "source": [
        "df=pd.read_csv('https://api.covid19india.org/csv/latest/case_time_series.csv')\n",
        "df"
      ],
      "execution_count": 2,
      "outputs": [
        {
          "output_type": "execute_result",
          "data": {
            "text/html": [
              "<div>\n",
              "<style scoped>\n",
              "    .dataframe tbody tr th:only-of-type {\n",
              "        vertical-align: middle;\n",
              "    }\n",
              "\n",
              "    .dataframe tbody tr th {\n",
              "        vertical-align: top;\n",
              "    }\n",
              "\n",
              "    .dataframe thead th {\n",
              "        text-align: right;\n",
              "    }\n",
              "</style>\n",
              "<table border=\"1\" class=\"dataframe\">\n",
              "  <thead>\n",
              "    <tr style=\"text-align: right;\">\n",
              "      <th></th>\n",
              "      <th>Date</th>\n",
              "      <th>Date_YMD</th>\n",
              "      <th>Daily Confirmed</th>\n",
              "      <th>Total Confirmed</th>\n",
              "      <th>Daily Recovered</th>\n",
              "      <th>Total Recovered</th>\n",
              "      <th>Daily Deceased</th>\n",
              "      <th>Total Deceased</th>\n",
              "    </tr>\n",
              "  </thead>\n",
              "  <tbody>\n",
              "    <tr>\n",
              "      <th>0</th>\n",
              "      <td>30 January 2020</td>\n",
              "      <td>2020-01-30</td>\n",
              "      <td>1</td>\n",
              "      <td>1</td>\n",
              "      <td>0</td>\n",
              "      <td>0</td>\n",
              "      <td>0</td>\n",
              "      <td>0</td>\n",
              "    </tr>\n",
              "    <tr>\n",
              "      <th>1</th>\n",
              "      <td>31 January 2020</td>\n",
              "      <td>2020-01-31</td>\n",
              "      <td>0</td>\n",
              "      <td>1</td>\n",
              "      <td>0</td>\n",
              "      <td>0</td>\n",
              "      <td>0</td>\n",
              "      <td>0</td>\n",
              "    </tr>\n",
              "    <tr>\n",
              "      <th>2</th>\n",
              "      <td>1 February 2020</td>\n",
              "      <td>2020-02-01</td>\n",
              "      <td>0</td>\n",
              "      <td>1</td>\n",
              "      <td>0</td>\n",
              "      <td>0</td>\n",
              "      <td>0</td>\n",
              "      <td>0</td>\n",
              "    </tr>\n",
              "    <tr>\n",
              "      <th>3</th>\n",
              "      <td>2 February 2020</td>\n",
              "      <td>2020-02-02</td>\n",
              "      <td>1</td>\n",
              "      <td>2</td>\n",
              "      <td>0</td>\n",
              "      <td>0</td>\n",
              "      <td>0</td>\n",
              "      <td>0</td>\n",
              "    </tr>\n",
              "    <tr>\n",
              "      <th>4</th>\n",
              "      <td>3 February 2020</td>\n",
              "      <td>2020-02-03</td>\n",
              "      <td>1</td>\n",
              "      <td>3</td>\n",
              "      <td>0</td>\n",
              "      <td>0</td>\n",
              "      <td>0</td>\n",
              "      <td>0</td>\n",
              "    </tr>\n",
              "    <tr>\n",
              "      <th>...</th>\n",
              "      <td>...</td>\n",
              "      <td>...</td>\n",
              "      <td>...</td>\n",
              "      <td>...</td>\n",
              "      <td>...</td>\n",
              "      <td>...</td>\n",
              "      <td>...</td>\n",
              "      <td>...</td>\n",
              "    </tr>\n",
              "    <tr>\n",
              "      <th>458</th>\n",
              "      <td>2 May 2021</td>\n",
              "      <td>2021-05-02</td>\n",
              "      <td>370090</td>\n",
              "      <td>19919645</td>\n",
              "      <td>300004</td>\n",
              "      <td>16281710</td>\n",
              "      <td>3423</td>\n",
              "      <td>218356</td>\n",
              "    </tr>\n",
              "    <tr>\n",
              "      <th>459</th>\n",
              "      <td>3 May 2021</td>\n",
              "      <td>2021-05-03</td>\n",
              "      <td>355769</td>\n",
              "      <td>20275414</td>\n",
              "      <td>318910</td>\n",
              "      <td>16600620</td>\n",
              "      <td>3439</td>\n",
              "      <td>221795</td>\n",
              "    </tr>\n",
              "    <tr>\n",
              "      <th>460</th>\n",
              "      <td>4 May 2021</td>\n",
              "      <td>2021-05-04</td>\n",
              "      <td>382847</td>\n",
              "      <td>20658261</td>\n",
              "      <td>337699</td>\n",
              "      <td>16938319</td>\n",
              "      <td>3786</td>\n",
              "      <td>225581</td>\n",
              "    </tr>\n",
              "    <tr>\n",
              "      <th>461</th>\n",
              "      <td>5 May 2021</td>\n",
              "      <td>2021-05-05</td>\n",
              "      <td>412624</td>\n",
              "      <td>21070885</td>\n",
              "      <td>330718</td>\n",
              "      <td>17269037</td>\n",
              "      <td>3979</td>\n",
              "      <td>229560</td>\n",
              "    </tr>\n",
              "    <tr>\n",
              "      <th>462</th>\n",
              "      <td>6 May 2021</td>\n",
              "      <td>2021-05-06</td>\n",
              "      <td>414280</td>\n",
              "      <td>21485165</td>\n",
              "      <td>328301</td>\n",
              "      <td>17597338</td>\n",
              "      <td>3923</td>\n",
              "      <td>233483</td>\n",
              "    </tr>\n",
              "  </tbody>\n",
              "</table>\n",
              "<p>463 rows × 8 columns</p>\n",
              "</div>"
            ],
            "text/plain": [
              "                Date    Date_YMD  ...  Daily Deceased  Total Deceased\n",
              "0    30 January 2020  2020-01-30  ...               0               0\n",
              "1    31 January 2020  2020-01-31  ...               0               0\n",
              "2    1 February 2020  2020-02-01  ...               0               0\n",
              "3    2 February 2020  2020-02-02  ...               0               0\n",
              "4    3 February 2020  2020-02-03  ...               0               0\n",
              "..               ...         ...  ...             ...             ...\n",
              "458       2 May 2021  2021-05-02  ...            3423          218356\n",
              "459       3 May 2021  2021-05-03  ...            3439          221795\n",
              "460       4 May 2021  2021-05-04  ...            3786          225581\n",
              "461       5 May 2021  2021-05-05  ...            3979          229560\n",
              "462       6 May 2021  2021-05-06  ...            3923          233483\n",
              "\n",
              "[463 rows x 8 columns]"
            ]
          },
          "metadata": {
            "tags": []
          },
          "execution_count": 2
        }
      ]
    },
    {
      "cell_type": "code",
      "metadata": {
        "id": "ReIV1flWiYbo"
      },
      "source": [
        "df1=df"
      ],
      "execution_count": 3,
      "outputs": []
    },
    {
      "cell_type": "code",
      "metadata": {
        "id": "VXCSQpGKP__q"
      },
      "source": [
        "def Recovery_Rate(RC,CC):\n",
        "  return (RC/CC)*100"
      ],
      "execution_count": 4,
      "outputs": []
    },
    {
      "cell_type": "code",
      "metadata": {
        "id": "iYFkE3rSRvzB"
      },
      "source": [
        "RR=[]\n",
        "for i in df.index:\n",
        "  RR.append(Recovery_Rate(df['Total Recovered'][i], df['Total Confirmed'][i]))"
      ],
      "execution_count": 5,
      "outputs": []
    },
    {
      "cell_type": "code",
      "metadata": {
        "id": "xqQx-95aR3nO"
      },
      "source": [
        "df1['Recovery Rate']=RR"
      ],
      "execution_count": 6,
      "outputs": []
    },
    {
      "cell_type": "code",
      "metadata": {
        "id": "Herun-2pQWYL"
      },
      "source": [
        "def Case_Load_Rate(CC,RC,D):\n",
        "  CaseLoad=CC-RC-D\n",
        "  return (CaseLoad/CC)*100\n",
        "  # return CaseLoad"
      ],
      "execution_count": 7,
      "outputs": []
    },
    {
      "cell_type": "code",
      "metadata": {
        "colab": {
          "base_uri": "https://localhost:8080/"
        },
        "id": "mNfl31NcTgbO",
        "outputId": "28777abc-ca7c-4fc6-afea-a92745b32823"
      },
      "source": [
        "CLR=[]\n",
        "for i in df.index:\n",
        "  CLR.append(Case_Load_Rate(df['Daily Confirmed'][i],df['Daily Recovered'][i],  df['Daily Deceased'][i]))"
      ],
      "execution_count": 8,
      "outputs": [
        {
          "output_type": "stream",
          "text": [
            "/usr/local/lib/python3.7/dist-packages/ipykernel_launcher.py:3: RuntimeWarning: invalid value encountered in long_scalars\n",
            "  This is separate from the ipykernel package so we can avoid doing imports until\n",
            "/usr/local/lib/python3.7/dist-packages/ipykernel_launcher.py:3: RuntimeWarning: divide by zero encountered in long_scalars\n",
            "  This is separate from the ipykernel package so we can avoid doing imports until\n"
          ],
          "name": "stderr"
        }
      ]
    },
    {
      "cell_type": "code",
      "metadata": {
        "id": "rPVDxFeWT6Xt"
      },
      "source": [
        "df1['Case Load Rate']=CLR"
      ],
      "execution_count": 9,
      "outputs": []
    },
    {
      "cell_type": "code",
      "metadata": {
        "id": "cseopLrrQ5RB"
      },
      "source": [
        "def Delta(CLR,RR):\n",
        "  return CLR-RR"
      ],
      "execution_count": 10,
      "outputs": []
    },
    {
      "cell_type": "code",
      "metadata": {
        "id": "PRsgWcIxRNm3"
      },
      "source": [
        "Del=[]\n",
        "for i in df.index:\n",
        "  Del.append(Delta(df1['Case Load Rate'][i],df1['Recovery Rate'][i]))"
      ],
      "execution_count": 11,
      "outputs": []
    },
    {
      "cell_type": "code",
      "metadata": {
        "id": "hIK0dMI4Wm1v"
      },
      "source": [
        "df1['Delta']=Del"
      ],
      "execution_count": 12,
      "outputs": []
    },
    {
      "cell_type": "code",
      "metadata": {
        "id": "re3UKhh0P4Tu"
      },
      "source": [
        "train_dates=pd.to_datetime(df['Date_YMD'])"
      ],
      "execution_count": 13,
      "outputs": []
    },
    {
      "cell_type": "code",
      "metadata": {
        "colab": {
          "base_uri": "https://localhost:8080/",
          "height": 265
        },
        "id": "a-E43eDEYpcP",
        "outputId": "3e188eec-9abe-4771-b3f4-e744879f8e39"
      },
      "source": [
        "# plt.title(\"Red - Recovery Rate Blue - Case Load Rate Black-Delta\")\n",
        "plt.plot(train_dates,CLR,color=\"Blue\", Label='Case Load Rate')\n",
        "plt.plot(train_dates,RR,color=\"red\", Label='Recovery Rate')\n",
        "plt.plot(train_dates,Del,color=\"Black\", Label='Delta')\n",
        "plt.grid()"
      ],
      "execution_count": 14,
      "outputs": [
        {
          "output_type": "display_data",
          "data": {
            "image/png": "[encoded data removed]",
            "text/plain": [
              "<Figure size 432x288 with 1 Axes>"
            ]
          },
          "metadata": {
            "tags": [],
            "needs_background": "light"
          }
        }
      ]
    },
    {
      "cell_type": "code",
      "metadata": {
        "colab": {
          "base_uri": "https://localhost:8080/"
        },
        "id": "2VyOThkNbXig",
        "outputId": "068021c3-f387-42e5-a058-bacf86931f0e"
      },
      "source": [
        "cols=list(df1)[9:10]\n",
        "cols"
      ],
      "execution_count": 15,
      "outputs": [
        {
          "output_type": "execute_result",
          "data": {
            "text/plain": [
              "['Case Load Rate']"
            ]
          },
          "metadata": {
            "tags": []
          },
          "execution_count": 15
        }
      ]
    },
    {
      "cell_type": "code",
      "metadata": {
        "id": "Zl9m08dNbrNi"
      },
      "source": [
        "df1.replace([np.inf, -np.inf], np.nan, inplace=True)\n",
        "df1.dropna(inplace=True)"
      ],
      "execution_count": 16,
      "outputs": []
    },
    {
      "cell_type": "code",
      "metadata": {
        "id": "Y6UvvNZIbuxz"
      },
      "source": [
        "df_for_training=df1[cols].astype(float)"
      ],
      "execution_count": 17,
      "outputs": []
    },
    {
      "cell_type": "code",
      "metadata": {
        "id": "qvth9j6kb5zD"
      },
      "source": [
        "scaler=StandardScaler()\n",
        "scaler=scaler.fit(df_for_training)\n",
        "df_for_training_scaled=scaler.transform(df_for_training)"
      ],
      "execution_count": 18,
      "outputs": []
    },
    {
      "cell_type": "code",
      "metadata": {
        "id": "ACO2QWSNb-ZI"
      },
      "source": [
        "trainX=[]\n",
        "trainY=[]"
      ],
      "execution_count": 19,
      "outputs": []
    },
    {
      "cell_type": "code",
      "metadata": {
        "id": "Wf7GPXZ0cAyZ"
      },
      "source": [
        "n_future=1\n",
        "n_past=14"
      ],
      "execution_count": 20,
      "outputs": []
    },
    {
      "cell_type": "code",
      "metadata": {
        "id": "s3jg1YK3cDxl"
      },
      "source": [
        "for i in range(n_past, len(df_for_training_scaled)-n_future +1):\n",
        "  trainX.append(df_for_training_scaled[i-n_past:i, 0:df_for_training.shape[1]])\n",
        "  trainY.append(df_for_training_scaled[i+n_future-1:i+n_future,0])\n",
        "trainX,trainY=np.array(trainX),np.array(trainY)"
      ],
      "execution_count": 21,
      "outputs": []
    },
    {
      "cell_type": "code",
      "metadata": {
        "id": "iGkjGIb-jhaC"
      },
      "source": [
        "model = Sequential()\n",
        "model.add(LSTM(50, activation='relu', return_sequences=True, input_shape=(trainX.shape[1], trainX.shape[2])))\n",
        "model.add(LSTM(50, activation='relu'))\n",
        "model.add(Dense(1))\n",
        "model.compile(optimizer='adam', loss='mse',metrics=['mean_squared_error','mean_absolute_error'])"
      ],
      "execution_count": 22,
      "outputs": []
    },
    {
      "cell_type": "code",
      "metadata": {
        "id": "kq-EXE3zjjOT"
      },
      "source": [
        ""
      ],
      "execution_count": 22,
      "outputs": []
    },
    {
      "cell_type": "code",
      "metadata": {
        "colab": {
          "base_uri": "https://localhost:8080/"
        },
        "id": "2OngdagTcUGT",
        "outputId": "59a2820f-2484-42c2-e9d4-fe619701b6e2"
      },
      "source": [
        "history=model.fit(trainX,trainY,epochs=90,batch_size=1,validation_split=0.2,verbose=1)"
      ],
      "execution_count": 23,
      "outputs": [
        {
          "output_type": "stream",
          "text": [
            "Epoch 1/90\n",
            "336/336 [==============================] - 5s 10ms/step - loss: 0.4301 - mean_squared_error: 0.4301 - mean_absolute_error: 0.4559 - val_loss: 0.2856 - val_mean_squared_error: 0.2856 - val_mean_absolute_error: 0.4565\n",
            "Epoch 2/90\n",
            "336/336 [==============================] - 2s 7ms/step - loss: 0.2354 - mean_squared_error: 0.2354 - mean_absolute_error: 0.3566 - val_loss: 0.1367 - val_mean_squared_error: 0.1367 - val_mean_absolute_error: 0.2889\n",
            "Epoch 3/90\n",
            "336/336 [==============================] - 2s 7ms/step - loss: 0.2710 - mean_squared_error: 0.2710 - mean_absolute_error: 0.3455 - val_loss: 0.2080 - val_mean_squared_error: 0.2080 - val_mean_absolute_error: 0.3923\n",
            "Epoch 4/90\n",
            "336/336 [==============================] - 2s 7ms/step - loss: 0.2311 - mean_squared_error: 0.2311 - mean_absolute_error: 0.3372 - val_loss: 0.2010 - val_mean_squared_error: 0.2010 - val_mean_absolute_error: 0.3585\n",
            "Epoch 5/90\n",
            "336/336 [==============================] - 2s 7ms/step - loss: 0.1590 - mean_squared_error: 0.1590 - mean_absolute_error: 0.2718 - val_loss: 0.1784 - val_mean_squared_error: 0.1784 - val_mean_absolute_error: 0.3409\n",
            "Epoch 6/90\n",
            "336/336 [==============================] - 2s 7ms/step - loss: 0.2620 - mean_squared_error: 0.2620 - mean_absolute_error: 0.3500 - val_loss: 0.1388 - val_mean_squared_error: 0.1388 - val_mean_absolute_error: 0.3037\n",
            "Epoch 7/90\n",
            "336/336 [==============================] - 2s 7ms/step - loss: 0.1707 - mean_squared_error: 0.1707 - mean_absolute_error: 0.2839 - val_loss: 0.1384 - val_mean_squared_error: 0.1384 - val_mean_absolute_error: 0.3031\n",
            "Epoch 8/90\n",
            "336/336 [==============================] - 2s 7ms/step - loss: 0.1794 - mean_squared_error: 0.1794 - mean_absolute_error: 0.2931 - val_loss: 0.1499 - val_mean_squared_error: 0.1499 - val_mean_absolute_error: 0.3139\n",
            "Epoch 9/90\n",
            "336/336 [==============================] - 2s 7ms/step - loss: 0.1758 - mean_squared_error: 0.1758 - mean_absolute_error: 0.2751 - val_loss: 0.1108 - val_mean_squared_error: 0.1108 - val_mean_absolute_error: 0.2653\n",
            "Epoch 10/90\n",
            "336/336 [==============================] - 2s 7ms/step - loss: 0.2280 - mean_squared_error: 0.2280 - mean_absolute_error: 0.3263 - val_loss: 0.1216 - val_mean_squared_error: 0.1216 - val_mean_absolute_error: 0.2821\n",
            "Epoch 11/90\n",
            "336/336 [==============================] - 2s 7ms/step - loss: 0.1411 - mean_squared_error: 0.1411 - mean_absolute_error: 0.2725 - val_loss: 0.1816 - val_mean_squared_error: 0.1816 - val_mean_absolute_error: 0.3337\n",
            "Epoch 12/90\n",
            "336/336 [==============================] - 2s 7ms/step - loss: 0.1566 - mean_squared_error: 0.1566 - mean_absolute_error: 0.2890 - val_loss: 0.1034 - val_mean_squared_error: 0.1034 - val_mean_absolute_error: 0.2552\n",
            "Epoch 13/90\n",
            "336/336 [==============================] - 2s 7ms/step - loss: 0.1597 - mean_squared_error: 0.1597 - mean_absolute_error: 0.2756 - val_loss: 0.1102 - val_mean_squared_error: 0.1102 - val_mean_absolute_error: 0.2641\n",
            "Epoch 14/90\n",
            "336/336 [==============================] - 2s 7ms/step - loss: 0.1286 - mean_squared_error: 0.1286 - mean_absolute_error: 0.2537 - val_loss: 0.1071 - val_mean_squared_error: 0.1071 - val_mean_absolute_error: 0.2526\n",
            "Epoch 15/90\n",
            "336/336 [==============================] - 2s 7ms/step - loss: 0.1165 - mean_squared_error: 0.1165 - mean_absolute_error: 0.2350 - val_loss: 0.1378 - val_mean_squared_error: 0.1378 - val_mean_absolute_error: 0.2867\n",
            "Epoch 16/90\n",
            "336/336 [==============================] - 2s 7ms/step - loss: 0.1372 - mean_squared_error: 0.1372 - mean_absolute_error: 0.2685 - val_loss: 0.1142 - val_mean_squared_error: 0.1142 - val_mean_absolute_error: 0.2720\n",
            "Epoch 17/90\n",
            "336/336 [==============================] - 2s 7ms/step - loss: 0.0974 - mean_squared_error: 0.0974 - mean_absolute_error: 0.2191 - val_loss: 0.1238 - val_mean_squared_error: 0.1238 - val_mean_absolute_error: 0.2690\n",
            "Epoch 18/90\n",
            "336/336 [==============================] - 2s 7ms/step - loss: 0.1009 - mean_squared_error: 0.1009 - mean_absolute_error: 0.2343 - val_loss: 0.1143 - val_mean_squared_error: 0.1143 - val_mean_absolute_error: 0.2762\n",
            "Epoch 19/90\n",
            "336/336 [==============================] - 2s 7ms/step - loss: 0.1853 - mean_squared_error: 0.1853 - mean_absolute_error: 0.2843 - val_loss: 0.1016 - val_mean_squared_error: 0.1016 - val_mean_absolute_error: 0.2464\n",
            "Epoch 20/90\n",
            "336/336 [==============================] - 2s 7ms/step - loss: 0.1457 - mean_squared_error: 0.1457 - mean_absolute_error: 0.2436 - val_loss: 0.1418 - val_mean_squared_error: 0.1418 - val_mean_absolute_error: 0.2736\n",
            "Epoch 21/90\n",
            "336/336 [==============================] - 2s 7ms/step - loss: 0.1340 - mean_squared_error: 0.1340 - mean_absolute_error: 0.2604 - val_loss: 0.1592 - val_mean_squared_error: 0.1592 - val_mean_absolute_error: 0.3005\n",
            "Epoch 22/90\n",
            "336/336 [==============================] - 2s 7ms/step - loss: 0.1370 - mean_squared_error: 0.1370 - mean_absolute_error: 0.2657 - val_loss: 0.0936 - val_mean_squared_error: 0.0936 - val_mean_absolute_error: 0.2393\n",
            "Epoch 23/90\n",
            "336/336 [==============================] - 2s 7ms/step - loss: 0.1371 - mean_squared_error: 0.1371 - mean_absolute_error: 0.2485 - val_loss: 0.1188 - val_mean_squared_error: 0.1188 - val_mean_absolute_error: 0.2661\n",
            "Epoch 24/90\n",
            "336/336 [==============================] - 2s 7ms/step - loss: 0.1458 - mean_squared_error: 0.1458 - mean_absolute_error: 0.2609 - val_loss: 0.1071 - val_mean_squared_error: 0.1071 - val_mean_absolute_error: 0.2398\n",
            "Epoch 25/90\n",
            "336/336 [==============================] - 2s 7ms/step - loss: 0.1626 - mean_squared_error: 0.1626 - mean_absolute_error: 0.2532 - val_loss: 0.1156 - val_mean_squared_error: 0.1156 - val_mean_absolute_error: 0.2465\n",
            "Epoch 26/90\n",
            "336/336 [==============================] - 3s 7ms/step - loss: 0.1373 - mean_squared_error: 0.1373 - mean_absolute_error: 0.2499 - val_loss: 0.1846 - val_mean_squared_error: 0.1846 - val_mean_absolute_error: 0.3226\n",
            "Epoch 27/90\n",
            "336/336 [==============================] - 2s 7ms/step - loss: 0.1513 - mean_squared_error: 0.1513 - mean_absolute_error: 0.2742 - val_loss: 0.1225 - val_mean_squared_error: 0.1225 - val_mean_absolute_error: 0.2672\n",
            "Epoch 28/90\n",
            "336/336 [==============================] - 2s 7ms/step - loss: 0.1545 - mean_squared_error: 0.1545 - mean_absolute_error: 0.2745 - val_loss: 0.0972 - val_mean_squared_error: 0.0972 - val_mean_absolute_error: 0.2352\n",
            "Epoch 29/90\n",
            "336/336 [==============================] - 2s 7ms/step - loss: 0.1244 - mean_squared_error: 0.1244 - mean_absolute_error: 0.2334 - val_loss: 0.1267 - val_mean_squared_error: 0.1267 - val_mean_absolute_error: 0.2729\n",
            "Epoch 30/90\n",
            "336/336 [==============================] - 2s 7ms/step - loss: 0.1692 - mean_squared_error: 0.1692 - mean_absolute_error: 0.2565 - val_loss: 0.0995 - val_mean_squared_error: 0.0995 - val_mean_absolute_error: 0.2410\n",
            "Epoch 31/90\n",
            "336/336 [==============================] - 2s 7ms/step - loss: 0.1259 - mean_squared_error: 0.1259 - mean_absolute_error: 0.2388 - val_loss: 0.1029 - val_mean_squared_error: 0.1029 - val_mean_absolute_error: 0.2365\n",
            "Epoch 32/90\n",
            "336/336 [==============================] - 2s 7ms/step - loss: 0.1336 - mean_squared_error: 0.1336 - mean_absolute_error: 0.2408 - val_loss: 0.0983 - val_mean_squared_error: 0.0983 - val_mean_absolute_error: 0.2417\n",
            "Epoch 33/90\n",
            "336/336 [==============================] - 2s 7ms/step - loss: 0.1291 - mean_squared_error: 0.1291 - mean_absolute_error: 0.2495 - val_loss: 0.1454 - val_mean_squared_error: 0.1454 - val_mean_absolute_error: 0.2634\n",
            "Epoch 34/90\n",
            "336/336 [==============================] - 2s 7ms/step - loss: 0.1173 - mean_squared_error: 0.1173 - mean_absolute_error: 0.2306 - val_loss: 0.1105 - val_mean_squared_error: 0.1105 - val_mean_absolute_error: 0.2421\n",
            "Epoch 35/90\n",
            "336/336 [==============================] - 2s 7ms/step - loss: 0.1302 - mean_squared_error: 0.1302 - mean_absolute_error: 0.2502 - val_loss: 0.1096 - val_mean_squared_error: 0.1096 - val_mean_absolute_error: 0.2400\n",
            "Epoch 36/90\n",
            "336/336 [==============================] - 2s 7ms/step - loss: 0.1482 - mean_squared_error: 0.1482 - mean_absolute_error: 0.2582 - val_loss: 0.1196 - val_mean_squared_error: 0.1196 - val_mean_absolute_error: 0.2549\n",
            "Epoch 37/90\n",
            "336/336 [==============================] - 2s 7ms/step - loss: 0.1254 - mean_squared_error: 0.1254 - mean_absolute_error: 0.2338 - val_loss: 0.0992 - val_mean_squared_error: 0.0992 - val_mean_absolute_error: 0.2296\n",
            "Epoch 38/90\n",
            "336/336 [==============================] - 2s 7ms/step - loss: 0.1232 - mean_squared_error: 0.1232 - mean_absolute_error: 0.2365 - val_loss: 0.1218 - val_mean_squared_error: 0.1218 - val_mean_absolute_error: 0.2421\n",
            "Epoch 39/90\n",
            "336/336 [==============================] - 2s 7ms/step - loss: 0.1136 - mean_squared_error: 0.1136 - mean_absolute_error: 0.2427 - val_loss: 0.1181 - val_mean_squared_error: 0.1181 - val_mean_absolute_error: 0.2602\n",
            "Epoch 40/90\n",
            "336/336 [==============================] - 2s 7ms/step - loss: 0.1443 - mean_squared_error: 0.1443 - mean_absolute_error: 0.2522 - val_loss: 0.1056 - val_mean_squared_error: 0.1056 - val_mean_absolute_error: 0.2534\n",
            "Epoch 41/90\n",
            "336/336 [==============================] - 2s 7ms/step - loss: 0.1368 - mean_squared_error: 0.1368 - mean_absolute_error: 0.2542 - val_loss: 0.1167 - val_mean_squared_error: 0.1167 - val_mean_absolute_error: 0.2525\n",
            "Epoch 42/90\n",
            "336/336 [==============================] - 2s 7ms/step - loss: 0.1009 - mean_squared_error: 0.1009 - mean_absolute_error: 0.2318 - val_loss: 0.1204 - val_mean_squared_error: 0.1204 - val_mean_absolute_error: 0.2669\n",
            "Epoch 43/90\n",
            "336/336 [==============================] - 2s 7ms/step - loss: 0.1057 - mean_squared_error: 0.1057 - mean_absolute_error: 0.2223 - val_loss: 0.1080 - val_mean_squared_error: 0.1080 - val_mean_absolute_error: 0.2385\n",
            "Epoch 44/90\n",
            "336/336 [==============================] - 2s 7ms/step - loss: 0.1228 - mean_squared_error: 0.1228 - mean_absolute_error: 0.2467 - val_loss: 0.1031 - val_mean_squared_error: 0.1031 - val_mean_absolute_error: 0.2371\n",
            "Epoch 45/90\n",
            "336/336 [==============================] - 2s 7ms/step - loss: 0.1213 - mean_squared_error: 0.1213 - mean_absolute_error: 0.2266 - val_loss: 0.1313 - val_mean_squared_error: 0.1313 - val_mean_absolute_error: 0.2618\n",
            "Epoch 46/90\n",
            "336/336 [==============================] - 2s 7ms/step - loss: 0.1655 - mean_squared_error: 0.1655 - mean_absolute_error: 0.2663 - val_loss: 0.0920 - val_mean_squared_error: 0.0920 - val_mean_absolute_error: 0.2291\n",
            "Epoch 47/90\n",
            "336/336 [==============================] - 2s 7ms/step - loss: 0.1235 - mean_squared_error: 0.1235 - mean_absolute_error: 0.2256 - val_loss: 0.1150 - val_mean_squared_error: 0.1150 - val_mean_absolute_error: 0.2447\n",
            "Epoch 48/90\n",
            "336/336 [==============================] - 2s 7ms/step - loss: 0.1051 - mean_squared_error: 0.1051 - mean_absolute_error: 0.2212 - val_loss: 0.1148 - val_mean_squared_error: 0.1148 - val_mean_absolute_error: 0.2590\n",
            "Epoch 49/90\n",
            "336/336 [==============================] - 2s 7ms/step - loss: 0.1104 - mean_squared_error: 0.1104 - mean_absolute_error: 0.2183 - val_loss: 0.1077 - val_mean_squared_error: 0.1077 - val_mean_absolute_error: 0.2478\n",
            "Epoch 50/90\n",
            "336/336 [==============================] - 2s 7ms/step - loss: 0.0851 - mean_squared_error: 0.0851 - mean_absolute_error: 0.2030 - val_loss: 0.1561 - val_mean_squared_error: 0.1561 - val_mean_absolute_error: 0.3142\n",
            "Epoch 51/90\n",
            "336/336 [==============================] - 3s 7ms/step - loss: 0.1206 - mean_squared_error: 0.1206 - mean_absolute_error: 0.2307 - val_loss: 0.1052 - val_mean_squared_error: 0.1052 - val_mean_absolute_error: 0.2453\n",
            "Epoch 52/90\n",
            "336/336 [==============================] - 2s 7ms/step - loss: 0.1301 - mean_squared_error: 0.1301 - mean_absolute_error: 0.2562 - val_loss: 0.1067 - val_mean_squared_error: 0.1067 - val_mean_absolute_error: 0.2377\n",
            "Epoch 53/90\n",
            "336/336 [==============================] - 2s 7ms/step - loss: 0.1080 - mean_squared_error: 0.1080 - mean_absolute_error: 0.2105 - val_loss: 0.1014 - val_mean_squared_error: 0.1014 - val_mean_absolute_error: 0.2492\n",
            "Epoch 54/90\n",
            "336/336 [==============================] - 2s 7ms/step - loss: 0.1301 - mean_squared_error: 0.1301 - mean_absolute_error: 0.2252 - val_loss: 0.0946 - val_mean_squared_error: 0.0946 - val_mean_absolute_error: 0.2395\n",
            "Epoch 55/90\n",
            "336/336 [==============================] - 2s 7ms/step - loss: 0.1549 - mean_squared_error: 0.1549 - mean_absolute_error: 0.2584 - val_loss: 0.1292 - val_mean_squared_error: 0.1292 - val_mean_absolute_error: 0.2811\n",
            "Epoch 56/90\n",
            "336/336 [==============================] - 2s 7ms/step - loss: 0.1064 - mean_squared_error: 0.1064 - mean_absolute_error: 0.2294 - val_loss: 0.1214 - val_mean_squared_error: 0.1214 - val_mean_absolute_error: 0.2778\n",
            "Epoch 57/90\n",
            "336/336 [==============================] - 2s 7ms/step - loss: 0.1154 - mean_squared_error: 0.1154 - mean_absolute_error: 0.2353 - val_loss: 0.1348 - val_mean_squared_error: 0.1348 - val_mean_absolute_error: 0.2762\n",
            "Epoch 58/90\n",
            "336/336 [==============================] - 2s 7ms/step - loss: 0.1210 - mean_squared_error: 0.1210 - mean_absolute_error: 0.2218 - val_loss: 0.0931 - val_mean_squared_error: 0.0931 - val_mean_absolute_error: 0.2348\n",
            "Epoch 59/90\n",
            "336/336 [==============================] - 2s 7ms/step - loss: 0.1356 - mean_squared_error: 0.1356 - mean_absolute_error: 0.2326 - val_loss: 0.1448 - val_mean_squared_error: 0.1448 - val_mean_absolute_error: 0.2979\n",
            "Epoch 60/90\n",
            "336/336 [==============================] - 2s 7ms/step - loss: 0.0809 - mean_squared_error: 0.0809 - mean_absolute_error: 0.2051 - val_loss: 0.1331 - val_mean_squared_error: 0.1331 - val_mean_absolute_error: 0.2939\n",
            "Epoch 61/90\n",
            "336/336 [==============================] - 2s 7ms/step - loss: 0.1791 - mean_squared_error: 0.1791 - mean_absolute_error: 0.2729 - val_loss: 0.1157 - val_mean_squared_error: 0.1157 - val_mean_absolute_error: 0.2620\n",
            "Epoch 62/90\n",
            "336/336 [==============================] - 3s 8ms/step - loss: 0.1361 - mean_squared_error: 0.1361 - mean_absolute_error: 0.2561 - val_loss: 0.1446 - val_mean_squared_error: 0.1446 - val_mean_absolute_error: 0.3030\n",
            "Epoch 63/90\n",
            "336/336 [==============================] - 2s 7ms/step - loss: 0.1162 - mean_squared_error: 0.1162 - mean_absolute_error: 0.2364 - val_loss: 0.0887 - val_mean_squared_error: 0.0887 - val_mean_absolute_error: 0.2393\n",
            "Epoch 64/90\n",
            "336/336 [==============================] - 2s 7ms/step - loss: 0.1480 - mean_squared_error: 0.1480 - mean_absolute_error: 0.2556 - val_loss: 0.1039 - val_mean_squared_error: 0.1039 - val_mean_absolute_error: 0.2501\n",
            "Epoch 65/90\n",
            "336/336 [==============================] - 2s 7ms/step - loss: 0.1249 - mean_squared_error: 0.1249 - mean_absolute_error: 0.2319 - val_loss: 0.0998 - val_mean_squared_error: 0.0998 - val_mean_absolute_error: 0.2329\n",
            "Epoch 66/90\n",
            "336/336 [==============================] - 2s 7ms/step - loss: 0.0938 - mean_squared_error: 0.0938 - mean_absolute_error: 0.2109 - val_loss: 0.0955 - val_mean_squared_error: 0.0955 - val_mean_absolute_error: 0.2481\n",
            "Epoch 67/90\n",
            "336/336 [==============================] - 2s 7ms/step - loss: 0.0841 - mean_squared_error: 0.0841 - mean_absolute_error: 0.2048 - val_loss: 0.1027 - val_mean_squared_error: 0.1027 - val_mean_absolute_error: 0.2603\n",
            "Epoch 68/90\n",
            "336/336 [==============================] - 3s 7ms/step - loss: 0.0893 - mean_squared_error: 0.0893 - mean_absolute_error: 0.2090 - val_loss: 0.1583 - val_mean_squared_error: 0.1583 - val_mean_absolute_error: 0.3185\n",
            "Epoch 69/90\n",
            "336/336 [==============================] - 2s 7ms/step - loss: 0.0954 - mean_squared_error: 0.0954 - mean_absolute_error: 0.2207 - val_loss: 0.1056 - val_mean_squared_error: 0.1056 - val_mean_absolute_error: 0.2546\n",
            "Epoch 70/90\n",
            "336/336 [==============================] - 2s 7ms/step - loss: 0.0965 - mean_squared_error: 0.0965 - mean_absolute_error: 0.2084 - val_loss: 0.1284 - val_mean_squared_error: 0.1284 - val_mean_absolute_error: 0.2797\n",
            "Epoch 71/90\n",
            "336/336 [==============================] - 3s 8ms/step - loss: 0.1131 - mean_squared_error: 0.1131 - mean_absolute_error: 0.2264 - val_loss: 0.1085 - val_mean_squared_error: 0.1085 - val_mean_absolute_error: 0.2541\n",
            "Epoch 72/90\n",
            "336/336 [==============================] - 2s 7ms/step - loss: 0.1881 - mean_squared_error: 0.1881 - mean_absolute_error: 0.2494 - val_loss: 0.1096 - val_mean_squared_error: 0.1096 - val_mean_absolute_error: 0.2596\n",
            "Epoch 73/90\n",
            "336/336 [==============================] - 2s 7ms/step - loss: 0.1043 - mean_squared_error: 0.1043 - mean_absolute_error: 0.2201 - val_loss: 0.1269 - val_mean_squared_error: 0.1269 - val_mean_absolute_error: 0.2826\n",
            "Epoch 74/90\n",
            "336/336 [==============================] - 3s 8ms/step - loss: 0.0753 - mean_squared_error: 0.0753 - mean_absolute_error: 0.1973 - val_loss: 0.1066 - val_mean_squared_error: 0.1066 - val_mean_absolute_error: 0.2515\n",
            "Epoch 75/90\n",
            "336/336 [==============================] - 3s 8ms/step - loss: 0.0674 - mean_squared_error: 0.0674 - mean_absolute_error: 0.1962 - val_loss: 0.1454 - val_mean_squared_error: 0.1454 - val_mean_absolute_error: 0.3139\n",
            "Epoch 76/90\n",
            "336/336 [==============================] - 3s 8ms/step - loss: 0.0735 - mean_squared_error: 0.0735 - mean_absolute_error: 0.1982 - val_loss: 0.1791 - val_mean_squared_error: 0.1791 - val_mean_absolute_error: 0.3469\n",
            "Epoch 77/90\n",
            "336/336 [==============================] - 3s 8ms/step - loss: 0.1127 - mean_squared_error: 0.1127 - mean_absolute_error: 0.2252 - val_loss: 0.1154 - val_mean_squared_error: 0.1154 - val_mean_absolute_error: 0.2674\n",
            "Epoch 78/90\n",
            "336/336 [==============================] - 3s 8ms/step - loss: 0.0999 - mean_squared_error: 0.0999 - mean_absolute_error: 0.2177 - val_loss: 0.1313 - val_mean_squared_error: 0.1313 - val_mean_absolute_error: 0.2736\n",
            "Epoch 79/90\n",
            "336/336 [==============================] - 3s 8ms/step - loss: 0.0908 - mean_squared_error: 0.0908 - mean_absolute_error: 0.2108 - val_loss: 0.1205 - val_mean_squared_error: 0.1205 - val_mean_absolute_error: 0.2782\n",
            "Epoch 80/90\n",
            "336/336 [==============================] - 3s 8ms/step - loss: 0.1041 - mean_squared_error: 0.1041 - mean_absolute_error: 0.2240 - val_loss: 0.1201 - val_mean_squared_error: 0.1201 - val_mean_absolute_error: 0.2695\n",
            "Epoch 81/90\n",
            "336/336 [==============================] - 2s 7ms/step - loss: 0.1107 - mean_squared_error: 0.1107 - mean_absolute_error: 0.2113 - val_loss: 0.1193 - val_mean_squared_error: 0.1193 - val_mean_absolute_error: 0.2730\n",
            "Epoch 82/90\n",
            "336/336 [==============================] - 3s 8ms/step - loss: 0.0796 - mean_squared_error: 0.0796 - mean_absolute_error: 0.1961 - val_loss: 0.1291 - val_mean_squared_error: 0.1291 - val_mean_absolute_error: 0.2806\n",
            "Epoch 83/90\n",
            "336/336 [==============================] - 3s 8ms/step - loss: 0.1085 - mean_squared_error: 0.1085 - mean_absolute_error: 0.2340 - val_loss: 0.1143 - val_mean_squared_error: 0.1143 - val_mean_absolute_error: 0.2657\n",
            "Epoch 84/90\n",
            "336/336 [==============================] - 3s 8ms/step - loss: 0.0775 - mean_squared_error: 0.0775 - mean_absolute_error: 0.1963 - val_loss: 0.1106 - val_mean_squared_error: 0.1106 - val_mean_absolute_error: 0.2703\n",
            "Epoch 85/90\n",
            "336/336 [==============================] - 3s 8ms/step - loss: 0.0911 - mean_squared_error: 0.0911 - mean_absolute_error: 0.2131 - val_loss: 0.1248 - val_mean_squared_error: 0.1248 - val_mean_absolute_error: 0.2739\n",
            "Epoch 86/90\n",
            "336/336 [==============================] - 3s 7ms/step - loss: 0.0861 - mean_squared_error: 0.0861 - mean_absolute_error: 0.2071 - val_loss: 0.1820 - val_mean_squared_error: 0.1820 - val_mean_absolute_error: 0.3331\n",
            "Epoch 87/90\n",
            "336/336 [==============================] - 3s 8ms/step - loss: 0.0610 - mean_squared_error: 0.0610 - mean_absolute_error: 0.1835 - val_loss: 0.2195 - val_mean_squared_error: 0.2195 - val_mean_absolute_error: 0.3522\n",
            "Epoch 88/90\n",
            "336/336 [==============================] - 2s 7ms/step - loss: 0.0983 - mean_squared_error: 0.0983 - mean_absolute_error: 0.2285 - val_loss: 0.1984 - val_mean_squared_error: 0.1984 - val_mean_absolute_error: 0.3359\n",
            "Epoch 89/90\n",
            "336/336 [==============================] - 3s 8ms/step - loss: 0.0677 - mean_squared_error: 0.0677 - mean_absolute_error: 0.1862 - val_loss: 0.2245 - val_mean_squared_error: 0.2245 - val_mean_absolute_error: 0.3597\n",
            "Epoch 90/90\n",
            "336/336 [==============================] - 3s 8ms/step - loss: 0.1074 - mean_squared_error: 0.1074 - mean_absolute_error: 0.2359 - val_loss: 0.1856 - val_mean_squared_error: 0.1856 - val_mean_absolute_error: 0.3226\n"
          ],
          "name": "stdout"
        }
      ]
    },
    {
      "cell_type": "code",
      "metadata": {
        "id": "lqCFogZPME1r",
        "colab": {
          "base_uri": "https://localhost:8080/",
          "height": 282
        },
        "outputId": "854c3c31-38e4-4666-8da7-24a2ea91deb7"
      },
      "source": [
        "plt.plot(history.history['mean_squared_error'], Label='Mean Squared Error')\n",
        "plt.plot(history.history['mean_absolute_error'], Label='Mean Absolute Error')\n",
        "plt.grid()\n",
        "plt.legend()"
      ],
      "execution_count": 31,
      "outputs": [
        {
          "output_type": "execute_result",
          "data": {
            "text/plain": [
              "<matplotlib.legend.Legend at 0x7efd9544c750>"
            ]
          },
          "metadata": {
            "tags": []
          },
          "execution_count": 31
        },
        {
          "output_type": "display_data",
          "data": {
            "image/png": "[encoded data removed]",
            "text/plain": [
              "<Figure size 432x288 with 1 Axes>"
            ]
          },
          "metadata": {
            "tags": [],
            "needs_background": "light"
          }
        }
      ]
    },
    {
      "cell_type": "code",
      "metadata": {
        "id": "lKlzXPcHcXko",
        "colab": {
          "base_uri": "https://localhost:8080/",
          "height": 282
        },
        "outputId": "473c90dc-7ba7-4983-8e50-dba98ebe8665"
      },
      "source": [
        "plt.plot(history.history['loss'], Label='Training Loss')\n",
        "plt.plot(history.history['val_loss'], Label='Validation Loss')\n",
        "plt.grid()\n",
        "plt.legend()"
      ],
      "execution_count": 32,
      "outputs": [
        {
          "output_type": "execute_result",
          "data": {
            "text/plain": [
              "<matplotlib.legend.Legend at 0x7efd955d8f90>"
            ]
          },
          "metadata": {
            "tags": []
          },
          "execution_count": 32
        },
        {
          "output_type": "display_data",
          "data": {
            "image/png": "[encoded data removed]",
            "text/plain": [
              "<Figure size 432x288 with 1 Axes>"
            ]
          },
          "metadata": {
            "tags": [],
            "needs_background": "light"
          }
        }
      ]
    },
    {
      "cell_type": "code",
      "metadata": {
        "id": "E-VpwZf8cdRY"
      },
      "source": [
        "n_f=60\n",
        "forecast_period_dates = pd.date_range(list(train_dates)[-1], periods=n_f, freq='1d').tolist()\n",
        "forecast = model.predict(trainX[-n_f:])\n",
        "forecast_copies = np.repeat(forecast, df_for_training.shape[1], axis=-1)\n",
        "y_pred_future = scaler.inverse_transform(forecast_copies)[:,0]\n",
        "\n",
        "\n",
        "forecast_dates = []\n",
        "for time_i in forecast_period_dates:\n",
        "    forecast_dates.append(time_i.date())"
      ],
      "execution_count": 26,
      "outputs": []
    },
    {
      "cell_type": "code",
      "metadata": {
        "id": "1QO1WgIu96S2",
        "colab": {
          "base_uri": "https://localhost:8080/"
        },
        "outputId": "66215226-3076-4b78-da1e-6a44050766ec"
      },
      "source": [
        "forecast_dates"
      ],
      "execution_count": 27,
      "outputs": [
        {
          "output_type": "execute_result",
          "data": {
            "text/plain": [
              "[datetime.date(2021, 5, 6),\n",
              " datetime.date(2021, 5, 7),\n",
              " datetime.date(2021, 5, 8),\n",
              " datetime.date(2021, 5, 9),\n",
              " datetime.date(2021, 5, 10),\n",
              " datetime.date(2021, 5, 11),\n",
              " datetime.date(2021, 5, 12),\n",
              " datetime.date(2021, 5, 13),\n",
              " datetime.date(2021, 5, 14),\n",
              " datetime.date(2021, 5, 15),\n",
              " datetime.date(2021, 5, 16),\n",
              " datetime.date(2021, 5, 17),\n",
              " datetime.date(2021, 5, 18),\n",
              " datetime.date(2021, 5, 19),\n",
              " datetime.date(2021, 5, 20),\n",
              " datetime.date(2021, 5, 21),\n",
              " datetime.date(2021, 5, 22),\n",
              " datetime.date(2021, 5, 23),\n",
              " datetime.date(2021, 5, 24),\n",
              " datetime.date(2021, 5, 25),\n",
              " datetime.date(2021, 5, 26),\n",
              " datetime.date(2021, 5, 27),\n",
              " datetime.date(2021, 5, 28),\n",
              " datetime.date(2021, 5, 29),\n",
              " datetime.date(2021, 5, 30),\n",
              " datetime.date(2021, 5, 31),\n",
              " datetime.date(2021, 6, 1),\n",
              " datetime.date(2021, 6, 2),\n",
              " datetime.date(2021, 6, 3),\n",
              " datetime.date(2021, 6, 4),\n",
              " datetime.date(2021, 6, 5),\n",
              " datetime.date(2021, 6, 6),\n",
              " datetime.date(2021, 6, 7),\n",
              " datetime.date(2021, 6, 8),\n",
              " datetime.date(2021, 6, 9),\n",
              " datetime.date(2021, 6, 10),\n",
              " datetime.date(2021, 6, 11),\n",
              " datetime.date(2021, 6, 12),\n",
              " datetime.date(2021, 6, 13),\n",
              " datetime.date(2021, 6, 14),\n",
              " datetime.date(2021, 6, 15),\n",
              " datetime.date(2021, 6, 16),\n",
              " datetime.date(2021, 6, 17),\n",
              " datetime.date(2021, 6, 18),\n",
              " datetime.date(2021, 6, 19),\n",
              " datetime.date(2021, 6, 20),\n",
              " datetime.date(2021, 6, 21),\n",
              " datetime.date(2021, 6, 22),\n",
              " datetime.date(2021, 6, 23),\n",
              " datetime.date(2021, 6, 24),\n",
              " datetime.date(2021, 6, 25),\n",
              " datetime.date(2021, 6, 26),\n",
              " datetime.date(2021, 6, 27),\n",
              " datetime.date(2021, 6, 28),\n",
              " datetime.date(2021, 6, 29),\n",
              " datetime.date(2021, 6, 30),\n",
              " datetime.date(2021, 7, 1),\n",
              " datetime.date(2021, 7, 2),\n",
              " datetime.date(2021, 7, 3),\n",
              " datetime.date(2021, 7, 4)]"
            ]
          },
          "metadata": {
            "tags": []
          },
          "execution_count": 27
        }
      ]
    },
    {
      "cell_type": "code",
      "metadata": {
        "id": "snKv5cYKct29"
      },
      "source": [
        "df_forecast = pd.DataFrame({'Date_YMD':np.array(forecast_dates), 'Case Load Rate':y_pred_future})\n",
        "df_forecast['Date_YMD']=pd.to_datetime(df_forecast['Date_YMD'])"
      ],
      "execution_count": 28,
      "outputs": []
    },
    {
      "cell_type": "code",
      "metadata": {
        "id": "xmz5vUJfcyO5",
        "colab": {
          "base_uri": "https://localhost:8080/"
        },
        "outputId": "b8915547-3005-462a-a6cd-b568e3fbb637"
      },
      "source": [
        "original=df1[['Date_YMD','Case Load Rate']]\n",
        "original['Date_YMD']=pd.to_datetime(original['Date_YMD'])\n",
        "original = original.loc[original['Date_YMD'] >= '2020-01-30']"
      ],
      "execution_count": 29,
      "outputs": [
        {
          "output_type": "stream",
          "text": [
            "/usr/local/lib/python3.7/dist-packages/ipykernel_launcher.py:2: SettingWithCopyWarning: \n",
            "A value is trying to be set on a copy of a slice from a DataFrame.\n",
            "Try using .loc[row_indexer,col_indexer] = value instead\n",
            "\n",
            "See the caveats in the documentation: https://pandas.pydata.org/pandas-docs/stable/user_guide/indexing.html#returning-a-view-versus-a-copy\n",
            "  \n"
          ],
          "name": "stderr"
        }
      ]
    },
    {
      "cell_type": "code",
      "metadata": {
        "id": "ViyGwWqUc1pT",
        "colab": {
          "base_uri": "https://localhost:8080/",
          "height": 385
        },
        "outputId": "2ae0e953-4a82-4e08-c72f-01cf588b35ff"
      },
      "source": [
        "sns.lineplot(original['Date_YMD'], original['Case Load Rate'])\n",
        "sns.lineplot(df_forecast['Date_YMD'], df_forecast['Case Load Rate'])"
      ],
      "execution_count": 30,
      "outputs": [
        {
          "output_type": "stream",
          "text": [
            "/usr/local/lib/python3.7/dist-packages/seaborn/_decorators.py:43: FutureWarning: Pass the following variables as keyword args: x, y. From version 0.12, the only valid positional argument will be `data`, and passing other arguments without an explicit keyword will result in an error or misinterpretation.\n",
            "  FutureWarning\n",
            "/usr/local/lib/python3.7/dist-packages/seaborn/_decorators.py:43: FutureWarning: Pass the following variables as keyword args: x, y. From version 0.12, the only valid positional argument will be `data`, and passing other arguments without an explicit keyword will result in an error or misinterpretation.\n",
            "  FutureWarning\n"
          ],
          "name": "stderr"
        },
        {
          "output_type": "execute_result",
          "data": {
            "text/plain": [
              "<matplotlib.axes._subplots.AxesSubplot at 0x7efd9e76aad0>"
            ]
          },
          "metadata": {
            "tags": []
          },
          "execution_count": 30
        },
        {
          "output_type": "display_data",
          "data": {
            "image/png": "[encoded data removed]",
            "text/plain": [
              "<Figure size 432x288 with 1 Axes>"
            ]
          },
          "metadata": {
            "tags": [],
            "needs_background": "light"
          }
        }
      ]
    }
  ]
}