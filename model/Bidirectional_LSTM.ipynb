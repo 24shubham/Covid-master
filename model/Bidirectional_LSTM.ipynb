{
  "nbformat": 4,
  "nbformat_minor": 0,
  "metadata": {
    "colab": {
      "name": "Bidirectional_LSTM.ipynb",
      "provenance": []
    },
    "kernelspec": {
      "name": "python3",
      "display_name": "Python 3"
    },
    "language_info": {
      "name": "python"
    }
  },
  "cells": [
    {
      "cell_type": "code",
      "metadata": {
        "id": "cbv-MkzkkWQj"
      },
      "source": [
        ""
      ],
      "execution_count": null,
      "outputs": []
    },
    {
      "cell_type": "code",
      "metadata": {
        "id": "C8aNAFNYiNJV"
      },
      "source": [
        "import numpy as  np\n",
        "from keras.models import Sequential\n",
        "from keras.layers import LSTM, Dense, Dropout, Activation\n",
        "import pandas as pd\n",
        "from matplotlib import pyplot as plt\n",
        "from sklearn.preprocessing import StandardScaler\n",
        "import seaborn as sns\n",
        "from keras.layers import Bidirectional"
      ],
      "execution_count": 1,
      "outputs": []
    },
    {
      "cell_type": "code",
      "metadata": {
        "id": "z-HjgltniWCX",
        "colab": {
          "base_uri": "https://localhost:8080/",
          "height": 419
        },
        "outputId": "080d5a14-f07e-418e-d1e1-275a69bd35cf"
      },
      "source": [
        "df=pd.read_csv('https://api.covid19india.org/csv/latest/case_time_series.csv')\n",
        "df"
      ],
      "execution_count": 2,
      "outputs": [
        {
          "output_type": "execute_result",
          "data": {
            "text/html": [
              "<div>\n",
              "<style scoped>\n",
              "    .dataframe tbody tr th:only-of-type {\n",
              "        vertical-align: middle;\n",
              "    }\n",
              "\n",
              "    .dataframe tbody tr th {\n",
              "        vertical-align: top;\n",
              "    }\n",
              "\n",
              "    .dataframe thead th {\n",
              "        text-align: right;\n",
              "    }\n",
              "</style>\n",
              "<table border=\"1\" class=\"dataframe\">\n",
              "  <thead>\n",
              "    <tr style=\"text-align: right;\">\n",
              "      <th></th>\n",
              "      <th>Date</th>\n",
              "      <th>Date_YMD</th>\n",
              "      <th>Daily Confirmed</th>\n",
              "      <th>Total Confirmed</th>\n",
              "      <th>Daily Recovered</th>\n",
              "      <th>Total Recovered</th>\n",
              "      <th>Daily Deceased</th>\n",
              "      <th>Total Deceased</th>\n",
              "    </tr>\n",
              "  </thead>\n",
              "  <tbody>\n",
              "    <tr>\n",
              "      <th>0</th>\n",
              "      <td>30 January 2020</td>\n",
              "      <td>2020-01-30</td>\n",
              "      <td>1</td>\n",
              "      <td>1</td>\n",
              "      <td>0</td>\n",
              "      <td>0</td>\n",
              "      <td>0</td>\n",
              "      <td>0</td>\n",
              "    </tr>\n",
              "    <tr>\n",
              "      <th>1</th>\n",
              "      <td>31 January 2020</td>\n",
              "      <td>2020-01-31</td>\n",
              "      <td>0</td>\n",
              "      <td>1</td>\n",
              "      <td>0</td>\n",
              "      <td>0</td>\n",
              "      <td>0</td>\n",
              "      <td>0</td>\n",
              "    </tr>\n",
              "    <tr>\n",
              "      <th>2</th>\n",
              "      <td>1 February 2020</td>\n",
              "      <td>2020-02-01</td>\n",
              "      <td>0</td>\n",
              "      <td>1</td>\n",
              "      <td>0</td>\n",
              "      <td>0</td>\n",
              "      <td>0</td>\n",
              "      <td>0</td>\n",
              "    </tr>\n",
              "    <tr>\n",
              "      <th>3</th>\n",
              "      <td>2 February 2020</td>\n",
              "      <td>2020-02-02</td>\n",
              "      <td>1</td>\n",
              "      <td>2</td>\n",
              "      <td>0</td>\n",
              "      <td>0</td>\n",
              "      <td>0</td>\n",
              "      <td>0</td>\n",
              "    </tr>\n",
              "    <tr>\n",
              "      <th>4</th>\n",
              "      <td>3 February 2020</td>\n",
              "      <td>2020-02-03</td>\n",
              "      <td>1</td>\n",
              "      <td>3</td>\n",
              "      <td>0</td>\n",
              "      <td>0</td>\n",
              "      <td>0</td>\n",
              "      <td>0</td>\n",
              "    </tr>\n",
              "    <tr>\n",
              "      <th>...</th>\n",
              "      <td>...</td>\n",
              "      <td>...</td>\n",
              "      <td>...</td>\n",
              "      <td>...</td>\n",
              "      <td>...</td>\n",
              "      <td>...</td>\n",
              "      <td>...</td>\n",
              "      <td>...</td>\n",
              "    </tr>\n",
              "    <tr>\n",
              "      <th>458</th>\n",
              "      <td>2 May 2021</td>\n",
              "      <td>2021-05-02</td>\n",
              "      <td>370090</td>\n",
              "      <td>19919645</td>\n",
              "      <td>300004</td>\n",
              "      <td>16281710</td>\n",
              "      <td>3423</td>\n",
              "      <td>218356</td>\n",
              "    </tr>\n",
              "    <tr>\n",
              "      <th>459</th>\n",
              "      <td>3 May 2021</td>\n",
              "      <td>2021-05-03</td>\n",
              "      <td>355769</td>\n",
              "      <td>20275414</td>\n",
              "      <td>318910</td>\n",
              "      <td>16600620</td>\n",
              "      <td>3439</td>\n",
              "      <td>221795</td>\n",
              "    </tr>\n",
              "    <tr>\n",
              "      <th>460</th>\n",
              "      <td>4 May 2021</td>\n",
              "      <td>2021-05-04</td>\n",
              "      <td>382847</td>\n",
              "      <td>20658261</td>\n",
              "      <td>337699</td>\n",
              "      <td>16938319</td>\n",
              "      <td>3786</td>\n",
              "      <td>225581</td>\n",
              "    </tr>\n",
              "    <tr>\n",
              "      <th>461</th>\n",
              "      <td>5 May 2021</td>\n",
              "      <td>2021-05-05</td>\n",
              "      <td>412624</td>\n",
              "      <td>21070885</td>\n",
              "      <td>330718</td>\n",
              "      <td>17269037</td>\n",
              "      <td>3979</td>\n",
              "      <td>229560</td>\n",
              "    </tr>\n",
              "    <tr>\n",
              "      <th>462</th>\n",
              "      <td>6 May 2021</td>\n",
              "      <td>2021-05-06</td>\n",
              "      <td>414280</td>\n",
              "      <td>21485165</td>\n",
              "      <td>328347</td>\n",
              "      <td>17597384</td>\n",
              "      <td>3923</td>\n",
              "      <td>233483</td>\n",
              "    </tr>\n",
              "  </tbody>\n",
              "</table>\n",
              "<p>463 rows × 8 columns</p>\n",
              "</div>"
            ],
            "text/plain": [
              "                Date    Date_YMD  ...  Daily Deceased  Total Deceased\n",
              "0    30 January 2020  2020-01-30  ...               0               0\n",
              "1    31 January 2020  2020-01-31  ...               0               0\n",
              "2    1 February 2020  2020-02-01  ...               0               0\n",
              "3    2 February 2020  2020-02-02  ...               0               0\n",
              "4    3 February 2020  2020-02-03  ...               0               0\n",
              "..               ...         ...  ...             ...             ...\n",
              "458       2 May 2021  2021-05-02  ...            3423          218356\n",
              "459       3 May 2021  2021-05-03  ...            3439          221795\n",
              "460       4 May 2021  2021-05-04  ...            3786          225581\n",
              "461       5 May 2021  2021-05-05  ...            3979          229560\n",
              "462       6 May 2021  2021-05-06  ...            3923          233483\n",
              "\n",
              "[463 rows x 8 columns]"
            ]
          },
          "metadata": {
            "tags": []
          },
          "execution_count": 2
        }
      ]
    },
    {
      "cell_type": "code",
      "metadata": {
        "id": "ReIV1flWiYbo"
      },
      "source": [
        "df1=df"
      ],
      "execution_count": 3,
      "outputs": []
    },
    {
      "cell_type": "code",
      "metadata": {
        "id": "VXCSQpGKP__q"
      },
      "source": [
        "def Recovery_Rate(RC,CC):\n",
        "  return (RC/CC)*100"
      ],
      "execution_count": 4,
      "outputs": []
    },
    {
      "cell_type": "code",
      "metadata": {
        "id": "iYFkE3rSRvzB"
      },
      "source": [
        "RR=[]\n",
        "for i in df.index:\n",
        "  RR.append(Recovery_Rate(df['Total Recovered'][i], df['Total Confirmed'][i]))"
      ],
      "execution_count": 5,
      "outputs": []
    },
    {
      "cell_type": "code",
      "metadata": {
        "id": "xqQx-95aR3nO"
      },
      "source": [
        "df1['Recovery Rate']=RR"
      ],
      "execution_count": 6,
      "outputs": []
    },
    {
      "cell_type": "code",
      "metadata": {
        "id": "Herun-2pQWYL"
      },
      "source": [
        "def Case_Load_Rate(CC,RC,D):\n",
        "  CaseLoad=CC-RC-D\n",
        "  return (CaseLoad/CC)*100\n",
        "  # return CaseLoad"
      ],
      "execution_count": 7,
      "outputs": []
    },
    {
      "cell_type": "code",
      "metadata": {
        "id": "mNfl31NcTgbO",
        "colab": {
          "base_uri": "https://localhost:8080/"
        },
        "outputId": "621610c2-c84c-440f-c974-734b212a5004"
      },
      "source": [
        "CLR=[]\n",
        "for i in df.index:\n",
        "  CLR.append(Case_Load_Rate(df['Daily Confirmed'][i],df['Daily Recovered'][i],  df['Daily Deceased'][i]))"
      ],
      "execution_count": 8,
      "outputs": [
        {
          "output_type": "stream",
          "text": [
            "/usr/local/lib/python3.7/dist-packages/ipykernel_launcher.py:3: RuntimeWarning: invalid value encountered in long_scalars\n",
            "  This is separate from the ipykernel package so we can avoid doing imports until\n",
            "/usr/local/lib/python3.7/dist-packages/ipykernel_launcher.py:3: RuntimeWarning: divide by zero encountered in long_scalars\n",
            "  This is separate from the ipykernel package so we can avoid doing imports until\n"
          ],
          "name": "stderr"
        }
      ]
    },
    {
      "cell_type": "code",
      "metadata": {
        "id": "rPVDxFeWT6Xt"
      },
      "source": [
        "df1['Case Load Rate']=CLR"
      ],
      "execution_count": 9,
      "outputs": []
    },
    {
      "cell_type": "code",
      "metadata": {
        "id": "cseopLrrQ5RB"
      },
      "source": [
        "def Delta(CLR,RR):\n",
        "  return CLR-RR"
      ],
      "execution_count": 10,
      "outputs": []
    },
    {
      "cell_type": "code",
      "metadata": {
        "id": "PRsgWcIxRNm3"
      },
      "source": [
        "Del=[]\n",
        "for i in df.index:\n",
        "  Del.append(Delta(df1['Case Load Rate'][i],df1['Recovery Rate'][i]))"
      ],
      "execution_count": 11,
      "outputs": []
    },
    {
      "cell_type": "code",
      "metadata": {
        "id": "hIK0dMI4Wm1v"
      },
      "source": [
        "df1['Delta']=Del"
      ],
      "execution_count": 12,
      "outputs": []
    },
    {
      "cell_type": "code",
      "metadata": {
        "id": "re3UKhh0P4Tu"
      },
      "source": [
        "train_dates=pd.to_datetime(df['Date_YMD'])"
      ],
      "execution_count": 13,
      "outputs": []
    },
    {
      "cell_type": "code",
      "metadata": {
        "id": "a-E43eDEYpcP",
        "colab": {
          "base_uri": "https://localhost:8080/",
          "height": 265
        },
        "outputId": "6e6dc23b-163d-4cc6-aa3e-ce9f4d212406"
      },
      "source": [
        "# plt.title(\"Red - Recovery Rate Blue - Case Load Rate Black-Delta\")\n",
        "plt.plot(train_dates,CLR,color=\"Blue\", Label='Case Load Rate')\n",
        "plt.plot(train_dates,RR,color=\"red\", Label='Recovery Rate')\n",
        "plt.plot(train_dates,Del,color=\"Black\", Label='Delta')\n",
        "plt.grid()"
      ],
      "execution_count": 14,
      "outputs": [
        {
          "output_type": "display_data",
          "data": {
            "image/png": "[encoded data removed]",
            "text/plain": [
              "<Figure size 432x288 with 1 Axes>"
            ]
          },
          "metadata": {
            "tags": [],
            "needs_background": "light"
          }
        }
      ]
    },
    {
      "cell_type": "code",
      "metadata": {
        "id": "2VyOThkNbXig",
        "colab": {
          "base_uri": "https://localhost:8080/"
        },
        "outputId": "08708678-679a-4555-c1dc-7cbc4500965b"
      },
      "source": [
        "cols=list(df1)[9:10]\n",
        "cols"
      ],
      "execution_count": 15,
      "outputs": [
        {
          "output_type": "execute_result",
          "data": {
            "text/plain": [
              "['Case Load Rate']"
            ]
          },
          "metadata": {
            "tags": []
          },
          "execution_count": 15
        }
      ]
    },
    {
      "cell_type": "code",
      "metadata": {
        "id": "Zl9m08dNbrNi"
      },
      "source": [
        "df1.replace([np.inf, -np.inf], np.nan, inplace=True)\n",
        "df1.dropna(inplace=True)"
      ],
      "execution_count": 16,
      "outputs": []
    },
    {
      "cell_type": "code",
      "metadata": {
        "id": "Y6UvvNZIbuxz"
      },
      "source": [
        "df_for_training=df1[cols].astype(float)"
      ],
      "execution_count": 17,
      "outputs": []
    },
    {
      "cell_type": "code",
      "metadata": {
        "id": "qvth9j6kb5zD"
      },
      "source": [
        "scaler=StandardScaler()\n",
        "scaler=scaler.fit(df_for_training)\n",
        "df_for_training_scaled=scaler.transform(df_for_training)"
      ],
      "execution_count": 18,
      "outputs": []
    },
    {
      "cell_type": "code",
      "metadata": {
        "id": "ACO2QWSNb-ZI"
      },
      "source": [
        "trainX=[]\n",
        "trainY=[]"
      ],
      "execution_count": 19,
      "outputs": []
    },
    {
      "cell_type": "code",
      "metadata": {
        "id": "Wf7GPXZ0cAyZ"
      },
      "source": [
        "n_future=1\n",
        "n_past=14"
      ],
      "execution_count": 20,
      "outputs": []
    },
    {
      "cell_type": "code",
      "metadata": {
        "id": "s3jg1YK3cDxl"
      },
      "source": [
        "for i in range(n_past, len(df_for_training_scaled)-n_future +1):\n",
        "  trainX.append(df_for_training_scaled[i-n_past:i, 0:df_for_training.shape[1]])\n",
        "  trainY.append(df_for_training_scaled[i+n_future-1:i+n_future,0])\n",
        "trainX,trainY=np.array(trainX),np.array(trainY)"
      ],
      "execution_count": 21,
      "outputs": []
    },
    {
      "cell_type": "code",
      "metadata": {
        "id": "iGkjGIb-jhaC"
      },
      "source": [
        "\n",
        "model = Sequential()\n",
        "model.add(Bidirectional(LSTM(50, activation='relu'), input_shape=(trainX.shape[1], trainX.shape[2])))\n",
        "model.add(Dense(1))\n",
        "model.compile(optimizer='adam', loss='mse', metrics=['mean_squared_error','mean_absolute_error'])"
      ],
      "execution_count": 22,
      "outputs": []
    },
    {
      "cell_type": "code",
      "metadata": {
        "id": "kq-EXE3zjjOT"
      },
      "source": [
        ""
      ],
      "execution_count": 22,
      "outputs": []
    },
    {
      "cell_type": "code",
      "metadata": {
        "id": "2OngdagTcUGT",
        "colab": {
          "base_uri": "https://localhost:8080/"
        },
        "outputId": "9c23f6bf-6e2c-4579-fdb4-1afcae42a03a"
      },
      "source": [
        "history=model.fit(trainX,trainY,epochs=90,batch_size=1,validation_split=0.2,verbose=1)"
      ],
      "execution_count": 23,
      "outputs": [
        {
          "output_type": "stream",
          "text": [
            "Epoch 1/90\n",
            "336/336 [==============================] - 5s 8ms/step - loss: 0.3943 - mean_squared_error: 0.3943 - mean_absolute_error: 0.4572 - val_loss: 0.1536 - val_mean_squared_error: 0.1536 - val_mean_absolute_error: 0.3210\n",
            "Epoch 2/90\n",
            "336/336 [==============================] - 2s 6ms/step - loss: 0.2003 - mean_squared_error: 0.2003 - mean_absolute_error: 0.3049 - val_loss: 0.1827 - val_mean_squared_error: 0.1827 - val_mean_absolute_error: 0.3438\n",
            "Epoch 3/90\n",
            "336/336 [==============================] - 2s 6ms/step - loss: 0.1842 - mean_squared_error: 0.1842 - mean_absolute_error: 0.2975 - val_loss: 0.1484 - val_mean_squared_error: 0.1484 - val_mean_absolute_error: 0.3156\n",
            "Epoch 4/90\n",
            "336/336 [==============================] - 2s 6ms/step - loss: 0.1464 - mean_squared_error: 0.1464 - mean_absolute_error: 0.2615 - val_loss: 0.1926 - val_mean_squared_error: 0.1926 - val_mean_absolute_error: 0.3493\n",
            "Epoch 5/90\n",
            "336/336 [==============================] - 2s 6ms/step - loss: 0.1458 - mean_squared_error: 0.1458 - mean_absolute_error: 0.2736 - val_loss: 0.1577 - val_mean_squared_error: 0.1577 - val_mean_absolute_error: 0.3218\n",
            "Epoch 6/90\n",
            "336/336 [==============================] - 2s 6ms/step - loss: 0.1877 - mean_squared_error: 0.1877 - mean_absolute_error: 0.2861 - val_loss: 0.1564 - val_mean_squared_error: 0.1564 - val_mean_absolute_error: 0.3321\n",
            "Epoch 7/90\n",
            "336/336 [==============================] - 2s 6ms/step - loss: 0.1636 - mean_squared_error: 0.1636 - mean_absolute_error: 0.2780 - val_loss: 0.1575 - val_mean_squared_error: 0.1575 - val_mean_absolute_error: 0.3236\n",
            "Epoch 8/90\n",
            "336/336 [==============================] - 2s 6ms/step - loss: 0.1759 - mean_squared_error: 0.1759 - mean_absolute_error: 0.2801 - val_loss: 0.2008 - val_mean_squared_error: 0.2008 - val_mean_absolute_error: 0.3565\n",
            "Epoch 9/90\n",
            "336/336 [==============================] - 2s 6ms/step - loss: 0.1200 - mean_squared_error: 0.1200 - mean_absolute_error: 0.2422 - val_loss: 0.1902 - val_mean_squared_error: 0.1902 - val_mean_absolute_error: 0.3508\n",
            "Epoch 10/90\n",
            "336/336 [==============================] - 2s 6ms/step - loss: 0.1257 - mean_squared_error: 0.1257 - mean_absolute_error: 0.2490 - val_loss: 0.2070 - val_mean_squared_error: 0.2070 - val_mean_absolute_error: 0.3556\n",
            "Epoch 11/90\n",
            "336/336 [==============================] - 2s 6ms/step - loss: 0.1335 - mean_squared_error: 0.1335 - mean_absolute_error: 0.2561 - val_loss: 0.1313 - val_mean_squared_error: 0.1313 - val_mean_absolute_error: 0.2884\n",
            "Epoch 12/90\n",
            "336/336 [==============================] - 2s 6ms/step - loss: 0.1055 - mean_squared_error: 0.1055 - mean_absolute_error: 0.2257 - val_loss: 0.1198 - val_mean_squared_error: 0.1198 - val_mean_absolute_error: 0.2786\n",
            "Epoch 13/90\n",
            "336/336 [==============================] - 2s 6ms/step - loss: 0.1493 - mean_squared_error: 0.1493 - mean_absolute_error: 0.2596 - val_loss: 0.1390 - val_mean_squared_error: 0.1390 - val_mean_absolute_error: 0.2951\n",
            "Epoch 14/90\n",
            "336/336 [==============================] - 2s 6ms/step - loss: 0.1392 - mean_squared_error: 0.1392 - mean_absolute_error: 0.2622 - val_loss: 0.1075 - val_mean_squared_error: 0.1075 - val_mean_absolute_error: 0.2627\n",
            "Epoch 15/90\n",
            "336/336 [==============================] - 2s 6ms/step - loss: 0.1155 - mean_squared_error: 0.1155 - mean_absolute_error: 0.2359 - val_loss: 0.1672 - val_mean_squared_error: 0.1672 - val_mean_absolute_error: 0.3262\n",
            "Epoch 16/90\n",
            "336/336 [==============================] - 2s 6ms/step - loss: 0.1484 - mean_squared_error: 0.1484 - mean_absolute_error: 0.2607 - val_loss: 0.1329 - val_mean_squared_error: 0.1329 - val_mean_absolute_error: 0.2817\n",
            "Epoch 17/90\n",
            "336/336 [==============================] - 2s 6ms/step - loss: 0.0981 - mean_squared_error: 0.0981 - mean_absolute_error: 0.2177 - val_loss: 0.1353 - val_mean_squared_error: 0.1353 - val_mean_absolute_error: 0.2967\n",
            "Epoch 18/90\n",
            "336/336 [==============================] - 2s 6ms/step - loss: 0.1410 - mean_squared_error: 0.1410 - mean_absolute_error: 0.2663 - val_loss: 0.0939 - val_mean_squared_error: 0.0939 - val_mean_absolute_error: 0.2417\n",
            "Epoch 19/90\n",
            "336/336 [==============================] - 2s 6ms/step - loss: 0.1303 - mean_squared_error: 0.1303 - mean_absolute_error: 0.2418 - val_loss: 0.1195 - val_mean_squared_error: 0.1195 - val_mean_absolute_error: 0.2722\n",
            "Epoch 20/90\n",
            "336/336 [==============================] - 2s 6ms/step - loss: 0.0689 - mean_squared_error: 0.0689 - mean_absolute_error: 0.1943 - val_loss: 0.1182 - val_mean_squared_error: 0.1182 - val_mean_absolute_error: 0.2698\n",
            "Epoch 21/90\n",
            "336/336 [==============================] - 2s 6ms/step - loss: 0.1509 - mean_squared_error: 0.1509 - mean_absolute_error: 0.2598 - val_loss: 0.1050 - val_mean_squared_error: 0.1050 - val_mean_absolute_error: 0.2559\n",
            "Epoch 22/90\n",
            "336/336 [==============================] - 2s 6ms/step - loss: 0.0992 - mean_squared_error: 0.0992 - mean_absolute_error: 0.2183 - val_loss: 0.1146 - val_mean_squared_error: 0.1146 - val_mean_absolute_error: 0.2668\n",
            "Epoch 23/90\n",
            "336/336 [==============================] - 2s 6ms/step - loss: 0.1109 - mean_squared_error: 0.1109 - mean_absolute_error: 0.2259 - val_loss: 0.0887 - val_mean_squared_error: 0.0887 - val_mean_absolute_error: 0.2325\n",
            "Epoch 24/90\n",
            "336/336 [==============================] - 2s 6ms/step - loss: 0.1380 - mean_squared_error: 0.1380 - mean_absolute_error: 0.2469 - val_loss: 0.0964 - val_mean_squared_error: 0.0964 - val_mean_absolute_error: 0.2460\n",
            "Epoch 25/90\n",
            "336/336 [==============================] - 2s 6ms/step - loss: 0.1471 - mean_squared_error: 0.1471 - mean_absolute_error: 0.2567 - val_loss: 0.1264 - val_mean_squared_error: 0.1264 - val_mean_absolute_error: 0.2820\n",
            "Epoch 26/90\n",
            "336/336 [==============================] - 2s 6ms/step - loss: 0.1249 - mean_squared_error: 0.1249 - mean_absolute_error: 0.2407 - val_loss: 0.1017 - val_mean_squared_error: 0.1017 - val_mean_absolute_error: 0.2512\n",
            "Epoch 27/90\n",
            "336/336 [==============================] - 2s 6ms/step - loss: 0.1401 - mean_squared_error: 0.1401 - mean_absolute_error: 0.2506 - val_loss: 0.0934 - val_mean_squared_error: 0.0934 - val_mean_absolute_error: 0.2422\n",
            "Epoch 28/90\n",
            "336/336 [==============================] - 2s 6ms/step - loss: 0.1352 - mean_squared_error: 0.1352 - mean_absolute_error: 0.2267 - val_loss: 0.1410 - val_mean_squared_error: 0.1410 - val_mean_absolute_error: 0.2996\n",
            "Epoch 29/90\n",
            "336/336 [==============================] - 2s 6ms/step - loss: 0.1117 - mean_squared_error: 0.1117 - mean_absolute_error: 0.2270 - val_loss: 0.1056 - val_mean_squared_error: 0.1056 - val_mean_absolute_error: 0.2572\n",
            "Epoch 30/90\n",
            "336/336 [==============================] - 2s 6ms/step - loss: 0.1473 - mean_squared_error: 0.1473 - mean_absolute_error: 0.2468 - val_loss: 0.0945 - val_mean_squared_error: 0.0945 - val_mean_absolute_error: 0.2436\n",
            "Epoch 31/90\n",
            "336/336 [==============================] - 2s 6ms/step - loss: 0.1281 - mean_squared_error: 0.1281 - mean_absolute_error: 0.2393 - val_loss: 0.0966 - val_mean_squared_error: 0.0966 - val_mean_absolute_error: 0.2472\n",
            "Epoch 32/90\n",
            "336/336 [==============================] - 2s 6ms/step - loss: 0.1118 - mean_squared_error: 0.1118 - mean_absolute_error: 0.2381 - val_loss: 0.1037 - val_mean_squared_error: 0.1037 - val_mean_absolute_error: 0.2595\n",
            "Epoch 33/90\n",
            "336/336 [==============================] - 2s 6ms/step - loss: 0.1128 - mean_squared_error: 0.1128 - mean_absolute_error: 0.2295 - val_loss: 0.1085 - val_mean_squared_error: 0.1085 - val_mean_absolute_error: 0.2633\n",
            "Epoch 34/90\n",
            "336/336 [==============================] - 2s 6ms/step - loss: 0.1147 - mean_squared_error: 0.1147 - mean_absolute_error: 0.2246 - val_loss: 0.1004 - val_mean_squared_error: 0.1004 - val_mean_absolute_error: 0.2556\n",
            "Epoch 35/90\n",
            "336/336 [==============================] - 2s 6ms/step - loss: 0.1207 - mean_squared_error: 0.1207 - mean_absolute_error: 0.2424 - val_loss: 0.1056 - val_mean_squared_error: 0.1056 - val_mean_absolute_error: 0.2611\n",
            "Epoch 36/90\n",
            "336/336 [==============================] - 2s 6ms/step - loss: 0.1152 - mean_squared_error: 0.1152 - mean_absolute_error: 0.2179 - val_loss: 0.0945 - val_mean_squared_error: 0.0945 - val_mean_absolute_error: 0.2376\n",
            "Epoch 37/90\n",
            "336/336 [==============================] - 2s 6ms/step - loss: 0.1258 - mean_squared_error: 0.1258 - mean_absolute_error: 0.2260 - val_loss: 0.1049 - val_mean_squared_error: 0.1049 - val_mean_absolute_error: 0.2622\n",
            "Epoch 38/90\n",
            "336/336 [==============================] - 2s 6ms/step - loss: 0.0914 - mean_squared_error: 0.0914 - mean_absolute_error: 0.1979 - val_loss: 0.0927 - val_mean_squared_error: 0.0927 - val_mean_absolute_error: 0.2333\n",
            "Epoch 39/90\n",
            "336/336 [==============================] - 2s 6ms/step - loss: 0.0913 - mean_squared_error: 0.0913 - mean_absolute_error: 0.2187 - val_loss: 0.1034 - val_mean_squared_error: 0.1034 - val_mean_absolute_error: 0.2594\n",
            "Epoch 40/90\n",
            "336/336 [==============================] - 2s 6ms/step - loss: 0.0958 - mean_squared_error: 0.0958 - mean_absolute_error: 0.2028 - val_loss: 0.0977 - val_mean_squared_error: 0.0977 - val_mean_absolute_error: 0.2482\n",
            "Epoch 41/90\n",
            "336/336 [==============================] - 2s 6ms/step - loss: 0.0885 - mean_squared_error: 0.0885 - mean_absolute_error: 0.2070 - val_loss: 0.1049 - val_mean_squared_error: 0.1049 - val_mean_absolute_error: 0.2516\n",
            "Epoch 42/90\n",
            "336/336 [==============================] - 2s 6ms/step - loss: 0.0911 - mean_squared_error: 0.0911 - mean_absolute_error: 0.2076 - val_loss: 0.0898 - val_mean_squared_error: 0.0898 - val_mean_absolute_error: 0.2375\n",
            "Epoch 43/90\n",
            "336/336 [==============================] - 2s 6ms/step - loss: 0.1036 - mean_squared_error: 0.1036 - mean_absolute_error: 0.2179 - val_loss: 0.1015 - val_mean_squared_error: 0.1015 - val_mean_absolute_error: 0.2526\n",
            "Epoch 44/90\n",
            "336/336 [==============================] - 2s 6ms/step - loss: 0.0835 - mean_squared_error: 0.0835 - mean_absolute_error: 0.1974 - val_loss: 0.1233 - val_mean_squared_error: 0.1233 - val_mean_absolute_error: 0.2866\n",
            "Epoch 45/90\n",
            "336/336 [==============================] - 2s 6ms/step - loss: 0.0912 - mean_squared_error: 0.0912 - mean_absolute_error: 0.2017 - val_loss: 0.0997 - val_mean_squared_error: 0.0997 - val_mean_absolute_error: 0.2535\n",
            "Epoch 46/90\n",
            "336/336 [==============================] - 2s 6ms/step - loss: 0.0749 - mean_squared_error: 0.0749 - mean_absolute_error: 0.1844 - val_loss: 0.1047 - val_mean_squared_error: 0.1047 - val_mean_absolute_error: 0.2584\n",
            "Epoch 47/90\n",
            "336/336 [==============================] - 2s 6ms/step - loss: 0.0859 - mean_squared_error: 0.0859 - mean_absolute_error: 0.1979 - val_loss: 0.0940 - val_mean_squared_error: 0.0940 - val_mean_absolute_error: 0.2413\n",
            "Epoch 48/90\n",
            "336/336 [==============================] - 2s 6ms/step - loss: 0.0810 - mean_squared_error: 0.0810 - mean_absolute_error: 0.1928 - val_loss: 0.1059 - val_mean_squared_error: 0.1059 - val_mean_absolute_error: 0.2601\n",
            "Epoch 49/90\n",
            "336/336 [==============================] - 2s 6ms/step - loss: 0.0952 - mean_squared_error: 0.0952 - mean_absolute_error: 0.2074 - val_loss: 0.1172 - val_mean_squared_error: 0.1172 - val_mean_absolute_error: 0.2725\n",
            "Epoch 50/90\n",
            "336/336 [==============================] - 2s 6ms/step - loss: 0.1007 - mean_squared_error: 0.1007 - mean_absolute_error: 0.2219 - val_loss: 0.1059 - val_mean_squared_error: 0.1059 - val_mean_absolute_error: 0.2539\n",
            "Epoch 51/90\n",
            "336/336 [==============================] - 2s 6ms/step - loss: 0.0825 - mean_squared_error: 0.0825 - mean_absolute_error: 0.2013 - val_loss: 0.0987 - val_mean_squared_error: 0.0987 - val_mean_absolute_error: 0.2510\n",
            "Epoch 52/90\n",
            "336/336 [==============================] - 2s 6ms/step - loss: 0.0966 - mean_squared_error: 0.0966 - mean_absolute_error: 0.2120 - val_loss: 0.0842 - val_mean_squared_error: 0.0842 - val_mean_absolute_error: 0.2329\n",
            "Epoch 53/90\n",
            "336/336 [==============================] - 2s 6ms/step - loss: 0.0830 - mean_squared_error: 0.0830 - mean_absolute_error: 0.2037 - val_loss: 0.1044 - val_mean_squared_error: 0.1044 - val_mean_absolute_error: 0.2584\n",
            "Epoch 54/90\n",
            "336/336 [==============================] - 2s 6ms/step - loss: 0.1116 - mean_squared_error: 0.1116 - mean_absolute_error: 0.2222 - val_loss: 0.1085 - val_mean_squared_error: 0.1085 - val_mean_absolute_error: 0.2598\n",
            "Epoch 55/90\n",
            "336/336 [==============================] - 2s 6ms/step - loss: 0.0845 - mean_squared_error: 0.0845 - mean_absolute_error: 0.2050 - val_loss: 0.1124 - val_mean_squared_error: 0.1124 - val_mean_absolute_error: 0.2691\n",
            "Epoch 56/90\n",
            "336/336 [==============================] - 2s 6ms/step - loss: 0.0956 - mean_squared_error: 0.0956 - mean_absolute_error: 0.2074 - val_loss: 0.1131 - val_mean_squared_error: 0.1131 - val_mean_absolute_error: 0.2722\n",
            "Epoch 57/90\n",
            "336/336 [==============================] - 2s 6ms/step - loss: 0.0625 - mean_squared_error: 0.0625 - mean_absolute_error: 0.1861 - val_loss: 0.1239 - val_mean_squared_error: 0.1239 - val_mean_absolute_error: 0.2863\n",
            "Epoch 58/90\n",
            "336/336 [==============================] - 2s 6ms/step - loss: 0.0710 - mean_squared_error: 0.0710 - mean_absolute_error: 0.1908 - val_loss: 0.1185 - val_mean_squared_error: 0.1185 - val_mean_absolute_error: 0.2779\n",
            "Epoch 59/90\n",
            "336/336 [==============================] - 2s 6ms/step - loss: 0.0828 - mean_squared_error: 0.0828 - mean_absolute_error: 0.2013 - val_loss: 0.1067 - val_mean_squared_error: 0.1067 - val_mean_absolute_error: 0.2467\n",
            "Epoch 60/90\n",
            "336/336 [==============================] - 2s 6ms/step - loss: 0.0942 - mean_squared_error: 0.0942 - mean_absolute_error: 0.2109 - val_loss: 0.1106 - val_mean_squared_error: 0.1106 - val_mean_absolute_error: 0.2652\n",
            "Epoch 61/90\n",
            "336/336 [==============================] - 2s 6ms/step - loss: 0.0716 - mean_squared_error: 0.0716 - mean_absolute_error: 0.1932 - val_loss: 0.1274 - val_mean_squared_error: 0.1274 - val_mean_absolute_error: 0.2867\n",
            "Epoch 62/90\n",
            "336/336 [==============================] - 2s 6ms/step - loss: 0.1002 - mean_squared_error: 0.1002 - mean_absolute_error: 0.2132 - val_loss: 0.1178 - val_mean_squared_error: 0.1178 - val_mean_absolute_error: 0.2665\n",
            "Epoch 63/90\n",
            "336/336 [==============================] - 2s 6ms/step - loss: 0.1345 - mean_squared_error: 0.1345 - mean_absolute_error: 0.2240 - val_loss: 0.1172 - val_mean_squared_error: 0.1172 - val_mean_absolute_error: 0.2690\n",
            "Epoch 64/90\n",
            "336/336 [==============================] - 2s 6ms/step - loss: 0.0718 - mean_squared_error: 0.0718 - mean_absolute_error: 0.1842 - val_loss: 0.1238 - val_mean_squared_error: 0.1238 - val_mean_absolute_error: 0.2855\n",
            "Epoch 65/90\n",
            "336/336 [==============================] - 2s 6ms/step - loss: 0.1147 - mean_squared_error: 0.1147 - mean_absolute_error: 0.2092 - val_loss: 0.1133 - val_mean_squared_error: 0.1133 - val_mean_absolute_error: 0.2690\n",
            "Epoch 66/90\n",
            "336/336 [==============================] - 2s 6ms/step - loss: 0.0760 - mean_squared_error: 0.0760 - mean_absolute_error: 0.1930 - val_loss: 0.1142 - val_mean_squared_error: 0.1142 - val_mean_absolute_error: 0.2659\n",
            "Epoch 67/90\n",
            "336/336 [==============================] - 2s 6ms/step - loss: 0.1355 - mean_squared_error: 0.1355 - mean_absolute_error: 0.2137 - val_loss: 0.1312 - val_mean_squared_error: 0.1312 - val_mean_absolute_error: 0.2908\n",
            "Epoch 68/90\n",
            "336/336 [==============================] - 2s 6ms/step - loss: 0.1115 - mean_squared_error: 0.1115 - mean_absolute_error: 0.2174 - val_loss: 0.1217 - val_mean_squared_error: 0.1217 - val_mean_absolute_error: 0.2705\n",
            "Epoch 69/90\n",
            "336/336 [==============================] - 2s 6ms/step - loss: 0.0965 - mean_squared_error: 0.0965 - mean_absolute_error: 0.1940 - val_loss: 0.1118 - val_mean_squared_error: 0.1118 - val_mean_absolute_error: 0.2703\n",
            "Epoch 70/90\n",
            "336/336 [==============================] - 2s 6ms/step - loss: 0.0886 - mean_squared_error: 0.0886 - mean_absolute_error: 0.1943 - val_loss: 0.1195 - val_mean_squared_error: 0.1195 - val_mean_absolute_error: 0.2689\n",
            "Epoch 71/90\n",
            "336/336 [==============================] - 2s 6ms/step - loss: 0.0859 - mean_squared_error: 0.0859 - mean_absolute_error: 0.1892 - val_loss: 0.1272 - val_mean_squared_error: 0.1272 - val_mean_absolute_error: 0.2895\n",
            "Epoch 72/90\n",
            "336/336 [==============================] - 2s 6ms/step - loss: 0.0575 - mean_squared_error: 0.0575 - mean_absolute_error: 0.1663 - val_loss: 0.1477 - val_mean_squared_error: 0.1477 - val_mean_absolute_error: 0.3072\n",
            "Epoch 73/90\n",
            "336/336 [==============================] - 2s 6ms/step - loss: 0.0836 - mean_squared_error: 0.0836 - mean_absolute_error: 0.1881 - val_loss: 0.1279 - val_mean_squared_error: 0.1279 - val_mean_absolute_error: 0.2826\n",
            "Epoch 74/90\n",
            "336/336 [==============================] - 2s 6ms/step - loss: 0.0752 - mean_squared_error: 0.0752 - mean_absolute_error: 0.1819 - val_loss: 0.1247 - val_mean_squared_error: 0.1247 - val_mean_absolute_error: 0.2788\n",
            "Epoch 75/90\n",
            "336/336 [==============================] - 2s 6ms/step - loss: 0.0970 - mean_squared_error: 0.0970 - mean_absolute_error: 0.1977 - val_loss: 0.1281 - val_mean_squared_error: 0.1281 - val_mean_absolute_error: 0.2814\n",
            "Epoch 76/90\n",
            "336/336 [==============================] - 2s 6ms/step - loss: 0.0830 - mean_squared_error: 0.0830 - mean_absolute_error: 0.1925 - val_loss: 0.1174 - val_mean_squared_error: 0.1174 - val_mean_absolute_error: 0.2679\n",
            "Epoch 77/90\n",
            "336/336 [==============================] - 2s 6ms/step - loss: 0.0899 - mean_squared_error: 0.0899 - mean_absolute_error: 0.1894 - val_loss: 0.1282 - val_mean_squared_error: 0.1282 - val_mean_absolute_error: 0.2799\n",
            "Epoch 78/90\n",
            "336/336 [==============================] - 2s 6ms/step - loss: 0.0736 - mean_squared_error: 0.0736 - mean_absolute_error: 0.1867 - val_loss: 0.1178 - val_mean_squared_error: 0.1178 - val_mean_absolute_error: 0.2720\n",
            "Epoch 79/90\n",
            "336/336 [==============================] - 2s 6ms/step - loss: 0.0756 - mean_squared_error: 0.0756 - mean_absolute_error: 0.1822 - val_loss: 0.1536 - val_mean_squared_error: 0.1536 - val_mean_absolute_error: 0.3053\n",
            "Epoch 80/90\n",
            "336/336 [==============================] - 2s 6ms/step - loss: 0.0566 - mean_squared_error: 0.0566 - mean_absolute_error: 0.1620 - val_loss: 0.1474 - val_mean_squared_error: 0.1474 - val_mean_absolute_error: 0.3011\n",
            "Epoch 81/90\n",
            "336/336 [==============================] - 2s 6ms/step - loss: 0.0750 - mean_squared_error: 0.0750 - mean_absolute_error: 0.1781 - val_loss: 0.1537 - val_mean_squared_error: 0.1537 - val_mean_absolute_error: 0.3087\n",
            "Epoch 82/90\n",
            "336/336 [==============================] - 2s 6ms/step - loss: 0.0547 - mean_squared_error: 0.0547 - mean_absolute_error: 0.1629 - val_loss: 0.1631 - val_mean_squared_error: 0.1631 - val_mean_absolute_error: 0.3156\n",
            "Epoch 83/90\n",
            "336/336 [==============================] - 2s 6ms/step - loss: 0.0553 - mean_squared_error: 0.0553 - mean_absolute_error: 0.1747 - val_loss: 0.2016 - val_mean_squared_error: 0.2016 - val_mean_absolute_error: 0.3686\n",
            "Epoch 84/90\n",
            "336/336 [==============================] - 2s 6ms/step - loss: 0.0641 - mean_squared_error: 0.0641 - mean_absolute_error: 0.1783 - val_loss: 0.1677 - val_mean_squared_error: 0.1677 - val_mean_absolute_error: 0.3161\n",
            "Epoch 85/90\n",
            "336/336 [==============================] - 2s 6ms/step - loss: 0.0724 - mean_squared_error: 0.0724 - mean_absolute_error: 0.1805 - val_loss: 0.1896 - val_mean_squared_error: 0.1896 - val_mean_absolute_error: 0.3291\n",
            "Epoch 86/90\n",
            "336/336 [==============================] - 2s 6ms/step - loss: 0.0456 - mean_squared_error: 0.0456 - mean_absolute_error: 0.1520 - val_loss: 0.1738 - val_mean_squared_error: 0.1738 - val_mean_absolute_error: 0.3272\n",
            "Epoch 87/90\n",
            "336/336 [==============================] - 2s 6ms/step - loss: 0.0682 - mean_squared_error: 0.0682 - mean_absolute_error: 0.1758 - val_loss: 0.1925 - val_mean_squared_error: 0.1925 - val_mean_absolute_error: 0.3466\n",
            "Epoch 88/90\n",
            "336/336 [==============================] - 2s 6ms/step - loss: 0.0658 - mean_squared_error: 0.0658 - mean_absolute_error: 0.1761 - val_loss: 0.1863 - val_mean_squared_error: 0.1863 - val_mean_absolute_error: 0.3377\n",
            "Epoch 89/90\n",
            "336/336 [==============================] - 2s 6ms/step - loss: 0.0684 - mean_squared_error: 0.0684 - mean_absolute_error: 0.1768 - val_loss: 0.1901 - val_mean_squared_error: 0.1901 - val_mean_absolute_error: 0.3459\n",
            "Epoch 90/90\n",
            "336/336 [==============================] - 2s 6ms/step - loss: 0.0599 - mean_squared_error: 0.0599 - mean_absolute_error: 0.1697 - val_loss: 0.2146 - val_mean_squared_error: 0.2146 - val_mean_absolute_error: 0.3625\n"
          ],
          "name": "stdout"
        }
      ]
    },
    {
      "cell_type": "code",
      "metadata": {
        "id": "lqCFogZPME1r",
        "colab": {
          "base_uri": "https://localhost:8080/",
          "height": 282
        },
        "outputId": "51947f24-0c5a-4444-f087-744be9af0166"
      },
      "source": [
        "plt.plot(history.history['mean_squared_error'], Label='Mean Squared Error')\n",
        "plt.plot(history.history['mean_absolute_error'], Label='Mean Absolute Error')\n",
        "plt.grid()\n",
        "plt.legend()"
      ],
      "execution_count": 24,
      "outputs": [
        {
          "output_type": "execute_result",
          "data": {
            "text/plain": [
              "<matplotlib.legend.Legend at 0x7f8d646fcd10>"
            ]
          },
          "metadata": {
            "tags": []
          },
          "execution_count": 24
        },
        {
          "output_type": "display_data",
          "data": {
            "image/png": "[encoded data removed]",
            "text/plain": [
              "<Figure size 432x288 with 1 Axes>"
            ]
          },
          "metadata": {
            "tags": [],
            "needs_background": "light"
          }
        }
      ]
    },
    {
      "cell_type": "code",
      "metadata": {
        "id": "lKlzXPcHcXko",
        "colab": {
          "base_uri": "https://localhost:8080/",
          "height": 282
        },
        "outputId": "920e3118-65d2-4791-9eeb-45ee234f69fe"
      },
      "source": [
        "plt.plot(history.history['loss'], Label='Training Loss')\n",
        "plt.plot(history.history['val_loss'], Label='Validation Loss')\n",
        "plt.grid()\n",
        "plt.legend()"
      ],
      "execution_count": 25,
      "outputs": [
        {
          "output_type": "execute_result",
          "data": {
            "text/plain": [
              "<matplotlib.legend.Legend at 0x7f8d67386150>"
            ]
          },
          "metadata": {
            "tags": []
          },
          "execution_count": 25
        },
        {
          "output_type": "display_data",
          "data": {
            "image/png": "[encoded data removed]",
            "text/plain": [
              "<Figure size 432x288 with 1 Axes>"
            ]
          },
          "metadata": {
            "tags": [],
            "needs_background": "light"
          }
        }
      ]
    },
    {
      "cell_type": "code",
      "metadata": {
        "id": "E-VpwZf8cdRY"
      },
      "source": [
        "n_f=60\n",
        "forecast_period_dates = pd.date_range(list(train_dates)[-1], periods=n_f, freq='1d').tolist()\n",
        "forecast = model.predict(trainX[-n_f:])\n",
        "forecast_copies = np.repeat(forecast, df_for_training.shape[1], axis=-1)\n",
        "y_pred_future = scaler.inverse_transform(forecast_copies)[:,0]\n",
        "\n",
        "\n",
        "forecast_dates = []\n",
        "for time_i in forecast_period_dates:\n",
        "    forecast_dates.append(time_i.date())"
      ],
      "execution_count": 26,
      "outputs": []
    },
    {
      "cell_type": "code",
      "metadata": {
        "id": "1QO1WgIu96S2",
        "colab": {
          "base_uri": "https://localhost:8080/"
        },
        "outputId": "4a31e8a7-f884-4e57-f352-360b87214f0a"
      },
      "source": [
        "forecast_dates"
      ],
      "execution_count": 27,
      "outputs": [
        {
          "output_type": "execute_result",
          "data": {
            "text/plain": [
              "[datetime.date(2021, 5, 6),\n",
              " datetime.date(2021, 5, 7),\n",
              " datetime.date(2021, 5, 8),\n",
              " datetime.date(2021, 5, 9),\n",
              " datetime.date(2021, 5, 10),\n",
              " datetime.date(2021, 5, 11),\n",
              " datetime.date(2021, 5, 12),\n",
              " datetime.date(2021, 5, 13),\n",
              " datetime.date(2021, 5, 14),\n",
              " datetime.date(2021, 5, 15),\n",
              " datetime.date(2021, 5, 16),\n",
              " datetime.date(2021, 5, 17),\n",
              " datetime.date(2021, 5, 18),\n",
              " datetime.date(2021, 5, 19),\n",
              " datetime.date(2021, 5, 20),\n",
              " datetime.date(2021, 5, 21),\n",
              " datetime.date(2021, 5, 22),\n",
              " datetime.date(2021, 5, 23),\n",
              " datetime.date(2021, 5, 24),\n",
              " datetime.date(2021, 5, 25),\n",
              " datetime.date(2021, 5, 26),\n",
              " datetime.date(2021, 5, 27),\n",
              " datetime.date(2021, 5, 28),\n",
              " datetime.date(2021, 5, 29),\n",
              " datetime.date(2021, 5, 30),\n",
              " datetime.date(2021, 5, 31),\n",
              " datetime.date(2021, 6, 1),\n",
              " datetime.date(2021, 6, 2),\n",
              " datetime.date(2021, 6, 3),\n",
              " datetime.date(2021, 6, 4),\n",
              " datetime.date(2021, 6, 5),\n",
              " datetime.date(2021, 6, 6),\n",
              " datetime.date(2021, 6, 7),\n",
              " datetime.date(2021, 6, 8),\n",
              " datetime.date(2021, 6, 9),\n",
              " datetime.date(2021, 6, 10),\n",
              " datetime.date(2021, 6, 11),\n",
              " datetime.date(2021, 6, 12),\n",
              " datetime.date(2021, 6, 13),\n",
              " datetime.date(2021, 6, 14),\n",
              " datetime.date(2021, 6, 15),\n",
              " datetime.date(2021, 6, 16),\n",
              " datetime.date(2021, 6, 17),\n",
              " datetime.date(2021, 6, 18),\n",
              " datetime.date(2021, 6, 19),\n",
              " datetime.date(2021, 6, 20),\n",
              " datetime.date(2021, 6, 21),\n",
              " datetime.date(2021, 6, 22),\n",
              " datetime.date(2021, 6, 23),\n",
              " datetime.date(2021, 6, 24),\n",
              " datetime.date(2021, 6, 25),\n",
              " datetime.date(2021, 6, 26),\n",
              " datetime.date(2021, 6, 27),\n",
              " datetime.date(2021, 6, 28),\n",
              " datetime.date(2021, 6, 29),\n",
              " datetime.date(2021, 6, 30),\n",
              " datetime.date(2021, 7, 1),\n",
              " datetime.date(2021, 7, 2),\n",
              " datetime.date(2021, 7, 3),\n",
              " datetime.date(2021, 7, 4)]"
            ]
          },
          "metadata": {
            "tags": []
          },
          "execution_count": 27
        }
      ]
    },
    {
      "cell_type": "code",
      "metadata": {
        "id": "snKv5cYKct29"
      },
      "source": [
        "df_forecast = pd.DataFrame({'Date_YMD':np.array(forecast_dates), 'Case Load Rate':y_pred_future})\n",
        "df_forecast['Date_YMD']=pd.to_datetime(df_forecast['Date_YMD'])"
      ],
      "execution_count": 28,
      "outputs": []
    },
    {
      "cell_type": "code",
      "metadata": {
        "id": "xmz5vUJfcyO5",
        "colab": {
          "base_uri": "https://localhost:8080/"
        },
        "outputId": "779a8413-5f9b-415d-dbc6-fd6aa5812058"
      },
      "source": [
        "original=df1[['Date_YMD','Case Load Rate']]\n",
        "original['Date_YMD']=pd.to_datetime(original['Date_YMD'])\n",
        "original = original.loc[original['Date_YMD'] >= '2020-01-30']"
      ],
      "execution_count": 29,
      "outputs": [
        {
          "output_type": "stream",
          "text": [
            "/usr/local/lib/python3.7/dist-packages/ipykernel_launcher.py:2: SettingWithCopyWarning: \n",
            "A value is trying to be set on a copy of a slice from a DataFrame.\n",
            "Try using .loc[row_indexer,col_indexer] = value instead\n",
            "\n",
            "See the caveats in the documentation: https://pandas.pydata.org/pandas-docs/stable/user_guide/indexing.html#returning-a-view-versus-a-copy\n",
            "  \n"
          ],
          "name": "stderr"
        }
      ]
    },
    {
      "cell_type": "code",
      "metadata": {
        "id": "ViyGwWqUc1pT",
        "colab": {
          "base_uri": "https://localhost:8080/",
          "height": 385
        },
        "outputId": "903f967e-e70d-42ba-cd92-fa12249568da"
      },
      "source": [
        "sns.lineplot(original['Date_YMD'], original['Case Load Rate'])\n",
        "sns.lineplot(df_forecast['Date_YMD'], df_forecast['Case Load Rate'])"
      ],
      "execution_count": 30,
      "outputs": [
        {
          "output_type": "stream",
          "text": [
            "/usr/local/lib/python3.7/dist-packages/seaborn/_decorators.py:43: FutureWarning: Pass the following variables as keyword args: x, y. From version 0.12, the only valid positional argument will be `data`, and passing other arguments without an explicit keyword will result in an error or misinterpretation.\n",
            "  FutureWarning\n",
            "/usr/local/lib/python3.7/dist-packages/seaborn/_decorators.py:43: FutureWarning: Pass the following variables as keyword args: x, y. From version 0.12, the only valid positional argument will be `data`, and passing other arguments without an explicit keyword will result in an error or misinterpretation.\n",
            "  FutureWarning\n"
          ],
          "name": "stderr"
        },
        {
          "output_type": "execute_result",
          "data": {
            "text/plain": [
              "<matplotlib.axes._subplots.AxesSubplot at 0x7f8d635d0fd0>"
            ]
          },
          "metadata": {
            "tags": []
          },
          "execution_count": 30
        },
        {
          "output_type": "display_data",
          "data": {
            "image/png": "[encoded data removed]",
            "text/plain": [
              "<Figure size 432x288 with 1 Axes>"
            ]
          },
          "metadata": {
            "tags": [],
            "needs_background": "light"
          }
        }
      ]
    }
  ]
}