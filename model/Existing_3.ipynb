{
  "nbformat": 4,
  "nbformat_minor": 0,
  "metadata": {
    "colab": {
      "name": "Existing-3.ipynb",
      "provenance": []
    },
    "kernelspec": {
      "name": "python3",
      "display_name": "Python 3"
    },
    "language_info": {
      "name": "python"
    }
  },
  "cells": [
    {
      "cell_type": "code",
      "metadata": {
        "id": "KpOCcrVVHecJ"
      },
      "source": [
        ""
      ],
      "execution_count": null,
      "outputs": []
    },
    {
      "cell_type": "code",
      "metadata": {
        "id": "C8aNAFNYiNJV"
      },
      "source": [
        "import numpy as  np\n",
        "from keras.models import Sequential\n",
        "from keras.layers import LSTM, Dense, Dropout, Activation\n",
        "import pandas as pd\n",
        "from matplotlib import pyplot as plt\n",
        "from sklearn.preprocessing import StandardScaler\n",
        "import seaborn as sns\n",
        "from keras.layers import Bidirectional"
      ],
      "execution_count": 1,
      "outputs": []
    },
    {
      "cell_type": "code",
      "metadata": {
        "id": "z-HjgltniWCX",
        "colab": {
          "base_uri": "https://localhost:8080/",
          "height": 419
        },
        "outputId": "360f56fb-dab7-4494-d502-a098f4c67785"
      },
      "source": [
        "df=pd.read_csv('https://api.covid19india.org/csv/latest/case_time_series.csv')\n",
        "df"
      ],
      "execution_count": 2,
      "outputs": [
        {
          "output_type": "execute_result",
          "data": {
            "text/html": [
              "<div>\n",
              "<style scoped>\n",
              "    .dataframe tbody tr th:only-of-type {\n",
              "        vertical-align: middle;\n",
              "    }\n",
              "\n",
              "    .dataframe tbody tr th {\n",
              "        vertical-align: top;\n",
              "    }\n",
              "\n",
              "    .dataframe thead th {\n",
              "        text-align: right;\n",
              "    }\n",
              "</style>\n",
              "<table border=\"1\" class=\"dataframe\">\n",
              "  <thead>\n",
              "    <tr style=\"text-align: right;\">\n",
              "      <th></th>\n",
              "      <th>Date</th>\n",
              "      <th>Date_YMD</th>\n",
              "      <th>Daily Confirmed</th>\n",
              "      <th>Total Confirmed</th>\n",
              "      <th>Daily Recovered</th>\n",
              "      <th>Total Recovered</th>\n",
              "      <th>Daily Deceased</th>\n",
              "      <th>Total Deceased</th>\n",
              "    </tr>\n",
              "  </thead>\n",
              "  <tbody>\n",
              "    <tr>\n",
              "      <th>0</th>\n",
              "      <td>30 January 2020</td>\n",
              "      <td>2020-01-30</td>\n",
              "      <td>1</td>\n",
              "      <td>1</td>\n",
              "      <td>0</td>\n",
              "      <td>0</td>\n",
              "      <td>0</td>\n",
              "      <td>0</td>\n",
              "    </tr>\n",
              "    <tr>\n",
              "      <th>1</th>\n",
              "      <td>31 January 2020</td>\n",
              "      <td>2020-01-31</td>\n",
              "      <td>0</td>\n",
              "      <td>1</td>\n",
              "      <td>0</td>\n",
              "      <td>0</td>\n",
              "      <td>0</td>\n",
              "      <td>0</td>\n",
              "    </tr>\n",
              "    <tr>\n",
              "      <th>2</th>\n",
              "      <td>1 February 2020</td>\n",
              "      <td>2020-02-01</td>\n",
              "      <td>0</td>\n",
              "      <td>1</td>\n",
              "      <td>0</td>\n",
              "      <td>0</td>\n",
              "      <td>0</td>\n",
              "      <td>0</td>\n",
              "    </tr>\n",
              "    <tr>\n",
              "      <th>3</th>\n",
              "      <td>2 February 2020</td>\n",
              "      <td>2020-02-02</td>\n",
              "      <td>1</td>\n",
              "      <td>2</td>\n",
              "      <td>0</td>\n",
              "      <td>0</td>\n",
              "      <td>0</td>\n",
              "      <td>0</td>\n",
              "    </tr>\n",
              "    <tr>\n",
              "      <th>4</th>\n",
              "      <td>3 February 2020</td>\n",
              "      <td>2020-02-03</td>\n",
              "      <td>1</td>\n",
              "      <td>3</td>\n",
              "      <td>0</td>\n",
              "      <td>0</td>\n",
              "      <td>0</td>\n",
              "      <td>0</td>\n",
              "    </tr>\n",
              "    <tr>\n",
              "      <th>...</th>\n",
              "      <td>...</td>\n",
              "      <td>...</td>\n",
              "      <td>...</td>\n",
              "      <td>...</td>\n",
              "      <td>...</td>\n",
              "      <td>...</td>\n",
              "      <td>...</td>\n",
              "      <td>...</td>\n",
              "    </tr>\n",
              "    <tr>\n",
              "      <th>459</th>\n",
              "      <td>3 May 2021</td>\n",
              "      <td>2021-05-03</td>\n",
              "      <td>355769</td>\n",
              "      <td>20275414</td>\n",
              "      <td>318910</td>\n",
              "      <td>16600620</td>\n",
              "      <td>3439</td>\n",
              "      <td>221795</td>\n",
              "    </tr>\n",
              "    <tr>\n",
              "      <th>460</th>\n",
              "      <td>4 May 2021</td>\n",
              "      <td>2021-05-04</td>\n",
              "      <td>382847</td>\n",
              "      <td>20658261</td>\n",
              "      <td>337699</td>\n",
              "      <td>16938319</td>\n",
              "      <td>3786</td>\n",
              "      <td>225581</td>\n",
              "    </tr>\n",
              "    <tr>\n",
              "      <th>461</th>\n",
              "      <td>5 May 2021</td>\n",
              "      <td>2021-05-05</td>\n",
              "      <td>412624</td>\n",
              "      <td>21070885</td>\n",
              "      <td>330718</td>\n",
              "      <td>17269037</td>\n",
              "      <td>3979</td>\n",
              "      <td>229560</td>\n",
              "    </tr>\n",
              "    <tr>\n",
              "      <th>462</th>\n",
              "      <td>6 May 2021</td>\n",
              "      <td>2021-05-06</td>\n",
              "      <td>414280</td>\n",
              "      <td>21485165</td>\n",
              "      <td>328347</td>\n",
              "      <td>17597384</td>\n",
              "      <td>3923</td>\n",
              "      <td>233483</td>\n",
              "    </tr>\n",
              "    <tr>\n",
              "      <th>463</th>\n",
              "      <td>7 May 2021</td>\n",
              "      <td>2021-05-07</td>\n",
              "      <td>401342</td>\n",
              "      <td>21886507</td>\n",
              "      <td>319469</td>\n",
              "      <td>17916853</td>\n",
              "      <td>4192</td>\n",
              "      <td>237675</td>\n",
              "    </tr>\n",
              "  </tbody>\n",
              "</table>\n",
              "<p>464 rows × 8 columns</p>\n",
              "</div>"
            ],
            "text/plain": [
              "                Date    Date_YMD  ...  Daily Deceased  Total Deceased\n",
              "0    30 January 2020  2020-01-30  ...               0               0\n",
              "1    31 January 2020  2020-01-31  ...               0               0\n",
              "2    1 February 2020  2020-02-01  ...               0               0\n",
              "3    2 February 2020  2020-02-02  ...               0               0\n",
              "4    3 February 2020  2020-02-03  ...               0               0\n",
              "..               ...         ...  ...             ...             ...\n",
              "459       3 May 2021  2021-05-03  ...            3439          221795\n",
              "460       4 May 2021  2021-05-04  ...            3786          225581\n",
              "461       5 May 2021  2021-05-05  ...            3979          229560\n",
              "462       6 May 2021  2021-05-06  ...            3923          233483\n",
              "463       7 May 2021  2021-05-07  ...            4192          237675\n",
              "\n",
              "[464 rows x 8 columns]"
            ]
          },
          "metadata": {
            "tags": []
          },
          "execution_count": 2
        }
      ]
    },
    {
      "cell_type": "code",
      "metadata": {
        "id": "ReIV1flWiYbo"
      },
      "source": [
        "df1=df"
      ],
      "execution_count": 3,
      "outputs": []
    },
    {
      "cell_type": "code",
      "metadata": {
        "id": "VXCSQpGKP__q"
      },
      "source": [
        "def Recovery_Rate(RC,CC):\n",
        "  return (RC/CC)*100"
      ],
      "execution_count": 4,
      "outputs": []
    },
    {
      "cell_type": "code",
      "metadata": {
        "id": "iYFkE3rSRvzB"
      },
      "source": [
        "RR=[]\n",
        "for i in df.index:\n",
        "  RR.append(Recovery_Rate(df['Total Recovered'][i], df['Total Confirmed'][i]))"
      ],
      "execution_count": 5,
      "outputs": []
    },
    {
      "cell_type": "code",
      "metadata": {
        "id": "xqQx-95aR3nO"
      },
      "source": [
        "df1['Recovery Rate']=RR"
      ],
      "execution_count": 6,
      "outputs": []
    },
    {
      "cell_type": "code",
      "metadata": {
        "id": "Herun-2pQWYL"
      },
      "source": [
        "def Case_Load_Rate(CC,RC,D):\n",
        "  CaseLoad=CC-RC-D\n",
        "  return (CaseLoad/CC)*100\n",
        "  # return CaseLoad"
      ],
      "execution_count": 7,
      "outputs": []
    },
    {
      "cell_type": "code",
      "metadata": {
        "id": "mNfl31NcTgbO",
        "colab": {
          "base_uri": "https://localhost:8080/"
        },
        "outputId": "56577563-6261-41dc-f7e4-924fae02968e"
      },
      "source": [
        "CLR=[]\n",
        "for i in df.index:\n",
        "  CLR.append(Case_Load_Rate(df['Daily Confirmed'][i],df['Daily Recovered'][i],  df['Daily Deceased'][i]))"
      ],
      "execution_count": 8,
      "outputs": [
        {
          "output_type": "stream",
          "text": [
            "/usr/local/lib/python3.7/dist-packages/ipykernel_launcher.py:3: RuntimeWarning: invalid value encountered in long_scalars\n",
            "  This is separate from the ipykernel package so we can avoid doing imports until\n",
            "/usr/local/lib/python3.7/dist-packages/ipykernel_launcher.py:3: RuntimeWarning: divide by zero encountered in long_scalars\n",
            "  This is separate from the ipykernel package so we can avoid doing imports until\n"
          ],
          "name": "stderr"
        }
      ]
    },
    {
      "cell_type": "code",
      "metadata": {
        "id": "rPVDxFeWT6Xt"
      },
      "source": [
        "df1['Case Load Rate']=CLR"
      ],
      "execution_count": 9,
      "outputs": []
    },
    {
      "cell_type": "code",
      "metadata": {
        "id": "cseopLrrQ5RB"
      },
      "source": [
        "def Delta(CLR,RR):\n",
        "  return CLR-RR"
      ],
      "execution_count": 10,
      "outputs": []
    },
    {
      "cell_type": "code",
      "metadata": {
        "id": "PRsgWcIxRNm3"
      },
      "source": [
        "Del=[]\n",
        "for i in df.index:\n",
        "  Del.append(Delta(df1['Case Load Rate'][i],df1['Recovery Rate'][i]))"
      ],
      "execution_count": 11,
      "outputs": []
    },
    {
      "cell_type": "code",
      "metadata": {
        "id": "hIK0dMI4Wm1v"
      },
      "source": [
        "df1['Delta']=Del"
      ],
      "execution_count": 12,
      "outputs": []
    },
    {
      "cell_type": "code",
      "metadata": {
        "id": "re3UKhh0P4Tu"
      },
      "source": [
        "train_dates=pd.to_datetime(df['Date_YMD'])"
      ],
      "execution_count": 13,
      "outputs": []
    },
    {
      "cell_type": "code",
      "metadata": {
        "id": "a-E43eDEYpcP",
        "colab": {
          "base_uri": "https://localhost:8080/",
          "height": 265
        },
        "outputId": "3b091ebc-9e34-4eb4-a19f-784df51d606d"
      },
      "source": [
        "# plt.title(\"Red - Recovery Rate Blue - Case Load Rate Black-Delta\")\n",
        "plt.plot(train_dates,CLR,color=\"Blue\", Label='Case Load Rate')\n",
        "plt.plot(train_dates,RR,color=\"red\", Label='Recovery Rate')\n",
        "plt.plot(train_dates,Del,color=\"Black\", Label='Delta')\n",
        "plt.grid()"
      ],
      "execution_count": 14,
      "outputs": [
        {
          "output_type": "display_data",
          "data": {
            "image/png": "[encoded data removed]",
            "text/plain": [
              "<Figure size 432x288 with 1 Axes>"
            ]
          },
          "metadata": {
            "tags": [],
            "needs_background": "light"
          }
        }
      ]
    },
    {
      "cell_type": "code",
      "metadata": {
        "id": "2VyOThkNbXig",
        "colab": {
          "base_uri": "https://localhost:8080/"
        },
        "outputId": "3050bfa0-9d1f-4f84-a565-90ca0b245c7f"
      },
      "source": [
        "cols=list(df1)[9:10]\n",
        "cols"
      ],
      "execution_count": 15,
      "outputs": [
        {
          "output_type": "execute_result",
          "data": {
            "text/plain": [
              "['Case Load Rate']"
            ]
          },
          "metadata": {
            "tags": []
          },
          "execution_count": 15
        }
      ]
    },
    {
      "cell_type": "code",
      "metadata": {
        "id": "Zl9m08dNbrNi"
      },
      "source": [
        "df1.replace([np.inf, -np.inf], np.nan, inplace=True)\n",
        "df1.dropna(inplace=True)"
      ],
      "execution_count": 16,
      "outputs": []
    },
    {
      "cell_type": "code",
      "metadata": {
        "id": "Y6UvvNZIbuxz"
      },
      "source": [
        "df_for_training=df1[cols].astype(float)"
      ],
      "execution_count": 17,
      "outputs": []
    },
    {
      "cell_type": "code",
      "metadata": {
        "id": "qvth9j6kb5zD"
      },
      "source": [
        "scaler=StandardScaler()\n",
        "scaler=scaler.fit(df_for_training)\n",
        "df_for_training_scaled=scaler.transform(df_for_training)"
      ],
      "execution_count": 18,
      "outputs": []
    },
    {
      "cell_type": "code",
      "metadata": {
        "id": "ACO2QWSNb-ZI"
      },
      "source": [
        "trainX=[]\n",
        "trainY=[]"
      ],
      "execution_count": 19,
      "outputs": []
    },
    {
      "cell_type": "code",
      "metadata": {
        "id": "Wf7GPXZ0cAyZ"
      },
      "source": [
        "n_future=1\n",
        "n_past=14"
      ],
      "execution_count": 20,
      "outputs": []
    },
    {
      "cell_type": "code",
      "metadata": {
        "id": "s3jg1YK3cDxl"
      },
      "source": [
        "for i in range(n_past, len(df_for_training_scaled)-n_future +1):\n",
        "  trainX.append(df_for_training_scaled[i-n_past:i, 0:df_for_training.shape[1]])\n",
        "  trainY.append(df_for_training_scaled[i+n_future-1:i+n_future,0])\n",
        "trainX,trainY=np.array(trainX),np.array(trainY)"
      ],
      "execution_count": 21,
      "outputs": []
    },
    {
      "cell_type": "code",
      "metadata": {
        "id": "_GeD62AnKcZJ"
      },
      "source": [
        "model = Sequential()\n",
        "model.add(LSTM(200, activation='relu', input_shape=(trainX.shape[1], trainX.shape[2])))\n",
        "model.add(Dropout(0.15))\n",
        "model.add(Dense(1))\n",
        "model.compile(optimizer='adam', loss='mse', metrics=['mean_squared_error','mean_absolute_error'])"
      ],
      "execution_count": 22,
      "outputs": []
    },
    {
      "cell_type": "code",
      "metadata": {
        "id": "2OngdagTcUGT",
        "colab": {
          "base_uri": "https://localhost:8080/"
        },
        "outputId": "0c04355f-8a52-4ba5-f63d-bedfbef4b82d"
      },
      "source": [
        "history=model.fit(trainX,trainY,epochs=90,batch_size=1,validation_split=0.2,verbose=1)"
      ],
      "execution_count": 23,
      "outputs": [
        {
          "output_type": "stream",
          "text": [
            "Epoch 1/90\n",
            "336/336 [==============================] - 5s 12ms/step - loss: 0.5245 - mean_squared_error: 0.5245 - mean_absolute_error: 0.5026 - val_loss: 0.2001 - val_mean_squared_error: 0.2001 - val_mean_absolute_error: 0.3813\n",
            "Epoch 2/90\n",
            "336/336 [==============================] - 3s 10ms/step - loss: 0.3194 - mean_squared_error: 0.3194 - mean_absolute_error: 0.4141 - val_loss: 0.2232 - val_mean_squared_error: 0.2232 - val_mean_absolute_error: 0.3924\n",
            "Epoch 3/90\n",
            "336/336 [==============================] - 3s 10ms/step - loss: 0.2257 - mean_squared_error: 0.2257 - mean_absolute_error: 0.3448 - val_loss: 0.1594 - val_mean_squared_error: 0.1594 - val_mean_absolute_error: 0.3283\n",
            "Epoch 4/90\n",
            "336/336 [==============================] - 3s 10ms/step - loss: 0.2105 - mean_squared_error: 0.2105 - mean_absolute_error: 0.3174 - val_loss: 0.1668 - val_mean_squared_error: 0.1668 - val_mean_absolute_error: 0.3370\n",
            "Epoch 5/90\n",
            "336/336 [==============================] - 3s 10ms/step - loss: 0.2115 - mean_squared_error: 0.2115 - mean_absolute_error: 0.3153 - val_loss: 0.1499 - val_mean_squared_error: 0.1499 - val_mean_absolute_error: 0.3178\n",
            "Epoch 6/90\n",
            "336/336 [==============================] - 3s 10ms/step - loss: 0.1714 - mean_squared_error: 0.1714 - mean_absolute_error: 0.2838 - val_loss: 0.1506 - val_mean_squared_error: 0.1506 - val_mean_absolute_error: 0.3206\n",
            "Epoch 7/90\n",
            "336/336 [==============================] - 3s 10ms/step - loss: 0.1722 - mean_squared_error: 0.1722 - mean_absolute_error: 0.2980 - val_loss: 0.1418 - val_mean_squared_error: 0.1418 - val_mean_absolute_error: 0.3021\n",
            "Epoch 8/90\n",
            "336/336 [==============================] - 3s 10ms/step - loss: 0.1531 - mean_squared_error: 0.1531 - mean_absolute_error: 0.2792 - val_loss: 0.2404 - val_mean_squared_error: 0.2404 - val_mean_absolute_error: 0.3731\n",
            "Epoch 9/90\n",
            "336/336 [==============================] - 3s 10ms/step - loss: 0.1833 - mean_squared_error: 0.1833 - mean_absolute_error: 0.2878 - val_loss: 0.1843 - val_mean_squared_error: 0.1843 - val_mean_absolute_error: 0.3465\n",
            "Epoch 10/90\n",
            "336/336 [==============================] - 3s 10ms/step - loss: 0.1558 - mean_squared_error: 0.1558 - mean_absolute_error: 0.2879 - val_loss: 0.1722 - val_mean_squared_error: 0.1722 - val_mean_absolute_error: 0.3319\n",
            "Epoch 11/90\n",
            "336/336 [==============================] - 3s 10ms/step - loss: 0.1746 - mean_squared_error: 0.1746 - mean_absolute_error: 0.2923 - val_loss: 0.1661 - val_mean_squared_error: 0.1661 - val_mean_absolute_error: 0.3188\n",
            "Epoch 12/90\n",
            "336/336 [==============================] - 3s 10ms/step - loss: 0.2027 - mean_squared_error: 0.2027 - mean_absolute_error: 0.2890 - val_loss: 0.1846 - val_mean_squared_error: 0.1846 - val_mean_absolute_error: 0.3292\n",
            "Epoch 13/90\n",
            "336/336 [==============================] - 3s 10ms/step - loss: 0.1318 - mean_squared_error: 0.1318 - mean_absolute_error: 0.2741 - val_loss: 0.1335 - val_mean_squared_error: 0.1335 - val_mean_absolute_error: 0.2904\n",
            "Epoch 14/90\n",
            "336/336 [==============================] - 3s 10ms/step - loss: 0.1252 - mean_squared_error: 0.1252 - mean_absolute_error: 0.2451 - val_loss: 0.1716 - val_mean_squared_error: 0.1716 - val_mean_absolute_error: 0.3215\n",
            "Epoch 15/90\n",
            "336/336 [==============================] - 3s 10ms/step - loss: 0.1861 - mean_squared_error: 0.1861 - mean_absolute_error: 0.3030 - val_loss: 0.1500 - val_mean_squared_error: 0.1500 - val_mean_absolute_error: 0.2947\n",
            "Epoch 16/90\n",
            "336/336 [==============================] - 3s 10ms/step - loss: 0.1439 - mean_squared_error: 0.1439 - mean_absolute_error: 0.2515 - val_loss: 0.1306 - val_mean_squared_error: 0.1306 - val_mean_absolute_error: 0.2829\n",
            "Epoch 17/90\n",
            "336/336 [==============================] - 3s 10ms/step - loss: 0.1326 - mean_squared_error: 0.1326 - mean_absolute_error: 0.2575 - val_loss: 0.1941 - val_mean_squared_error: 0.1941 - val_mean_absolute_error: 0.3457\n",
            "Epoch 18/90\n",
            "336/336 [==============================] - 3s 10ms/step - loss: 0.1717 - mean_squared_error: 0.1717 - mean_absolute_error: 0.2853 - val_loss: 0.1055 - val_mean_squared_error: 0.1055 - val_mean_absolute_error: 0.2527\n",
            "Epoch 19/90\n",
            "336/336 [==============================] - 3s 10ms/step - loss: 0.1831 - mean_squared_error: 0.1831 - mean_absolute_error: 0.2894 - val_loss: 0.1755 - val_mean_squared_error: 0.1755 - val_mean_absolute_error: 0.3183\n",
            "Epoch 20/90\n",
            "336/336 [==============================] - 3s 10ms/step - loss: 0.1689 - mean_squared_error: 0.1689 - mean_absolute_error: 0.2789 - val_loss: 0.1691 - val_mean_squared_error: 0.1691 - val_mean_absolute_error: 0.3103\n",
            "Epoch 21/90\n",
            "336/336 [==============================] - 3s 10ms/step - loss: 0.1633 - mean_squared_error: 0.1633 - mean_absolute_error: 0.2769 - val_loss: 0.1456 - val_mean_squared_error: 0.1456 - val_mean_absolute_error: 0.2830\n",
            "Epoch 22/90\n",
            "336/336 [==============================] - 3s 10ms/step - loss: 0.1448 - mean_squared_error: 0.1448 - mean_absolute_error: 0.2596 - val_loss: 0.1301 - val_mean_squared_error: 0.1301 - val_mean_absolute_error: 0.2716\n",
            "Epoch 23/90\n",
            "336/336 [==============================] - 3s 10ms/step - loss: 0.1969 - mean_squared_error: 0.1969 - mean_absolute_error: 0.3019 - val_loss: 0.1485 - val_mean_squared_error: 0.1485 - val_mean_absolute_error: 0.2862\n",
            "Epoch 24/90\n",
            "336/336 [==============================] - 3s 10ms/step - loss: 0.1315 - mean_squared_error: 0.1315 - mean_absolute_error: 0.2459 - val_loss: 0.1496 - val_mean_squared_error: 0.1496 - val_mean_absolute_error: 0.2880\n",
            "Epoch 25/90\n",
            "336/336 [==============================] - 4s 10ms/step - loss: 0.1145 - mean_squared_error: 0.1145 - mean_absolute_error: 0.2376 - val_loss: 0.1179 - val_mean_squared_error: 0.1179 - val_mean_absolute_error: 0.2606\n",
            "Epoch 26/90\n",
            "336/336 [==============================] - 3s 10ms/step - loss: 0.1049 - mean_squared_error: 0.1049 - mean_absolute_error: 0.2366 - val_loss: 0.1598 - val_mean_squared_error: 0.1598 - val_mean_absolute_error: 0.3108\n",
            "Epoch 27/90\n",
            "336/336 [==============================] - 3s 10ms/step - loss: 0.1406 - mean_squared_error: 0.1406 - mean_absolute_error: 0.2581 - val_loss: 0.1639 - val_mean_squared_error: 0.1639 - val_mean_absolute_error: 0.2954\n",
            "Epoch 28/90\n",
            "336/336 [==============================] - 3s 10ms/step - loss: 0.1488 - mean_squared_error: 0.1488 - mean_absolute_error: 0.2662 - val_loss: 0.1172 - val_mean_squared_error: 0.1172 - val_mean_absolute_error: 0.2541\n",
            "Epoch 29/90\n",
            "336/336 [==============================] - 4s 10ms/step - loss: 0.1068 - mean_squared_error: 0.1068 - mean_absolute_error: 0.2337 - val_loss: 0.2096 - val_mean_squared_error: 0.2096 - val_mean_absolute_error: 0.3361\n",
            "Epoch 30/90\n",
            "336/336 [==============================] - 3s 10ms/step - loss: 0.1509 - mean_squared_error: 0.1509 - mean_absolute_error: 0.2748 - val_loss: 0.1472 - val_mean_squared_error: 0.1472 - val_mean_absolute_error: 0.2766\n",
            "Epoch 31/90\n",
            "336/336 [==============================] - 3s 10ms/step - loss: 0.1180 - mean_squared_error: 0.1180 - mean_absolute_error: 0.2298 - val_loss: 0.1400 - val_mean_squared_error: 0.1400 - val_mean_absolute_error: 0.2870\n",
            "Epoch 32/90\n",
            "336/336 [==============================] - 3s 10ms/step - loss: 0.1808 - mean_squared_error: 0.1808 - mean_absolute_error: 0.2836 - val_loss: 0.1094 - val_mean_squared_error: 0.1094 - val_mean_absolute_error: 0.2645\n",
            "Epoch 33/90\n",
            "336/336 [==============================] - 3s 10ms/step - loss: 0.1123 - mean_squared_error: 0.1123 - mean_absolute_error: 0.2391 - val_loss: 0.1645 - val_mean_squared_error: 0.1645 - val_mean_absolute_error: 0.2920\n",
            "Epoch 34/90\n",
            "336/336 [==============================] - 3s 10ms/step - loss: 0.1308 - mean_squared_error: 0.1308 - mean_absolute_error: 0.2530 - val_loss: 0.1646 - val_mean_squared_error: 0.1646 - val_mean_absolute_error: 0.2972\n",
            "Epoch 35/90\n",
            "336/336 [==============================] - 3s 10ms/step - loss: 0.1368 - mean_squared_error: 0.1368 - mean_absolute_error: 0.2545 - val_loss: 0.1078 - val_mean_squared_error: 0.1078 - val_mean_absolute_error: 0.2499\n",
            "Epoch 36/90\n",
            "336/336 [==============================] - 3s 10ms/step - loss: 0.1529 - mean_squared_error: 0.1529 - mean_absolute_error: 0.2514 - val_loss: 0.1096 - val_mean_squared_error: 0.1096 - val_mean_absolute_error: 0.2478\n",
            "Epoch 37/90\n",
            "336/336 [==============================] - 4s 11ms/step - loss: 0.1279 - mean_squared_error: 0.1279 - mean_absolute_error: 0.2586 - val_loss: 0.1407 - val_mean_squared_error: 0.1407 - val_mean_absolute_error: 0.2795\n",
            "Epoch 38/90\n",
            "336/336 [==============================] - 4s 10ms/step - loss: 0.1310 - mean_squared_error: 0.1310 - mean_absolute_error: 0.2337 - val_loss: 0.1708 - val_mean_squared_error: 0.1708 - val_mean_absolute_error: 0.3207\n",
            "Epoch 39/90\n",
            "336/336 [==============================] - 3s 10ms/step - loss: 0.1457 - mean_squared_error: 0.1457 - mean_absolute_error: 0.2694 - val_loss: 0.1496 - val_mean_squared_error: 0.1496 - val_mean_absolute_error: 0.2844\n",
            "Epoch 40/90\n",
            "336/336 [==============================] - 3s 10ms/step - loss: 0.1163 - mean_squared_error: 0.1163 - mean_absolute_error: 0.2319 - val_loss: 0.1416 - val_mean_squared_error: 0.1416 - val_mean_absolute_error: 0.2761\n",
            "Epoch 41/90\n",
            "336/336 [==============================] - 3s 10ms/step - loss: 0.1749 - mean_squared_error: 0.1749 - mean_absolute_error: 0.2918 - val_loss: 0.1145 - val_mean_squared_error: 0.1145 - val_mean_absolute_error: 0.2573\n",
            "Epoch 42/90\n",
            "336/336 [==============================] - 3s 10ms/step - loss: 0.0973 - mean_squared_error: 0.0973 - mean_absolute_error: 0.2251 - val_loss: 0.1570 - val_mean_squared_error: 0.1570 - val_mean_absolute_error: 0.3133\n",
            "Epoch 43/90\n",
            "336/336 [==============================] - 4s 11ms/step - loss: 0.1291 - mean_squared_error: 0.1291 - mean_absolute_error: 0.2583 - val_loss: 0.1813 - val_mean_squared_error: 0.1813 - val_mean_absolute_error: 0.3198\n",
            "Epoch 44/90\n",
            "336/336 [==============================] - 3s 10ms/step - loss: 0.1043 - mean_squared_error: 0.1043 - mean_absolute_error: 0.2259 - val_loss: 0.1308 - val_mean_squared_error: 0.1308 - val_mean_absolute_error: 0.2800\n",
            "Epoch 45/90\n",
            "336/336 [==============================] - 3s 10ms/step - loss: 0.1494 - mean_squared_error: 0.1494 - mean_absolute_error: 0.2581 - val_loss: 0.1319 - val_mean_squared_error: 0.1319 - val_mean_absolute_error: 0.2627\n",
            "Epoch 46/90\n",
            "336/336 [==============================] - 3s 10ms/step - loss: 0.1417 - mean_squared_error: 0.1417 - mean_absolute_error: 0.2529 - val_loss: 0.1290 - val_mean_squared_error: 0.1290 - val_mean_absolute_error: 0.2777\n",
            "Epoch 47/90\n",
            "336/336 [==============================] - 3s 10ms/step - loss: 0.1065 - mean_squared_error: 0.1065 - mean_absolute_error: 0.2336 - val_loss: 0.1594 - val_mean_squared_error: 0.1594 - val_mean_absolute_error: 0.2979\n",
            "Epoch 48/90\n",
            "336/336 [==============================] - 4s 11ms/step - loss: 0.1024 - mean_squared_error: 0.1024 - mean_absolute_error: 0.2226 - val_loss: 0.1413 - val_mean_squared_error: 0.1413 - val_mean_absolute_error: 0.2857\n",
            "Epoch 49/90\n",
            "336/336 [==============================] - 4s 11ms/step - loss: 0.1371 - mean_squared_error: 0.1371 - mean_absolute_error: 0.2651 - val_loss: 0.1235 - val_mean_squared_error: 0.1235 - val_mean_absolute_error: 0.2729\n",
            "Epoch 50/90\n",
            "336/336 [==============================] - 3s 10ms/step - loss: 0.1242 - mean_squared_error: 0.1242 - mean_absolute_error: 0.2476 - val_loss: 0.1337 - val_mean_squared_error: 0.1337 - val_mean_absolute_error: 0.2810\n",
            "Epoch 51/90\n",
            "336/336 [==============================] - 4s 11ms/step - loss: 0.1007 - mean_squared_error: 0.1007 - mean_absolute_error: 0.2226 - val_loss: 0.1343 - val_mean_squared_error: 0.1343 - val_mean_absolute_error: 0.2851\n",
            "Epoch 52/90\n",
            "336/336 [==============================] - 4s 10ms/step - loss: 0.1109 - mean_squared_error: 0.1109 - mean_absolute_error: 0.2257 - val_loss: 0.1368 - val_mean_squared_error: 0.1368 - val_mean_absolute_error: 0.2798\n",
            "Epoch 53/90\n",
            "336/336 [==============================] - 4s 11ms/step - loss: 0.1053 - mean_squared_error: 0.1053 - mean_absolute_error: 0.2324 - val_loss: 0.1394 - val_mean_squared_error: 0.1394 - val_mean_absolute_error: 0.3041\n",
            "Epoch 54/90\n",
            "336/336 [==============================] - 4s 11ms/step - loss: 0.0805 - mean_squared_error: 0.0805 - mean_absolute_error: 0.2073 - val_loss: 0.1382 - val_mean_squared_error: 0.1382 - val_mean_absolute_error: 0.2829\n",
            "Epoch 55/90\n",
            "336/336 [==============================] - 3s 10ms/step - loss: 0.1213 - mean_squared_error: 0.1213 - mean_absolute_error: 0.2450 - val_loss: 0.1684 - val_mean_squared_error: 0.1684 - val_mean_absolute_error: 0.3071\n",
            "Epoch 56/90\n",
            "336/336 [==============================] - 3s 10ms/step - loss: 0.1008 - mean_squared_error: 0.1008 - mean_absolute_error: 0.2229 - val_loss: 0.1266 - val_mean_squared_error: 0.1266 - val_mean_absolute_error: 0.2733\n",
            "Epoch 57/90\n",
            "336/336 [==============================] - 3s 10ms/step - loss: 0.0962 - mean_squared_error: 0.0962 - mean_absolute_error: 0.2231 - val_loss: 0.1429 - val_mean_squared_error: 0.1429 - val_mean_absolute_error: 0.2853\n",
            "Epoch 58/90\n",
            "336/336 [==============================] - 3s 10ms/step - loss: 0.1609 - mean_squared_error: 0.1609 - mean_absolute_error: 0.2469 - val_loss: 0.1299 - val_mean_squared_error: 0.1299 - val_mean_absolute_error: 0.2786\n",
            "Epoch 59/90\n",
            "336/336 [==============================] - 4s 11ms/step - loss: 0.1106 - mean_squared_error: 0.1106 - mean_absolute_error: 0.2283 - val_loss: 0.1427 - val_mean_squared_error: 0.1427 - val_mean_absolute_error: 0.3048\n",
            "Epoch 60/90\n",
            "336/336 [==============================] - 3s 10ms/step - loss: 0.1239 - mean_squared_error: 0.1239 - mean_absolute_error: 0.2230 - val_loss: 0.1417 - val_mean_squared_error: 0.1417 - val_mean_absolute_error: 0.2889\n",
            "Epoch 61/90\n",
            "336/336 [==============================] - 4s 11ms/step - loss: 0.0933 - mean_squared_error: 0.0933 - mean_absolute_error: 0.2154 - val_loss: 0.2298 - val_mean_squared_error: 0.2298 - val_mean_absolute_error: 0.3875\n",
            "Epoch 62/90\n",
            "336/336 [==============================] - 4s 11ms/step - loss: 0.1257 - mean_squared_error: 0.1257 - mean_absolute_error: 0.2492 - val_loss: 0.1657 - val_mean_squared_error: 0.1657 - val_mean_absolute_error: 0.3105\n",
            "Epoch 63/90\n",
            "336/336 [==============================] - 4s 11ms/step - loss: 0.1030 - mean_squared_error: 0.1030 - mean_absolute_error: 0.2249 - val_loss: 0.1525 - val_mean_squared_error: 0.1525 - val_mean_absolute_error: 0.3007\n",
            "Epoch 64/90\n",
            "336/336 [==============================] - 3s 10ms/step - loss: 0.0863 - mean_squared_error: 0.0863 - mean_absolute_error: 0.2065 - val_loss: 0.1865 - val_mean_squared_error: 0.1865 - val_mean_absolute_error: 0.3444\n",
            "Epoch 65/90\n",
            "336/336 [==============================] - 4s 10ms/step - loss: 0.1137 - mean_squared_error: 0.1137 - mean_absolute_error: 0.2256 - val_loss: 0.1602 - val_mean_squared_error: 0.1602 - val_mean_absolute_error: 0.3173\n",
            "Epoch 66/90\n",
            "336/336 [==============================] - 4s 11ms/step - loss: 0.0872 - mean_squared_error: 0.0872 - mean_absolute_error: 0.2115 - val_loss: 0.2764 - val_mean_squared_error: 0.2764 - val_mean_absolute_error: 0.4348\n",
            "Epoch 67/90\n",
            "336/336 [==============================] - 3s 10ms/step - loss: 0.1000 - mean_squared_error: 0.1000 - mean_absolute_error: 0.2090 - val_loss: 0.2014 - val_mean_squared_error: 0.2014 - val_mean_absolute_error: 0.3414\n",
            "Epoch 68/90\n",
            "336/336 [==============================] - 4s 11ms/step - loss: 0.0954 - mean_squared_error: 0.0954 - mean_absolute_error: 0.2131 - val_loss: 0.2214 - val_mean_squared_error: 0.2214 - val_mean_absolute_error: 0.3671\n",
            "Epoch 69/90\n",
            "336/336 [==============================] - 4s 11ms/step - loss: 0.1020 - mean_squared_error: 0.1020 - mean_absolute_error: 0.2279 - val_loss: 0.1828 - val_mean_squared_error: 0.1828 - val_mean_absolute_error: 0.3251\n",
            "Epoch 70/90\n",
            "336/336 [==============================] - 3s 10ms/step - loss: 0.0941 - mean_squared_error: 0.0941 - mean_absolute_error: 0.2060 - val_loss: 0.2255 - val_mean_squared_error: 0.2255 - val_mean_absolute_error: 0.3585\n",
            "Epoch 71/90\n",
            "336/336 [==============================] - 4s 11ms/step - loss: 0.0680 - mean_squared_error: 0.0680 - mean_absolute_error: 0.1890 - val_loss: 0.2997 - val_mean_squared_error: 0.2997 - val_mean_absolute_error: 0.4408\n",
            "Epoch 72/90\n",
            "336/336 [==============================] - 4s 11ms/step - loss: 0.1109 - mean_squared_error: 0.1109 - mean_absolute_error: 0.2406 - val_loss: 0.2111 - val_mean_squared_error: 0.2111 - val_mean_absolute_error: 0.3435\n",
            "Epoch 73/90\n",
            "336/336 [==============================] - 4s 11ms/step - loss: 0.1044 - mean_squared_error: 0.1044 - mean_absolute_error: 0.2223 - val_loss: 0.3121 - val_mean_squared_error: 0.3121 - val_mean_absolute_error: 0.4538\n",
            "Epoch 74/90\n",
            "336/336 [==============================] - 4s 11ms/step - loss: 0.1031 - mean_squared_error: 0.1031 - mean_absolute_error: 0.2238 - val_loss: 0.3650 - val_mean_squared_error: 0.3650 - val_mean_absolute_error: 0.4987\n",
            "Epoch 75/90\n",
            "336/336 [==============================] - 4s 11ms/step - loss: 0.0835 - mean_squared_error: 0.0835 - mean_absolute_error: 0.2091 - val_loss: 0.1776 - val_mean_squared_error: 0.1776 - val_mean_absolute_error: 0.3331\n",
            "Epoch 76/90\n",
            "336/336 [==============================] - 4s 11ms/step - loss: 0.0778 - mean_squared_error: 0.0778 - mean_absolute_error: 0.1993 - val_loss: 0.3092 - val_mean_squared_error: 0.3092 - val_mean_absolute_error: 0.4132\n",
            "Epoch 77/90\n",
            "336/336 [==============================] - 4s 11ms/step - loss: 0.1040 - mean_squared_error: 0.1040 - mean_absolute_error: 0.2258 - val_loss: 0.2177 - val_mean_squared_error: 0.2177 - val_mean_absolute_error: 0.3335\n",
            "Epoch 78/90\n",
            "336/336 [==============================] - 4s 11ms/step - loss: 0.0718 - mean_squared_error: 0.0718 - mean_absolute_error: 0.1900 - val_loss: 0.3253 - val_mean_squared_error: 0.3253 - val_mean_absolute_error: 0.4260\n",
            "Epoch 79/90\n",
            "336/336 [==============================] - 4s 11ms/step - loss: 0.0996 - mean_squared_error: 0.0996 - mean_absolute_error: 0.2320 - val_loss: 0.2069 - val_mean_squared_error: 0.2069 - val_mean_absolute_error: 0.3424\n",
            "Epoch 80/90\n",
            "336/336 [==============================] - 4s 11ms/step - loss: 0.0804 - mean_squared_error: 0.0804 - mean_absolute_error: 0.2015 - val_loss: 0.2713 - val_mean_squared_error: 0.2713 - val_mean_absolute_error: 0.3962\n",
            "Epoch 81/90\n",
            "336/336 [==============================] - 4s 11ms/step - loss: 0.0915 - mean_squared_error: 0.0915 - mean_absolute_error: 0.2080 - val_loss: 0.2405 - val_mean_squared_error: 0.2405 - val_mean_absolute_error: 0.3618\n",
            "Epoch 82/90\n",
            "336/336 [==============================] - 4s 11ms/step - loss: 0.0911 - mean_squared_error: 0.0911 - mean_absolute_error: 0.2107 - val_loss: 0.2986 - val_mean_squared_error: 0.2986 - val_mean_absolute_error: 0.4009\n",
            "Epoch 83/90\n",
            "336/336 [==============================] - 4s 11ms/step - loss: 0.0943 - mean_squared_error: 0.0943 - mean_absolute_error: 0.2060 - val_loss: 0.3478 - val_mean_squared_error: 0.3478 - val_mean_absolute_error: 0.4195\n",
            "Epoch 84/90\n",
            "336/336 [==============================] - 4s 11ms/step - loss: 0.0951 - mean_squared_error: 0.0951 - mean_absolute_error: 0.2204 - val_loss: 0.4669 - val_mean_squared_error: 0.4669 - val_mean_absolute_error: 0.4726\n",
            "Epoch 85/90\n",
            "336/336 [==============================] - 4s 11ms/step - loss: 0.0972 - mean_squared_error: 0.0972 - mean_absolute_error: 0.2123 - val_loss: 0.6190 - val_mean_squared_error: 0.6190 - val_mean_absolute_error: 0.5001\n",
            "Epoch 86/90\n",
            "336/336 [==============================] - 4s 11ms/step - loss: 0.0879 - mean_squared_error: 0.0879 - mean_absolute_error: 0.2073 - val_loss: 0.1181 - val_mean_squared_error: 0.1181 - val_mean_absolute_error: 0.2709\n",
            "Epoch 87/90\n",
            "336/336 [==============================] - 4s 11ms/step - loss: 0.1005 - mean_squared_error: 0.1005 - mean_absolute_error: 0.2164 - val_loss: 0.1831 - val_mean_squared_error: 0.1831 - val_mean_absolute_error: 0.3361\n",
            "Epoch 88/90\n",
            "336/336 [==============================] - 4s 12ms/step - loss: 0.0669 - mean_squared_error: 0.0669 - mean_absolute_error: 0.1842 - val_loss: 0.3150 - val_mean_squared_error: 0.3150 - val_mean_absolute_error: 0.3733\n",
            "Epoch 89/90\n",
            "336/336 [==============================] - 4s 12ms/step - loss: 0.0915 - mean_squared_error: 0.0915 - mean_absolute_error: 0.2167 - val_loss: 0.2296 - val_mean_squared_error: 0.2296 - val_mean_absolute_error: 0.3321\n",
            "Epoch 90/90\n",
            "336/336 [==============================] - 4s 11ms/step - loss: 0.1126 - mean_squared_error: 0.1126 - mean_absolute_error: 0.2105 - val_loss: 0.6546 - val_mean_squared_error: 0.6546 - val_mean_absolute_error: 0.4772\n"
          ],
          "name": "stdout"
        }
      ]
    },
    {
      "cell_type": "code",
      "metadata": {
        "id": "lqCFogZPME1r",
        "colab": {
          "base_uri": "https://localhost:8080/",
          "height": 282
        },
        "outputId": "36c52a9b-8c0d-4b44-ffad-4c119fc6fb07"
      },
      "source": [
        "plt.plot(history.history['mean_squared_error'], Label='Mean Squared Error')\n",
        "plt.plot(history.history['mean_absolute_error'], Label='Mean Absolute Error')\n",
        "plt.grid()\n",
        "plt.legend()"
      ],
      "execution_count": 24,
      "outputs": [
        {
          "output_type": "execute_result",
          "data": {
            "text/plain": [
              "<matplotlib.legend.Legend at 0x7f12a7a78910>"
            ]
          },
          "metadata": {
            "tags": []
          },
          "execution_count": 24
        },
        {
          "output_type": "display_data",
          "data": {
            "image/png": "[encoded data removed]",
            "text/plain": [
              "<Figure size 432x288 with 1 Axes>"
            ]
          },
          "metadata": {
            "tags": [],
            "needs_background": "light"
          }
        }
      ]
    },
    {
      "cell_type": "code",
      "metadata": {
        "id": "lKlzXPcHcXko",
        "colab": {
          "base_uri": "https://localhost:8080/",
          "height": 282
        },
        "outputId": "fd261255-7a73-4544-e1b5-b9aec572b13a"
      },
      "source": [
        "plt.plot(history.history['loss'], Label='Training Loss')\n",
        "plt.plot(history.history['val_loss'], Label='Validation Loss')\n",
        "plt.grid()\n",
        "plt.legend()"
      ],
      "execution_count": 25,
      "outputs": [
        {
          "output_type": "execute_result",
          "data": {
            "text/plain": [
              "<matplotlib.legend.Legend at 0x7f12a7ab7210>"
            ]
          },
          "metadata": {
            "tags": []
          },
          "execution_count": 25
        },
        {
          "output_type": "display_data",
          "data": {
            "image/png": "[encoded data removed]",
            "text/plain": [
              "<Figure size 432x288 with 1 Axes>"
            ]
          },
          "metadata": {
            "tags": [],
            "needs_background": "light"
          }
        }
      ]
    },
    {
      "cell_type": "code",
      "metadata": {
        "id": "E-VpwZf8cdRY"
      },
      "source": [
        "n_f=60\n",
        "forecast_period_dates = pd.date_range(list(train_dates)[-1], periods=n_f, freq='1d').tolist()\n",
        "forecast = model.predict(trainX[-n_f:])\n",
        "forecast_copies = np.repeat(forecast, df_for_training.shape[1], axis=-1)\n",
        "y_pred_future = scaler.inverse_transform(forecast_copies)[:,0]\n",
        "\n",
        "\n",
        "forecast_dates = []\n",
        "for time_i in forecast_period_dates:\n",
        "    forecast_dates.append(time_i.date())"
      ],
      "execution_count": 26,
      "outputs": []
    },
    {
      "cell_type": "code",
      "metadata": {
        "id": "1QO1WgIu96S2",
        "colab": {
          "base_uri": "https://localhost:8080/"
        },
        "outputId": "249b1b06-6433-4ec2-8ea2-0dada1606503"
      },
      "source": [
        "forecast_dates"
      ],
      "execution_count": 27,
      "outputs": [
        {
          "output_type": "execute_result",
          "data": {
            "text/plain": [
              "[datetime.date(2021, 5, 7),\n",
              " datetime.date(2021, 5, 8),\n",
              " datetime.date(2021, 5, 9),\n",
              " datetime.date(2021, 5, 10),\n",
              " datetime.date(2021, 5, 11),\n",
              " datetime.date(2021, 5, 12),\n",
              " datetime.date(2021, 5, 13),\n",
              " datetime.date(2021, 5, 14),\n",
              " datetime.date(2021, 5, 15),\n",
              " datetime.date(2021, 5, 16),\n",
              " datetime.date(2021, 5, 17),\n",
              " datetime.date(2021, 5, 18),\n",
              " datetime.date(2021, 5, 19),\n",
              " datetime.date(2021, 5, 20),\n",
              " datetime.date(2021, 5, 21),\n",
              " datetime.date(2021, 5, 22),\n",
              " datetime.date(2021, 5, 23),\n",
              " datetime.date(2021, 5, 24),\n",
              " datetime.date(2021, 5, 25),\n",
              " datetime.date(2021, 5, 26),\n",
              " datetime.date(2021, 5, 27),\n",
              " datetime.date(2021, 5, 28),\n",
              " datetime.date(2021, 5, 29),\n",
              " datetime.date(2021, 5, 30),\n",
              " datetime.date(2021, 5, 31),\n",
              " datetime.date(2021, 6, 1),\n",
              " datetime.date(2021, 6, 2),\n",
              " datetime.date(2021, 6, 3),\n",
              " datetime.date(2021, 6, 4),\n",
              " datetime.date(2021, 6, 5),\n",
              " datetime.date(2021, 6, 6),\n",
              " datetime.date(2021, 6, 7),\n",
              " datetime.date(2021, 6, 8),\n",
              " datetime.date(2021, 6, 9),\n",
              " datetime.date(2021, 6, 10),\n",
              " datetime.date(2021, 6, 11),\n",
              " datetime.date(2021, 6, 12),\n",
              " datetime.date(2021, 6, 13),\n",
              " datetime.date(2021, 6, 14),\n",
              " datetime.date(2021, 6, 15),\n",
              " datetime.date(2021, 6, 16),\n",
              " datetime.date(2021, 6, 17),\n",
              " datetime.date(2021, 6, 18),\n",
              " datetime.date(2021, 6, 19),\n",
              " datetime.date(2021, 6, 20),\n",
              " datetime.date(2021, 6, 21),\n",
              " datetime.date(2021, 6, 22),\n",
              " datetime.date(2021, 6, 23),\n",
              " datetime.date(2021, 6, 24),\n",
              " datetime.date(2021, 6, 25),\n",
              " datetime.date(2021, 6, 26),\n",
              " datetime.date(2021, 6, 27),\n",
              " datetime.date(2021, 6, 28),\n",
              " datetime.date(2021, 6, 29),\n",
              " datetime.date(2021, 6, 30),\n",
              " datetime.date(2021, 7, 1),\n",
              " datetime.date(2021, 7, 2),\n",
              " datetime.date(2021, 7, 3),\n",
              " datetime.date(2021, 7, 4),\n",
              " datetime.date(2021, 7, 5)]"
            ]
          },
          "metadata": {
            "tags": []
          },
          "execution_count": 27
        }
      ]
    },
    {
      "cell_type": "code",
      "metadata": {
        "id": "snKv5cYKct29"
      },
      "source": [
        "df_forecast = pd.DataFrame({'Date_YMD':np.array(forecast_dates), 'Case Load Rate':y_pred_future})\n",
        "df_forecast['Date_YMD']=pd.to_datetime(df_forecast['Date_YMD'])"
      ],
      "execution_count": 28,
      "outputs": []
    },
    {
      "cell_type": "code",
      "metadata": {
        "id": "xmz5vUJfcyO5",
        "colab": {
          "base_uri": "https://localhost:8080/"
        },
        "outputId": "b31447c7-c024-4fa1-b9fe-4ba9bf3b4343"
      },
      "source": [
        "original=df1[['Date_YMD','Case Load Rate']]\n",
        "original['Date_YMD']=pd.to_datetime(original['Date_YMD'])\n",
        "original = original.loc[original['Date_YMD'] >= '2020-01-30']"
      ],
      "execution_count": 29,
      "outputs": [
        {
          "output_type": "stream",
          "text": [
            "/usr/local/lib/python3.7/dist-packages/ipykernel_launcher.py:2: SettingWithCopyWarning: \n",
            "A value is trying to be set on a copy of a slice from a DataFrame.\n",
            "Try using .loc[row_indexer,col_indexer] = value instead\n",
            "\n",
            "See the caveats in the documentation: https://pandas.pydata.org/pandas-docs/stable/user_guide/indexing.html#returning-a-view-versus-a-copy\n",
            "  \n"
          ],
          "name": "stderr"
        }
      ]
    },
    {
      "cell_type": "code",
      "metadata": {
        "id": "ViyGwWqUc1pT",
        "colab": {
          "base_uri": "https://localhost:8080/",
          "height": 385
        },
        "outputId": "1a7b893d-e3e6-438c-f30c-3d6ef0ca3569"
      },
      "source": [
        "sns.lineplot(original['Date_YMD'], original['Case Load Rate'])\n",
        "sns.lineplot(df_forecast['Date_YMD'], df_forecast['Case Load Rate'])"
      ],
      "execution_count": 30,
      "outputs": [
        {
          "output_type": "stream",
          "text": [
            "/usr/local/lib/python3.7/dist-packages/seaborn/_decorators.py:43: FutureWarning: Pass the following variables as keyword args: x, y. From version 0.12, the only valid positional argument will be `data`, and passing other arguments without an explicit keyword will result in an error or misinterpretation.\n",
            "  FutureWarning\n",
            "/usr/local/lib/python3.7/dist-packages/seaborn/_decorators.py:43: FutureWarning: Pass the following variables as keyword args: x, y. From version 0.12, the only valid positional argument will be `data`, and passing other arguments without an explicit keyword will result in an error or misinterpretation.\n",
            "  FutureWarning\n"
          ],
          "name": "stderr"
        },
        {
          "output_type": "execute_result",
          "data": {
            "text/plain": [
              "<matplotlib.axes._subplots.AxesSubplot at 0x7f12a795ca90>"
            ]
          },
          "metadata": {
            "tags": []
          },
          "execution_count": 30
        },
        {
          "output_type": "display_data",
          "data": {
            "image/png": "[encoded data removed]",
            "text/plain": [
              "<Figure size 432x288 with 1 Axes>"
            ]
          },
          "metadata": {
            "tags": [],
            "needs_background": "light"
          }
        }
      ]
    }
  ]
}