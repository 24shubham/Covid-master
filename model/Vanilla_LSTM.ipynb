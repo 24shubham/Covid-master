{
  "nbformat": 4,
  "nbformat_minor": 0,
  "metadata": {
    "colab": {
      "name": "Vanilla_LSTM.ipynb",
      "provenance": []
    },
    "kernelspec": {
      "name": "python3",
      "display_name": "Python 3"
    },
    "language_info": {
      "name": "python"
    }
  },
  "cells": [
    {
      "cell_type": "code",
      "metadata": {
        "id": "C8aNAFNYiNJV"
      },
      "source": [
        "import numpy as  np\n",
        "from keras.models import Sequential\n",
        "from keras.layers import LSTM, Dense, Dropout, Activation\n",
        "import pandas as pd\n",
        "from matplotlib import pyplot as plt\n",
        "from sklearn.preprocessing import StandardScaler\n",
        "import seaborn as sns"
      ],
      "execution_count": 1,
      "outputs": []
    },
    {
      "cell_type": "code",
      "metadata": {
        "colab": {
          "base_uri": "https://localhost:8080/",
          "height": 419
        },
        "id": "z-HjgltniWCX",
        "outputId": "e2433aa6-e644-46e0-f7df-03312c3057a5"
      },
      "source": [
        "df=pd.read_csv('https://api.covid19india.org/csv/latest/case_time_series.csv')\n",
        "df"
      ],
      "execution_count": 2,
      "outputs": [
        {
          "output_type": "execute_result",
          "data": {
            "text/html": [
              "<div>\n",
              "<style scoped>\n",
              "    .dataframe tbody tr th:only-of-type {\n",
              "        vertical-align: middle;\n",
              "    }\n",
              "\n",
              "    .dataframe tbody tr th {\n",
              "        vertical-align: top;\n",
              "    }\n",
              "\n",
              "    .dataframe thead th {\n",
              "        text-align: right;\n",
              "    }\n",
              "</style>\n",
              "<table border=\"1\" class=\"dataframe\">\n",
              "  <thead>\n",
              "    <tr style=\"text-align: right;\">\n",
              "      <th></th>\n",
              "      <th>Date</th>\n",
              "      <th>Date_YMD</th>\n",
              "      <th>Daily Confirmed</th>\n",
              "      <th>Total Confirmed</th>\n",
              "      <th>Daily Recovered</th>\n",
              "      <th>Total Recovered</th>\n",
              "      <th>Daily Deceased</th>\n",
              "      <th>Total Deceased</th>\n",
              "    </tr>\n",
              "  </thead>\n",
              "  <tbody>\n",
              "    <tr>\n",
              "      <th>0</th>\n",
              "      <td>30 January 2020</td>\n",
              "      <td>2020-01-30</td>\n",
              "      <td>1</td>\n",
              "      <td>1</td>\n",
              "      <td>0</td>\n",
              "      <td>0</td>\n",
              "      <td>0</td>\n",
              "      <td>0</td>\n",
              "    </tr>\n",
              "    <tr>\n",
              "      <th>1</th>\n",
              "      <td>31 January 2020</td>\n",
              "      <td>2020-01-31</td>\n",
              "      <td>0</td>\n",
              "      <td>1</td>\n",
              "      <td>0</td>\n",
              "      <td>0</td>\n",
              "      <td>0</td>\n",
              "      <td>0</td>\n",
              "    </tr>\n",
              "    <tr>\n",
              "      <th>2</th>\n",
              "      <td>1 February 2020</td>\n",
              "      <td>2020-02-01</td>\n",
              "      <td>0</td>\n",
              "      <td>1</td>\n",
              "      <td>0</td>\n",
              "      <td>0</td>\n",
              "      <td>0</td>\n",
              "      <td>0</td>\n",
              "    </tr>\n",
              "    <tr>\n",
              "      <th>3</th>\n",
              "      <td>2 February 2020</td>\n",
              "      <td>2020-02-02</td>\n",
              "      <td>1</td>\n",
              "      <td>2</td>\n",
              "      <td>0</td>\n",
              "      <td>0</td>\n",
              "      <td>0</td>\n",
              "      <td>0</td>\n",
              "    </tr>\n",
              "    <tr>\n",
              "      <th>4</th>\n",
              "      <td>3 February 2020</td>\n",
              "      <td>2020-02-03</td>\n",
              "      <td>1</td>\n",
              "      <td>3</td>\n",
              "      <td>0</td>\n",
              "      <td>0</td>\n",
              "      <td>0</td>\n",
              "      <td>0</td>\n",
              "    </tr>\n",
              "    <tr>\n",
              "      <th>...</th>\n",
              "      <td>...</td>\n",
              "      <td>...</td>\n",
              "      <td>...</td>\n",
              "      <td>...</td>\n",
              "      <td>...</td>\n",
              "      <td>...</td>\n",
              "      <td>...</td>\n",
              "      <td>...</td>\n",
              "    </tr>\n",
              "    <tr>\n",
              "      <th>458</th>\n",
              "      <td>2 May 2021</td>\n",
              "      <td>2021-05-02</td>\n",
              "      <td>370090</td>\n",
              "      <td>19919645</td>\n",
              "      <td>300004</td>\n",
              "      <td>16281710</td>\n",
              "      <td>3423</td>\n",
              "      <td>218356</td>\n",
              "    </tr>\n",
              "    <tr>\n",
              "      <th>459</th>\n",
              "      <td>3 May 2021</td>\n",
              "      <td>2021-05-03</td>\n",
              "      <td>355769</td>\n",
              "      <td>20275414</td>\n",
              "      <td>318910</td>\n",
              "      <td>16600620</td>\n",
              "      <td>3439</td>\n",
              "      <td>221795</td>\n",
              "    </tr>\n",
              "    <tr>\n",
              "      <th>460</th>\n",
              "      <td>4 May 2021</td>\n",
              "      <td>2021-05-04</td>\n",
              "      <td>382847</td>\n",
              "      <td>20658261</td>\n",
              "      <td>337699</td>\n",
              "      <td>16938319</td>\n",
              "      <td>3786</td>\n",
              "      <td>225581</td>\n",
              "    </tr>\n",
              "    <tr>\n",
              "      <th>461</th>\n",
              "      <td>5 May 2021</td>\n",
              "      <td>2021-05-05</td>\n",
              "      <td>412624</td>\n",
              "      <td>21070885</td>\n",
              "      <td>330718</td>\n",
              "      <td>17269037</td>\n",
              "      <td>3979</td>\n",
              "      <td>229560</td>\n",
              "    </tr>\n",
              "    <tr>\n",
              "      <th>462</th>\n",
              "      <td>6 May 2021</td>\n",
              "      <td>2021-05-06</td>\n",
              "      <td>414280</td>\n",
              "      <td>21485165</td>\n",
              "      <td>328301</td>\n",
              "      <td>17597338</td>\n",
              "      <td>3923</td>\n",
              "      <td>233483</td>\n",
              "    </tr>\n",
              "  </tbody>\n",
              "</table>\n",
              "<p>463 rows × 8 columns</p>\n",
              "</div>"
            ],
            "text/plain": [
              "                Date    Date_YMD  ...  Daily Deceased  Total Deceased\n",
              "0    30 January 2020  2020-01-30  ...               0               0\n",
              "1    31 January 2020  2020-01-31  ...               0               0\n",
              "2    1 February 2020  2020-02-01  ...               0               0\n",
              "3    2 February 2020  2020-02-02  ...               0               0\n",
              "4    3 February 2020  2020-02-03  ...               0               0\n",
              "..               ...         ...  ...             ...             ...\n",
              "458       2 May 2021  2021-05-02  ...            3423          218356\n",
              "459       3 May 2021  2021-05-03  ...            3439          221795\n",
              "460       4 May 2021  2021-05-04  ...            3786          225581\n",
              "461       5 May 2021  2021-05-05  ...            3979          229560\n",
              "462       6 May 2021  2021-05-06  ...            3923          233483\n",
              "\n",
              "[463 rows x 8 columns]"
            ]
          },
          "metadata": {
            "tags": []
          },
          "execution_count": 2
        }
      ]
    },
    {
      "cell_type": "code",
      "metadata": {
        "id": "ReIV1flWiYbo"
      },
      "source": [
        "df1=df"
      ],
      "execution_count": 3,
      "outputs": []
    },
    {
      "cell_type": "code",
      "metadata": {
        "id": "VXCSQpGKP__q"
      },
      "source": [
        "def Recovery_Rate(RC,CC):\n",
        "  return (RC/CC)*100"
      ],
      "execution_count": 4,
      "outputs": []
    },
    {
      "cell_type": "code",
      "metadata": {
        "id": "iYFkE3rSRvzB"
      },
      "source": [
        "RR=[]\n",
        "for i in df.index:\n",
        "  RR.append(Recovery_Rate(df['Total Recovered'][i], df['Total Confirmed'][i]))"
      ],
      "execution_count": 5,
      "outputs": []
    },
    {
      "cell_type": "code",
      "metadata": {
        "id": "xqQx-95aR3nO"
      },
      "source": [
        "df1['Recovery Rate']=RR"
      ],
      "execution_count": 6,
      "outputs": []
    },
    {
      "cell_type": "code",
      "metadata": {
        "id": "Herun-2pQWYL"
      },
      "source": [
        "def Case_Load_Rate(CC,RC,D):\n",
        "  CaseLoad=CC-RC-D\n",
        "  return (CaseLoad/CC)*100\n",
        "  # return CaseLoad"
      ],
      "execution_count": 7,
      "outputs": []
    },
    {
      "cell_type": "code",
      "metadata": {
        "colab": {
          "base_uri": "https://localhost:8080/"
        },
        "id": "mNfl31NcTgbO",
        "outputId": "d890d3e1-89d3-4bda-c816-1b8b3e01263c"
      },
      "source": [
        "CLR=[]\n",
        "for i in df.index:\n",
        "  CLR.append(Case_Load_Rate(df['Daily Confirmed'][i],df['Daily Recovered'][i],  df['Daily Deceased'][i]))"
      ],
      "execution_count": 8,
      "outputs": [
        {
          "output_type": "stream",
          "text": [
            "/usr/local/lib/python3.7/dist-packages/ipykernel_launcher.py:3: RuntimeWarning: invalid value encountered in long_scalars\n",
            "  This is separate from the ipykernel package so we can avoid doing imports until\n",
            "/usr/local/lib/python3.7/dist-packages/ipykernel_launcher.py:3: RuntimeWarning: divide by zero encountered in long_scalars\n",
            "  This is separate from the ipykernel package so we can avoid doing imports until\n"
          ],
          "name": "stderr"
        }
      ]
    },
    {
      "cell_type": "code",
      "metadata": {
        "id": "rPVDxFeWT6Xt"
      },
      "source": [
        "df1['Case Load Rate']=CLR"
      ],
      "execution_count": 9,
      "outputs": []
    },
    {
      "cell_type": "code",
      "metadata": {
        "id": "cseopLrrQ5RB"
      },
      "source": [
        "def Delta(CLR,RR):\n",
        "  return CLR-RR"
      ],
      "execution_count": 10,
      "outputs": []
    },
    {
      "cell_type": "code",
      "metadata": {
        "id": "PRsgWcIxRNm3"
      },
      "source": [
        "Del=[]\n",
        "for i in df.index:\n",
        "  Del.append(Delta(df1['Case Load Rate'][i],df1['Recovery Rate'][i]))"
      ],
      "execution_count": 11,
      "outputs": []
    },
    {
      "cell_type": "code",
      "metadata": {
        "id": "hIK0dMI4Wm1v"
      },
      "source": [
        "df1['Delta']=Del"
      ],
      "execution_count": 12,
      "outputs": []
    },
    {
      "cell_type": "code",
      "metadata": {
        "id": "re3UKhh0P4Tu"
      },
      "source": [
        "train_dates=pd.to_datetime(df['Date_YMD'])"
      ],
      "execution_count": 13,
      "outputs": []
    },
    {
      "cell_type": "code",
      "metadata": {
        "colab": {
          "base_uri": "https://localhost:8080/",
          "height": 265
        },
        "id": "a-E43eDEYpcP",
        "outputId": "ace5246b-2213-4550-cb1f-bf10d4bdf3fb"
      },
      "source": [
        "# plt.title(\"Red - Recovery Rate Blue - Case Load Rate Black-Delta\")\n",
        "plt.plot(train_dates,CLR,color=\"Blue\", Label='Case Load Rate')\n",
        "plt.plot(train_dates,RR,color=\"red\", Label='Recovery Rate')\n",
        "plt.plot(train_dates,Del,color=\"Black\", Label='Delta')\n",
        "plt.grid()"
      ],
      "execution_count": 14,
      "outputs": [
        {
          "output_type": "display_data",
          "data": {
            "image/png": "[encoded data removed]",
            "text/plain": [
              "<Figure size 432x288 with 1 Axes>"
            ]
          },
          "metadata": {
            "tags": [],
            "needs_background": "light"
          }
        }
      ]
    },
    {
      "cell_type": "code",
      "metadata": {
        "colab": {
          "base_uri": "https://localhost:8080/"
        },
        "id": "2VyOThkNbXig",
        "outputId": "7bdd822f-a8ae-4713-d823-5ca80899e6e5"
      },
      "source": [
        "cols=list(df1)[9:10]\n",
        "cols"
      ],
      "execution_count": 15,
      "outputs": [
        {
          "output_type": "execute_result",
          "data": {
            "text/plain": [
              "['Case Load Rate']"
            ]
          },
          "metadata": {
            "tags": []
          },
          "execution_count": 15
        }
      ]
    },
    {
      "cell_type": "code",
      "metadata": {
        "id": "Zl9m08dNbrNi"
      },
      "source": [
        "df1.replace([np.inf, -np.inf], np.nan, inplace=True)\n",
        "df1.dropna(inplace=True)"
      ],
      "execution_count": 16,
      "outputs": []
    },
    {
      "cell_type": "code",
      "metadata": {
        "id": "Y6UvvNZIbuxz"
      },
      "source": [
        "df_for_training=df1[cols].astype(float)"
      ],
      "execution_count": 17,
      "outputs": []
    },
    {
      "cell_type": "code",
      "metadata": {
        "id": "qvth9j6kb5zD"
      },
      "source": [
        "scaler=StandardScaler()\n",
        "scaler=scaler.fit(df_for_training)\n",
        "df_for_training_scaled=scaler.transform(df_for_training)"
      ],
      "execution_count": 18,
      "outputs": []
    },
    {
      "cell_type": "code",
      "metadata": {
        "id": "ACO2QWSNb-ZI"
      },
      "source": [
        "trainX=[]\n",
        "trainY=[]"
      ],
      "execution_count": 19,
      "outputs": []
    },
    {
      "cell_type": "code",
      "metadata": {
        "id": "Wf7GPXZ0cAyZ"
      },
      "source": [
        "n_future=1\n",
        "n_past=14"
      ],
      "execution_count": 20,
      "outputs": []
    },
    {
      "cell_type": "code",
      "metadata": {
        "id": "s3jg1YK3cDxl"
      },
      "source": [
        "for i in range(n_past, len(df_for_training_scaled)-n_future +1):\n",
        "  trainX.append(df_for_training_scaled[i-n_past:i, 0:df_for_training.shape[1]])\n",
        "  trainY.append(df_for_training_scaled[i+n_future-1:i+n_future,0])\n",
        "trainX,trainY=np.array(trainX),np.array(trainY)"
      ],
      "execution_count": 21,
      "outputs": []
    },
    {
      "cell_type": "code",
      "metadata": {
        "id": "iGkjGIb-jhaC"
      },
      "source": [
        "model = Sequential()\n",
        "model.add(LSTM(50, activation='relu', input_shape=(trainX.shape[1], trainX.shape[2])))\n",
        "model.add(Dense(1))\n",
        "model.compile(optimizer='adam', loss='mse', metrics=['mean_squared_error','mean_absolute_error'])"
      ],
      "execution_count": 22,
      "outputs": []
    },
    {
      "cell_type": "code",
      "metadata": {
        "id": "kq-EXE3zjjOT"
      },
      "source": [
        ""
      ],
      "execution_count": 22,
      "outputs": []
    },
    {
      "cell_type": "code",
      "metadata": {
        "colab": {
          "base_uri": "https://localhost:8080/"
        },
        "id": "2OngdagTcUGT",
        "outputId": "14a53ac6-d5a3-4cea-c1b1-abe66d02426c"
      },
      "source": [
        "history=model.fit(trainX,trainY,epochs=90,batch_size=1,validation_split=0.2,verbose=1)"
      ],
      "execution_count": 23,
      "outputs": [
        {
          "output_type": "stream",
          "text": [
            "Epoch 1/90\n",
            "336/336 [==============================] - 3s 6ms/step - loss: 0.4129 - mean_squared_error: 0.4129 - mean_absolute_error: 0.4379 - val_loss: 0.1698 - val_mean_squared_error: 0.1698 - val_mean_absolute_error: 0.3294\n",
            "Epoch 2/90\n",
            "336/336 [==============================] - 1s 4ms/step - loss: 0.1867 - mean_squared_error: 0.1867 - mean_absolute_error: 0.2946 - val_loss: 0.1362 - val_mean_squared_error: 0.1362 - val_mean_absolute_error: 0.2959\n",
            "Epoch 3/90\n",
            "336/336 [==============================] - 1s 4ms/step - loss: 0.1763 - mean_squared_error: 0.1763 - mean_absolute_error: 0.2789 - val_loss: 0.1206 - val_mean_squared_error: 0.1206 - val_mean_absolute_error: 0.2636\n",
            "Epoch 4/90\n",
            "336/336 [==============================] - 1s 4ms/step - loss: 0.2013 - mean_squared_error: 0.2013 - mean_absolute_error: 0.2915 - val_loss: 0.1762 - val_mean_squared_error: 0.1762 - val_mean_absolute_error: 0.3274\n",
            "Epoch 5/90\n",
            "336/336 [==============================] - 1s 4ms/step - loss: 0.1874 - mean_squared_error: 0.1874 - mean_absolute_error: 0.3111 - val_loss: 0.1572 - val_mean_squared_error: 0.1572 - val_mean_absolute_error: 0.3183\n",
            "Epoch 6/90\n",
            "336/336 [==============================] - 1s 4ms/step - loss: 0.1774 - mean_squared_error: 0.1774 - mean_absolute_error: 0.2842 - val_loss: 0.1418 - val_mean_squared_error: 0.1418 - val_mean_absolute_error: 0.2991\n",
            "Epoch 7/90\n",
            "336/336 [==============================] - 1s 4ms/step - loss: 0.1764 - mean_squared_error: 0.1764 - mean_absolute_error: 0.2831 - val_loss: 0.1342 - val_mean_squared_error: 0.1342 - val_mean_absolute_error: 0.2897\n",
            "Epoch 8/90\n",
            "336/336 [==============================] - 1s 4ms/step - loss: 0.1611 - mean_squared_error: 0.1611 - mean_absolute_error: 0.2705 - val_loss: 0.1674 - val_mean_squared_error: 0.1674 - val_mean_absolute_error: 0.3313\n",
            "Epoch 9/90\n",
            "336/336 [==============================] - 1s 4ms/step - loss: 0.1709 - mean_squared_error: 0.1709 - mean_absolute_error: 0.2892 - val_loss: 0.1198 - val_mean_squared_error: 0.1198 - val_mean_absolute_error: 0.2674\n",
            "Epoch 10/90\n",
            "336/336 [==============================] - 1s 4ms/step - loss: 0.1997 - mean_squared_error: 0.1997 - mean_absolute_error: 0.3006 - val_loss: 0.1508 - val_mean_squared_error: 0.1508 - val_mean_absolute_error: 0.3142\n",
            "Epoch 11/90\n",
            "336/336 [==============================] - 1s 4ms/step - loss: 0.1789 - mean_squared_error: 0.1789 - mean_absolute_error: 0.2918 - val_loss: 0.1169 - val_mean_squared_error: 0.1169 - val_mean_absolute_error: 0.2702\n",
            "Epoch 12/90\n",
            "336/336 [==============================] - 1s 4ms/step - loss: 0.1743 - mean_squared_error: 0.1743 - mean_absolute_error: 0.2859 - val_loss: 0.1240 - val_mean_squared_error: 0.1240 - val_mean_absolute_error: 0.2787\n",
            "Epoch 13/90\n",
            "336/336 [==============================] - 1s 4ms/step - loss: 0.1475 - mean_squared_error: 0.1475 - mean_absolute_error: 0.2742 - val_loss: 0.1258 - val_mean_squared_error: 0.1258 - val_mean_absolute_error: 0.2931\n",
            "Epoch 14/90\n",
            "336/336 [==============================] - 1s 4ms/step - loss: 0.1476 - mean_squared_error: 0.1476 - mean_absolute_error: 0.2809 - val_loss: 0.1222 - val_mean_squared_error: 0.1222 - val_mean_absolute_error: 0.2744\n",
            "Epoch 15/90\n",
            "336/336 [==============================] - 1s 4ms/step - loss: 0.1510 - mean_squared_error: 0.1510 - mean_absolute_error: 0.2501 - val_loss: 0.1189 - val_mean_squared_error: 0.1189 - val_mean_absolute_error: 0.2819\n",
            "Epoch 16/90\n",
            "336/336 [==============================] - 1s 4ms/step - loss: 0.1820 - mean_squared_error: 0.1820 - mean_absolute_error: 0.2861 - val_loss: 0.1471 - val_mean_squared_error: 0.1471 - val_mean_absolute_error: 0.2787\n",
            "Epoch 17/90\n",
            "336/336 [==============================] - 1s 4ms/step - loss: 0.1151 - mean_squared_error: 0.1151 - mean_absolute_error: 0.2367 - val_loss: 0.1400 - val_mean_squared_error: 0.1400 - val_mean_absolute_error: 0.2862\n",
            "Epoch 18/90\n",
            "336/336 [==============================] - 1s 4ms/step - loss: 0.1181 - mean_squared_error: 0.1181 - mean_absolute_error: 0.2349 - val_loss: 0.1366 - val_mean_squared_error: 0.1366 - val_mean_absolute_error: 0.2963\n",
            "Epoch 19/90\n",
            "336/336 [==============================] - 1s 4ms/step - loss: 0.1446 - mean_squared_error: 0.1446 - mean_absolute_error: 0.2701 - val_loss: 0.1376 - val_mean_squared_error: 0.1376 - val_mean_absolute_error: 0.2759\n",
            "Epoch 20/90\n",
            "336/336 [==============================] - 1s 4ms/step - loss: 0.0976 - mean_squared_error: 0.0976 - mean_absolute_error: 0.2235 - val_loss: 0.1175 - val_mean_squared_error: 0.1175 - val_mean_absolute_error: 0.2775\n",
            "Epoch 21/90\n",
            "336/336 [==============================] - 1s 4ms/step - loss: 0.1294 - mean_squared_error: 0.1294 - mean_absolute_error: 0.2396 - val_loss: 0.1529 - val_mean_squared_error: 0.1529 - val_mean_absolute_error: 0.2958\n",
            "Epoch 22/90\n",
            "336/336 [==============================] - 1s 4ms/step - loss: 0.1101 - mean_squared_error: 0.1101 - mean_absolute_error: 0.2320 - val_loss: 0.1370 - val_mean_squared_error: 0.1370 - val_mean_absolute_error: 0.2954\n",
            "Epoch 23/90\n",
            "336/336 [==============================] - 1s 4ms/step - loss: 0.1465 - mean_squared_error: 0.1465 - mean_absolute_error: 0.2613 - val_loss: 0.1421 - val_mean_squared_error: 0.1421 - val_mean_absolute_error: 0.2716\n",
            "Epoch 24/90\n",
            "336/336 [==============================] - 1s 4ms/step - loss: 0.1210 - mean_squared_error: 0.1210 - mean_absolute_error: 0.2448 - val_loss: 0.1010 - val_mean_squared_error: 0.1010 - val_mean_absolute_error: 0.2430\n",
            "Epoch 25/90\n",
            "336/336 [==============================] - 1s 4ms/step - loss: 0.0980 - mean_squared_error: 0.0980 - mean_absolute_error: 0.2132 - val_loss: 0.1021 - val_mean_squared_error: 0.1021 - val_mean_absolute_error: 0.2491\n",
            "Epoch 26/90\n",
            "336/336 [==============================] - 1s 4ms/step - loss: 0.0998 - mean_squared_error: 0.0998 - mean_absolute_error: 0.2297 - val_loss: 0.1380 - val_mean_squared_error: 0.1380 - val_mean_absolute_error: 0.2783\n",
            "Epoch 27/90\n",
            "336/336 [==============================] - 1s 4ms/step - loss: 0.1191 - mean_squared_error: 0.1191 - mean_absolute_error: 0.2439 - val_loss: 0.0917 - val_mean_squared_error: 0.0917 - val_mean_absolute_error: 0.2306\n",
            "Epoch 28/90\n",
            "336/336 [==============================] - 1s 4ms/step - loss: 0.1686 - mean_squared_error: 0.1686 - mean_absolute_error: 0.2567 - val_loss: 0.0904 - val_mean_squared_error: 0.0904 - val_mean_absolute_error: 0.2295\n",
            "Epoch 29/90\n",
            "336/336 [==============================] - 1s 4ms/step - loss: 0.1269 - mean_squared_error: 0.1269 - mean_absolute_error: 0.2401 - val_loss: 0.0840 - val_mean_squared_error: 0.0840 - val_mean_absolute_error: 0.2214\n",
            "Epoch 30/90\n",
            "336/336 [==============================] - 1s 4ms/step - loss: 0.1076 - mean_squared_error: 0.1076 - mean_absolute_error: 0.2307 - val_loss: 0.0854 - val_mean_squared_error: 0.0854 - val_mean_absolute_error: 0.2285\n",
            "Epoch 31/90\n",
            "336/336 [==============================] - 1s 4ms/step - loss: 0.1226 - mean_squared_error: 0.1226 - mean_absolute_error: 0.2234 - val_loss: 0.1598 - val_mean_squared_error: 0.1598 - val_mean_absolute_error: 0.2962\n",
            "Epoch 32/90\n",
            "336/336 [==============================] - 1s 4ms/step - loss: 0.1207 - mean_squared_error: 0.1207 - mean_absolute_error: 0.2443 - val_loss: 0.0896 - val_mean_squared_error: 0.0896 - val_mean_absolute_error: 0.2346\n",
            "Epoch 33/90\n",
            "336/336 [==============================] - 1s 4ms/step - loss: 0.1242 - mean_squared_error: 0.1242 - mean_absolute_error: 0.2452 - val_loss: 0.0770 - val_mean_squared_error: 0.0770 - val_mean_absolute_error: 0.2184\n",
            "Epoch 34/90\n",
            "336/336 [==============================] - 1s 4ms/step - loss: 0.0986 - mean_squared_error: 0.0986 - mean_absolute_error: 0.2126 - val_loss: 0.0874 - val_mean_squared_error: 0.0874 - val_mean_absolute_error: 0.2266\n",
            "Epoch 35/90\n",
            "336/336 [==============================] - 1s 4ms/step - loss: 0.1118 - mean_squared_error: 0.1118 - mean_absolute_error: 0.2212 - val_loss: 0.0938 - val_mean_squared_error: 0.0938 - val_mean_absolute_error: 0.2435\n",
            "Epoch 36/90\n",
            "336/336 [==============================] - 1s 4ms/step - loss: 0.0955 - mean_squared_error: 0.0955 - mean_absolute_error: 0.2148 - val_loss: 0.0842 - val_mean_squared_error: 0.0842 - val_mean_absolute_error: 0.2107\n",
            "Epoch 37/90\n",
            "336/336 [==============================] - 1s 4ms/step - loss: 0.0828 - mean_squared_error: 0.0828 - mean_absolute_error: 0.1916 - val_loss: 0.1112 - val_mean_squared_error: 0.1112 - val_mean_absolute_error: 0.2657\n",
            "Epoch 38/90\n",
            "336/336 [==============================] - 1s 4ms/step - loss: 0.0972 - mean_squared_error: 0.0972 - mean_absolute_error: 0.2196 - val_loss: 0.0862 - val_mean_squared_error: 0.0862 - val_mean_absolute_error: 0.2208\n",
            "Epoch 39/90\n",
            "336/336 [==============================] - 1s 4ms/step - loss: 0.0888 - mean_squared_error: 0.0888 - mean_absolute_error: 0.2031 - val_loss: 0.0692 - val_mean_squared_error: 0.0692 - val_mean_absolute_error: 0.2084\n",
            "Epoch 40/90\n",
            "336/336 [==============================] - 1s 4ms/step - loss: 0.0956 - mean_squared_error: 0.0956 - mean_absolute_error: 0.2167 - val_loss: 0.0801 - val_mean_squared_error: 0.0801 - val_mean_absolute_error: 0.2153\n",
            "Epoch 41/90\n",
            "336/336 [==============================] - 1s 4ms/step - loss: 0.1014 - mean_squared_error: 0.1014 - mean_absolute_error: 0.2255 - val_loss: 0.0947 - val_mean_squared_error: 0.0947 - val_mean_absolute_error: 0.2347\n",
            "Epoch 42/90\n",
            "336/336 [==============================] - 1s 4ms/step - loss: 0.1428 - mean_squared_error: 0.1428 - mean_absolute_error: 0.2361 - val_loss: 0.0757 - val_mean_squared_error: 0.0757 - val_mean_absolute_error: 0.2100\n",
            "Epoch 43/90\n",
            "336/336 [==============================] - 1s 4ms/step - loss: 0.1322 - mean_squared_error: 0.1322 - mean_absolute_error: 0.2287 - val_loss: 0.0951 - val_mean_squared_error: 0.0951 - val_mean_absolute_error: 0.2240\n",
            "Epoch 44/90\n",
            "336/336 [==============================] - 1s 4ms/step - loss: 0.1046 - mean_squared_error: 0.1046 - mean_absolute_error: 0.2236 - val_loss: 0.0885 - val_mean_squared_error: 0.0885 - val_mean_absolute_error: 0.2208\n",
            "Epoch 45/90\n",
            "336/336 [==============================] - 1s 4ms/step - loss: 0.1073 - mean_squared_error: 0.1073 - mean_absolute_error: 0.2144 - val_loss: 0.0937 - val_mean_squared_error: 0.0937 - val_mean_absolute_error: 0.2315\n",
            "Epoch 46/90\n",
            "336/336 [==============================] - 1s 4ms/step - loss: 0.0911 - mean_squared_error: 0.0911 - mean_absolute_error: 0.1915 - val_loss: 0.0885 - val_mean_squared_error: 0.0885 - val_mean_absolute_error: 0.2300\n",
            "Epoch 47/90\n",
            "336/336 [==============================] - 1s 4ms/step - loss: 0.1154 - mean_squared_error: 0.1154 - mean_absolute_error: 0.2214 - val_loss: 0.0781 - val_mean_squared_error: 0.0781 - val_mean_absolute_error: 0.2130\n",
            "Epoch 48/90\n",
            "336/336 [==============================] - 1s 4ms/step - loss: 0.0831 - mean_squared_error: 0.0831 - mean_absolute_error: 0.2035 - val_loss: 0.0824 - val_mean_squared_error: 0.0824 - val_mean_absolute_error: 0.2215\n",
            "Epoch 49/90\n",
            "336/336 [==============================] - 1s 4ms/step - loss: 0.1033 - mean_squared_error: 0.1033 - mean_absolute_error: 0.1879 - val_loss: 0.0792 - val_mean_squared_error: 0.0792 - val_mean_absolute_error: 0.2145\n",
            "Epoch 50/90\n",
            "336/336 [==============================] - 1s 4ms/step - loss: 0.0674 - mean_squared_error: 0.0674 - mean_absolute_error: 0.1906 - val_loss: 0.1143 - val_mean_squared_error: 0.1143 - val_mean_absolute_error: 0.2595\n",
            "Epoch 51/90\n",
            "336/336 [==============================] - 1s 4ms/step - loss: 0.0936 - mean_squared_error: 0.0936 - mean_absolute_error: 0.2007 - val_loss: 0.0881 - val_mean_squared_error: 0.0881 - val_mean_absolute_error: 0.2273\n",
            "Epoch 52/90\n",
            "336/336 [==============================] - 1s 4ms/step - loss: 0.0926 - mean_squared_error: 0.0926 - mean_absolute_error: 0.1975 - val_loss: 0.0848 - val_mean_squared_error: 0.0848 - val_mean_absolute_error: 0.2303\n",
            "Epoch 53/90\n",
            "336/336 [==============================] - 1s 4ms/step - loss: 0.1125 - mean_squared_error: 0.1125 - mean_absolute_error: 0.2236 - val_loss: 0.1078 - val_mean_squared_error: 0.1078 - val_mean_absolute_error: 0.2438\n",
            "Epoch 54/90\n",
            "336/336 [==============================] - 1s 4ms/step - loss: 0.0942 - mean_squared_error: 0.0942 - mean_absolute_error: 0.2151 - val_loss: 0.1072 - val_mean_squared_error: 0.1072 - val_mean_absolute_error: 0.2546\n",
            "Epoch 55/90\n",
            "336/336 [==============================] - 1s 4ms/step - loss: 0.0727 - mean_squared_error: 0.0727 - mean_absolute_error: 0.1845 - val_loss: 0.1130 - val_mean_squared_error: 0.1130 - val_mean_absolute_error: 0.2606\n",
            "Epoch 56/90\n",
            "336/336 [==============================] - 1s 4ms/step - loss: 0.0891 - mean_squared_error: 0.0891 - mean_absolute_error: 0.2071 - val_loss: 0.0893 - val_mean_squared_error: 0.0893 - val_mean_absolute_error: 0.2251\n",
            "Epoch 57/90\n",
            "336/336 [==============================] - 1s 4ms/step - loss: 0.0890 - mean_squared_error: 0.0890 - mean_absolute_error: 0.2076 - val_loss: 0.0848 - val_mean_squared_error: 0.0848 - val_mean_absolute_error: 0.2314\n",
            "Epoch 58/90\n",
            "336/336 [==============================] - 1s 4ms/step - loss: 0.0789 - mean_squared_error: 0.0789 - mean_absolute_error: 0.2023 - val_loss: 0.0999 - val_mean_squared_error: 0.0999 - val_mean_absolute_error: 0.2465\n",
            "Epoch 59/90\n",
            "336/336 [==============================] - 1s 4ms/step - loss: 0.0951 - mean_squared_error: 0.0951 - mean_absolute_error: 0.2106 - val_loss: 0.0881 - val_mean_squared_error: 0.0881 - val_mean_absolute_error: 0.2301\n",
            "Epoch 60/90\n",
            "336/336 [==============================] - 1s 4ms/step - loss: 0.1068 - mean_squared_error: 0.1068 - mean_absolute_error: 0.1894 - val_loss: 0.0925 - val_mean_squared_error: 0.0925 - val_mean_absolute_error: 0.2365\n",
            "Epoch 61/90\n",
            "336/336 [==============================] - 1s 4ms/step - loss: 0.1003 - mean_squared_error: 0.1003 - mean_absolute_error: 0.2101 - val_loss: 0.1122 - val_mean_squared_error: 0.1122 - val_mean_absolute_error: 0.2571\n",
            "Epoch 62/90\n",
            "336/336 [==============================] - 1s 4ms/step - loss: 0.1216 - mean_squared_error: 0.1216 - mean_absolute_error: 0.2140 - val_loss: 0.0831 - val_mean_squared_error: 0.0831 - val_mean_absolute_error: 0.2187\n",
            "Epoch 63/90\n",
            "336/336 [==============================] - 1s 4ms/step - loss: 0.0675 - mean_squared_error: 0.0675 - mean_absolute_error: 0.1768 - val_loss: 0.0958 - val_mean_squared_error: 0.0958 - val_mean_absolute_error: 0.2343\n",
            "Epoch 64/90\n",
            "336/336 [==============================] - 1s 4ms/step - loss: 0.0647 - mean_squared_error: 0.0647 - mean_absolute_error: 0.1780 - val_loss: 0.0865 - val_mean_squared_error: 0.0865 - val_mean_absolute_error: 0.2221\n",
            "Epoch 65/90\n",
            "336/336 [==============================] - 1s 4ms/step - loss: 0.1049 - mean_squared_error: 0.1049 - mean_absolute_error: 0.2042 - val_loss: 0.0844 - val_mean_squared_error: 0.0844 - val_mean_absolute_error: 0.2300\n",
            "Epoch 66/90\n",
            "336/336 [==============================] - 1s 4ms/step - loss: 0.1194 - mean_squared_error: 0.1194 - mean_absolute_error: 0.2114 - val_loss: 0.0906 - val_mean_squared_error: 0.0906 - val_mean_absolute_error: 0.2327\n",
            "Epoch 67/90\n",
            "336/336 [==============================] - 1s 4ms/step - loss: 0.0611 - mean_squared_error: 0.0611 - mean_absolute_error: 0.1797 - val_loss: 0.1025 - val_mean_squared_error: 0.1025 - val_mean_absolute_error: 0.2511\n",
            "Epoch 68/90\n",
            "336/336 [==============================] - 1s 4ms/step - loss: 0.1180 - mean_squared_error: 0.1180 - mean_absolute_error: 0.2436 - val_loss: 0.1039 - val_mean_squared_error: 0.1039 - val_mean_absolute_error: 0.2650\n",
            "Epoch 69/90\n",
            "336/336 [==============================] - 1s 4ms/step - loss: 0.0968 - mean_squared_error: 0.0968 - mean_absolute_error: 0.1876 - val_loss: 0.0914 - val_mean_squared_error: 0.0914 - val_mean_absolute_error: 0.2402\n",
            "Epoch 70/90\n",
            "336/336 [==============================] - 1s 4ms/step - loss: 0.0868 - mean_squared_error: 0.0868 - mean_absolute_error: 0.2041 - val_loss: 0.1027 - val_mean_squared_error: 0.1027 - val_mean_absolute_error: 0.2397\n",
            "Epoch 71/90\n",
            "336/336 [==============================] - 1s 4ms/step - loss: 0.0871 - mean_squared_error: 0.0871 - mean_absolute_error: 0.1931 - val_loss: 0.0921 - val_mean_squared_error: 0.0921 - val_mean_absolute_error: 0.2336\n",
            "Epoch 72/90\n",
            "336/336 [==============================] - 1s 4ms/step - loss: 0.0628 - mean_squared_error: 0.0628 - mean_absolute_error: 0.1711 - val_loss: 0.1102 - val_mean_squared_error: 0.1102 - val_mean_absolute_error: 0.2678\n",
            "Epoch 73/90\n",
            "336/336 [==============================] - 1s 4ms/step - loss: 0.0737 - mean_squared_error: 0.0737 - mean_absolute_error: 0.1775 - val_loss: 0.1031 - val_mean_squared_error: 0.1031 - val_mean_absolute_error: 0.2592\n",
            "Epoch 74/90\n",
            "336/336 [==============================] - 1s 4ms/step - loss: 0.0576 - mean_squared_error: 0.0576 - mean_absolute_error: 0.1742 - val_loss: 0.1057 - val_mean_squared_error: 0.1057 - val_mean_absolute_error: 0.2501\n",
            "Epoch 75/90\n",
            "336/336 [==============================] - 1s 4ms/step - loss: 0.0705 - mean_squared_error: 0.0705 - mean_absolute_error: 0.1786 - val_loss: 0.0991 - val_mean_squared_error: 0.0991 - val_mean_absolute_error: 0.2447\n",
            "Epoch 76/90\n",
            "336/336 [==============================] - 1s 4ms/step - loss: 0.0681 - mean_squared_error: 0.0681 - mean_absolute_error: 0.1760 - val_loss: 0.1065 - val_mean_squared_error: 0.1065 - val_mean_absolute_error: 0.2582\n",
            "Epoch 77/90\n",
            "336/336 [==============================] - 1s 4ms/step - loss: 0.0791 - mean_squared_error: 0.0791 - mean_absolute_error: 0.1883 - val_loss: 0.1153 - val_mean_squared_error: 0.1153 - val_mean_absolute_error: 0.2742\n",
            "Epoch 78/90\n",
            "336/336 [==============================] - 1s 4ms/step - loss: 0.0628 - mean_squared_error: 0.0628 - mean_absolute_error: 0.1712 - val_loss: 0.0961 - val_mean_squared_error: 0.0961 - val_mean_absolute_error: 0.2500\n",
            "Epoch 79/90\n",
            "336/336 [==============================] - 1s 4ms/step - loss: 0.0556 - mean_squared_error: 0.0556 - mean_absolute_error: 0.1732 - val_loss: 0.1269 - val_mean_squared_error: 0.1269 - val_mean_absolute_error: 0.2924\n",
            "Epoch 80/90\n",
            "336/336 [==============================] - 1s 4ms/step - loss: 0.0592 - mean_squared_error: 0.0592 - mean_absolute_error: 0.1791 - val_loss: 0.1356 - val_mean_squared_error: 0.1356 - val_mean_absolute_error: 0.2972\n",
            "Epoch 81/90\n",
            "336/336 [==============================] - 1s 4ms/step - loss: 0.0880 - mean_squared_error: 0.0880 - mean_absolute_error: 0.1900 - val_loss: 0.1242 - val_mean_squared_error: 0.1242 - val_mean_absolute_error: 0.2922\n",
            "Epoch 82/90\n",
            "336/336 [==============================] - 1s 4ms/step - loss: 0.0612 - mean_squared_error: 0.0612 - mean_absolute_error: 0.1787 - val_loss: 0.1426 - val_mean_squared_error: 0.1426 - val_mean_absolute_error: 0.3057\n",
            "Epoch 83/90\n",
            "336/336 [==============================] - 1s 4ms/step - loss: 0.0747 - mean_squared_error: 0.0747 - mean_absolute_error: 0.1851 - val_loss: 0.1101 - val_mean_squared_error: 0.1101 - val_mean_absolute_error: 0.2563\n",
            "Epoch 84/90\n",
            "336/336 [==============================] - 1s 4ms/step - loss: 0.1089 - mean_squared_error: 0.1089 - mean_absolute_error: 0.2101 - val_loss: 0.1032 - val_mean_squared_error: 0.1032 - val_mean_absolute_error: 0.2492\n",
            "Epoch 85/90\n",
            "336/336 [==============================] - 1s 4ms/step - loss: 0.0677 - mean_squared_error: 0.0677 - mean_absolute_error: 0.1702 - val_loss: 0.1372 - val_mean_squared_error: 0.1372 - val_mean_absolute_error: 0.2884\n",
            "Epoch 86/90\n",
            "336/336 [==============================] - 1s 4ms/step - loss: 0.0607 - mean_squared_error: 0.0607 - mean_absolute_error: 0.1743 - val_loss: 0.1358 - val_mean_squared_error: 0.1358 - val_mean_absolute_error: 0.2998\n",
            "Epoch 87/90\n",
            "336/336 [==============================] - 1s 4ms/step - loss: 0.0800 - mean_squared_error: 0.0800 - mean_absolute_error: 0.1853 - val_loss: 0.1280 - val_mean_squared_error: 0.1280 - val_mean_absolute_error: 0.2791\n",
            "Epoch 88/90\n",
            "336/336 [==============================] - 1s 4ms/step - loss: 0.0522 - mean_squared_error: 0.0522 - mean_absolute_error: 0.1632 - val_loss: 0.1353 - val_mean_squared_error: 0.1353 - val_mean_absolute_error: 0.2775\n",
            "Epoch 89/90\n",
            "336/336 [==============================] - 1s 4ms/step - loss: 0.0731 - mean_squared_error: 0.0731 - mean_absolute_error: 0.1807 - val_loss: 0.0895 - val_mean_squared_error: 0.0895 - val_mean_absolute_error: 0.2343\n",
            "Epoch 90/90\n",
            "336/336 [==============================] - 1s 4ms/step - loss: 0.0564 - mean_squared_error: 0.0564 - mean_absolute_error: 0.1742 - val_loss: 0.1583 - val_mean_squared_error: 0.1583 - val_mean_absolute_error: 0.3142\n"
          ],
          "name": "stdout"
        }
      ]
    },
    {
      "cell_type": "code",
      "metadata": {
        "id": "lqCFogZPME1r",
        "colab": {
          "base_uri": "https://localhost:8080/",
          "height": 282
        },
        "outputId": "431f2431-e7e5-47da-bbd3-0b9449f01c21"
      },
      "source": [
        "plt.plot(history.history['mean_squared_error'], Label='Mean Squared Error')\n",
        "plt.plot(history.history['mean_absolute_error'], Label='Mean Absolute Error')\n",
        "plt.grid()\n",
        "plt.legend()"
      ],
      "execution_count": 31,
      "outputs": [
        {
          "output_type": "execute_result",
          "data": {
            "text/plain": [
              "<matplotlib.legend.Legend at 0x7f6ba29ef0d0>"
            ]
          },
          "metadata": {
            "tags": []
          },
          "execution_count": 31
        },
        {
          "output_type": "display_data",
          "data": {
            "image/png": "[encoded data removed]",
            "text/plain": [
              "<Figure size 432x288 with 1 Axes>"
            ]
          },
          "metadata": {
            "tags": [],
            "needs_background": "light"
          }
        }
      ]
    },
    {
      "cell_type": "code",
      "metadata": {
        "colab": {
          "base_uri": "https://localhost:8080/",
          "height": 282
        },
        "id": "lKlzXPcHcXko",
        "outputId": "e0c8781e-6d42-4b07-9bfc-d9c62d6991ef"
      },
      "source": [
        "plt.plot(history.history['loss'], Label='Training Loss')\n",
        "plt.plot(history.history['val_loss'], Label='Validation Loss')\n",
        "plt.grid()\n",
        "plt.legend()"
      ],
      "execution_count": 32,
      "outputs": [
        {
          "output_type": "execute_result",
          "data": {
            "text/plain": [
              "<matplotlib.legend.Legend at 0x7f6ba69ebcd0>"
            ]
          },
          "metadata": {
            "tags": []
          },
          "execution_count": 32
        },
        {
          "output_type": "display_data",
          "data": {
            "image/png": "[encoded data removed]",
            "text/plain": [
              "<Figure size 432x288 with 1 Axes>"
            ]
          },
          "metadata": {
            "tags": [],
            "needs_background": "light"
          }
        }
      ]
    },
    {
      "cell_type": "code",
      "metadata": {
        "id": "E-VpwZf8cdRY"
      },
      "source": [
        "n_f=60\n",
        "forecast_period_dates = pd.date_range(list(train_dates)[-1], periods=n_f, freq='1d').tolist()\n",
        "forecast = model.predict(trainX[-n_f:])\n",
        "forecast_copies = np.repeat(forecast, df_for_training.shape[1], axis=-1)\n",
        "y_pred_future = scaler.inverse_transform(forecast_copies)[:,0]\n",
        "\n",
        "\n",
        "forecast_dates = []\n",
        "for time_i in forecast_period_dates:\n",
        "    forecast_dates.append(time_i.date())"
      ],
      "execution_count": 26,
      "outputs": []
    },
    {
      "cell_type": "code",
      "metadata": {
        "id": "1QO1WgIu96S2",
        "colab": {
          "base_uri": "https://localhost:8080/"
        },
        "outputId": "3a27e575-f9d1-4270-8ff0-7a6063ba8bd1"
      },
      "source": [
        "forecast_dates"
      ],
      "execution_count": 27,
      "outputs": [
        {
          "output_type": "execute_result",
          "data": {
            "text/plain": [
              "[datetime.date(2021, 5, 6),\n",
              " datetime.date(2021, 5, 7),\n",
              " datetime.date(2021, 5, 8),\n",
              " datetime.date(2021, 5, 9),\n",
              " datetime.date(2021, 5, 10),\n",
              " datetime.date(2021, 5, 11),\n",
              " datetime.date(2021, 5, 12),\n",
              " datetime.date(2021, 5, 13),\n",
              " datetime.date(2021, 5, 14),\n",
              " datetime.date(2021, 5, 15),\n",
              " datetime.date(2021, 5, 16),\n",
              " datetime.date(2021, 5, 17),\n",
              " datetime.date(2021, 5, 18),\n",
              " datetime.date(2021, 5, 19),\n",
              " datetime.date(2021, 5, 20),\n",
              " datetime.date(2021, 5, 21),\n",
              " datetime.date(2021, 5, 22),\n",
              " datetime.date(2021, 5, 23),\n",
              " datetime.date(2021, 5, 24),\n",
              " datetime.date(2021, 5, 25),\n",
              " datetime.date(2021, 5, 26),\n",
              " datetime.date(2021, 5, 27),\n",
              " datetime.date(2021, 5, 28),\n",
              " datetime.date(2021, 5, 29),\n",
              " datetime.date(2021, 5, 30),\n",
              " datetime.date(2021, 5, 31),\n",
              " datetime.date(2021, 6, 1),\n",
              " datetime.date(2021, 6, 2),\n",
              " datetime.date(2021, 6, 3),\n",
              " datetime.date(2021, 6, 4),\n",
              " datetime.date(2021, 6, 5),\n",
              " datetime.date(2021, 6, 6),\n",
              " datetime.date(2021, 6, 7),\n",
              " datetime.date(2021, 6, 8),\n",
              " datetime.date(2021, 6, 9),\n",
              " datetime.date(2021, 6, 10),\n",
              " datetime.date(2021, 6, 11),\n",
              " datetime.date(2021, 6, 12),\n",
              " datetime.date(2021, 6, 13),\n",
              " datetime.date(2021, 6, 14),\n",
              " datetime.date(2021, 6, 15),\n",
              " datetime.date(2021, 6, 16),\n",
              " datetime.date(2021, 6, 17),\n",
              " datetime.date(2021, 6, 18),\n",
              " datetime.date(2021, 6, 19),\n",
              " datetime.date(2021, 6, 20),\n",
              " datetime.date(2021, 6, 21),\n",
              " datetime.date(2021, 6, 22),\n",
              " datetime.date(2021, 6, 23),\n",
              " datetime.date(2021, 6, 24),\n",
              " datetime.date(2021, 6, 25),\n",
              " datetime.date(2021, 6, 26),\n",
              " datetime.date(2021, 6, 27),\n",
              " datetime.date(2021, 6, 28),\n",
              " datetime.date(2021, 6, 29),\n",
              " datetime.date(2021, 6, 30),\n",
              " datetime.date(2021, 7, 1),\n",
              " datetime.date(2021, 7, 2),\n",
              " datetime.date(2021, 7, 3),\n",
              " datetime.date(2021, 7, 4)]"
            ]
          },
          "metadata": {
            "tags": []
          },
          "execution_count": 27
        }
      ]
    },
    {
      "cell_type": "code",
      "metadata": {
        "id": "snKv5cYKct29"
      },
      "source": [
        "df_forecast = pd.DataFrame({'Date_YMD':np.array(forecast_dates), 'Case Load Rate':y_pred_future})\n",
        "df_forecast['Date_YMD']=pd.to_datetime(df_forecast['Date_YMD'])"
      ],
      "execution_count": 28,
      "outputs": []
    },
    {
      "cell_type": "code",
      "metadata": {
        "colab": {
          "base_uri": "https://localhost:8080/"
        },
        "id": "xmz5vUJfcyO5",
        "outputId": "297b44e3-a467-4e01-c20a-f471b829043d"
      },
      "source": [
        "original=df1[['Date_YMD','Case Load Rate']]\n",
        "original['Date_YMD']=pd.to_datetime(original['Date_YMD'])\n",
        "original = original.loc[original['Date_YMD'] >= '2020-01-30']"
      ],
      "execution_count": 29,
      "outputs": [
        {
          "output_type": "stream",
          "text": [
            "/usr/local/lib/python3.7/dist-packages/ipykernel_launcher.py:2: SettingWithCopyWarning: \n",
            "A value is trying to be set on a copy of a slice from a DataFrame.\n",
            "Try using .loc[row_indexer,col_indexer] = value instead\n",
            "\n",
            "See the caveats in the documentation: https://pandas.pydata.org/pandas-docs/stable/user_guide/indexing.html#returning-a-view-versus-a-copy\n",
            "  \n"
          ],
          "name": "stderr"
        }
      ]
    },
    {
      "cell_type": "code",
      "metadata": {
        "colab": {
          "base_uri": "https://localhost:8080/",
          "height": 385
        },
        "id": "ViyGwWqUc1pT",
        "outputId": "274bfbca-c949-4c5f-83b8-17971c3c14cb"
      },
      "source": [
        "sns.lineplot(original['Date_YMD'], original['Case Load Rate'])\n",
        "sns.lineplot(df_forecast['Date_YMD'], df_forecast['Case Load Rate'])"
      ],
      "execution_count": 30,
      "outputs": [
        {
          "output_type": "stream",
          "text": [
            "/usr/local/lib/python3.7/dist-packages/seaborn/_decorators.py:43: FutureWarning: Pass the following variables as keyword args: x, y. From version 0.12, the only valid positional argument will be `data`, and passing other arguments without an explicit keyword will result in an error or misinterpretation.\n",
            "  FutureWarning\n",
            "/usr/local/lib/python3.7/dist-packages/seaborn/_decorators.py:43: FutureWarning: Pass the following variables as keyword args: x, y. From version 0.12, the only valid positional argument will be `data`, and passing other arguments without an explicit keyword will result in an error or misinterpretation.\n",
            "  FutureWarning\n"
          ],
          "name": "stderr"
        },
        {
          "output_type": "execute_result",
          "data": {
            "text/plain": [
              "<matplotlib.axes._subplots.AxesSubplot at 0x7f6ba6109b50>"
            ]
          },
          "metadata": {
            "tags": []
          },
          "execution_count": 30
        },
        {
          "output_type": "display_data",
          "data": {
            "image/png": "[encoded data removed]",
            "text/plain": [
              "<Figure size 432x288 with 1 Axes>"
            ]
          },
          "metadata": {
            "tags": [],
            "needs_background": "light"
          }
        }
      ]
    }
  ]
}