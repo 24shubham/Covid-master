{
  "nbformat": 4,
  "nbformat_minor": 0,
  "metadata": {
    "colab": {
      "name": "Existing-4.ipynb",
      "provenance": []
    },
    "kernelspec": {
      "name": "python3",
      "display_name": "Python 3"
    },
    "language_info": {
      "name": "python"
    }
  },
  "cells": [
    {
      "cell_type": "code",
      "metadata": {
        "id": "XWF7ClTJHddx"
      },
      "source": [
        ""
      ],
      "execution_count": null,
      "outputs": []
    },
    {
      "cell_type": "code",
      "metadata": {
        "id": "C8aNAFNYiNJV"
      },
      "source": [
        "import numpy as  np\n",
        "from keras.models import Sequential\n",
        "from keras.layers import LSTM, Dense, Dropout, Activation\n",
        "import pandas as pd\n",
        "from matplotlib import pyplot as plt\n",
        "from sklearn.preprocessing import StandardScaler\n",
        "import seaborn as sns\n",
        "from keras.layers import Bidirectional"
      ],
      "execution_count": 1,
      "outputs": []
    },
    {
      "cell_type": "code",
      "metadata": {
        "id": "z-HjgltniWCX",
        "colab": {
          "base_uri": "https://localhost:8080/",
          "height": 419
        },
        "outputId": "164f420f-dde9-4cab-80d4-4818ec7b920b"
      },
      "source": [
        "df=pd.read_csv('https://api.covid19india.org/csv/latest/case_time_series.csv')\n",
        "df"
      ],
      "execution_count": 2,
      "outputs": [
        {
          "output_type": "execute_result",
          "data": {
            "text/html": [
              "<div>\n",
              "<style scoped>\n",
              "    .dataframe tbody tr th:only-of-type {\n",
              "        vertical-align: middle;\n",
              "    }\n",
              "\n",
              "    .dataframe tbody tr th {\n",
              "        vertical-align: top;\n",
              "    }\n",
              "\n",
              "    .dataframe thead th {\n",
              "        text-align: right;\n",
              "    }\n",
              "</style>\n",
              "<table border=\"1\" class=\"dataframe\">\n",
              "  <thead>\n",
              "    <tr style=\"text-align: right;\">\n",
              "      <th></th>\n",
              "      <th>Date</th>\n",
              "      <th>Date_YMD</th>\n",
              "      <th>Daily Confirmed</th>\n",
              "      <th>Total Confirmed</th>\n",
              "      <th>Daily Recovered</th>\n",
              "      <th>Total Recovered</th>\n",
              "      <th>Daily Deceased</th>\n",
              "      <th>Total Deceased</th>\n",
              "    </tr>\n",
              "  </thead>\n",
              "  <tbody>\n",
              "    <tr>\n",
              "      <th>0</th>\n",
              "      <td>30 January 2020</td>\n",
              "      <td>2020-01-30</td>\n",
              "      <td>1</td>\n",
              "      <td>1</td>\n",
              "      <td>0</td>\n",
              "      <td>0</td>\n",
              "      <td>0</td>\n",
              "      <td>0</td>\n",
              "    </tr>\n",
              "    <tr>\n",
              "      <th>1</th>\n",
              "      <td>31 January 2020</td>\n",
              "      <td>2020-01-31</td>\n",
              "      <td>0</td>\n",
              "      <td>1</td>\n",
              "      <td>0</td>\n",
              "      <td>0</td>\n",
              "      <td>0</td>\n",
              "      <td>0</td>\n",
              "    </tr>\n",
              "    <tr>\n",
              "      <th>2</th>\n",
              "      <td>1 February 2020</td>\n",
              "      <td>2020-02-01</td>\n",
              "      <td>0</td>\n",
              "      <td>1</td>\n",
              "      <td>0</td>\n",
              "      <td>0</td>\n",
              "      <td>0</td>\n",
              "      <td>0</td>\n",
              "    </tr>\n",
              "    <tr>\n",
              "      <th>3</th>\n",
              "      <td>2 February 2020</td>\n",
              "      <td>2020-02-02</td>\n",
              "      <td>1</td>\n",
              "      <td>2</td>\n",
              "      <td>0</td>\n",
              "      <td>0</td>\n",
              "      <td>0</td>\n",
              "      <td>0</td>\n",
              "    </tr>\n",
              "    <tr>\n",
              "      <th>4</th>\n",
              "      <td>3 February 2020</td>\n",
              "      <td>2020-02-03</td>\n",
              "      <td>1</td>\n",
              "      <td>3</td>\n",
              "      <td>0</td>\n",
              "      <td>0</td>\n",
              "      <td>0</td>\n",
              "      <td>0</td>\n",
              "    </tr>\n",
              "    <tr>\n",
              "      <th>...</th>\n",
              "      <td>...</td>\n",
              "      <td>...</td>\n",
              "      <td>...</td>\n",
              "      <td>...</td>\n",
              "      <td>...</td>\n",
              "      <td>...</td>\n",
              "      <td>...</td>\n",
              "      <td>...</td>\n",
              "    </tr>\n",
              "    <tr>\n",
              "      <th>459</th>\n",
              "      <td>3 May 2021</td>\n",
              "      <td>2021-05-03</td>\n",
              "      <td>355769</td>\n",
              "      <td>20275414</td>\n",
              "      <td>318910</td>\n",
              "      <td>16600620</td>\n",
              "      <td>3439</td>\n",
              "      <td>221795</td>\n",
              "    </tr>\n",
              "    <tr>\n",
              "      <th>460</th>\n",
              "      <td>4 May 2021</td>\n",
              "      <td>2021-05-04</td>\n",
              "      <td>382847</td>\n",
              "      <td>20658261</td>\n",
              "      <td>337699</td>\n",
              "      <td>16938319</td>\n",
              "      <td>3786</td>\n",
              "      <td>225581</td>\n",
              "    </tr>\n",
              "    <tr>\n",
              "      <th>461</th>\n",
              "      <td>5 May 2021</td>\n",
              "      <td>2021-05-05</td>\n",
              "      <td>412624</td>\n",
              "      <td>21070885</td>\n",
              "      <td>330718</td>\n",
              "      <td>17269037</td>\n",
              "      <td>3979</td>\n",
              "      <td>229560</td>\n",
              "    </tr>\n",
              "    <tr>\n",
              "      <th>462</th>\n",
              "      <td>6 May 2021</td>\n",
              "      <td>2021-05-06</td>\n",
              "      <td>414280</td>\n",
              "      <td>21485165</td>\n",
              "      <td>328347</td>\n",
              "      <td>17597384</td>\n",
              "      <td>3923</td>\n",
              "      <td>233483</td>\n",
              "    </tr>\n",
              "    <tr>\n",
              "      <th>463</th>\n",
              "      <td>7 May 2021</td>\n",
              "      <td>2021-05-07</td>\n",
              "      <td>401342</td>\n",
              "      <td>21886507</td>\n",
              "      <td>319469</td>\n",
              "      <td>17916853</td>\n",
              "      <td>4192</td>\n",
              "      <td>237675</td>\n",
              "    </tr>\n",
              "  </tbody>\n",
              "</table>\n",
              "<p>464 rows × 8 columns</p>\n",
              "</div>"
            ],
            "text/plain": [
              "                Date    Date_YMD  ...  Daily Deceased  Total Deceased\n",
              "0    30 January 2020  2020-01-30  ...               0               0\n",
              "1    31 January 2020  2020-01-31  ...               0               0\n",
              "2    1 February 2020  2020-02-01  ...               0               0\n",
              "3    2 February 2020  2020-02-02  ...               0               0\n",
              "4    3 February 2020  2020-02-03  ...               0               0\n",
              "..               ...         ...  ...             ...             ...\n",
              "459       3 May 2021  2021-05-03  ...            3439          221795\n",
              "460       4 May 2021  2021-05-04  ...            3786          225581\n",
              "461       5 May 2021  2021-05-05  ...            3979          229560\n",
              "462       6 May 2021  2021-05-06  ...            3923          233483\n",
              "463       7 May 2021  2021-05-07  ...            4192          237675\n",
              "\n",
              "[464 rows x 8 columns]"
            ]
          },
          "metadata": {
            "tags": []
          },
          "execution_count": 2
        }
      ]
    },
    {
      "cell_type": "code",
      "metadata": {
        "id": "ReIV1flWiYbo"
      },
      "source": [
        "df1=df"
      ],
      "execution_count": 3,
      "outputs": []
    },
    {
      "cell_type": "code",
      "metadata": {
        "id": "VXCSQpGKP__q"
      },
      "source": [
        "def Recovery_Rate(RC,CC):\n",
        "  return (RC/CC)*100"
      ],
      "execution_count": 4,
      "outputs": []
    },
    {
      "cell_type": "code",
      "metadata": {
        "id": "iYFkE3rSRvzB"
      },
      "source": [
        "RR=[]\n",
        "for i in df.index:\n",
        "  RR.append(Recovery_Rate(df['Total Recovered'][i], df['Total Confirmed'][i]))"
      ],
      "execution_count": 5,
      "outputs": []
    },
    {
      "cell_type": "code",
      "metadata": {
        "id": "xqQx-95aR3nO"
      },
      "source": [
        "df1['Recovery Rate']=RR"
      ],
      "execution_count": 6,
      "outputs": []
    },
    {
      "cell_type": "code",
      "metadata": {
        "id": "Herun-2pQWYL"
      },
      "source": [
        "def Case_Load_Rate(CC,RC,D):\n",
        "  CaseLoad=CC-RC-D\n",
        "  return (CaseLoad/CC)*100\n",
        "  # return CaseLoad"
      ],
      "execution_count": 7,
      "outputs": []
    },
    {
      "cell_type": "code",
      "metadata": {
        "id": "mNfl31NcTgbO",
        "colab": {
          "base_uri": "https://localhost:8080/"
        },
        "outputId": "fd1273f8-f1a2-406c-a084-2ff738b374f3"
      },
      "source": [
        "CLR=[]\n",
        "for i in df.index:\n",
        "  CLR.append(Case_Load_Rate(df['Daily Confirmed'][i],df['Daily Recovered'][i],  df['Daily Deceased'][i]))"
      ],
      "execution_count": 8,
      "outputs": [
        {
          "output_type": "stream",
          "text": [
            "/usr/local/lib/python3.7/dist-packages/ipykernel_launcher.py:3: RuntimeWarning: invalid value encountered in long_scalars\n",
            "  This is separate from the ipykernel package so we can avoid doing imports until\n",
            "/usr/local/lib/python3.7/dist-packages/ipykernel_launcher.py:3: RuntimeWarning: divide by zero encountered in long_scalars\n",
            "  This is separate from the ipykernel package so we can avoid doing imports until\n"
          ],
          "name": "stderr"
        }
      ]
    },
    {
      "cell_type": "code",
      "metadata": {
        "id": "rPVDxFeWT6Xt"
      },
      "source": [
        "df1['Case Load Rate']=CLR"
      ],
      "execution_count": 9,
      "outputs": []
    },
    {
      "cell_type": "code",
      "metadata": {
        "id": "cseopLrrQ5RB"
      },
      "source": [
        "def Delta(CLR,RR):\n",
        "  return CLR-RR"
      ],
      "execution_count": 10,
      "outputs": []
    },
    {
      "cell_type": "code",
      "metadata": {
        "id": "PRsgWcIxRNm3"
      },
      "source": [
        "Del=[]\n",
        "for i in df.index:\n",
        "  Del.append(Delta(df1['Case Load Rate'][i],df1['Recovery Rate'][i]))"
      ],
      "execution_count": 11,
      "outputs": []
    },
    {
      "cell_type": "code",
      "metadata": {
        "id": "hIK0dMI4Wm1v"
      },
      "source": [
        "df1['Delta']=Del"
      ],
      "execution_count": 12,
      "outputs": []
    },
    {
      "cell_type": "code",
      "metadata": {
        "id": "re3UKhh0P4Tu"
      },
      "source": [
        "train_dates=pd.to_datetime(df['Date_YMD'])"
      ],
      "execution_count": 13,
      "outputs": []
    },
    {
      "cell_type": "code",
      "metadata": {
        "id": "a-E43eDEYpcP",
        "colab": {
          "base_uri": "https://localhost:8080/",
          "height": 265
        },
        "outputId": "74a81b61-2902-4fb6-82c6-68a7e23c750f"
      },
      "source": [
        "# plt.title(\"Red - Recovery Rate Blue - Case Load Rate Black-Delta\")\n",
        "plt.plot(train_dates,CLR,color=\"Blue\", Label='Case Load Rate')\n",
        "plt.plot(train_dates,RR,color=\"red\", Label='Recovery Rate')\n",
        "plt.plot(train_dates,Del,color=\"Black\", Label='Delta')\n",
        "plt.grid()"
      ],
      "execution_count": 14,
      "outputs": [
        {
          "output_type": "display_data",
          "data": {
            "image/png": "[encoded data removed]",
            "text/plain": [
              "<Figure size 432x288 with 1 Axes>"
            ]
          },
          "metadata": {
            "tags": [],
            "needs_background": "light"
          }
        }
      ]
    },
    {
      "cell_type": "code",
      "metadata": {
        "id": "2VyOThkNbXig",
        "colab": {
          "base_uri": "https://localhost:8080/"
        },
        "outputId": "b55119f6-9f44-4034-a972-e6117ec16af8"
      },
      "source": [
        "cols=list(df1)[9:10]\n",
        "cols"
      ],
      "execution_count": 15,
      "outputs": [
        {
          "output_type": "execute_result",
          "data": {
            "text/plain": [
              "['Case Load Rate']"
            ]
          },
          "metadata": {
            "tags": []
          },
          "execution_count": 15
        }
      ]
    },
    {
      "cell_type": "code",
      "metadata": {
        "id": "Zl9m08dNbrNi"
      },
      "source": [
        "df1.replace([np.inf, -np.inf], np.nan, inplace=True)\n",
        "df1.dropna(inplace=True)"
      ],
      "execution_count": 16,
      "outputs": []
    },
    {
      "cell_type": "code",
      "metadata": {
        "id": "Y6UvvNZIbuxz"
      },
      "source": [
        "df_for_training=df1[cols].astype(float)"
      ],
      "execution_count": 17,
      "outputs": []
    },
    {
      "cell_type": "code",
      "metadata": {
        "id": "qvth9j6kb5zD"
      },
      "source": [
        "scaler=StandardScaler()\n",
        "scaler=scaler.fit(df_for_training)\n",
        "df_for_training_scaled=scaler.transform(df_for_training)"
      ],
      "execution_count": 18,
      "outputs": []
    },
    {
      "cell_type": "code",
      "metadata": {
        "id": "ACO2QWSNb-ZI"
      },
      "source": [
        "trainX=[]\n",
        "trainY=[]"
      ],
      "execution_count": 19,
      "outputs": []
    },
    {
      "cell_type": "code",
      "metadata": {
        "id": "Wf7GPXZ0cAyZ"
      },
      "source": [
        "n_future=1\n",
        "n_past=14"
      ],
      "execution_count": 20,
      "outputs": []
    },
    {
      "cell_type": "code",
      "metadata": {
        "id": "s3jg1YK3cDxl"
      },
      "source": [
        "for i in range(n_past, len(df_for_training_scaled)-n_future +1):\n",
        "  trainX.append(df_for_training_scaled[i-n_past:i, 0:df_for_training.shape[1]])\n",
        "  trainY.append(df_for_training_scaled[i+n_future-1:i+n_future,0])\n",
        "trainX,trainY=np.array(trainX),np.array(trainY)"
      ],
      "execution_count": 21,
      "outputs": []
    },
    {
      "cell_type": "code",
      "metadata": {
        "id": "iGkjGIb-jhaC"
      },
      "source": [
        "\n",
        "model = Sequential()\n",
        "model.add(Bidirectional(LSTM(50, activation='relu'), input_shape=(trainX.shape[1], trainX.shape[2])))\n",
        "model.add(Dense(1))\n",
        "model.compile(optimizer='adam', loss='mse', metrics=['mean_squared_error','mean_absolute_error'])"
      ],
      "execution_count": 22,
      "outputs": []
    },
    {
      "cell_type": "code",
      "metadata": {
        "id": "_E2LUr2dL0GM"
      },
      "source": [
        "## Lstm Model \n",
        "lstm_model = Sequential() \n",
        "# layer - 1 : Input Layer\n",
        "# units = no of neurons , backpropogation: return_sequences,  \n",
        "lstm_model.add(LSTM(units = 64, return_sequences= True, input_shape = (trainX.shape[1], trainX.shape[2])))\n",
        "# Avoid overfitting of model 0.2 = 20%\n",
        "lstm_model.add(Dropout(0.2))\n",
        "# Hidden Layer - I\n",
        "lstm_model.add(LSTM(units = 64, return_sequences= True))\n",
        "lstm_model.add(Dropout(0.2))\n",
        "# Hidden Layer - II\n",
        "lstm_model.add(LSTM(units = 64))\n",
        "lstm_model.add(Dropout(0.2))\n",
        "# Ouput layer\n",
        "# In regression : last layer neuron = 1 \n",
        "lstm_model.add(Dense(units = 1))\n",
        "\n",
        "## Optimization - adam : gradient + SGD & Loss Function \n",
        "# Optimizers - minimize the residual value\n",
        "lstm_model.compile(optimizer = 'adam', loss='mean_squared_error', metrics=['mean_squared_error','mean_absolute_error'])"
      ],
      "execution_count": 23,
      "outputs": []
    },
    {
      "cell_type": "code",
      "metadata": {
        "id": "2OngdagTcUGT",
        "colab": {
          "base_uri": "https://localhost:8080/"
        },
        "outputId": "40dc5f4d-b7dd-4c0e-a52f-9a0e1cb5cfae"
      },
      "source": [
        "history=model.fit(trainX,trainY,epochs=90,batch_size=1,validation_split=0.2,verbose=1)"
      ],
      "execution_count": 24,
      "outputs": [
        {
          "output_type": "stream",
          "text": [
            "Epoch 1/90\n",
            "336/336 [==============================] - 5s 9ms/step - loss: 0.3620 - mean_squared_error: 0.3620 - mean_absolute_error: 0.4282 - val_loss: 0.1369 - val_mean_squared_error: 0.1369 - val_mean_absolute_error: 0.2992\n",
            "Epoch 2/90\n",
            "336/336 [==============================] - 2s 7ms/step - loss: 0.2031 - mean_squared_error: 0.2031 - mean_absolute_error: 0.3113 - val_loss: 0.1470 - val_mean_squared_error: 0.1470 - val_mean_absolute_error: 0.3146\n",
            "Epoch 3/90\n",
            "336/336 [==============================] - 2s 6ms/step - loss: 0.2101 - mean_squared_error: 0.2101 - mean_absolute_error: 0.3005 - val_loss: 0.1952 - val_mean_squared_error: 0.1952 - val_mean_absolute_error: 0.3573\n",
            "Epoch 4/90\n",
            "336/336 [==============================] - 2s 7ms/step - loss: 0.1826 - mean_squared_error: 0.1826 - mean_absolute_error: 0.3035 - val_loss: 0.1762 - val_mean_squared_error: 0.1762 - val_mean_absolute_error: 0.3514\n",
            "Epoch 5/90\n",
            "336/336 [==============================] - 2s 6ms/step - loss: 0.1916 - mean_squared_error: 0.1916 - mean_absolute_error: 0.3073 - val_loss: 0.1385 - val_mean_squared_error: 0.1385 - val_mean_absolute_error: 0.3044\n",
            "Epoch 6/90\n",
            "336/336 [==============================] - 2s 6ms/step - loss: 0.1918 - mean_squared_error: 0.1918 - mean_absolute_error: 0.3067 - val_loss: 0.1326 - val_mean_squared_error: 0.1326 - val_mean_absolute_error: 0.3032\n",
            "Epoch 7/90\n",
            "336/336 [==============================] - 2s 6ms/step - loss: 0.1364 - mean_squared_error: 0.1364 - mean_absolute_error: 0.2599 - val_loss: 0.1379 - val_mean_squared_error: 0.1379 - val_mean_absolute_error: 0.3031\n",
            "Epoch 8/90\n",
            "336/336 [==============================] - 2s 6ms/step - loss: 0.1195 - mean_squared_error: 0.1195 - mean_absolute_error: 0.2402 - val_loss: 0.1574 - val_mean_squared_error: 0.1574 - val_mean_absolute_error: 0.3261\n",
            "Epoch 9/90\n",
            "336/336 [==============================] - 2s 6ms/step - loss: 0.1356 - mean_squared_error: 0.1356 - mean_absolute_error: 0.2551 - val_loss: 0.1595 - val_mean_squared_error: 0.1595 - val_mean_absolute_error: 0.3163\n",
            "Epoch 10/90\n",
            "336/336 [==============================] - 2s 6ms/step - loss: 0.1771 - mean_squared_error: 0.1771 - mean_absolute_error: 0.2777 - val_loss: 0.1269 - val_mean_squared_error: 0.1269 - val_mean_absolute_error: 0.2863\n",
            "Epoch 11/90\n",
            "336/336 [==============================] - 2s 6ms/step - loss: 0.1264 - mean_squared_error: 0.1264 - mean_absolute_error: 0.2452 - val_loss: 0.1360 - val_mean_squared_error: 0.1360 - val_mean_absolute_error: 0.2939\n",
            "Epoch 12/90\n",
            "336/336 [==============================] - 2s 6ms/step - loss: 0.1035 - mean_squared_error: 0.1035 - mean_absolute_error: 0.2263 - val_loss: 0.1131 - val_mean_squared_error: 0.1131 - val_mean_absolute_error: 0.2713\n",
            "Epoch 13/90\n",
            "336/336 [==============================] - 2s 7ms/step - loss: 0.1842 - mean_squared_error: 0.1842 - mean_absolute_error: 0.2874 - val_loss: 0.1226 - val_mean_squared_error: 0.1226 - val_mean_absolute_error: 0.2803\n",
            "Epoch 14/90\n",
            "336/336 [==============================] - 2s 7ms/step - loss: 0.1428 - mean_squared_error: 0.1428 - mean_absolute_error: 0.2457 - val_loss: 0.1233 - val_mean_squared_error: 0.1233 - val_mean_absolute_error: 0.2756\n",
            "Epoch 15/90\n",
            "336/336 [==============================] - 2s 7ms/step - loss: 0.1385 - mean_squared_error: 0.1385 - mean_absolute_error: 0.2612 - val_loss: 0.1092 - val_mean_squared_error: 0.1092 - val_mean_absolute_error: 0.2635\n",
            "Epoch 16/90\n",
            "336/336 [==============================] - 2s 6ms/step - loss: 0.1651 - mean_squared_error: 0.1651 - mean_absolute_error: 0.2676 - val_loss: 0.1225 - val_mean_squared_error: 0.1225 - val_mean_absolute_error: 0.2809\n",
            "Epoch 17/90\n",
            "336/336 [==============================] - 2s 6ms/step - loss: 0.1186 - mean_squared_error: 0.1186 - mean_absolute_error: 0.2301 - val_loss: 0.1220 - val_mean_squared_error: 0.1220 - val_mean_absolute_error: 0.2754\n",
            "Epoch 18/90\n",
            "336/336 [==============================] - 2s 6ms/step - loss: 0.1456 - mean_squared_error: 0.1456 - mean_absolute_error: 0.2488 - val_loss: 0.1163 - val_mean_squared_error: 0.1163 - val_mean_absolute_error: 0.2731\n",
            "Epoch 19/90\n",
            "336/336 [==============================] - 2s 6ms/step - loss: 0.0904 - mean_squared_error: 0.0904 - mean_absolute_error: 0.2145 - val_loss: 0.1149 - val_mean_squared_error: 0.1149 - val_mean_absolute_error: 0.2680\n",
            "Epoch 20/90\n",
            "336/336 [==============================] - 2s 6ms/step - loss: 0.1155 - mean_squared_error: 0.1155 - mean_absolute_error: 0.2428 - val_loss: 0.0999 - val_mean_squared_error: 0.0999 - val_mean_absolute_error: 0.2508\n",
            "Epoch 21/90\n",
            "336/336 [==============================] - 2s 6ms/step - loss: 0.1156 - mean_squared_error: 0.1156 - mean_absolute_error: 0.2348 - val_loss: 0.0996 - val_mean_squared_error: 0.0996 - val_mean_absolute_error: 0.2479\n",
            "Epoch 22/90\n",
            "336/336 [==============================] - 2s 7ms/step - loss: 0.1143 - mean_squared_error: 0.1143 - mean_absolute_error: 0.2222 - val_loss: 0.1074 - val_mean_squared_error: 0.1074 - val_mean_absolute_error: 0.2572\n",
            "Epoch 23/90\n",
            "336/336 [==============================] - 2s 6ms/step - loss: 0.1066 - mean_squared_error: 0.1066 - mean_absolute_error: 0.2340 - val_loss: 0.1179 - val_mean_squared_error: 0.1179 - val_mean_absolute_error: 0.2678\n",
            "Epoch 24/90\n",
            "336/336 [==============================] - 2s 6ms/step - loss: 0.1271 - mean_squared_error: 0.1271 - mean_absolute_error: 0.2403 - val_loss: 0.0916 - val_mean_squared_error: 0.0916 - val_mean_absolute_error: 0.2337\n",
            "Epoch 25/90\n",
            "336/336 [==============================] - 2s 6ms/step - loss: 0.1120 - mean_squared_error: 0.1120 - mean_absolute_error: 0.2421 - val_loss: 0.1106 - val_mean_squared_error: 0.1106 - val_mean_absolute_error: 0.2565\n",
            "Epoch 26/90\n",
            "336/336 [==============================] - 2s 6ms/step - loss: 0.1036 - mean_squared_error: 0.1036 - mean_absolute_error: 0.2270 - val_loss: 0.0925 - val_mean_squared_error: 0.0925 - val_mean_absolute_error: 0.2379\n",
            "Epoch 27/90\n",
            "336/336 [==============================] - 2s 6ms/step - loss: 0.1517 - mean_squared_error: 0.1517 - mean_absolute_error: 0.2559 - val_loss: 0.1031 - val_mean_squared_error: 0.1031 - val_mean_absolute_error: 0.2511\n",
            "Epoch 28/90\n",
            "336/336 [==============================] - 2s 7ms/step - loss: 0.1179 - mean_squared_error: 0.1179 - mean_absolute_error: 0.2318 - val_loss: 0.0957 - val_mean_squared_error: 0.0957 - val_mean_absolute_error: 0.2420\n",
            "Epoch 29/90\n",
            "336/336 [==============================] - 2s 7ms/step - loss: 0.2124 - mean_squared_error: 0.2124 - mean_absolute_error: 0.2957 - val_loss: 0.0826 - val_mean_squared_error: 0.0826 - val_mean_absolute_error: 0.2228\n",
            "Epoch 30/90\n",
            "336/336 [==============================] - 2s 6ms/step - loss: 0.1327 - mean_squared_error: 0.1327 - mean_absolute_error: 0.2405 - val_loss: 0.0928 - val_mean_squared_error: 0.0928 - val_mean_absolute_error: 0.2400\n",
            "Epoch 31/90\n",
            "336/336 [==============================] - 2s 6ms/step - loss: 0.1208 - mean_squared_error: 0.1208 - mean_absolute_error: 0.2355 - val_loss: 0.0904 - val_mean_squared_error: 0.0904 - val_mean_absolute_error: 0.2315\n",
            "Epoch 32/90\n",
            "336/336 [==============================] - 2s 6ms/step - loss: 0.1221 - mean_squared_error: 0.1221 - mean_absolute_error: 0.2403 - val_loss: 0.0920 - val_mean_squared_error: 0.0920 - val_mean_absolute_error: 0.2402\n",
            "Epoch 33/90\n",
            "336/336 [==============================] - 2s 6ms/step - loss: 0.1526 - mean_squared_error: 0.1526 - mean_absolute_error: 0.2567 - val_loss: 0.0797 - val_mean_squared_error: 0.0797 - val_mean_absolute_error: 0.2206\n",
            "Epoch 34/90\n",
            "336/336 [==============================] - 2s 6ms/step - loss: 0.1124 - mean_squared_error: 0.1124 - mean_absolute_error: 0.2234 - val_loss: 0.1139 - val_mean_squared_error: 0.1139 - val_mean_absolute_error: 0.2734\n",
            "Epoch 35/90\n",
            "336/336 [==============================] - 2s 6ms/step - loss: 0.0942 - mean_squared_error: 0.0942 - mean_absolute_error: 0.2004 - val_loss: 0.0803 - val_mean_squared_error: 0.0803 - val_mean_absolute_error: 0.2238\n",
            "Epoch 36/90\n",
            "336/336 [==============================] - 2s 6ms/step - loss: 0.1475 - mean_squared_error: 0.1475 - mean_absolute_error: 0.2438 - val_loss: 0.0979 - val_mean_squared_error: 0.0979 - val_mean_absolute_error: 0.2458\n",
            "Epoch 37/90\n",
            "336/336 [==============================] - 2s 7ms/step - loss: 0.0985 - mean_squared_error: 0.0985 - mean_absolute_error: 0.2272 - val_loss: 0.1075 - val_mean_squared_error: 0.1075 - val_mean_absolute_error: 0.2651\n",
            "Epoch 38/90\n",
            "336/336 [==============================] - 2s 7ms/step - loss: 0.0747 - mean_squared_error: 0.0747 - mean_absolute_error: 0.2036 - val_loss: 0.1042 - val_mean_squared_error: 0.1042 - val_mean_absolute_error: 0.2608\n",
            "Epoch 39/90\n",
            "336/336 [==============================] - 2s 7ms/step - loss: 0.1005 - mean_squared_error: 0.1005 - mean_absolute_error: 0.2326 - val_loss: 0.1006 - val_mean_squared_error: 0.1006 - val_mean_absolute_error: 0.2543\n",
            "Epoch 40/90\n",
            "336/336 [==============================] - 2s 6ms/step - loss: 0.0963 - mean_squared_error: 0.0963 - mean_absolute_error: 0.2134 - val_loss: 0.0891 - val_mean_squared_error: 0.0891 - val_mean_absolute_error: 0.2397\n",
            "Epoch 41/90\n",
            "336/336 [==============================] - 2s 6ms/step - loss: 0.2009 - mean_squared_error: 0.2009 - mean_absolute_error: 0.2824 - val_loss: 0.0849 - val_mean_squared_error: 0.0849 - val_mean_absolute_error: 0.2259\n",
            "Epoch 42/90\n",
            "336/336 [==============================] - 2s 7ms/step - loss: 0.1078 - mean_squared_error: 0.1078 - mean_absolute_error: 0.2346 - val_loss: 0.0821 - val_mean_squared_error: 0.0821 - val_mean_absolute_error: 0.2258\n",
            "Epoch 43/90\n",
            "336/336 [==============================] - 2s 7ms/step - loss: 0.1113 - mean_squared_error: 0.1113 - mean_absolute_error: 0.2239 - val_loss: 0.0889 - val_mean_squared_error: 0.0889 - val_mean_absolute_error: 0.2383\n",
            "Epoch 44/90\n",
            "336/336 [==============================] - 2s 7ms/step - loss: 0.1024 - mean_squared_error: 0.1024 - mean_absolute_error: 0.2280 - val_loss: 0.0912 - val_mean_squared_error: 0.0912 - val_mean_absolute_error: 0.2388\n",
            "Epoch 45/90\n",
            "336/336 [==============================] - 2s 7ms/step - loss: 0.0896 - mean_squared_error: 0.0896 - mean_absolute_error: 0.2049 - val_loss: 0.0902 - val_mean_squared_error: 0.0902 - val_mean_absolute_error: 0.2373\n",
            "Epoch 46/90\n",
            "336/336 [==============================] - 2s 7ms/step - loss: 0.1153 - mean_squared_error: 0.1153 - mean_absolute_error: 0.2409 - val_loss: 0.0959 - val_mean_squared_error: 0.0959 - val_mean_absolute_error: 0.2466\n",
            "Epoch 47/90\n",
            "336/336 [==============================] - 2s 7ms/step - loss: 0.0970 - mean_squared_error: 0.0970 - mean_absolute_error: 0.2127 - val_loss: 0.0889 - val_mean_squared_error: 0.0889 - val_mean_absolute_error: 0.2346\n",
            "Epoch 48/90\n",
            "336/336 [==============================] - 2s 7ms/step - loss: 0.1533 - mean_squared_error: 0.1533 - mean_absolute_error: 0.2430 - val_loss: 0.0946 - val_mean_squared_error: 0.0946 - val_mean_absolute_error: 0.2457\n",
            "Epoch 49/90\n",
            "336/336 [==============================] - 2s 7ms/step - loss: 0.0833 - mean_squared_error: 0.0833 - mean_absolute_error: 0.2171 - val_loss: 0.0889 - val_mean_squared_error: 0.0889 - val_mean_absolute_error: 0.2349\n",
            "Epoch 50/90\n",
            "336/336 [==============================] - 2s 7ms/step - loss: 0.1050 - mean_squared_error: 0.1050 - mean_absolute_error: 0.2168 - val_loss: 0.0851 - val_mean_squared_error: 0.0851 - val_mean_absolute_error: 0.2291\n",
            "Epoch 51/90\n",
            "336/336 [==============================] - 2s 7ms/step - loss: 0.1296 - mean_squared_error: 0.1296 - mean_absolute_error: 0.2237 - val_loss: 0.0975 - val_mean_squared_error: 0.0975 - val_mean_absolute_error: 0.2493\n",
            "Epoch 52/90\n",
            "336/336 [==============================] - 2s 7ms/step - loss: 0.0971 - mean_squared_error: 0.0971 - mean_absolute_error: 0.2212 - val_loss: 0.1063 - val_mean_squared_error: 0.1063 - val_mean_absolute_error: 0.2561\n",
            "Epoch 53/90\n",
            "336/336 [==============================] - 2s 7ms/step - loss: 0.0862 - mean_squared_error: 0.0862 - mean_absolute_error: 0.2123 - val_loss: 0.0954 - val_mean_squared_error: 0.0954 - val_mean_absolute_error: 0.2429\n",
            "Epoch 54/90\n",
            "336/336 [==============================] - 2s 7ms/step - loss: 0.1182 - mean_squared_error: 0.1182 - mean_absolute_error: 0.2208 - val_loss: 0.0935 - val_mean_squared_error: 0.0935 - val_mean_absolute_error: 0.2367\n",
            "Epoch 55/90\n",
            "336/336 [==============================] - 2s 7ms/step - loss: 0.0773 - mean_squared_error: 0.0773 - mean_absolute_error: 0.1884 - val_loss: 0.1037 - val_mean_squared_error: 0.1037 - val_mean_absolute_error: 0.2545\n",
            "Epoch 56/90\n",
            "336/336 [==============================] - 2s 7ms/step - loss: 0.0661 - mean_squared_error: 0.0661 - mean_absolute_error: 0.1850 - val_loss: 0.1001 - val_mean_squared_error: 0.1001 - val_mean_absolute_error: 0.2515\n",
            "Epoch 57/90\n",
            "336/336 [==============================] - 2s 7ms/step - loss: 0.1280 - mean_squared_error: 0.1280 - mean_absolute_error: 0.2271 - val_loss: 0.0952 - val_mean_squared_error: 0.0952 - val_mean_absolute_error: 0.2389\n",
            "Epoch 58/90\n",
            "336/336 [==============================] - 2s 6ms/step - loss: 0.0688 - mean_squared_error: 0.0688 - mean_absolute_error: 0.1890 - val_loss: 0.0990 - val_mean_squared_error: 0.0990 - val_mean_absolute_error: 0.2515\n",
            "Epoch 59/90\n",
            "336/336 [==============================] - 2s 7ms/step - loss: 0.1022 - mean_squared_error: 0.1022 - mean_absolute_error: 0.2126 - val_loss: 0.1050 - val_mean_squared_error: 0.1050 - val_mean_absolute_error: 0.2639\n",
            "Epoch 60/90\n",
            "336/336 [==============================] - 2s 7ms/step - loss: 0.0934 - mean_squared_error: 0.0934 - mean_absolute_error: 0.1972 - val_loss: 0.1030 - val_mean_squared_error: 0.1030 - val_mean_absolute_error: 0.2578\n",
            "Epoch 61/90\n",
            "336/336 [==============================] - 2s 7ms/step - loss: 0.0957 - mean_squared_error: 0.0957 - mean_absolute_error: 0.2086 - val_loss: 0.1290 - val_mean_squared_error: 0.1290 - val_mean_absolute_error: 0.2878\n",
            "Epoch 62/90\n",
            "336/336 [==============================] - 2s 7ms/step - loss: 0.0850 - mean_squared_error: 0.0850 - mean_absolute_error: 0.2049 - val_loss: 0.1176 - val_mean_squared_error: 0.1176 - val_mean_absolute_error: 0.2778\n",
            "Epoch 63/90\n",
            "336/336 [==============================] - 2s 7ms/step - loss: 0.1244 - mean_squared_error: 0.1244 - mean_absolute_error: 0.2200 - val_loss: 0.1055 - val_mean_squared_error: 0.1055 - val_mean_absolute_error: 0.2591\n",
            "Epoch 64/90\n",
            "336/336 [==============================] - 2s 7ms/step - loss: 0.0948 - mean_squared_error: 0.0948 - mean_absolute_error: 0.2089 - val_loss: 0.1129 - val_mean_squared_error: 0.1129 - val_mean_absolute_error: 0.2621\n",
            "Epoch 65/90\n",
            "336/336 [==============================] - 2s 7ms/step - loss: 0.1004 - mean_squared_error: 0.1004 - mean_absolute_error: 0.2043 - val_loss: 0.0953 - val_mean_squared_error: 0.0953 - val_mean_absolute_error: 0.2504\n",
            "Epoch 66/90\n",
            "336/336 [==============================] - 2s 7ms/step - loss: 0.1117 - mean_squared_error: 0.1117 - mean_absolute_error: 0.2178 - val_loss: 0.1207 - val_mean_squared_error: 0.1207 - val_mean_absolute_error: 0.2696\n",
            "Epoch 67/90\n",
            "336/336 [==============================] - 2s 7ms/step - loss: 0.0772 - mean_squared_error: 0.0772 - mean_absolute_error: 0.1863 - val_loss: 0.1166 - val_mean_squared_error: 0.1166 - val_mean_absolute_error: 0.2749\n",
            "Epoch 68/90\n",
            "336/336 [==============================] - 2s 7ms/step - loss: 0.0724 - mean_squared_error: 0.0724 - mean_absolute_error: 0.1833 - val_loss: 0.1351 - val_mean_squared_error: 0.1351 - val_mean_absolute_error: 0.2980\n",
            "Epoch 69/90\n",
            "336/336 [==============================] - 2s 7ms/step - loss: 0.0959 - mean_squared_error: 0.0959 - mean_absolute_error: 0.2074 - val_loss: 0.1281 - val_mean_squared_error: 0.1281 - val_mean_absolute_error: 0.2873\n",
            "Epoch 70/90\n",
            "336/336 [==============================] - 2s 7ms/step - loss: 0.0910 - mean_squared_error: 0.0910 - mean_absolute_error: 0.2053 - val_loss: 0.1378 - val_mean_squared_error: 0.1378 - val_mean_absolute_error: 0.3016\n",
            "Epoch 71/90\n",
            "336/336 [==============================] - 2s 7ms/step - loss: 0.0836 - mean_squared_error: 0.0836 - mean_absolute_error: 0.1995 - val_loss: 0.1333 - val_mean_squared_error: 0.1333 - val_mean_absolute_error: 0.2875\n",
            "Epoch 72/90\n",
            "336/336 [==============================] - 2s 7ms/step - loss: 0.0653 - mean_squared_error: 0.0653 - mean_absolute_error: 0.1742 - val_loss: 0.1401 - val_mean_squared_error: 0.1401 - val_mean_absolute_error: 0.3021\n",
            "Epoch 73/90\n",
            "336/336 [==============================] - 2s 6ms/step - loss: 0.0740 - mean_squared_error: 0.0740 - mean_absolute_error: 0.1887 - val_loss: 0.1460 - val_mean_squared_error: 0.1460 - val_mean_absolute_error: 0.3046\n",
            "Epoch 74/90\n",
            "336/336 [==============================] - 2s 6ms/step - loss: 0.0618 - mean_squared_error: 0.0618 - mean_absolute_error: 0.1849 - val_loss: 0.1244 - val_mean_squared_error: 0.1244 - val_mean_absolute_error: 0.2787\n",
            "Epoch 75/90\n",
            "336/336 [==============================] - 2s 7ms/step - loss: 0.0793 - mean_squared_error: 0.0793 - mean_absolute_error: 0.1981 - val_loss: 0.1418 - val_mean_squared_error: 0.1418 - val_mean_absolute_error: 0.3072\n",
            "Epoch 76/90\n",
            "336/336 [==============================] - 2s 7ms/step - loss: 0.0600 - mean_squared_error: 0.0600 - mean_absolute_error: 0.1761 - val_loss: 0.1543 - val_mean_squared_error: 0.1543 - val_mean_absolute_error: 0.3221\n",
            "Epoch 77/90\n",
            "336/336 [==============================] - 2s 7ms/step - loss: 0.0726 - mean_squared_error: 0.0726 - mean_absolute_error: 0.1944 - val_loss: 0.1679 - val_mean_squared_error: 0.1679 - val_mean_absolute_error: 0.3428\n",
            "Epoch 78/90\n",
            "336/336 [==============================] - 2s 7ms/step - loss: 0.0635 - mean_squared_error: 0.0635 - mean_absolute_error: 0.1743 - val_loss: 0.1415 - val_mean_squared_error: 0.1415 - val_mean_absolute_error: 0.3046\n",
            "Epoch 79/90\n",
            "336/336 [==============================] - 2s 7ms/step - loss: 0.1245 - mean_squared_error: 0.1245 - mean_absolute_error: 0.2227 - val_loss: 0.1456 - val_mean_squared_error: 0.1456 - val_mean_absolute_error: 0.3007\n",
            "Epoch 80/90\n",
            "336/336 [==============================] - 2s 7ms/step - loss: 0.1084 - mean_squared_error: 0.1084 - mean_absolute_error: 0.2092 - val_loss: 0.1370 - val_mean_squared_error: 0.1370 - val_mean_absolute_error: 0.2936\n",
            "Epoch 81/90\n",
            "336/336 [==============================] - 2s 7ms/step - loss: 0.0518 - mean_squared_error: 0.0518 - mean_absolute_error: 0.1612 - val_loss: 0.1692 - val_mean_squared_error: 0.1692 - val_mean_absolute_error: 0.3380\n",
            "Epoch 82/90\n",
            "336/336 [==============================] - 2s 7ms/step - loss: 0.0887 - mean_squared_error: 0.0887 - mean_absolute_error: 0.1894 - val_loss: 0.1660 - val_mean_squared_error: 0.1660 - val_mean_absolute_error: 0.3195\n",
            "Epoch 83/90\n",
            "336/336 [==============================] - 2s 7ms/step - loss: 0.0707 - mean_squared_error: 0.0707 - mean_absolute_error: 0.1723 - val_loss: 0.1775 - val_mean_squared_error: 0.1775 - val_mean_absolute_error: 0.3414\n",
            "Epoch 84/90\n",
            "336/336 [==============================] - 2s 7ms/step - loss: 0.0600 - mean_squared_error: 0.0600 - mean_absolute_error: 0.1645 - val_loss: 0.1762 - val_mean_squared_error: 0.1762 - val_mean_absolute_error: 0.3428\n",
            "Epoch 85/90\n",
            "336/336 [==============================] - 2s 7ms/step - loss: 0.1016 - mean_squared_error: 0.1016 - mean_absolute_error: 0.2088 - val_loss: 0.1728 - val_mean_squared_error: 0.1728 - val_mean_absolute_error: 0.3396\n",
            "Epoch 86/90\n",
            "336/336 [==============================] - 2s 7ms/step - loss: 0.0859 - mean_squared_error: 0.0859 - mean_absolute_error: 0.2013 - val_loss: 0.1711 - val_mean_squared_error: 0.1711 - val_mean_absolute_error: 0.3354\n",
            "Epoch 87/90\n",
            "336/336 [==============================] - 2s 7ms/step - loss: 0.0539 - mean_squared_error: 0.0539 - mean_absolute_error: 0.1634 - val_loss: 0.1979 - val_mean_squared_error: 0.1979 - val_mean_absolute_error: 0.3667\n",
            "Epoch 88/90\n",
            "336/336 [==============================] - 2s 7ms/step - loss: 0.0534 - mean_squared_error: 0.0534 - mean_absolute_error: 0.1648 - val_loss: 0.1901 - val_mean_squared_error: 0.1901 - val_mean_absolute_error: 0.3613\n",
            "Epoch 89/90\n",
            "336/336 [==============================] - 2s 7ms/step - loss: 0.0871 - mean_squared_error: 0.0871 - mean_absolute_error: 0.1893 - val_loss: 0.1604 - val_mean_squared_error: 0.1604 - val_mean_absolute_error: 0.3191\n",
            "Epoch 90/90\n",
            "336/336 [==============================] - 2s 7ms/step - loss: 0.0671 - mean_squared_error: 0.0671 - mean_absolute_error: 0.1660 - val_loss: 0.2059 - val_mean_squared_error: 0.2059 - val_mean_absolute_error: 0.3681\n"
          ],
          "name": "stdout"
        }
      ]
    },
    {
      "cell_type": "code",
      "metadata": {
        "id": "lqCFogZPME1r",
        "colab": {
          "base_uri": "https://localhost:8080/",
          "height": 282
        },
        "outputId": "a9501750-0ba3-4e69-9aba-1b67a2232b71"
      },
      "source": [
        "plt.plot(history.history['mean_squared_error'], Label='Mean Squared Error')\n",
        "plt.plot(history.history['mean_absolute_error'], Label='Mean Absolute Error')\n",
        "plt.grid()\n",
        "plt.legend()"
      ],
      "execution_count": 25,
      "outputs": [
        {
          "output_type": "execute_result",
          "data": {
            "text/plain": [
              "<matplotlib.legend.Legend at 0x7f5b8c0e2310>"
            ]
          },
          "metadata": {
            "tags": []
          },
          "execution_count": 25
        },
        {
          "output_type": "display_data",
          "data": {
            "image/png": "[encoded data removed]",
            "text/plain": [
              "<Figure size 432x288 with 1 Axes>"
            ]
          },
          "metadata": {
            "tags": [],
            "needs_background": "light"
          }
        }
      ]
    },
    {
      "cell_type": "code",
      "metadata": {
        "id": "lKlzXPcHcXko",
        "colab": {
          "base_uri": "https://localhost:8080/",
          "height": 282
        },
        "outputId": "e597146b-8263-46f9-dad4-d4a803fb31af"
      },
      "source": [
        "plt.plot(history.history['loss'], Label='Training Loss')\n",
        "plt.plot(history.history['val_loss'], Label='Validation Loss')\n",
        "plt.grid()\n",
        "plt.legend()"
      ],
      "execution_count": 26,
      "outputs": [
        {
          "output_type": "execute_result",
          "data": {
            "text/plain": [
              "<matplotlib.legend.Legend at 0x7f5b91235090>"
            ]
          },
          "metadata": {
            "tags": []
          },
          "execution_count": 26
        },
        {
          "output_type": "display_data",
          "data": {
            "image/png": "[encoded data removed]",
            "text/plain": [
              "<Figure size 432x288 with 1 Axes>"
            ]
          },
          "metadata": {
            "tags": [],
            "needs_background": "light"
          }
        }
      ]
    },
    {
      "cell_type": "code",
      "metadata": {
        "id": "E-VpwZf8cdRY"
      },
      "source": [
        "n_f=60\n",
        "forecast_period_dates = pd.date_range(list(train_dates)[-1], periods=n_f, freq='1d').tolist()\n",
        "forecast = model.predict(trainX[-n_f:])\n",
        "forecast_copies = np.repeat(forecast, df_for_training.shape[1], axis=-1)\n",
        "y_pred_future = scaler.inverse_transform(forecast_copies)[:,0]\n",
        "\n",
        "\n",
        "forecast_dates = []\n",
        "for time_i in forecast_period_dates:\n",
        "    forecast_dates.append(time_i.date())"
      ],
      "execution_count": 27,
      "outputs": []
    },
    {
      "cell_type": "code",
      "metadata": {
        "id": "1QO1WgIu96S2",
        "colab": {
          "base_uri": "https://localhost:8080/"
        },
        "outputId": "2d6b89b5-6853-4b12-d4e6-e33c158d0788"
      },
      "source": [
        "forecast_dates"
      ],
      "execution_count": 28,
      "outputs": [
        {
          "output_type": "execute_result",
          "data": {
            "text/plain": [
              "[datetime.date(2021, 5, 7),\n",
              " datetime.date(2021, 5, 8),\n",
              " datetime.date(2021, 5, 9),\n",
              " datetime.date(2021, 5, 10),\n",
              " datetime.date(2021, 5, 11),\n",
              " datetime.date(2021, 5, 12),\n",
              " datetime.date(2021, 5, 13),\n",
              " datetime.date(2021, 5, 14),\n",
              " datetime.date(2021, 5, 15),\n",
              " datetime.date(2021, 5, 16),\n",
              " datetime.date(2021, 5, 17),\n",
              " datetime.date(2021, 5, 18),\n",
              " datetime.date(2021, 5, 19),\n",
              " datetime.date(2021, 5, 20),\n",
              " datetime.date(2021, 5, 21),\n",
              " datetime.date(2021, 5, 22),\n",
              " datetime.date(2021, 5, 23),\n",
              " datetime.date(2021, 5, 24),\n",
              " datetime.date(2021, 5, 25),\n",
              " datetime.date(2021, 5, 26),\n",
              " datetime.date(2021, 5, 27),\n",
              " datetime.date(2021, 5, 28),\n",
              " datetime.date(2021, 5, 29),\n",
              " datetime.date(2021, 5, 30),\n",
              " datetime.date(2021, 5, 31),\n",
              " datetime.date(2021, 6, 1),\n",
              " datetime.date(2021, 6, 2),\n",
              " datetime.date(2021, 6, 3),\n",
              " datetime.date(2021, 6, 4),\n",
              " datetime.date(2021, 6, 5),\n",
              " datetime.date(2021, 6, 6),\n",
              " datetime.date(2021, 6, 7),\n",
              " datetime.date(2021, 6, 8),\n",
              " datetime.date(2021, 6, 9),\n",
              " datetime.date(2021, 6, 10),\n",
              " datetime.date(2021, 6, 11),\n",
              " datetime.date(2021, 6, 12),\n",
              " datetime.date(2021, 6, 13),\n",
              " datetime.date(2021, 6, 14),\n",
              " datetime.date(2021, 6, 15),\n",
              " datetime.date(2021, 6, 16),\n",
              " datetime.date(2021, 6, 17),\n",
              " datetime.date(2021, 6, 18),\n",
              " datetime.date(2021, 6, 19),\n",
              " datetime.date(2021, 6, 20),\n",
              " datetime.date(2021, 6, 21),\n",
              " datetime.date(2021, 6, 22),\n",
              " datetime.date(2021, 6, 23),\n",
              " datetime.date(2021, 6, 24),\n",
              " datetime.date(2021, 6, 25),\n",
              " datetime.date(2021, 6, 26),\n",
              " datetime.date(2021, 6, 27),\n",
              " datetime.date(2021, 6, 28),\n",
              " datetime.date(2021, 6, 29),\n",
              " datetime.date(2021, 6, 30),\n",
              " datetime.date(2021, 7, 1),\n",
              " datetime.date(2021, 7, 2),\n",
              " datetime.date(2021, 7, 3),\n",
              " datetime.date(2021, 7, 4),\n",
              " datetime.date(2021, 7, 5)]"
            ]
          },
          "metadata": {
            "tags": []
          },
          "execution_count": 28
        }
      ]
    },
    {
      "cell_type": "code",
      "metadata": {
        "id": "snKv5cYKct29"
      },
      "source": [
        "df_forecast = pd.DataFrame({'Date_YMD':np.array(forecast_dates), 'Case Load Rate':y_pred_future})\n",
        "df_forecast['Date_YMD']=pd.to_datetime(df_forecast['Date_YMD'])"
      ],
      "execution_count": 29,
      "outputs": []
    },
    {
      "cell_type": "code",
      "metadata": {
        "id": "xmz5vUJfcyO5",
        "colab": {
          "base_uri": "https://localhost:8080/"
        },
        "outputId": "577f95bd-d9ef-46bc-f287-4ff2dd4dbb3e"
      },
      "source": [
        "original=df1[['Date_YMD','Case Load Rate']]\n",
        "original['Date_YMD']=pd.to_datetime(original['Date_YMD'])\n",
        "original = original.loc[original['Date_YMD'] >= '2020-01-30']"
      ],
      "execution_count": 30,
      "outputs": [
        {
          "output_type": "stream",
          "text": [
            "/usr/local/lib/python3.7/dist-packages/ipykernel_launcher.py:2: SettingWithCopyWarning: \n",
            "A value is trying to be set on a copy of a slice from a DataFrame.\n",
            "Try using .loc[row_indexer,col_indexer] = value instead\n",
            "\n",
            "See the caveats in the documentation: https://pandas.pydata.org/pandas-docs/stable/user_guide/indexing.html#returning-a-view-versus-a-copy\n",
            "  \n"
          ],
          "name": "stderr"
        }
      ]
    },
    {
      "cell_type": "code",
      "metadata": {
        "id": "ViyGwWqUc1pT",
        "colab": {
          "base_uri": "https://localhost:8080/",
          "height": 385
        },
        "outputId": "259fe297-1d5e-4953-83cb-ffe591604895"
      },
      "source": [
        "sns.lineplot(original['Date_YMD'], original['Case Load Rate'])\n",
        "sns.lineplot(df_forecast['Date_YMD'], df_forecast['Case Load Rate'])"
      ],
      "execution_count": 31,
      "outputs": [
        {
          "output_type": "stream",
          "text": [
            "/usr/local/lib/python3.7/dist-packages/seaborn/_decorators.py:43: FutureWarning: Pass the following variables as keyword args: x, y. From version 0.12, the only valid positional argument will be `data`, and passing other arguments without an explicit keyword will result in an error or misinterpretation.\n",
            "  FutureWarning\n",
            "/usr/local/lib/python3.7/dist-packages/seaborn/_decorators.py:43: FutureWarning: Pass the following variables as keyword args: x, y. From version 0.12, the only valid positional argument will be `data`, and passing other arguments without an explicit keyword will result in an error or misinterpretation.\n",
            "  FutureWarning\n"
          ],
          "name": "stderr"
        },
        {
          "output_type": "execute_result",
          "data": {
            "text/plain": [
              "<matplotlib.axes._subplots.AxesSubplot at 0x7f5b883ee750>"
            ]
          },
          "metadata": {
            "tags": []
          },
          "execution_count": 31
        },
        {
          "output_type": "display_data",
          "data": {
            "image/png": "[encoded data removed]",
            "text/plain": [
              "<Figure size 432x288 with 1 Axes>"
            ]
          },
          "metadata": {
            "tags": [],
            "needs_background": "light"
          }
        }
      ]
    }
  ]
}