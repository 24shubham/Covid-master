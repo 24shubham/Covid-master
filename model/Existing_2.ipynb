{
  "nbformat": 4,
  "nbformat_minor": 0,
  "metadata": {
    "colab": {
      "name": "Existing-2.ipynb",
      "provenance": []
    },
    "kernelspec": {
      "name": "python3",
      "display_name": "Python 3"
    },
    "language_info": {
      "name": "python"
    }
  },
  "cells": [
    {
      "cell_type": "code",
      "metadata": {
        "id": "H9Ut3r0vGvq8"
      },
      "source": [
        ""
      ],
      "execution_count": null,
      "outputs": []
    },
    {
      "cell_type": "code",
      "metadata": {
        "id": "C8aNAFNYiNJV"
      },
      "source": [
        "import numpy as  np\n",
        "from keras.models import Sequential\n",
        "from keras.layers import LSTM, Dense, Dropout, Activation\n",
        "import pandas as pd\n",
        "from matplotlib import pyplot as plt\n",
        "from sklearn.preprocessing import StandardScaler\n",
        "import seaborn as sns\n",
        "from keras.layers import Bidirectional"
      ],
      "execution_count": 1,
      "outputs": []
    },
    {
      "cell_type": "code",
      "metadata": {
        "id": "z-HjgltniWCX",
        "colab": {
          "base_uri": "https://localhost:8080/",
          "height": 419
        },
        "outputId": "3d356282-1d97-441f-f018-e6f580eb1bd1"
      },
      "source": [
        "df=pd.read_csv('https://api.covid19india.org/csv/latest/case_time_series.csv')\n",
        "df"
      ],
      "execution_count": 2,
      "outputs": [
        {
          "output_type": "execute_result",
          "data": {
            "text/html": [
              "<div>\n",
              "<style scoped>\n",
              "    .dataframe tbody tr th:only-of-type {\n",
              "        vertical-align: middle;\n",
              "    }\n",
              "\n",
              "    .dataframe tbody tr th {\n",
              "        vertical-align: top;\n",
              "    }\n",
              "\n",
              "    .dataframe thead th {\n",
              "        text-align: right;\n",
              "    }\n",
              "</style>\n",
              "<table border=\"1\" class=\"dataframe\">\n",
              "  <thead>\n",
              "    <tr style=\"text-align: right;\">\n",
              "      <th></th>\n",
              "      <th>Date</th>\n",
              "      <th>Date_YMD</th>\n",
              "      <th>Daily Confirmed</th>\n",
              "      <th>Total Confirmed</th>\n",
              "      <th>Daily Recovered</th>\n",
              "      <th>Total Recovered</th>\n",
              "      <th>Daily Deceased</th>\n",
              "      <th>Total Deceased</th>\n",
              "    </tr>\n",
              "  </thead>\n",
              "  <tbody>\n",
              "    <tr>\n",
              "      <th>0</th>\n",
              "      <td>30 January 2020</td>\n",
              "      <td>2020-01-30</td>\n",
              "      <td>1</td>\n",
              "      <td>1</td>\n",
              "      <td>0</td>\n",
              "      <td>0</td>\n",
              "      <td>0</td>\n",
              "      <td>0</td>\n",
              "    </tr>\n",
              "    <tr>\n",
              "      <th>1</th>\n",
              "      <td>31 January 2020</td>\n",
              "      <td>2020-01-31</td>\n",
              "      <td>0</td>\n",
              "      <td>1</td>\n",
              "      <td>0</td>\n",
              "      <td>0</td>\n",
              "      <td>0</td>\n",
              "      <td>0</td>\n",
              "    </tr>\n",
              "    <tr>\n",
              "      <th>2</th>\n",
              "      <td>1 February 2020</td>\n",
              "      <td>2020-02-01</td>\n",
              "      <td>0</td>\n",
              "      <td>1</td>\n",
              "      <td>0</td>\n",
              "      <td>0</td>\n",
              "      <td>0</td>\n",
              "      <td>0</td>\n",
              "    </tr>\n",
              "    <tr>\n",
              "      <th>3</th>\n",
              "      <td>2 February 2020</td>\n",
              "      <td>2020-02-02</td>\n",
              "      <td>1</td>\n",
              "      <td>2</td>\n",
              "      <td>0</td>\n",
              "      <td>0</td>\n",
              "      <td>0</td>\n",
              "      <td>0</td>\n",
              "    </tr>\n",
              "    <tr>\n",
              "      <th>4</th>\n",
              "      <td>3 February 2020</td>\n",
              "      <td>2020-02-03</td>\n",
              "      <td>1</td>\n",
              "      <td>3</td>\n",
              "      <td>0</td>\n",
              "      <td>0</td>\n",
              "      <td>0</td>\n",
              "      <td>0</td>\n",
              "    </tr>\n",
              "    <tr>\n",
              "      <th>...</th>\n",
              "      <td>...</td>\n",
              "      <td>...</td>\n",
              "      <td>...</td>\n",
              "      <td>...</td>\n",
              "      <td>...</td>\n",
              "      <td>...</td>\n",
              "      <td>...</td>\n",
              "      <td>...</td>\n",
              "    </tr>\n",
              "    <tr>\n",
              "      <th>459</th>\n",
              "      <td>3 May 2021</td>\n",
              "      <td>2021-05-03</td>\n",
              "      <td>355769</td>\n",
              "      <td>20275414</td>\n",
              "      <td>318910</td>\n",
              "      <td>16600620</td>\n",
              "      <td>3439</td>\n",
              "      <td>221795</td>\n",
              "    </tr>\n",
              "    <tr>\n",
              "      <th>460</th>\n",
              "      <td>4 May 2021</td>\n",
              "      <td>2021-05-04</td>\n",
              "      <td>382847</td>\n",
              "      <td>20658261</td>\n",
              "      <td>337699</td>\n",
              "      <td>16938319</td>\n",
              "      <td>3786</td>\n",
              "      <td>225581</td>\n",
              "    </tr>\n",
              "    <tr>\n",
              "      <th>461</th>\n",
              "      <td>5 May 2021</td>\n",
              "      <td>2021-05-05</td>\n",
              "      <td>412624</td>\n",
              "      <td>21070885</td>\n",
              "      <td>330718</td>\n",
              "      <td>17269037</td>\n",
              "      <td>3979</td>\n",
              "      <td>229560</td>\n",
              "    </tr>\n",
              "    <tr>\n",
              "      <th>462</th>\n",
              "      <td>6 May 2021</td>\n",
              "      <td>2021-05-06</td>\n",
              "      <td>414280</td>\n",
              "      <td>21485165</td>\n",
              "      <td>328347</td>\n",
              "      <td>17597384</td>\n",
              "      <td>3923</td>\n",
              "      <td>233483</td>\n",
              "    </tr>\n",
              "    <tr>\n",
              "      <th>463</th>\n",
              "      <td>7 May 2021</td>\n",
              "      <td>2021-05-07</td>\n",
              "      <td>401342</td>\n",
              "      <td>21886507</td>\n",
              "      <td>319469</td>\n",
              "      <td>17916853</td>\n",
              "      <td>4192</td>\n",
              "      <td>237675</td>\n",
              "    </tr>\n",
              "  </tbody>\n",
              "</table>\n",
              "<p>464 rows × 8 columns</p>\n",
              "</div>"
            ],
            "text/plain": [
              "                Date    Date_YMD  ...  Daily Deceased  Total Deceased\n",
              "0    30 January 2020  2020-01-30  ...               0               0\n",
              "1    31 January 2020  2020-01-31  ...               0               0\n",
              "2    1 February 2020  2020-02-01  ...               0               0\n",
              "3    2 February 2020  2020-02-02  ...               0               0\n",
              "4    3 February 2020  2020-02-03  ...               0               0\n",
              "..               ...         ...  ...             ...             ...\n",
              "459       3 May 2021  2021-05-03  ...            3439          221795\n",
              "460       4 May 2021  2021-05-04  ...            3786          225581\n",
              "461       5 May 2021  2021-05-05  ...            3979          229560\n",
              "462       6 May 2021  2021-05-06  ...            3923          233483\n",
              "463       7 May 2021  2021-05-07  ...            4192          237675\n",
              "\n",
              "[464 rows x 8 columns]"
            ]
          },
          "metadata": {
            "tags": []
          },
          "execution_count": 2
        }
      ]
    },
    {
      "cell_type": "code",
      "metadata": {
        "id": "ReIV1flWiYbo"
      },
      "source": [
        "df1=df"
      ],
      "execution_count": 3,
      "outputs": []
    },
    {
      "cell_type": "code",
      "metadata": {
        "id": "VXCSQpGKP__q"
      },
      "source": [
        "def Recovery_Rate(RC,CC):\n",
        "  return (RC/CC)*100"
      ],
      "execution_count": 4,
      "outputs": []
    },
    {
      "cell_type": "code",
      "metadata": {
        "id": "iYFkE3rSRvzB"
      },
      "source": [
        "RR=[]\n",
        "for i in df.index:\n",
        "  RR.append(Recovery_Rate(df['Total Recovered'][i], df['Total Confirmed'][i]))"
      ],
      "execution_count": 5,
      "outputs": []
    },
    {
      "cell_type": "code",
      "metadata": {
        "id": "xqQx-95aR3nO"
      },
      "source": [
        "df1['Recovery Rate']=RR"
      ],
      "execution_count": 6,
      "outputs": []
    },
    {
      "cell_type": "code",
      "metadata": {
        "id": "Herun-2pQWYL"
      },
      "source": [
        "def Case_Load_Rate(CC,RC,D):\n",
        "  CaseLoad=CC-RC-D\n",
        "  return (CaseLoad/CC)*100\n",
        "  # return CaseLoad"
      ],
      "execution_count": 7,
      "outputs": []
    },
    {
      "cell_type": "code",
      "metadata": {
        "id": "mNfl31NcTgbO",
        "colab": {
          "base_uri": "https://localhost:8080/"
        },
        "outputId": "08915479-7527-467d-e6d5-6a3ed368d1b9"
      },
      "source": [
        "CLR=[]\n",
        "for i in df.index:\n",
        "  CLR.append(Case_Load_Rate(df['Daily Confirmed'][i],df['Daily Recovered'][i],  df['Daily Deceased'][i]))"
      ],
      "execution_count": 8,
      "outputs": [
        {
          "output_type": "stream",
          "text": [
            "/usr/local/lib/python3.7/dist-packages/ipykernel_launcher.py:3: RuntimeWarning: invalid value encountered in long_scalars\n",
            "  This is separate from the ipykernel package so we can avoid doing imports until\n",
            "/usr/local/lib/python3.7/dist-packages/ipykernel_launcher.py:3: RuntimeWarning: divide by zero encountered in long_scalars\n",
            "  This is separate from the ipykernel package so we can avoid doing imports until\n"
          ],
          "name": "stderr"
        }
      ]
    },
    {
      "cell_type": "code",
      "metadata": {
        "id": "rPVDxFeWT6Xt"
      },
      "source": [
        "df1['Case Load Rate']=CLR"
      ],
      "execution_count": 9,
      "outputs": []
    },
    {
      "cell_type": "code",
      "metadata": {
        "id": "cseopLrrQ5RB"
      },
      "source": [
        "def Delta(CLR,RR):\n",
        "  return CLR-RR"
      ],
      "execution_count": 10,
      "outputs": []
    },
    {
      "cell_type": "code",
      "metadata": {
        "id": "PRsgWcIxRNm3"
      },
      "source": [
        "Del=[]\n",
        "for i in df.index:\n",
        "  Del.append(Delta(df1['Case Load Rate'][i],df1['Recovery Rate'][i]))"
      ],
      "execution_count": 11,
      "outputs": []
    },
    {
      "cell_type": "code",
      "metadata": {
        "id": "hIK0dMI4Wm1v"
      },
      "source": [
        "df1['Delta']=Del"
      ],
      "execution_count": 12,
      "outputs": []
    },
    {
      "cell_type": "code",
      "metadata": {
        "id": "re3UKhh0P4Tu"
      },
      "source": [
        "train_dates=pd.to_datetime(df['Date_YMD'])"
      ],
      "execution_count": 13,
      "outputs": []
    },
    {
      "cell_type": "code",
      "metadata": {
        "id": "a-E43eDEYpcP",
        "colab": {
          "base_uri": "https://localhost:8080/",
          "height": 265
        },
        "outputId": "c0cc75a1-ea03-4410-b3af-69b2abd1cff8"
      },
      "source": [
        "# plt.title(\"Red - Recovery Rate Blue - Case Load Rate Black-Delta\")\n",
        "plt.plot(train_dates,CLR,color=\"Blue\", Label='Case Load Rate')\n",
        "plt.plot(train_dates,RR,color=\"red\", Label='Recovery Rate')\n",
        "plt.plot(train_dates,Del,color=\"Black\", Label='Delta')\n",
        "plt.grid()"
      ],
      "execution_count": 14,
      "outputs": [
        {
          "output_type": "display_data",
          "data": {
            "image/png": "[encoded data removed]",
            "text/plain": [
              "<Figure size 432x288 with 1 Axes>"
            ]
          },
          "metadata": {
            "tags": [],
            "needs_background": "light"
          }
        }
      ]
    },
    {
      "cell_type": "code",
      "metadata": {
        "id": "2VyOThkNbXig",
        "colab": {
          "base_uri": "https://localhost:8080/"
        },
        "outputId": "affac182-522c-4488-8610-d6f1435a448b"
      },
      "source": [
        "cols=list(df1)[9:10]\n",
        "cols"
      ],
      "execution_count": 15,
      "outputs": [
        {
          "output_type": "execute_result",
          "data": {
            "text/plain": [
              "['Case Load Rate']"
            ]
          },
          "metadata": {
            "tags": []
          },
          "execution_count": 15
        }
      ]
    },
    {
      "cell_type": "code",
      "metadata": {
        "id": "Zl9m08dNbrNi"
      },
      "source": [
        "df1.replace([np.inf, -np.inf], np.nan, inplace=True)\n",
        "df1.dropna(inplace=True)"
      ],
      "execution_count": 16,
      "outputs": []
    },
    {
      "cell_type": "code",
      "metadata": {
        "id": "Y6UvvNZIbuxz"
      },
      "source": [
        "df_for_training=df1[cols].astype(float)"
      ],
      "execution_count": 17,
      "outputs": []
    },
    {
      "cell_type": "code",
      "metadata": {
        "id": "qvth9j6kb5zD"
      },
      "source": [
        "scaler=StandardScaler()\n",
        "scaler=scaler.fit(df_for_training)\n",
        "df_for_training_scaled=scaler.transform(df_for_training)"
      ],
      "execution_count": 18,
      "outputs": []
    },
    {
      "cell_type": "code",
      "metadata": {
        "id": "ACO2QWSNb-ZI"
      },
      "source": [
        "trainX=[]\n",
        "trainY=[]"
      ],
      "execution_count": 19,
      "outputs": []
    },
    {
      "cell_type": "code",
      "metadata": {
        "id": "Wf7GPXZ0cAyZ"
      },
      "source": [
        "n_future=1\n",
        "n_past=14"
      ],
      "execution_count": 20,
      "outputs": []
    },
    {
      "cell_type": "code",
      "metadata": {
        "id": "s3jg1YK3cDxl"
      },
      "source": [
        "for i in range(n_past, len(df_for_training_scaled)-n_future +1):\n",
        "  trainX.append(df_for_training_scaled[i-n_past:i, 0:df_for_training.shape[1]])\n",
        "  trainY.append(df_for_training_scaled[i+n_future-1:i+n_future,0])\n",
        "trainX,trainY=np.array(trainX),np.array(trainY)"
      ],
      "execution_count": 21,
      "outputs": []
    },
    {
      "cell_type": "code",
      "metadata": {
        "id": "iGkjGIb-jhaC",
        "colab": {
          "base_uri": "https://localhost:8080/"
        },
        "outputId": "f7aec49b-c64b-4a56-f1ac-68f11ac70964"
      },
      "source": [
        "model = Sequential()\n",
        "model.add(LSTM(50,input_shape = (trainX.shape[1], trainX.shape[2]), return_sequences = True))\n",
        "model.add(Dropout(0.5))\n",
        "model.add(LSTM(256))\n",
        "model.add(Dropout(0.5))\n",
        "model.add(Dense(1))\n",
        "model.add(Activation(\"linear\"))\n",
        "model.compile(loss=\"mse\", optimizer=\"adam\", metrics=['mean_squared_error','mean_absolute_error'])\n",
        "model.summary()"
      ],
      "execution_count": 26,
      "outputs": [
        {
          "output_type": "stream",
          "text": [
            "Model: \"sequential_4\"\n",
            "_________________________________________________________________\n",
            "Layer (type)                 Output Shape              Param #   \n",
            "=================================================================\n",
            "lstm (LSTM)                  (None, 14, 50)            10400     \n",
            "_________________________________________________________________\n",
            "dropout (Dropout)            (None, 14, 50)            0         \n",
            "_________________________________________________________________\n",
            "lstm_1 (LSTM)                (None, 256)               314368    \n",
            "_________________________________________________________________\n",
            "dropout_1 (Dropout)          (None, 256)               0         \n",
            "_________________________________________________________________\n",
            "dense (Dense)                (None, 1)                 257       \n",
            "_________________________________________________________________\n",
            "activation (Activation)      (None, 1)                 0         \n",
            "=================================================================\n",
            "Total params: 325,025\n",
            "Trainable params: 325,025\n",
            "Non-trainable params: 0\n",
            "_________________________________________________________________\n"
          ],
          "name": "stdout"
        }
      ]
    },
    {
      "cell_type": "code",
      "metadata": {
        "id": "2OngdagTcUGT",
        "colab": {
          "base_uri": "https://localhost:8080/"
        },
        "outputId": "552c3f40-330f-4fee-9e25-93ea35fbfa53"
      },
      "source": [
        "history=model.fit(trainX,trainY,epochs=90,batch_size=1,validation_split=0.2,verbose=1)"
      ],
      "execution_count": 27,
      "outputs": [
        {
          "output_type": "stream",
          "text": [
            "Epoch 1/90\n",
            "336/336 [==============================] - 10s 22ms/step - loss: 0.3586 - mean_squared_error: 0.3586 - mean_absolute_error: 0.4333 - val_loss: 0.4453 - val_mean_squared_error: 0.4453 - val_mean_absolute_error: 0.5043\n",
            "Epoch 2/90\n",
            "336/336 [==============================] - 6s 19ms/step - loss: 0.2584 - mean_squared_error: 0.2584 - mean_absolute_error: 0.3589 - val_loss: 0.1459 - val_mean_squared_error: 0.1459 - val_mean_absolute_error: 0.3130\n",
            "Epoch 3/90\n",
            "336/336 [==============================] - 6s 19ms/step - loss: 0.2536 - mean_squared_error: 0.2536 - mean_absolute_error: 0.3551 - val_loss: 0.2742 - val_mean_squared_error: 0.2742 - val_mean_absolute_error: 0.4134\n",
            "Epoch 4/90\n",
            "336/336 [==============================] - 6s 19ms/step - loss: 0.2370 - mean_squared_error: 0.2370 - mean_absolute_error: 0.3519 - val_loss: 0.1928 - val_mean_squared_error: 0.1928 - val_mean_absolute_error: 0.3547\n",
            "Epoch 5/90\n",
            "336/336 [==============================] - 6s 19ms/step - loss: 0.1916 - mean_squared_error: 0.1916 - mean_absolute_error: 0.3224 - val_loss: 0.3265 - val_mean_squared_error: 0.3265 - val_mean_absolute_error: 0.4495\n",
            "Epoch 6/90\n",
            "336/336 [==============================] - 6s 19ms/step - loss: 0.2119 - mean_squared_error: 0.2119 - mean_absolute_error: 0.3112 - val_loss: 0.1306 - val_mean_squared_error: 0.1306 - val_mean_absolute_error: 0.2904\n",
            "Epoch 7/90\n",
            "336/336 [==============================] - 6s 19ms/step - loss: 0.2926 - mean_squared_error: 0.2926 - mean_absolute_error: 0.3814 - val_loss: 0.1739 - val_mean_squared_error: 0.1739 - val_mean_absolute_error: 0.3383\n",
            "Epoch 8/90\n",
            "336/336 [==============================] - 6s 19ms/step - loss: 0.2160 - mean_squared_error: 0.2160 - mean_absolute_error: 0.3163 - val_loss: 0.2452 - val_mean_squared_error: 0.2452 - val_mean_absolute_error: 0.3863\n",
            "Epoch 9/90\n",
            "336/336 [==============================] - 6s 19ms/step - loss: 0.1851 - mean_squared_error: 0.1851 - mean_absolute_error: 0.3158 - val_loss: 0.2029 - val_mean_squared_error: 0.2029 - val_mean_absolute_error: 0.3668\n",
            "Epoch 10/90\n",
            "336/336 [==============================] - 6s 19ms/step - loss: 0.2387 - mean_squared_error: 0.2387 - mean_absolute_error: 0.3528 - val_loss: 0.1748 - val_mean_squared_error: 0.1748 - val_mean_absolute_error: 0.3359\n",
            "Epoch 11/90\n",
            "336/336 [==============================] - 6s 19ms/step - loss: 0.2346 - mean_squared_error: 0.2346 - mean_absolute_error: 0.3379 - val_loss: 0.1549 - val_mean_squared_error: 0.1549 - val_mean_absolute_error: 0.3236\n",
            "Epoch 12/90\n",
            "336/336 [==============================] - 6s 19ms/step - loss: 0.2845 - mean_squared_error: 0.2845 - mean_absolute_error: 0.3789 - val_loss: 0.1725 - val_mean_squared_error: 0.1725 - val_mean_absolute_error: 0.3316\n",
            "Epoch 13/90\n",
            "336/336 [==============================] - 6s 19ms/step - loss: 0.2121 - mean_squared_error: 0.2121 - mean_absolute_error: 0.3324 - val_loss: 0.1670 - val_mean_squared_error: 0.1670 - val_mean_absolute_error: 0.3228\n",
            "Epoch 14/90\n",
            "336/336 [==============================] - 7s 20ms/step - loss: 0.2956 - mean_squared_error: 0.2956 - mean_absolute_error: 0.3744 - val_loss: 0.1400 - val_mean_squared_error: 0.1400 - val_mean_absolute_error: 0.2978\n",
            "Epoch 15/90\n",
            "336/336 [==============================] - 7s 19ms/step - loss: 0.2614 - mean_squared_error: 0.2614 - mean_absolute_error: 0.3309 - val_loss: 0.1656 - val_mean_squared_error: 0.1656 - val_mean_absolute_error: 0.3245\n",
            "Epoch 16/90\n",
            "336/336 [==============================] - 7s 20ms/step - loss: 0.1820 - mean_squared_error: 0.1820 - mean_absolute_error: 0.3141 - val_loss: 0.1485 - val_mean_squared_error: 0.1485 - val_mean_absolute_error: 0.3049\n",
            "Epoch 17/90\n",
            "336/336 [==============================] - 6s 19ms/step - loss: 0.2354 - mean_squared_error: 0.2354 - mean_absolute_error: 0.3364 - val_loss: 0.2077 - val_mean_squared_error: 0.2077 - val_mean_absolute_error: 0.3631\n",
            "Epoch 18/90\n",
            "336/336 [==============================] - 7s 20ms/step - loss: 0.2286 - mean_squared_error: 0.2286 - mean_absolute_error: 0.3232 - val_loss: 0.1759 - val_mean_squared_error: 0.1759 - val_mean_absolute_error: 0.3299\n",
            "Epoch 19/90\n",
            "336/336 [==============================] - 7s 20ms/step - loss: 0.1846 - mean_squared_error: 0.1846 - mean_absolute_error: 0.3047 - val_loss: 0.2187 - val_mean_squared_error: 0.2187 - val_mean_absolute_error: 0.3873\n",
            "Epoch 20/90\n",
            "336/336 [==============================] - 7s 19ms/step - loss: 0.1926 - mean_squared_error: 0.1926 - mean_absolute_error: 0.3067 - val_loss: 0.1350 - val_mean_squared_error: 0.1350 - val_mean_absolute_error: 0.2897\n",
            "Epoch 21/90\n",
            "336/336 [==============================] - 7s 20ms/step - loss: 0.2036 - mean_squared_error: 0.2036 - mean_absolute_error: 0.3229 - val_loss: 0.1615 - val_mean_squared_error: 0.1615 - val_mean_absolute_error: 0.3231\n",
            "Epoch 22/90\n",
            "336/336 [==============================] - 7s 20ms/step - loss: 0.2089 - mean_squared_error: 0.2089 - mean_absolute_error: 0.3250 - val_loss: 0.1676 - val_mean_squared_error: 0.1676 - val_mean_absolute_error: 0.3194\n",
            "Epoch 23/90\n",
            "336/336 [==============================] - 7s 20ms/step - loss: 0.1882 - mean_squared_error: 0.1882 - mean_absolute_error: 0.2991 - val_loss: 0.1509 - val_mean_squared_error: 0.1509 - val_mean_absolute_error: 0.3003\n",
            "Epoch 24/90\n",
            "336/336 [==============================] - 7s 20ms/step - loss: 0.1956 - mean_squared_error: 0.1956 - mean_absolute_error: 0.3084 - val_loss: 0.1181 - val_mean_squared_error: 0.1181 - val_mean_absolute_error: 0.2638\n",
            "Epoch 25/90\n",
            "336/336 [==============================] - 7s 20ms/step - loss: 0.1837 - mean_squared_error: 0.1837 - mean_absolute_error: 0.3107 - val_loss: 0.1407 - val_mean_squared_error: 0.1407 - val_mean_absolute_error: 0.2884\n",
            "Epoch 26/90\n",
            "336/336 [==============================] - 7s 20ms/step - loss: 0.1979 - mean_squared_error: 0.1979 - mean_absolute_error: 0.3077 - val_loss: 0.1403 - val_mean_squared_error: 0.1403 - val_mean_absolute_error: 0.2942\n",
            "Epoch 27/90\n",
            "336/336 [==============================] - 7s 20ms/step - loss: 0.1879 - mean_squared_error: 0.1879 - mean_absolute_error: 0.3000 - val_loss: 0.2014 - val_mean_squared_error: 0.2014 - val_mean_absolute_error: 0.3451\n",
            "Epoch 28/90\n",
            "336/336 [==============================] - 7s 20ms/step - loss: 0.1780 - mean_squared_error: 0.1780 - mean_absolute_error: 0.2949 - val_loss: 0.1976 - val_mean_squared_error: 0.1976 - val_mean_absolute_error: 0.3634\n",
            "Epoch 29/90\n",
            "336/336 [==============================] - 7s 20ms/step - loss: 0.2527 - mean_squared_error: 0.2527 - mean_absolute_error: 0.3518 - val_loss: 0.1297 - val_mean_squared_error: 0.1297 - val_mean_absolute_error: 0.2807\n",
            "Epoch 30/90\n",
            "336/336 [==============================] - 7s 20ms/step - loss: 0.2290 - mean_squared_error: 0.2290 - mean_absolute_error: 0.3335 - val_loss: 0.1665 - val_mean_squared_error: 0.1665 - val_mean_absolute_error: 0.3199\n",
            "Epoch 31/90\n",
            "336/336 [==============================] - 7s 20ms/step - loss: 0.2545 - mean_squared_error: 0.2545 - mean_absolute_error: 0.3456 - val_loss: 0.1627 - val_mean_squared_error: 0.1627 - val_mean_absolute_error: 0.3069\n",
            "Epoch 32/90\n",
            "336/336 [==============================] - 7s 20ms/step - loss: 0.1583 - mean_squared_error: 0.1583 - mean_absolute_error: 0.2917 - val_loss: 0.1243 - val_mean_squared_error: 0.1243 - val_mean_absolute_error: 0.2632\n",
            "Epoch 33/90\n",
            "336/336 [==============================] - 7s 20ms/step - loss: 0.2243 - mean_squared_error: 0.2243 - mean_absolute_error: 0.3361 - val_loss: 0.1356 - val_mean_squared_error: 0.1356 - val_mean_absolute_error: 0.2829\n",
            "Epoch 34/90\n",
            "336/336 [==============================] - 7s 20ms/step - loss: 0.2344 - mean_squared_error: 0.2344 - mean_absolute_error: 0.3428 - val_loss: 0.1178 - val_mean_squared_error: 0.1178 - val_mean_absolute_error: 0.2552\n",
            "Epoch 35/90\n",
            "336/336 [==============================] - 7s 20ms/step - loss: 0.1407 - mean_squared_error: 0.1407 - mean_absolute_error: 0.2558 - val_loss: 0.4095 - val_mean_squared_error: 0.4095 - val_mean_absolute_error: 0.4255\n",
            "Epoch 36/90\n",
            "336/336 [==============================] - 7s 20ms/step - loss: 0.1942 - mean_squared_error: 0.1942 - mean_absolute_error: 0.3262 - val_loss: 0.1257 - val_mean_squared_error: 0.1257 - val_mean_absolute_error: 0.2738\n",
            "Epoch 37/90\n",
            "336/336 [==============================] - 7s 20ms/step - loss: 0.1780 - mean_squared_error: 0.1780 - mean_absolute_error: 0.3168 - val_loss: 0.1214 - val_mean_squared_error: 0.1214 - val_mean_absolute_error: 0.2623\n",
            "Epoch 38/90\n",
            "336/336 [==============================] - 6s 19ms/step - loss: 0.2148 - mean_squared_error: 0.2148 - mean_absolute_error: 0.3252 - val_loss: 0.1338 - val_mean_squared_error: 0.1338 - val_mean_absolute_error: 0.2841\n",
            "Epoch 39/90\n",
            "336/336 [==============================] - 7s 20ms/step - loss: 0.1790 - mean_squared_error: 0.1790 - mean_absolute_error: 0.2889 - val_loss: 0.1119 - val_mean_squared_error: 0.1119 - val_mean_absolute_error: 0.2613\n",
            "Epoch 40/90\n",
            "336/336 [==============================] - 7s 19ms/step - loss: 0.2658 - mean_squared_error: 0.2658 - mean_absolute_error: 0.3507 - val_loss: 0.1109 - val_mean_squared_error: 0.1109 - val_mean_absolute_error: 0.2567\n",
            "Epoch 41/90\n",
            "336/336 [==============================] - 7s 20ms/step - loss: 0.1758 - mean_squared_error: 0.1758 - mean_absolute_error: 0.3022 - val_loss: 0.1487 - val_mean_squared_error: 0.1487 - val_mean_absolute_error: 0.3215\n",
            "Epoch 42/90\n",
            "336/336 [==============================] - 7s 20ms/step - loss: 0.2056 - mean_squared_error: 0.2056 - mean_absolute_error: 0.2927 - val_loss: 0.1308 - val_mean_squared_error: 0.1308 - val_mean_absolute_error: 0.2789\n",
            "Epoch 43/90\n",
            "336/336 [==============================] - 7s 20ms/step - loss: 0.1924 - mean_squared_error: 0.1924 - mean_absolute_error: 0.3144 - val_loss: 0.1456 - val_mean_squared_error: 0.1456 - val_mean_absolute_error: 0.2897\n",
            "Epoch 44/90\n",
            "336/336 [==============================] - 7s 20ms/step - loss: 0.2135 - mean_squared_error: 0.2135 - mean_absolute_error: 0.3213 - val_loss: 0.1200 - val_mean_squared_error: 0.1200 - val_mean_absolute_error: 0.2674\n",
            "Epoch 45/90\n",
            "336/336 [==============================] - 7s 20ms/step - loss: 0.1706 - mean_squared_error: 0.1706 - mean_absolute_error: 0.2793 - val_loss: 0.1342 - val_mean_squared_error: 0.1342 - val_mean_absolute_error: 0.2774\n",
            "Epoch 46/90\n",
            "336/336 [==============================] - 7s 20ms/step - loss: 0.2052 - mean_squared_error: 0.2052 - mean_absolute_error: 0.3157 - val_loss: 0.1394 - val_mean_squared_error: 0.1394 - val_mean_absolute_error: 0.2857\n",
            "Epoch 47/90\n",
            "336/336 [==============================] - 7s 20ms/step - loss: 0.2141 - mean_squared_error: 0.2141 - mean_absolute_error: 0.3085 - val_loss: 0.1664 - val_mean_squared_error: 0.1664 - val_mean_absolute_error: 0.3093\n",
            "Epoch 48/90\n",
            "336/336 [==============================] - 7s 20ms/step - loss: 0.1354 - mean_squared_error: 0.1354 - mean_absolute_error: 0.2700 - val_loss: 0.1216 - val_mean_squared_error: 0.1216 - val_mean_absolute_error: 0.2600\n",
            "Epoch 49/90\n",
            "336/336 [==============================] - 7s 20ms/step - loss: 0.1603 - mean_squared_error: 0.1603 - mean_absolute_error: 0.2777 - val_loss: 0.1343 - val_mean_squared_error: 0.1343 - val_mean_absolute_error: 0.2879\n",
            "Epoch 50/90\n",
            "336/336 [==============================] - 7s 20ms/step - loss: 0.1557 - mean_squared_error: 0.1557 - mean_absolute_error: 0.2730 - val_loss: 0.1167 - val_mean_squared_error: 0.1167 - val_mean_absolute_error: 0.2723\n",
            "Epoch 51/90\n",
            "336/336 [==============================] - 7s 20ms/step - loss: 0.2125 - mean_squared_error: 0.2125 - mean_absolute_error: 0.2995 - val_loss: 0.1673 - val_mean_squared_error: 0.1673 - val_mean_absolute_error: 0.3223\n",
            "Epoch 52/90\n",
            "336/336 [==============================] - 7s 20ms/step - loss: 0.1456 - mean_squared_error: 0.1456 - mean_absolute_error: 0.2710 - val_loss: 0.1089 - val_mean_squared_error: 0.1089 - val_mean_absolute_error: 0.2607\n",
            "Epoch 53/90\n",
            "336/336 [==============================] - 7s 20ms/step - loss: 0.1589 - mean_squared_error: 0.1589 - mean_absolute_error: 0.2847 - val_loss: 0.1440 - val_mean_squared_error: 0.1440 - val_mean_absolute_error: 0.2837\n",
            "Epoch 54/90\n",
            "336/336 [==============================] - 7s 20ms/step - loss: 0.1669 - mean_squared_error: 0.1669 - mean_absolute_error: 0.2971 - val_loss: 0.1779 - val_mean_squared_error: 0.1779 - val_mean_absolute_error: 0.3445\n",
            "Epoch 55/90\n",
            "336/336 [==============================] - 7s 20ms/step - loss: 0.1415 - mean_squared_error: 0.1415 - mean_absolute_error: 0.2794 - val_loss: 0.1030 - val_mean_squared_error: 0.1030 - val_mean_absolute_error: 0.2453\n",
            "Epoch 56/90\n",
            "336/336 [==============================] - 7s 20ms/step - loss: 0.1532 - mean_squared_error: 0.1532 - mean_absolute_error: 0.2792 - val_loss: 0.1329 - val_mean_squared_error: 0.1329 - val_mean_absolute_error: 0.2819\n",
            "Epoch 57/90\n",
            "336/336 [==============================] - 7s 20ms/step - loss: 0.1383 - mean_squared_error: 0.1383 - mean_absolute_error: 0.2657 - val_loss: 0.1290 - val_mean_squared_error: 0.1290 - val_mean_absolute_error: 0.2757\n",
            "Epoch 58/90\n",
            "336/336 [==============================] - 7s 20ms/step - loss: 0.1474 - mean_squared_error: 0.1474 - mean_absolute_error: 0.2787 - val_loss: 0.1088 - val_mean_squared_error: 0.1088 - val_mean_absolute_error: 0.2550\n",
            "Epoch 59/90\n",
            "336/336 [==============================] - 7s 20ms/step - loss: 0.1463 - mean_squared_error: 0.1463 - mean_absolute_error: 0.2640 - val_loss: 0.1118 - val_mean_squared_error: 0.1118 - val_mean_absolute_error: 0.2661\n",
            "Epoch 60/90\n",
            "336/336 [==============================] - 7s 20ms/step - loss: 0.1657 - mean_squared_error: 0.1657 - mean_absolute_error: 0.2730 - val_loss: 0.1043 - val_mean_squared_error: 0.1043 - val_mean_absolute_error: 0.2536\n",
            "Epoch 61/90\n",
            "336/336 [==============================] - 7s 20ms/step - loss: 0.1216 - mean_squared_error: 0.1216 - mean_absolute_error: 0.2653 - val_loss: 0.1315 - val_mean_squared_error: 0.1315 - val_mean_absolute_error: 0.2988\n",
            "Epoch 62/90\n",
            "336/336 [==============================] - 7s 20ms/step - loss: 0.1421 - mean_squared_error: 0.1421 - mean_absolute_error: 0.2943 - val_loss: 0.1442 - val_mean_squared_error: 0.1442 - val_mean_absolute_error: 0.3163\n",
            "Epoch 63/90\n",
            "336/336 [==============================] - 7s 20ms/step - loss: 0.0917 - mean_squared_error: 0.0917 - mean_absolute_error: 0.2225 - val_loss: 0.1059 - val_mean_squared_error: 0.1059 - val_mean_absolute_error: 0.2390\n",
            "Epoch 64/90\n",
            "336/336 [==============================] - 7s 20ms/step - loss: 0.1374 - mean_squared_error: 0.1374 - mean_absolute_error: 0.2684 - val_loss: 0.1076 - val_mean_squared_error: 0.1076 - val_mean_absolute_error: 0.2505\n",
            "Epoch 65/90\n",
            "336/336 [==============================] - 7s 20ms/step - loss: 0.1830 - mean_squared_error: 0.1830 - mean_absolute_error: 0.2778 - val_loss: 0.1035 - val_mean_squared_error: 0.1035 - val_mean_absolute_error: 0.2385\n",
            "Epoch 66/90\n",
            "336/336 [==============================] - 7s 20ms/step - loss: 0.1858 - mean_squared_error: 0.1858 - mean_absolute_error: 0.2866 - val_loss: 0.1592 - val_mean_squared_error: 0.1592 - val_mean_absolute_error: 0.2984\n",
            "Epoch 67/90\n",
            "336/336 [==============================] - 7s 20ms/step - loss: 0.1498 - mean_squared_error: 0.1498 - mean_absolute_error: 0.2800 - val_loss: 0.1745 - val_mean_squared_error: 0.1745 - val_mean_absolute_error: 0.3542\n",
            "Epoch 68/90\n",
            "336/336 [==============================] - 7s 20ms/step - loss: 0.1311 - mean_squared_error: 0.1311 - mean_absolute_error: 0.2683 - val_loss: 0.1243 - val_mean_squared_error: 0.1243 - val_mean_absolute_error: 0.2741\n",
            "Epoch 69/90\n",
            "336/336 [==============================] - 7s 20ms/step - loss: 0.1874 - mean_squared_error: 0.1874 - mean_absolute_error: 0.2900 - val_loss: 0.0969 - val_mean_squared_error: 0.0969 - val_mean_absolute_error: 0.2405\n",
            "Epoch 70/90\n",
            "336/336 [==============================] - 7s 20ms/step - loss: 0.1197 - mean_squared_error: 0.1197 - mean_absolute_error: 0.2550 - val_loss: 0.0936 - val_mean_squared_error: 0.0936 - val_mean_absolute_error: 0.2413\n",
            "Epoch 71/90\n",
            "336/336 [==============================] - 7s 20ms/step - loss: 0.1061 - mean_squared_error: 0.1061 - mean_absolute_error: 0.2327 - val_loss: 0.1126 - val_mean_squared_error: 0.1126 - val_mean_absolute_error: 0.2621\n",
            "Epoch 72/90\n",
            "336/336 [==============================] - 7s 20ms/step - loss: 0.1254 - mean_squared_error: 0.1254 - mean_absolute_error: 0.2643 - val_loss: 0.1146 - val_mean_squared_error: 0.1146 - val_mean_absolute_error: 0.2693\n",
            "Epoch 73/90\n",
            "336/336 [==============================] - 7s 20ms/step - loss: 0.1346 - mean_squared_error: 0.1346 - mean_absolute_error: 0.2533 - val_loss: 0.1362 - val_mean_squared_error: 0.1362 - val_mean_absolute_error: 0.2800\n",
            "Epoch 74/90\n",
            "336/336 [==============================] - 7s 20ms/step - loss: 0.1271 - mean_squared_error: 0.1271 - mean_absolute_error: 0.2459 - val_loss: 0.1174 - val_mean_squared_error: 0.1174 - val_mean_absolute_error: 0.2778\n",
            "Epoch 75/90\n",
            "336/336 [==============================] - 7s 20ms/step - loss: 0.2131 - mean_squared_error: 0.2131 - mean_absolute_error: 0.3020 - val_loss: 0.1101 - val_mean_squared_error: 0.1101 - val_mean_absolute_error: 0.2647\n",
            "Epoch 76/90\n",
            "336/336 [==============================] - 7s 20ms/step - loss: 0.1308 - mean_squared_error: 0.1308 - mean_absolute_error: 0.2528 - val_loss: 0.1194 - val_mean_squared_error: 0.1194 - val_mean_absolute_error: 0.2566\n",
            "Epoch 77/90\n",
            "336/336 [==============================] - 7s 20ms/step - loss: 0.1638 - mean_squared_error: 0.1638 - mean_absolute_error: 0.2771 - val_loss: 0.1230 - val_mean_squared_error: 0.1230 - val_mean_absolute_error: 0.2674\n",
            "Epoch 78/90\n",
            "336/336 [==============================] - 7s 20ms/step - loss: 0.1246 - mean_squared_error: 0.1246 - mean_absolute_error: 0.2569 - val_loss: 0.0910 - val_mean_squared_error: 0.0910 - val_mean_absolute_error: 0.2438\n",
            "Epoch 79/90\n",
            "336/336 [==============================] - 7s 20ms/step - loss: 0.1345 - mean_squared_error: 0.1345 - mean_absolute_error: 0.2598 - val_loss: 0.1199 - val_mean_squared_error: 0.1199 - val_mean_absolute_error: 0.2705\n",
            "Epoch 80/90\n",
            "336/336 [==============================] - 7s 20ms/step - loss: 0.1346 - mean_squared_error: 0.1346 - mean_absolute_error: 0.2620 - val_loss: 0.1040 - val_mean_squared_error: 0.1040 - val_mean_absolute_error: 0.2500\n",
            "Epoch 81/90\n",
            "336/336 [==============================] - 7s 20ms/step - loss: 0.1356 - mean_squared_error: 0.1356 - mean_absolute_error: 0.2441 - val_loss: 0.1102 - val_mean_squared_error: 0.1102 - val_mean_absolute_error: 0.2640\n",
            "Epoch 82/90\n",
            "336/336 [==============================] - 7s 20ms/step - loss: 0.1071 - mean_squared_error: 0.1071 - mean_absolute_error: 0.2294 - val_loss: 0.1283 - val_mean_squared_error: 0.1283 - val_mean_absolute_error: 0.2868\n",
            "Epoch 83/90\n",
            "336/336 [==============================] - 7s 20ms/step - loss: 0.1006 - mean_squared_error: 0.1006 - mean_absolute_error: 0.2428 - val_loss: 0.1096 - val_mean_squared_error: 0.1096 - val_mean_absolute_error: 0.2588\n",
            "Epoch 84/90\n",
            "336/336 [==============================] - 7s 20ms/step - loss: 0.1657 - mean_squared_error: 0.1657 - mean_absolute_error: 0.2935 - val_loss: 0.1226 - val_mean_squared_error: 0.1226 - val_mean_absolute_error: 0.2629\n",
            "Epoch 85/90\n",
            "336/336 [==============================] - 7s 20ms/step - loss: 0.1111 - mean_squared_error: 0.1111 - mean_absolute_error: 0.2376 - val_loss: 0.1221 - val_mean_squared_error: 0.1221 - val_mean_absolute_error: 0.2753\n",
            "Epoch 86/90\n",
            "336/336 [==============================] - 7s 20ms/step - loss: 0.1611 - mean_squared_error: 0.1611 - mean_absolute_error: 0.2622 - val_loss: 0.1307 - val_mean_squared_error: 0.1307 - val_mean_absolute_error: 0.2824\n",
            "Epoch 87/90\n",
            "336/336 [==============================] - 7s 20ms/step - loss: 0.1589 - mean_squared_error: 0.1589 - mean_absolute_error: 0.2731 - val_loss: 0.1286 - val_mean_squared_error: 0.1286 - val_mean_absolute_error: 0.2900\n",
            "Epoch 88/90\n",
            "336/336 [==============================] - 7s 20ms/step - loss: 0.1347 - mean_squared_error: 0.1347 - mean_absolute_error: 0.2449 - val_loss: 0.1234 - val_mean_squared_error: 0.1234 - val_mean_absolute_error: 0.2861\n",
            "Epoch 89/90\n",
            "336/336 [==============================] - 7s 20ms/step - loss: 0.1051 - mean_squared_error: 0.1051 - mean_absolute_error: 0.2407 - val_loss: 0.1448 - val_mean_squared_error: 0.1448 - val_mean_absolute_error: 0.3131\n",
            "Epoch 90/90\n",
            "336/336 [==============================] - 7s 20ms/step - loss: 0.1448 - mean_squared_error: 0.1448 - mean_absolute_error: 0.2701 - val_loss: 0.1440 - val_mean_squared_error: 0.1440 - val_mean_absolute_error: 0.3084\n"
          ],
          "name": "stdout"
        }
      ]
    },
    {
      "cell_type": "code",
      "metadata": {
        "id": "lqCFogZPME1r",
        "colab": {
          "base_uri": "https://localhost:8080/",
          "height": 282
        },
        "outputId": "4a2e5825-9f11-49f9-dd7e-32bf07545d61"
      },
      "source": [
        "plt.plot(history.history['mean_squared_error'], Label='Mean Squared Error')\n",
        "plt.plot(history.history['mean_absolute_error'], Label='Mean Absolute Error')\n",
        "plt.grid()\n",
        "plt.legend()"
      ],
      "execution_count": 28,
      "outputs": [
        {
          "output_type": "execute_result",
          "data": {
            "text/plain": [
              "<matplotlib.legend.Legend at 0x7fef21195a10>"
            ]
          },
          "metadata": {
            "tags": []
          },
          "execution_count": 28
        },
        {
          "output_type": "display_data",
          "data": {
            "image/png": "[encoded data removed]",
            "text/plain": [
              "<Figure size 432x288 with 1 Axes>"
            ]
          },
          "metadata": {
            "tags": [],
            "needs_background": "light"
          }
        }
      ]
    },
    {
      "cell_type": "code",
      "metadata": {
        "id": "lKlzXPcHcXko",
        "colab": {
          "base_uri": "https://localhost:8080/",
          "height": 282
        },
        "outputId": "43709c7c-9ba0-4d5e-f3a4-535d030ddda0"
      },
      "source": [
        "plt.plot(history.history['loss'], Label='Training Loss')\n",
        "plt.plot(history.history['val_loss'], Label='Validation Loss')\n",
        "plt.grid()\n",
        "plt.legend()"
      ],
      "execution_count": 29,
      "outputs": [
        {
          "output_type": "execute_result",
          "data": {
            "text/plain": [
              "<matplotlib.legend.Legend at 0x7fef211c0790>"
            ]
          },
          "metadata": {
            "tags": []
          },
          "execution_count": 29
        },
        {
          "output_type": "display_data",
          "data": {
            "image/png": "[encoded data removed]",
            "text/plain": [
              "<Figure size 432x288 with 1 Axes>"
            ]
          },
          "metadata": {
            "tags": [],
            "needs_background": "light"
          }
        }
      ]
    },
    {
      "cell_type": "code",
      "metadata": {
        "id": "E-VpwZf8cdRY"
      },
      "source": [
        "n_f=60\n",
        "forecast_period_dates = pd.date_range(list(train_dates)[-1], periods=n_f, freq='1d').tolist()\n",
        "forecast = model.predict(trainX[-n_f:])\n",
        "forecast_copies = np.repeat(forecast, df_for_training.shape[1], axis=-1)\n",
        "y_pred_future = scaler.inverse_transform(forecast_copies)[:,0]\n",
        "\n",
        "\n",
        "forecast_dates = []\n",
        "for time_i in forecast_period_dates:\n",
        "    forecast_dates.append(time_i.date())"
      ],
      "execution_count": 30,
      "outputs": []
    },
    {
      "cell_type": "code",
      "metadata": {
        "id": "1QO1WgIu96S2",
        "colab": {
          "base_uri": "https://localhost:8080/"
        },
        "outputId": "06d7ac06-9654-4451-a1d9-09ea540b2232"
      },
      "source": [
        "forecast_dates"
      ],
      "execution_count": 31,
      "outputs": [
        {
          "output_type": "execute_result",
          "data": {
            "text/plain": [
              "[datetime.date(2021, 5, 7),\n",
              " datetime.date(2021, 5, 8),\n",
              " datetime.date(2021, 5, 9),\n",
              " datetime.date(2021, 5, 10),\n",
              " datetime.date(2021, 5, 11),\n",
              " datetime.date(2021, 5, 12),\n",
              " datetime.date(2021, 5, 13),\n",
              " datetime.date(2021, 5, 14),\n",
              " datetime.date(2021, 5, 15),\n",
              " datetime.date(2021, 5, 16),\n",
              " datetime.date(2021, 5, 17),\n",
              " datetime.date(2021, 5, 18),\n",
              " datetime.date(2021, 5, 19),\n",
              " datetime.date(2021, 5, 20),\n",
              " datetime.date(2021, 5, 21),\n",
              " datetime.date(2021, 5, 22),\n",
              " datetime.date(2021, 5, 23),\n",
              " datetime.date(2021, 5, 24),\n",
              " datetime.date(2021, 5, 25),\n",
              " datetime.date(2021, 5, 26),\n",
              " datetime.date(2021, 5, 27),\n",
              " datetime.date(2021, 5, 28),\n",
              " datetime.date(2021, 5, 29),\n",
              " datetime.date(2021, 5, 30),\n",
              " datetime.date(2021, 5, 31),\n",
              " datetime.date(2021, 6, 1),\n",
              " datetime.date(2021, 6, 2),\n",
              " datetime.date(2021, 6, 3),\n",
              " datetime.date(2021, 6, 4),\n",
              " datetime.date(2021, 6, 5),\n",
              " datetime.date(2021, 6, 6),\n",
              " datetime.date(2021, 6, 7),\n",
              " datetime.date(2021, 6, 8),\n",
              " datetime.date(2021, 6, 9),\n",
              " datetime.date(2021, 6, 10),\n",
              " datetime.date(2021, 6, 11),\n",
              " datetime.date(2021, 6, 12),\n",
              " datetime.date(2021, 6, 13),\n",
              " datetime.date(2021, 6, 14),\n",
              " datetime.date(2021, 6, 15),\n",
              " datetime.date(2021, 6, 16),\n",
              " datetime.date(2021, 6, 17),\n",
              " datetime.date(2021, 6, 18),\n",
              " datetime.date(2021, 6, 19),\n",
              " datetime.date(2021, 6, 20),\n",
              " datetime.date(2021, 6, 21),\n",
              " datetime.date(2021, 6, 22),\n",
              " datetime.date(2021, 6, 23),\n",
              " datetime.date(2021, 6, 24),\n",
              " datetime.date(2021, 6, 25),\n",
              " datetime.date(2021, 6, 26),\n",
              " datetime.date(2021, 6, 27),\n",
              " datetime.date(2021, 6, 28),\n",
              " datetime.date(2021, 6, 29),\n",
              " datetime.date(2021, 6, 30),\n",
              " datetime.date(2021, 7, 1),\n",
              " datetime.date(2021, 7, 2),\n",
              " datetime.date(2021, 7, 3),\n",
              " datetime.date(2021, 7, 4),\n",
              " datetime.date(2021, 7, 5)]"
            ]
          },
          "metadata": {
            "tags": []
          },
          "execution_count": 31
        }
      ]
    },
    {
      "cell_type": "code",
      "metadata": {
        "id": "snKv5cYKct29"
      },
      "source": [
        "df_forecast = pd.DataFrame({'Date_YMD':np.array(forecast_dates), 'Case Load Rate':y_pred_future})\n",
        "df_forecast['Date_YMD']=pd.to_datetime(df_forecast['Date_YMD'])"
      ],
      "execution_count": 32,
      "outputs": []
    },
    {
      "cell_type": "code",
      "metadata": {
        "id": "xmz5vUJfcyO5",
        "colab": {
          "base_uri": "https://localhost:8080/"
        },
        "outputId": "876cc9c3-2e2b-41ca-e25f-138c8b69dcaf"
      },
      "source": [
        "original=df1[['Date_YMD','Case Load Rate']]\n",
        "original['Date_YMD']=pd.to_datetime(original['Date_YMD'])\n",
        "original = original.loc[original['Date_YMD'] >= '2020-01-30']"
      ],
      "execution_count": 33,
      "outputs": [
        {
          "output_type": "stream",
          "text": [
            "/usr/local/lib/python3.7/dist-packages/ipykernel_launcher.py:2: SettingWithCopyWarning: \n",
            "A value is trying to be set on a copy of a slice from a DataFrame.\n",
            "Try using .loc[row_indexer,col_indexer] = value instead\n",
            "\n",
            "See the caveats in the documentation: https://pandas.pydata.org/pandas-docs/stable/user_guide/indexing.html#returning-a-view-versus-a-copy\n",
            "  \n"
          ],
          "name": "stderr"
        }
      ]
    },
    {
      "cell_type": "code",
      "metadata": {
        "id": "ViyGwWqUc1pT",
        "colab": {
          "base_uri": "https://localhost:8080/",
          "height": 385
        },
        "outputId": "87acb536-b2b1-4260-e3b0-748facce5c84"
      },
      "source": [
        "sns.lineplot(original['Date_YMD'], original['Case Load Rate'])\n",
        "sns.lineplot(df_forecast['Date_YMD'], df_forecast['Case Load Rate'])"
      ],
      "execution_count": 34,
      "outputs": [
        {
          "output_type": "stream",
          "text": [
            "/usr/local/lib/python3.7/dist-packages/seaborn/_decorators.py:43: FutureWarning: Pass the following variables as keyword args: x, y. From version 0.12, the only valid positional argument will be `data`, and passing other arguments without an explicit keyword will result in an error or misinterpretation.\n",
            "  FutureWarning\n",
            "/usr/local/lib/python3.7/dist-packages/seaborn/_decorators.py:43: FutureWarning: Pass the following variables as keyword args: x, y. From version 0.12, the only valid positional argument will be `data`, and passing other arguments without an explicit keyword will result in an error or misinterpretation.\n",
            "  FutureWarning\n"
          ],
          "name": "stderr"
        },
        {
          "output_type": "execute_result",
          "data": {
            "text/plain": [
              "<matplotlib.axes._subplots.AxesSubplot at 0x7fef21127a50>"
            ]
          },
          "metadata": {
            "tags": []
          },
          "execution_count": 34
        },
        {
          "output_type": "display_data",
          "data": {
            "image/png": "[encoded data removed]",
            "text/plain": [
              "<Figure size 432x288 with 1 Axes>"
            ]
          },
          "metadata": {
            "tags": [],
            "needs_background": "light"
          }
        }
      ]
    }
  ]
}